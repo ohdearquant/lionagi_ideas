{
 "cells": [
  {
   "cell_type": "code",
   "execution_count": 1,
   "metadata": {},
   "outputs": [],
   "source": [
    "from collections import deque\n",
    "\n",
    "a = deque([1, 2, 3, 4, 5])\n",
    "b = deque([6, 7, 8, 9, 10])"
   ]
  },
  {
   "cell_type": "code",
   "execution_count": 2,
   "metadata": {},
   "outputs": [
    {
     "data": {
      "text/plain": [
       "1"
      ]
     },
     "execution_count": 2,
     "metadata": {},
     "output_type": "execute_result"
    }
   ],
   "source": [
    "a[0]"
   ]
  },
  {
   "cell_type": "code",
   "execution_count": 3,
   "metadata": {},
   "outputs": [
    {
     "data": {
      "text/plain": [
       "5"
      ]
     },
     "execution_count": 3,
     "metadata": {},
     "output_type": "execute_result"
    }
   ],
   "source": [
    "a[4]"
   ]
  },
  {
   "cell_type": "code",
   "execution_count": 4,
   "metadata": {},
   "outputs": [
    {
     "data": {
      "text/plain": [
       "deque([1, 2, 3, 4, 5, 6, 7, 8, 9, 10])"
      ]
     },
     "execution_count": 4,
     "metadata": {},
     "output_type": "execute_result"
    }
   ],
   "source": [
    "a += b\n",
    "a"
   ]
  },
  {
   "cell_type": "code",
   "execution_count": 5,
   "metadata": {},
   "outputs": [],
   "source": [
    "a.append(b)"
   ]
  },
  {
   "cell_type": "code",
   "execution_count": 6,
   "metadata": {},
   "outputs": [
    {
     "data": {
      "text/plain": [
       "deque([1, 2, 3, 4, 5, 6, 7, 8, 9, 10, deque([6, 7, 8, 9, 10])])"
      ]
     },
     "execution_count": 6,
     "metadata": {},
     "output_type": "execute_result"
    }
   ],
   "source": [
    "a"
   ]
  },
  {
   "cell_type": "code",
   "execution_count": 7,
   "metadata": {},
   "outputs": [
    {
     "data": {
      "text/plain": [
       "True"
      ]
     },
     "execution_count": 7,
     "metadata": {},
     "output_type": "execute_result"
    }
   ],
   "source": [
    "1 in a"
   ]
  },
  {
   "cell_type": "code",
   "execution_count": 8,
   "metadata": {},
   "outputs": [],
   "source": [
    "from generic import progression, Node\n"
   ]
  },
  {
   "cell_type": "code",
   "execution_count": 9,
   "metadata": {},
   "outputs": [],
   "source": [
    "nodes = (Node() for _ in range(5))"
   ]
  },
  {
   "cell_type": "code",
   "execution_count": 10,
   "metadata": {},
   "outputs": [],
   "source": [
    "p = progression(nodes)"
   ]
  },
  {
   "cell_type": "code",
   "execution_count": 11,
   "metadata": {},
   "outputs": [
    {
     "data": {
      "text/plain": [
       "[ln_id        20d849cc8ceb971bf9154d99b9bb11d6\n",
       " created            2024-05-06T22:08:49.743008\n",
       " metadata                                   {}\n",
       " content                                  None\n",
       " relations                              [0, 0]\n",
       " dtype: object,\n",
       " ln_id        fa58047b786f850bf4b1d1d8a717e954\n",
       " created            2024-05-06T22:08:49.743062\n",
       " metadata                                   {}\n",
       " content                                  None\n",
       " relations                              [0, 0]\n",
       " dtype: object,\n",
       " ln_id        be6f34fbc5755853e721fab5df55642c\n",
       " created            2024-05-06T22:08:49.743099\n",
       " metadata                                   {}\n",
       " content                                  None\n",
       " relations                              [0, 0]\n",
       " dtype: object,\n",
       " ln_id        76b22003e45dd346c2328b3d0b20dcd5\n",
       " created            2024-05-06T22:08:49.743197\n",
       " metadata                                   {}\n",
       " content                                  None\n",
       " relations                              [0, 0]\n",
       " dtype: object,\n",
       " ln_id        21668b5ca3d4c8c439e9a94025b5a356\n",
       " created            2024-05-06T22:08:49.743254\n",
       " metadata                                   {}\n",
       " content                                  None\n",
       " relations                              [0, 0]\n",
       " dtype: object]"
      ]
     },
     "execution_count": 11,
     "metadata": {},
     "output_type": "execute_result"
    }
   ],
   "source": [
    "p.order"
   ]
  },
  {
   "cell_type": "code",
   "execution_count": 12,
   "metadata": {},
   "outputs": [],
   "source": [
    "cc = Node()\n",
    "\n",
    "p.extend(cc)"
   ]
  },
  {
   "cell_type": "code",
   "execution_count": 13,
   "metadata": {},
   "outputs": [],
   "source": [
    "cc, dd, ee = Node(), Node(), Node()\n",
    "\n",
    "p.extend([cc, dd, ee])"
   ]
  },
  {
   "cell_type": "code",
   "execution_count": 14,
   "metadata": {},
   "outputs": [
    {
     "data": {
      "text/plain": [
       "Progression([ln_id        20d849cc8ceb971bf9154d99b9bb11d6\n",
       "created            2024-05-06T22:08:49.743008\n",
       "metadata                                   {}\n",
       "content                                  None\n",
       "relations                              [0, 0]\n",
       "dtype: object, ln_id        fa58047b786f850bf4b1d1d8a717e954\n",
       "created            2024-05-06T22:08:49.743062\n",
       "metadata                                   {}\n",
       "content                                  None\n",
       "relations                              [0, 0]\n",
       "dtype: object, ln_id        be6f34fbc5755853e721fab5df55642c\n",
       "created            2024-05-06T22:08:49.743099\n",
       "metadata                                   {}\n",
       "content                                  None\n",
       "relations                              [0, 0]\n",
       "dtype: object, ln_id        76b22003e45dd346c2328b3d0b20dcd5\n",
       "created            2024-05-06T22:08:49.743197\n",
       "metadata                                   {}\n",
       "content                                  None\n",
       "relations                              [0, 0]\n",
       "dtype: object, ln_id        21668b5ca3d4c8c439e9a94025b5a356\n",
       "created            2024-05-06T22:08:49.743254\n",
       "metadata                                   {}\n",
       "content                                  None\n",
       "relations                              [0, 0]\n",
       "dtype: object, '966dde2b818c9de24ca3a66d6a693b33', ln_id        d3a66e02266d98f57ab93abce639c400\n",
       "created            2024-05-06T22:08:49.754532\n",
       "metadata                                   {}\n",
       "content                                  None\n",
       "relations                              [0, 0]\n",
       "dtype: object, ln_id        f32915188507a7cf55c1fe7fb4b0c7a2\n",
       "created            2024-05-06T22:08:49.754578\n",
       "metadata                                   {}\n",
       "content                                  None\n",
       "relations                              [0, 0]\n",
       "dtype: object, ln_id        4240b937ba4db8432296c9cf5a750fa8\n",
       "created            2024-05-06T22:08:49.754612\n",
       "metadata                                   {}\n",
       "content                                  None\n",
       "relations                              [0, 0]\n",
       "dtype: object])"
      ]
     },
     "execution_count": 14,
     "metadata": {},
     "output_type": "execute_result"
    }
   ],
   "source": [
    "p"
   ]
  },
  {
   "cell_type": "code",
   "execution_count": 15,
   "metadata": {},
   "outputs": [
    {
     "data": {
      "text/plain": [
       "9"
      ]
     },
     "execution_count": 15,
     "metadata": {},
     "output_type": "execute_result"
    }
   ],
   "source": [
    "len(p)"
   ]
  },
  {
   "cell_type": "code",
   "execution_count": 16,
   "metadata": {},
   "outputs": [],
   "source": [
    "cc = Node()"
   ]
  },
  {
   "cell_type": "code",
   "execution_count": 17,
   "metadata": {},
   "outputs": [
    {
     "data": {
      "text/plain": [
       "ln_id        4e25d1ded6399da21f03b25cf669596c\n",
       "created            2024-05-06T22:08:49.766349\n",
       "metadata                                   {}\n",
       "content                                  None\n",
       "relations                              [0, 0]\n",
       "dtype: object"
      ]
     },
     "execution_count": 17,
     "metadata": {},
     "output_type": "execute_result"
    }
   ],
   "source": [
    "cc"
   ]
  },
  {
   "cell_type": "code",
   "execution_count": 18,
   "metadata": {},
   "outputs": [],
   "source": [
    "p.extend(cc)"
   ]
  },
  {
   "cell_type": "code",
   "execution_count": 19,
   "metadata": {},
   "outputs": [
    {
     "data": {
      "text/plain": [
       "False"
      ]
     },
     "execution_count": 19,
     "metadata": {},
     "output_type": "execute_result"
    }
   ],
   "source": [
    "[cc, dd] in p"
   ]
  },
  {
   "cell_type": "code",
   "execution_count": 20,
   "metadata": {},
   "outputs": [
    {
     "data": {
      "text/plain": [
       "[ln_id        fa58047b786f850bf4b1d1d8a717e954\n",
       " created            2024-05-06T22:08:49.743062\n",
       " metadata                                   {}\n",
       " content                                  None\n",
       " relations                              [0, 0]\n",
       " dtype: object,\n",
       " ln_id        be6f34fbc5755853e721fab5df55642c\n",
       " created            2024-05-06T22:08:49.743099\n",
       " metadata                                   {}\n",
       " content                                  None\n",
       " relations                              [0, 0]\n",
       " dtype: object,\n",
       " ln_id        76b22003e45dd346c2328b3d0b20dcd5\n",
       " created            2024-05-06T22:08:49.743197\n",
       " metadata                                   {}\n",
       " content                                  None\n",
       " relations                              [0, 0]\n",
       " dtype: object,\n",
       " ln_id        21668b5ca3d4c8c439e9a94025b5a356\n",
       " created            2024-05-06T22:08:49.743254\n",
       " metadata                                   {}\n",
       " content                                  None\n",
       " relations                              [0, 0]\n",
       " dtype: object]"
      ]
     },
     "execution_count": 20,
     "metadata": {},
     "output_type": "execute_result"
    }
   ],
   "source": [
    "p[1:5]"
   ]
  },
  {
   "cell_type": "code",
   "execution_count": 21,
   "metadata": {},
   "outputs": [],
   "source": [
    "gg = Node()"
   ]
  },
  {
   "cell_type": "code",
   "execution_count": 22,
   "metadata": {},
   "outputs": [],
   "source": [
    "p[0] = gg"
   ]
  },
  {
   "cell_type": "code",
   "execution_count": 23,
   "metadata": {},
   "outputs": [
    {
     "data": {
      "text/plain": [
       "['5e93a1d229e183a5f4e2c2c1ba31ee48']"
      ]
     },
     "execution_count": 23,
     "metadata": {},
     "output_type": "execute_result"
    }
   ],
   "source": [
    "p[0]"
   ]
  },
  {
   "cell_type": "code",
   "execution_count": 24,
   "metadata": {},
   "outputs": [],
   "source": [
    "p += dd"
   ]
  },
  {
   "cell_type": "code",
   "execution_count": 25,
   "metadata": {},
   "outputs": [
    {
     "data": {
      "text/plain": [
       "11"
      ]
     },
     "execution_count": 25,
     "metadata": {},
     "output_type": "execute_result"
    }
   ],
   "source": [
    "len(p)"
   ]
  },
  {
   "cell_type": "code",
   "execution_count": 26,
   "metadata": {},
   "outputs": [],
   "source": [
    "p -= cc"
   ]
  },
  {
   "cell_type": "code",
   "execution_count": 27,
   "metadata": {},
   "outputs": [
    {
     "data": {
      "text/plain": [
       "10"
      ]
     },
     "execution_count": 27,
     "metadata": {},
     "output_type": "execute_result"
    }
   ],
   "source": [
    "len(p)"
   ]
  },
  {
   "cell_type": "code",
   "execution_count": 28,
   "metadata": {},
   "outputs": [
    {
     "data": {
      "text/plain": [
       "False"
      ]
     },
     "execution_count": 28,
     "metadata": {},
     "output_type": "execute_result"
    }
   ],
   "source": [
    "cc in p"
   ]
  },
  {
   "cell_type": "code",
   "execution_count": 29,
   "metadata": {},
   "outputs": [
    {
     "data": {
      "text/plain": [
       "True"
      ]
     },
     "execution_count": 29,
     "metadata": {},
     "output_type": "execute_result"
    }
   ],
   "source": [
    "dd in p"
   ]
  },
  {
   "cell_type": "code",
   "execution_count": 30,
   "metadata": {},
   "outputs": [
    {
     "data": {
      "text/plain": [
       "False"
      ]
     },
     "execution_count": 30,
     "metadata": {},
     "output_type": "execute_result"
    }
   ],
   "source": [
    "tt = Node()\n",
    "tt in p"
   ]
  },
  {
   "cell_type": "code",
   "execution_count": 31,
   "metadata": {},
   "outputs": [],
   "source": [
    "try:\n",
    "    p -= tt\n",
    "except Exception as e:\n",
    "    print(e)"
   ]
  },
  {
   "cell_type": "code",
   "execution_count": 32,
   "metadata": {},
   "outputs": [],
   "source": [
    "p += cc"
   ]
  },
  {
   "cell_type": "code",
   "execution_count": 33,
   "metadata": {},
   "outputs": [
    {
     "data": {
      "text/plain": [
       "True"
      ]
     },
     "execution_count": 33,
     "metadata": {},
     "output_type": "execute_result"
    }
   ],
   "source": [
    "p.exclude(cc)"
   ]
  },
  {
   "cell_type": "code",
   "execution_count": 34,
   "metadata": {},
   "outputs": [
    {
     "data": {
      "text/plain": [
       "False"
      ]
     },
     "execution_count": 34,
     "metadata": {},
     "output_type": "execute_result"
    }
   ],
   "source": [
    "cc in p"
   ]
  },
  {
   "cell_type": "code",
   "execution_count": 35,
   "metadata": {},
   "outputs": [
    {
     "data": {
      "text/plain": [
       "10"
      ]
     },
     "execution_count": 35,
     "metadata": {},
     "output_type": "execute_result"
    }
   ],
   "source": [
    "len(p)"
   ]
  },
  {
   "cell_type": "code",
   "execution_count": 36,
   "metadata": {},
   "outputs": [
    {
     "name": "stdout",
     "output_type": "stream",
     "text": [
      "['5e93a1d229e183a5f4e2c2c1ba31ee48']\n",
      "ln_id        fa58047b786f850bf4b1d1d8a717e954\n",
      "created            2024-05-06T22:08:49.743062\n",
      "metadata                                   {}\n",
      "content                                  None\n",
      "relations                              [0, 0]\n",
      "dtype: object\n",
      "ln_id        be6f34fbc5755853e721fab5df55642c\n",
      "created            2024-05-06T22:08:49.743099\n",
      "metadata                                   {}\n",
      "content                                  None\n",
      "relations                              [0, 0]\n",
      "dtype: object\n",
      "ln_id        76b22003e45dd346c2328b3d0b20dcd5\n",
      "created            2024-05-06T22:08:49.743197\n",
      "metadata                                   {}\n",
      "content                                  None\n",
      "relations                              [0, 0]\n",
      "dtype: object\n",
      "ln_id        21668b5ca3d4c8c439e9a94025b5a356\n",
      "created            2024-05-06T22:08:49.743254\n",
      "metadata                                   {}\n",
      "content                                  None\n",
      "relations                              [0, 0]\n",
      "dtype: object\n",
      "966dde2b818c9de24ca3a66d6a693b33\n",
      "ln_id        d3a66e02266d98f57ab93abce639c400\n",
      "created            2024-05-06T22:08:49.754532\n",
      "metadata                                   {}\n",
      "content                                  None\n",
      "relations                              [0, 0]\n",
      "dtype: object\n",
      "ln_id        f32915188507a7cf55c1fe7fb4b0c7a2\n",
      "created            2024-05-06T22:08:49.754578\n",
      "metadata                                   {}\n",
      "content                                  None\n",
      "relations                              [0, 0]\n",
      "dtype: object\n",
      "ln_id        4240b937ba4db8432296c9cf5a750fa8\n",
      "created            2024-05-06T22:08:49.754612\n",
      "metadata                                   {}\n",
      "content                                  None\n",
      "relations                              [0, 0]\n",
      "dtype: object\n",
      "f32915188507a7cf55c1fe7fb4b0c7a2\n"
     ]
    }
   ],
   "source": [
    "for i in p:\n",
    "    print(i)"
   ]
  },
  {
   "cell_type": "code",
   "execution_count": 37,
   "metadata": {},
   "outputs": [
    {
     "data": {
      "text/plain": [
       "10"
      ]
     },
     "execution_count": 37,
     "metadata": {},
     "output_type": "execute_result"
    }
   ],
   "source": [
    "len(p)"
   ]
  },
  {
   "cell_type": "code",
   "execution_count": 38,
   "metadata": {},
   "outputs": [
    {
     "name": "stdout",
     "output_type": "stream",
     "text": [
      "['5e93a1d229e183a5f4e2c2c1ba31ee48']\n",
      "ln_id        fa58047b786f850bf4b1d1d8a717e954\n",
      "created            2024-05-06T22:08:49.743062\n",
      "metadata                                   {}\n",
      "content                                  None\n",
      "relations                              [0, 0]\n",
      "dtype: object\n",
      "ln_id        be6f34fbc5755853e721fab5df55642c\n",
      "created            2024-05-06T22:08:49.743099\n",
      "metadata                                   {}\n",
      "content                                  None\n",
      "relations                              [0, 0]\n",
      "dtype: object\n",
      "ln_id        76b22003e45dd346c2328b3d0b20dcd5\n",
      "created            2024-05-06T22:08:49.743197\n",
      "metadata                                   {}\n",
      "content                                  None\n",
      "relations                              [0, 0]\n",
      "dtype: object\n",
      "ln_id        21668b5ca3d4c8c439e9a94025b5a356\n",
      "created            2024-05-06T22:08:49.743254\n",
      "metadata                                   {}\n",
      "content                                  None\n",
      "relations                              [0, 0]\n",
      "dtype: object\n",
      "966dde2b818c9de24ca3a66d6a693b33\n",
      "ln_id        d3a66e02266d98f57ab93abce639c400\n",
      "created            2024-05-06T22:08:49.754532\n",
      "metadata                                   {}\n",
      "content                                  None\n",
      "relations                              [0, 0]\n",
      "dtype: object\n",
      "ln_id        f32915188507a7cf55c1fe7fb4b0c7a2\n",
      "created            2024-05-06T22:08:49.754578\n",
      "metadata                                   {}\n",
      "content                                  None\n",
      "relations                              [0, 0]\n",
      "dtype: object\n",
      "ln_id        4240b937ba4db8432296c9cf5a750fa8\n",
      "created            2024-05-06T22:08:49.754612\n",
      "metadata                                   {}\n",
      "content                                  None\n",
      "relations                              [0, 0]\n",
      "dtype: object\n",
      "f32915188507a7cf55c1fe7fb4b0c7a2\n",
      "Item not found. Item: 'index 10'.\n"
     ]
    }
   ],
   "source": [
    "try:\n",
    "    for i in range(12):\n",
    "        print(p[i])\n",
    "except Exception as e:\n",
    "    print(e)"
   ]
  },
  {
   "cell_type": "code",
   "execution_count": 39,
   "metadata": {},
   "outputs": [
    {
     "data": {
      "text/plain": [
       "Progression([['5e93a1d229e183a5f4e2c2c1ba31ee48'], ln_id        fa58047b786f850bf4b1d1d8a717e954\n",
       "created            2024-05-06T22:08:49.743062\n",
       "metadata                                   {}\n",
       "content                                  None\n",
       "relations                              [0, 0]\n",
       "dtype: object, ln_id        be6f34fbc5755853e721fab5df55642c\n",
       "created            2024-05-06T22:08:49.743099\n",
       "metadata                                   {}\n",
       "content                                  None\n",
       "relations                              [0, 0]\n",
       "dtype: object, ln_id        76b22003e45dd346c2328b3d0b20dcd5\n",
       "created            2024-05-06T22:08:49.743197\n",
       "metadata                                   {}\n",
       "content                                  None\n",
       "relations                              [0, 0]\n",
       "dtype: object, ln_id        21668b5ca3d4c8c439e9a94025b5a356\n",
       "created            2024-05-06T22:08:49.743254\n",
       "metadata                                   {}\n",
       "content                                  None\n",
       "relations                              [0, 0]\n",
       "dtype: object, '966dde2b818c9de24ca3a66d6a693b33', ln_id        d3a66e02266d98f57ab93abce639c400\n",
       "created            2024-05-06T22:08:49.754532\n",
       "metadata                                   {}\n",
       "content                                  None\n",
       "relations                              [0, 0]\n",
       "dtype: object, ln_id        f32915188507a7cf55c1fe7fb4b0c7a2\n",
       "created            2024-05-06T22:08:49.754578\n",
       "metadata                                   {}\n",
       "content                                  None\n",
       "relations                              [0, 0]\n",
       "dtype: object, ln_id        4240b937ba4db8432296c9cf5a750fa8\n",
       "created            2024-05-06T22:08:49.754612\n",
       "metadata                                   {}\n",
       "content                                  None\n",
       "relations                              [0, 0]\n",
       "dtype: object, 'f32915188507a7cf55c1fe7fb4b0c7a2'])"
      ]
     },
     "execution_count": 39,
     "metadata": {},
     "output_type": "execute_result"
    }
   ],
   "source": [
    "p"
   ]
  },
  {
   "cell_type": "code",
   "execution_count": 40,
   "metadata": {},
   "outputs": [
    {
     "data": {
      "text/plain": [
       "10"
      ]
     },
     "execution_count": 40,
     "metadata": {},
     "output_type": "execute_result"
    }
   ],
   "source": [
    "len(p)"
   ]
  },
  {
   "cell_type": "code",
   "execution_count": 41,
   "metadata": {},
   "outputs": [
    {
     "name": "stdout",
     "output_type": "stream",
     "text": [
      "['5e93a1d229e183a5f4e2c2c1ba31ee48']\n",
      "ln_id        fa58047b786f850bf4b1d1d8a717e954\n",
      "created            2024-05-06T22:08:49.743062\n",
      "metadata                                   {}\n",
      "content                                  None\n",
      "relations                              [0, 0]\n",
      "dtype: object\n",
      "ln_id        be6f34fbc5755853e721fab5df55642c\n",
      "created            2024-05-06T22:08:49.743099\n",
      "metadata                                   {}\n",
      "content                                  None\n",
      "relations                              [0, 0]\n",
      "dtype: object\n",
      "ln_id        76b22003e45dd346c2328b3d0b20dcd5\n",
      "created            2024-05-06T22:08:49.743197\n",
      "metadata                                   {}\n",
      "content                                  None\n",
      "relations                              [0, 0]\n",
      "dtype: object\n",
      "ln_id        21668b5ca3d4c8c439e9a94025b5a356\n",
      "created            2024-05-06T22:08:49.743254\n",
      "metadata                                   {}\n",
      "content                                  None\n",
      "relations                              [0, 0]\n",
      "dtype: object\n",
      "966dde2b818c9de24ca3a66d6a693b33\n",
      "ln_id        d3a66e02266d98f57ab93abce639c400\n",
      "created            2024-05-06T22:08:49.754532\n",
      "metadata                                   {}\n",
      "content                                  None\n",
      "relations                              [0, 0]\n",
      "dtype: object\n",
      "ln_id        f32915188507a7cf55c1fe7fb4b0c7a2\n",
      "created            2024-05-06T22:08:49.754578\n",
      "metadata                                   {}\n",
      "content                                  None\n",
      "relations                              [0, 0]\n",
      "dtype: object\n",
      "ln_id        4240b937ba4db8432296c9cf5a750fa8\n",
      "created            2024-05-06T22:08:49.754612\n",
      "metadata                                   {}\n",
      "content                                  None\n",
      "relations                              [0, 0]\n",
      "dtype: object\n",
      "f32915188507a7cf55c1fe7fb4b0c7a2\n",
      "Item not found. Item: 'None'.\n"
     ]
    }
   ],
   "source": [
    "try:\n",
    "    for i in range(12):\n",
    "        print(p.popleft())\n",
    "except Exception as e:\n",
    "    print(e)"
   ]
  },
  {
   "cell_type": "code",
   "execution_count": 42,
   "metadata": {},
   "outputs": [],
   "source": [
    "for i in range(5):\n",
    "    p += Node()"
   ]
  },
  {
   "cell_type": "code",
   "execution_count": 43,
   "metadata": {},
   "outputs": [
    {
     "data": {
      "text/plain": [
       "5"
      ]
     },
     "execution_count": 43,
     "metadata": {},
     "output_type": "execute_result"
    }
   ],
   "source": [
    "len(p)"
   ]
  },
  {
   "cell_type": "code",
   "execution_count": 44,
   "metadata": {},
   "outputs": [
    {
     "data": {
      "text/plain": [
       "0"
      ]
     },
     "execution_count": 44,
     "metadata": {},
     "output_type": "execute_result"
    }
   ],
   "source": [
    "for i in list(p.order):\n",
    "    p.remove(i)\n",
    "\n",
    "len(p)"
   ]
  },
  {
   "cell_type": "code",
   "execution_count": 45,
   "metadata": {},
   "outputs": [
    {
     "data": {
      "text/plain": [
       "10"
      ]
     },
     "execution_count": 45,
     "metadata": {},
     "output_type": "execute_result"
    }
   ],
   "source": [
    "p2 = progression()\n",
    "\n",
    "for i in range(5):\n",
    "    p += Node()\n",
    "    p2 += Node()\n",
    "\n",
    "len(p+p2)"
   ]
  },
  {
   "cell_type": "code",
   "execution_count": 46,
   "metadata": {},
   "outputs": [
    {
     "data": {
      "text/plain": [
       "False"
      ]
     },
     "execution_count": 46,
     "metadata": {},
     "output_type": "execute_result"
    }
   ],
   "source": [
    "p+p2 == p2+p"
   ]
  },
  {
   "cell_type": "code",
   "execution_count": 47,
   "metadata": {},
   "outputs": [
    {
     "data": {
      "text/plain": [
       "False"
      ]
     },
     "execution_count": 47,
     "metadata": {},
     "output_type": "execute_result"
    }
   ],
   "source": [
    "p+p == p+p"
   ]
  },
  {
   "cell_type": "markdown",
   "metadata": {},
   "source": [
    "[]\n",
    "\n",
    "\n",
    "\n",
    "\n",
    "\n"
   ]
  },
  {
   "cell_type": "code",
   "execution_count": 48,
   "metadata": {},
   "outputs": [
    {
     "data": {
      "text/plain": [
       "Progression(['919c182a60f224865bb197dd4098cd5c', 'd9769fd1a26f7685669faadc99f481cb', '6656cd7ea81803387065e571ab075cb6', '4cdac0271aea4e7ec72acfed72d26f31', '1fd5e6ace51bab926bd7d4374a6dcade', '598fab00b8e5ab62da40519c1f89b2a0'])"
      ]
     },
     "execution_count": 48,
     "metadata": {},
     "output_type": "execute_result"
    }
   ],
   "source": [
    "# a non progression add a progression is a new progression\n",
    "node = Node()\n",
    "\n",
    "node + p"
   ]
  },
  {
   "cell_type": "code",
   "execution_count": 49,
   "metadata": {},
   "outputs": [
    {
     "data": {
      "text/plain": [
       "Progression(['d9769fd1a26f7685669faadc99f481cb', '6656cd7ea81803387065e571ab075cb6', '4cdac0271aea4e7ec72acfed72d26f31', '1fd5e6ace51bab926bd7d4374a6dcade', '598fab00b8e5ab62da40519c1f89b2a0'])"
      ]
     },
     "execution_count": 49,
     "metadata": {},
     "output_type": "execute_result"
    }
   ],
   "source": [
    "p"
   ]
  },
  {
   "cell_type": "code",
   "execution_count": 50,
   "metadata": {},
   "outputs": [],
   "source": [
    "p -= 1"
   ]
  },
  {
   "cell_type": "code",
   "execution_count": 51,
   "metadata": {},
   "outputs": [
    {
     "data": {
      "text/plain": [
       "Progression(['598fab00b8e5ab62da40519c1f89b2a0'])"
      ]
     },
     "execution_count": 51,
     "metadata": {},
     "output_type": "execute_result"
    }
   ],
   "source": [
    "p - 3"
   ]
  },
  {
   "cell_type": "code",
   "execution_count": 52,
   "metadata": {},
   "outputs": [
    {
     "data": {
      "text/plain": [
       "Progression(['6656cd7ea81803387065e571ab075cb6', '4cdac0271aea4e7ec72acfed72d26f31', '1fd5e6ace51bab926bd7d4374a6dcade', '598fab00b8e5ab62da40519c1f89b2a0'])"
      ]
     },
     "execution_count": 52,
     "metadata": {},
     "output_type": "execute_result"
    }
   ],
   "source": [
    "p"
   ]
  },
  {
   "cell_type": "code",
   "execution_count": 53,
   "metadata": {},
   "outputs": [
    {
     "data": {
      "text/plain": [
       "['6656cd7ea81803387065e571ab075cb6',\n",
       " '4cdac0271aea4e7ec72acfed72d26f31',\n",
       " '1fd5e6ace51bab926bd7d4374a6dcade',\n",
       " '598fab00b8e5ab62da40519c1f89b2a0']"
      ]
     },
     "execution_count": 53,
     "metadata": {},
     "output_type": "execute_result"
    }
   ],
   "source": [
    "list(p)"
   ]
  },
  {
   "cell_type": "code",
   "execution_count": 54,
   "metadata": {},
   "outputs": [
    {
     "data": {
      "text/plain": [
       "{'1fd5e6ace51bab926bd7d4374a6dcade',\n",
       " '4cdac0271aea4e7ec72acfed72d26f31',\n",
       " '598fab00b8e5ab62da40519c1f89b2a0',\n",
       " '6656cd7ea81803387065e571ab075cb6'}"
      ]
     },
     "execution_count": 54,
     "metadata": {},
     "output_type": "execute_result"
    }
   ],
   "source": [
    "set(p)"
   ]
  },
  {
   "cell_type": "code",
   "execution_count": 55,
   "metadata": {},
   "outputs": [
    {
     "data": {
      "text/plain": [
       "('6656cd7ea81803387065e571ab075cb6',\n",
       " '4cdac0271aea4e7ec72acfed72d26f31',\n",
       " '1fd5e6ace51bab926bd7d4374a6dcade',\n",
       " '598fab00b8e5ab62da40519c1f89b2a0')"
      ]
     },
     "execution_count": 55,
     "metadata": {},
     "output_type": "execute_result"
    }
   ],
   "source": [
    "tuple(p)"
   ]
  },
  {
   "cell_type": "code",
   "execution_count": 56,
   "metadata": {},
   "outputs": [
    {
     "data": {
      "text/plain": [
       "deque(['6656cd7ea81803387065e571ab075cb6',\n",
       "       '4cdac0271aea4e7ec72acfed72d26f31',\n",
       "       '1fd5e6ace51bab926bd7d4374a6dcade',\n",
       "       '598fab00b8e5ab62da40519c1f89b2a0'])"
      ]
     },
     "execution_count": 56,
     "metadata": {},
     "output_type": "execute_result"
    }
   ],
   "source": [
    "deque(p)"
   ]
  }
 ],
 "metadata": {
  "kernelspec": {
   "display_name": ".venv",
   "language": "python",
   "name": "python3"
  },
  "language_info": {
   "codemirror_mode": {
    "name": "ipython",
    "version": 3
   },
   "file_extension": ".py",
   "mimetype": "text/x-python",
   "name": "python",
   "nbconvert_exporter": "python",
   "pygments_lexer": "ipython3",
   "version": "3.11.6"
  }
 },
 "nbformat": 4,
 "nbformat_minor": 2
}

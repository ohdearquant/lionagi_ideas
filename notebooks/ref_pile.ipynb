{
 "cells": [
  {
   "cell_type": "code",
   "execution_count": 1,
   "metadata": {},
   "outputs": [],
   "source": [
    "from generic import pile"
   ]
  },
  {
   "cell_type": "code",
   "execution_count": 2,
   "metadata": {},
   "outputs": [],
   "source": [
    "# you can create a pile object by calling the constructor directly\n",
    "# Pile class constructor takes only keyword arguments\n",
    "\n",
    "items = [pile() for _ in range(10)]  # first we create 10 pile objects\n",
    "item1 = items[0]"
   ]
  },
  {
   "cell_type": "code",
   "execution_count": 3,
   "metadata": {},
   "outputs": [],
   "source": [
    "# or you can use the pile function\n",
    "# you can specify the type of the items in the pile,\n",
    "\n",
    "a = pile(items)"
   ]
  },
  {
   "cell_type": "code",
   "execution_count": 4,
   "metadata": {},
   "outputs": [
    {
     "data": {
      "text/plain": [
       "10"
      ]
     },
     "execution_count": 4,
     "metadata": {},
     "output_type": "execute_result"
    }
   ],
   "source": [
    "len(a)"
   ]
  },
  {
   "cell_type": "code",
   "execution_count": 5,
   "metadata": {},
   "outputs": [],
   "source": [
    "b = a.to_df()"
   ]
  },
  {
   "cell_type": "code",
   "execution_count": 6,
   "metadata": {},
   "outputs": [
    {
     "data": {
      "text/html": [
       "<div>\n",
       "<style scoped>\n",
       "    .dataframe tbody tr th:only-of-type {\n",
       "        vertical-align: middle;\n",
       "    }\n",
       "\n",
       "    .dataframe tbody tr th {\n",
       "        vertical-align: top;\n",
       "    }\n",
       "\n",
       "    .dataframe thead th {\n",
       "        text-align: right;\n",
       "    }\n",
       "</style>\n",
       "<table border=\"1\" class=\"dataframe\">\n",
       "  <thead>\n",
       "    <tr style=\"text-align: right;\">\n",
       "      <th></th>\n",
       "      <th>ln_id</th>\n",
       "      <th>created</th>\n",
       "      <th>metadata</th>\n",
       "      <th>content</th>\n",
       "      <th>items</th>\n",
       "      <th>item_type</th>\n",
       "      <th>name</th>\n",
       "    </tr>\n",
       "  </thead>\n",
       "  <tbody>\n",
       "    <tr>\n",
       "      <th>0</th>\n",
       "      <td>dc21bf5c03c7643adce4880180d67974</td>\n",
       "      <td>2024-05-06T22:12:29.954100</td>\n",
       "      <td>{}</td>\n",
       "      <td>None</td>\n",
       "      <td>{}</td>\n",
       "      <td>None</td>\n",
       "      <td>None</td>\n",
       "    </tr>\n",
       "    <tr>\n",
       "      <th>1</th>\n",
       "      <td>3f5cb3921c1fcc729ab7dea71f7ba61b</td>\n",
       "      <td>2024-05-06T22:12:29.954118</td>\n",
       "      <td>{}</td>\n",
       "      <td>None</td>\n",
       "      <td>{}</td>\n",
       "      <td>None</td>\n",
       "      <td>None</td>\n",
       "    </tr>\n",
       "    <tr>\n",
       "      <th>2</th>\n",
       "      <td>cf51960aa8f011eecf8156215c960a2f</td>\n",
       "      <td>2024-05-06T22:12:29.954128</td>\n",
       "      <td>{}</td>\n",
       "      <td>None</td>\n",
       "      <td>{}</td>\n",
       "      <td>None</td>\n",
       "      <td>None</td>\n",
       "    </tr>\n",
       "    <tr>\n",
       "      <th>3</th>\n",
       "      <td>53be21cb9e5964d6ae2ed79a92f4d8e1</td>\n",
       "      <td>2024-05-06T22:12:29.954137</td>\n",
       "      <td>{}</td>\n",
       "      <td>None</td>\n",
       "      <td>{}</td>\n",
       "      <td>None</td>\n",
       "      <td>None</td>\n",
       "    </tr>\n",
       "    <tr>\n",
       "      <th>4</th>\n",
       "      <td>6c2d7fdae5d337b4126a2859a1c890e5</td>\n",
       "      <td>2024-05-06T22:12:29.954145</td>\n",
       "      <td>{}</td>\n",
       "      <td>None</td>\n",
       "      <td>{}</td>\n",
       "      <td>None</td>\n",
       "      <td>None</td>\n",
       "    </tr>\n",
       "    <tr>\n",
       "      <th>5</th>\n",
       "      <td>1aab742fdd2d2cd6d6d378bbb4757493</td>\n",
       "      <td>2024-05-06T22:12:29.954153</td>\n",
       "      <td>{}</td>\n",
       "      <td>None</td>\n",
       "      <td>{}</td>\n",
       "      <td>None</td>\n",
       "      <td>None</td>\n",
       "    </tr>\n",
       "    <tr>\n",
       "      <th>6</th>\n",
       "      <td>4701959617cfec077ab6efe9797f00a6</td>\n",
       "      <td>2024-05-06T22:12:29.954164</td>\n",
       "      <td>{}</td>\n",
       "      <td>None</td>\n",
       "      <td>{}</td>\n",
       "      <td>None</td>\n",
       "      <td>None</td>\n",
       "    </tr>\n",
       "    <tr>\n",
       "      <th>7</th>\n",
       "      <td>486c910aa072bd98afb0dd231d7f6a2b</td>\n",
       "      <td>2024-05-06T22:12:29.954173</td>\n",
       "      <td>{}</td>\n",
       "      <td>None</td>\n",
       "      <td>{}</td>\n",
       "      <td>None</td>\n",
       "      <td>None</td>\n",
       "    </tr>\n",
       "    <tr>\n",
       "      <th>8</th>\n",
       "      <td>094201d04da1a637059b9e7ff7a5870e</td>\n",
       "      <td>2024-05-06T22:12:29.954183</td>\n",
       "      <td>{}</td>\n",
       "      <td>None</td>\n",
       "      <td>{}</td>\n",
       "      <td>None</td>\n",
       "      <td>None</td>\n",
       "    </tr>\n",
       "    <tr>\n",
       "      <th>9</th>\n",
       "      <td>1a78849bb07fa84525284850df4e890b</td>\n",
       "      <td>2024-05-06T22:12:29.954189</td>\n",
       "      <td>{}</td>\n",
       "      <td>None</td>\n",
       "      <td>{}</td>\n",
       "      <td>None</td>\n",
       "      <td>None</td>\n",
       "    </tr>\n",
       "  </tbody>\n",
       "</table>\n",
       "</div>"
      ],
      "text/plain": [
       "                              ln_id                     created metadata  \\\n",
       "0  dc21bf5c03c7643adce4880180d67974  2024-05-06T22:12:29.954100       {}   \n",
       "1  3f5cb3921c1fcc729ab7dea71f7ba61b  2024-05-06T22:12:29.954118       {}   \n",
       "2  cf51960aa8f011eecf8156215c960a2f  2024-05-06T22:12:29.954128       {}   \n",
       "3  53be21cb9e5964d6ae2ed79a92f4d8e1  2024-05-06T22:12:29.954137       {}   \n",
       "4  6c2d7fdae5d337b4126a2859a1c890e5  2024-05-06T22:12:29.954145       {}   \n",
       "5  1aab742fdd2d2cd6d6d378bbb4757493  2024-05-06T22:12:29.954153       {}   \n",
       "6  4701959617cfec077ab6efe9797f00a6  2024-05-06T22:12:29.954164       {}   \n",
       "7  486c910aa072bd98afb0dd231d7f6a2b  2024-05-06T22:12:29.954173       {}   \n",
       "8  094201d04da1a637059b9e7ff7a5870e  2024-05-06T22:12:29.954183       {}   \n",
       "9  1a78849bb07fa84525284850df4e890b  2024-05-06T22:12:29.954189       {}   \n",
       "\n",
       "  content items item_type  name  \n",
       "0    None    {}      None  None  \n",
       "1    None    {}      None  None  \n",
       "2    None    {}      None  None  \n",
       "3    None    {}      None  None  \n",
       "4    None    {}      None  None  \n",
       "5    None    {}      None  None  \n",
       "6    None    {}      None  None  \n",
       "7    None    {}      None  None  \n",
       "8    None    {}      None  None  \n",
       "9    None    {}      None  None  "
      ]
     },
     "execution_count": 6,
     "metadata": {},
     "output_type": "execute_result"
    }
   ],
   "source": [
    "b"
   ]
  },
  {
   "cell_type": "markdown",
   "metadata": {},
   "source": [
    "### Dictionary-like methods"
   ]
  },
  {
   "cell_type": "code",
   "execution_count": 7,
   "metadata": {},
   "outputs": [
    {
     "name": "stdout",
     "output_type": "stream",
     "text": [
      "dc21bf5c03c7643adce4880180d67974\n",
      "3f5cb3921c1fcc729ab7dea71f7ba61b\n",
      "cf51960aa8f011eecf8156215c960a2f\n",
      "53be21cb9e5964d6ae2ed79a92f4d8e1\n",
      "6c2d7fdae5d337b4126a2859a1c890e5\n",
      "1aab742fdd2d2cd6d6d378bbb4757493\n",
      "4701959617cfec077ab6efe9797f00a6\n",
      "486c910aa072bd98afb0dd231d7f6a2b\n",
      "094201d04da1a637059b9e7ff7a5870e\n",
      "1a78849bb07fa84525284850df4e890b\n"
     ]
    }
   ],
   "source": [
    "for i in a.keys():\n",
    "    print(i)\n"
   ]
  },
  {
   "cell_type": "code",
   "execution_count": 8,
   "metadata": {},
   "outputs": [],
   "source": [
    "values = a.values()"
   ]
  },
  {
   "cell_type": "code",
   "execution_count": 9,
   "metadata": {},
   "outputs": [
    {
     "name": "stdout",
     "output_type": "stream",
     "text": [
      "                              ln_id                     created metadata  \\\n",
      "0  dc21bf5c03c7643adce4880180d67974  2024-05-06T22:12:29.954100       {}   \n",
      "1  3f5cb3921c1fcc729ab7dea71f7ba61b  2024-05-06T22:12:29.954118       {}   \n",
      "2  cf51960aa8f011eecf8156215c960a2f  2024-05-06T22:12:29.954128       {}   \n",
      "3  53be21cb9e5964d6ae2ed79a92f4d8e1  2024-05-06T22:12:29.954137       {}   \n",
      "4  6c2d7fdae5d337b4126a2859a1c890e5  2024-05-06T22:12:29.954145       {}   \n",
      "5  1aab742fdd2d2cd6d6d378bbb4757493  2024-05-06T22:12:29.954153       {}   \n",
      "6  4701959617cfec077ab6efe9797f00a6  2024-05-06T22:12:29.954164       {}   \n",
      "7  486c910aa072bd98afb0dd231d7f6a2b  2024-05-06T22:12:29.954173       {}   \n",
      "8  094201d04da1a637059b9e7ff7a5870e  2024-05-06T22:12:29.954183       {}   \n",
      "9  1a78849bb07fa84525284850df4e890b  2024-05-06T22:12:29.954189       {}   \n",
      "\n",
      "  content items item_type  name  \n",
      "0    None    {}      None  None  \n",
      "1    None    {}      None  None  \n",
      "2    None    {}      None  None  \n",
      "3    None    {}      None  None  \n",
      "4    None    {}      None  None  \n",
      "5    None    {}      None  None  \n",
      "6    None    {}      None  None  \n",
      "7    None    {}      None  None  \n",
      "8    None    {}      None  None  \n",
      "9    None    {}      None  None  \n"
     ]
    }
   ],
   "source": [
    "print(a)"
   ]
  },
  {
   "cell_type": "code",
   "execution_count": 10,
   "metadata": {},
   "outputs": [
    {
     "data": {
      "text/plain": [
       "dict_values([Empty DataFrame\n",
       "Columns: []\n",
       "Index: [], Empty DataFrame\n",
       "Columns: []\n",
       "Index: [], Empty DataFrame\n",
       "Columns: []\n",
       "Index: [], Empty DataFrame\n",
       "Columns: []\n",
       "Index: [], Empty DataFrame\n",
       "Columns: []\n",
       "Index: [], Empty DataFrame\n",
       "Columns: []\n",
       "Index: [], Empty DataFrame\n",
       "Columns: []\n",
       "Index: [], Empty DataFrame\n",
       "Columns: []\n",
       "Index: [], Empty DataFrame\n",
       "Columns: []\n",
       "Index: [], Empty DataFrame\n",
       "Columns: []\n",
       "Index: []])"
      ]
     },
     "execution_count": 10,
     "metadata": {},
     "output_type": "execute_result"
    }
   ],
   "source": [
    "a.values()"
   ]
  },
  {
   "cell_type": "code",
   "execution_count": 11,
   "metadata": {},
   "outputs": [
    {
     "data": {
      "text/plain": [
       "[('dc21bf5c03c7643adce4880180d67974',\n",
       "  Empty DataFrame\n",
       "  Columns: []\n",
       "  Index: []),\n",
       " ('3f5cb3921c1fcc729ab7dea71f7ba61b',\n",
       "  Empty DataFrame\n",
       "  Columns: []\n",
       "  Index: []),\n",
       " ('cf51960aa8f011eecf8156215c960a2f',\n",
       "  Empty DataFrame\n",
       "  Columns: []\n",
       "  Index: []),\n",
       " ('53be21cb9e5964d6ae2ed79a92f4d8e1',\n",
       "  Empty DataFrame\n",
       "  Columns: []\n",
       "  Index: []),\n",
       " ('6c2d7fdae5d337b4126a2859a1c890e5',\n",
       "  Empty DataFrame\n",
       "  Columns: []\n",
       "  Index: []),\n",
       " ('1aab742fdd2d2cd6d6d378bbb4757493',\n",
       "  Empty DataFrame\n",
       "  Columns: []\n",
       "  Index: []),\n",
       " ('4701959617cfec077ab6efe9797f00a6',\n",
       "  Empty DataFrame\n",
       "  Columns: []\n",
       "  Index: []),\n",
       " ('486c910aa072bd98afb0dd231d7f6a2b',\n",
       "  Empty DataFrame\n",
       "  Columns: []\n",
       "  Index: []),\n",
       " ('094201d04da1a637059b9e7ff7a5870e',\n",
       "  Empty DataFrame\n",
       "  Columns: []\n",
       "  Index: []),\n",
       " ('1a78849bb07fa84525284850df4e890b',\n",
       "  Empty DataFrame\n",
       "  Columns: []\n",
       "  Index: [])]"
      ]
     },
     "execution_count": 11,
     "metadata": {},
     "output_type": "execute_result"
    }
   ],
   "source": [
    "items = a.items()\n",
    "list(items)"
   ]
  },
  {
   "cell_type": "markdown",
   "metadata": {},
   "source": [
    "#### get methods"
   ]
  },
  {
   "cell_type": "code",
   "execution_count": 12,
   "metadata": {},
   "outputs": [
    {
     "data": {
      "text/plain": [
       "True"
      ]
     },
     "execution_count": 12,
     "metadata": {},
     "output_type": "execute_result"
    }
   ],
   "source": [
    "# all equivalent ways to get an item from a pile\n",
    "get_a = a[item1]\n",
    "get_b = a[item1.ln_id]\n",
    "get_c = a.get(item1)\n",
    "get_d = a.get(item1.ln_id)\n",
    "\n",
    "all([i == item1 for i in [get_a, get_b, get_c, get_d]])"
   ]
  },
  {
   "cell_type": "markdown",
   "metadata": {},
   "source": [
    "#### set methods"
   ]
  },
  {
   "cell_type": "code",
   "execution_count": 13,
   "metadata": {},
   "outputs": [
    {
     "name": "stdout",
     "output_type": "stream",
     "text": [
      "True\n",
      "True\n"
     ]
    }
   ],
   "source": [
    "pile_2 = pile()\n",
    "\n",
    "a[pile_2] = pile_2\n",
    "a[pile_2.ln_id] = pile_2\n",
    "\n",
    "# containment checks an LionIDable object\n",
    "print(pile_2 in a)\n",
    "print(pile_2.ln_id in a)\n"
   ]
  },
  {
   "cell_type": "code",
   "execution_count": 14,
   "metadata": {},
   "outputs": [
    {
     "name": "stdout",
     "output_type": "stream",
     "text": [
      "True\n"
     ]
    }
   ],
   "source": [
    "pile_3 = pile()\n",
    "\n",
    "a.include(pile_3)\n",
    "\n",
    "print(pile_3 in a)"
   ]
  },
  {
   "cell_type": "markdown",
   "metadata": {},
   "source": [
    "#### remove methods"
   ]
  },
  {
   "cell_type": "code",
   "execution_count": 15,
   "metadata": {},
   "outputs": [
    {
     "data": {
      "text/plain": [
       "Empty DataFrame\n",
       "Columns: []\n",
       "Index: []"
      ]
     },
     "execution_count": 15,
     "metadata": {},
     "output_type": "execute_result"
    }
   ],
   "source": [
    "# pop will return an obj\n",
    "a.pop(pile_3)"
   ]
  },
  {
   "cell_type": "code",
   "execution_count": 16,
   "metadata": {},
   "outputs": [
    {
     "data": {
      "text/plain": [
       "False"
      ]
     },
     "execution_count": 16,
     "metadata": {},
     "output_type": "execute_result"
    }
   ],
   "source": [
    "pile_3 in a"
   ]
  },
  {
   "cell_type": "code",
   "execution_count": 17,
   "metadata": {},
   "outputs": [
    {
     "data": {
      "text/plain": [
       "False"
      ]
     },
     "execution_count": 17,
     "metadata": {},
     "output_type": "execute_result"
    }
   ],
   "source": [
    "# remove won't return anything\n",
    "a.remove(pile_2)\n",
    "pile_2 in a"
   ]
  },
  {
   "cell_type": "code",
   "execution_count": 18,
   "metadata": {},
   "outputs": [
    {
     "name": "stdout",
     "output_type": "stream",
     "text": [
      "Item not found. Item: 'Empty DataFrame\n",
      "Columns: []\n",
      "Index: []'.\n"
     ]
    }
   ],
   "source": [
    "# you cannot remove an object that is not in the pile\n",
    "try:\n",
    "    a.remove(pile_2)\n",
    "except Exception as e:\n",
    "    print(e)"
   ]
  },
  {
   "cell_type": "code",
   "execution_count": 19,
   "metadata": {},
   "outputs": [
    {
     "data": {
      "text/plain": [
       "True"
      ]
     },
     "execution_count": 19,
     "metadata": {},
     "output_type": "execute_result"
    }
   ],
   "source": [
    "# but using exclude will not raise an error\n",
    "a.exclude(pile_2)"
   ]
  },
  {
   "cell_type": "code",
   "execution_count": 20,
   "metadata": {},
   "outputs": [
    {
     "data": {
      "text/plain": [
       "False"
      ]
     },
     "execution_count": 20,
     "metadata": {},
     "output_type": "execute_result"
    }
   ],
   "source": [
    "a.exclude(item1)\n",
    "item1 in a"
   ]
  },
  {
   "cell_type": "markdown",
   "metadata": {},
   "source": [
    "### Utility methods"
   ]
  },
  {
   "cell_type": "code",
   "execution_count": 21,
   "metadata": {},
   "outputs": [
    {
     "data": {
      "text/plain": [
       "True"
      ]
     },
     "execution_count": 21,
     "metadata": {},
     "output_type": "execute_result"
    }
   ],
   "source": [
    "a.is_homogenous()"
   ]
  },
  {
   "cell_type": "code",
   "execution_count": 22,
   "metadata": {},
   "outputs": [],
   "source": [
    "a.clear()"
   ]
  },
  {
   "cell_type": "code",
   "execution_count": 23,
   "metadata": {},
   "outputs": [
    {
     "data": {
      "text/plain": [
       "True"
      ]
     },
     "execution_count": 23,
     "metadata": {},
     "output_type": "execute_result"
    }
   ],
   "source": [
    "a.is_empty()"
   ]
  },
  {
   "cell_type": "markdown",
   "metadata": {},
   "source": [
    "## Magic Methods"
   ]
  },
  {
   "cell_type": "code",
   "execution_count": 24,
   "metadata": {},
   "outputs": [],
   "source": [
    "pile1 = pile()\n",
    "pile2 = pile()\n",
    "pile3 = pile()"
   ]
  },
  {
   "cell_type": "code",
   "execution_count": 25,
   "metadata": {},
   "outputs": [
    {
     "data": {
      "text/plain": [
       "True"
      ]
     },
     "execution_count": 25,
     "metadata": {},
     "output_type": "execute_result"
    }
   ],
   "source": [
    "# include an item\n",
    "\n",
    "for i in [pile1, pile2, pile3]:\n",
    "    a += i\n",
    "\n",
    "pile1 in a"
   ]
  },
  {
   "cell_type": "code",
   "execution_count": 26,
   "metadata": {},
   "outputs": [
    {
     "data": {
      "text/plain": [
       "3"
      ]
     },
     "execution_count": 26,
     "metadata": {},
     "output_type": "execute_result"
    }
   ],
   "source": [
    "# when including items already included, we ignore them\n",
    "\n",
    "a += pile1\n",
    "len(a)"
   ]
  },
  {
   "cell_type": "code",
   "execution_count": 27,
   "metadata": {},
   "outputs": [
    {
     "data": {
      "text/plain": [
       "False"
      ]
     },
     "execution_count": 27,
     "metadata": {},
     "output_type": "execute_result"
    }
   ],
   "source": [
    "a -= pile1\n",
    "pile1 in a"
   ]
  },
  {
   "cell_type": "code",
   "execution_count": 28,
   "metadata": {},
   "outputs": [
    {
     "data": {
      "text/plain": [
       "2"
      ]
     },
     "execution_count": 28,
     "metadata": {},
     "output_type": "execute_result"
    }
   ],
   "source": [
    "len(a)"
   ]
  },
  {
   "cell_type": "code",
   "execution_count": 29,
   "metadata": {},
   "outputs": [],
   "source": [
    "from lionagi.core.generic import Node"
   ]
  },
  {
   "cell_type": "code",
   "execution_count": 30,
   "metadata": {},
   "outputs": [],
   "source": [
    "node1, node2 = Node(), Node()\n",
    "c, d = pile(node1), pile([node2])\n"
   ]
  },
  {
   "cell_type": "code",
   "execution_count": 31,
   "metadata": {},
   "outputs": [
    {
     "data": {
      "text/plain": [
       "                              ln_id                     created metadata  \\\n",
       "0  8b8e0c3b9a9ed3e5bfb40682340c43f1  2024-05-06T22:12:30.141741       {}   \n",
       "1  cba8cfac97a9f04a5b4a9bba08afa2a5  2024-05-06T22:12:30.141929       {}   \n",
       "\n",
       "  content                                          relations  \\\n",
       "0    None  {'ln_id': 'f52d55c2286451b134b12c21b252478b', ...   \n",
       "1    None                                                NaN   \n",
       "\n",
       "                                               items  item_type  name  \n",
       "0                                                NaN        NaN   NaN  \n",
       "1  {'390c95a25e32656dda47e9db6e50b35d': {'ln_id':...        NaN   NaN  "
      ]
     },
     "execution_count": 31,
     "metadata": {},
     "output_type": "execute_result"
    }
   ],
   "source": [
    "c+d"
   ]
  },
  {
   "cell_type": "code",
   "execution_count": 32,
   "metadata": {},
   "outputs": [
    {
     "data": {
      "text/plain": [
       "                              ln_id                     created metadata  \\\n",
       "0  8b8e0c3b9a9ed3e5bfb40682340c43f1  2024-05-06T22:12:30.141741       {}   \n",
       "\n",
       "  content                                          relations  \n",
       "0    None  {'ln_id': 'f52d55c2286451b134b12c21b252478b', ...  "
      ]
     },
     "execution_count": 32,
     "metadata": {},
     "output_type": "execute_result"
    }
   ],
   "source": [
    "c"
   ]
  },
  {
   "cell_type": "code",
   "execution_count": 33,
   "metadata": {},
   "outputs": [
    {
     "data": {
      "text/plain": [
       "                              ln_id                     created metadata  \\\n",
       "0  8b8e0c3b9a9ed3e5bfb40682340c43f1  2024-05-06T22:12:30.141741       {}   \n",
       "1  cba8cfac97a9f04a5b4a9bba08afa2a5  2024-05-06T22:12:30.141929       {}   \n",
       "\n",
       "  content                                          relations  \\\n",
       "0    None  {'ln_id': 'f52d55c2286451b134b12c21b252478b', ...   \n",
       "1    None                                                NaN   \n",
       "\n",
       "                                               items  item_type  name  \n",
       "0                                                NaN        NaN   NaN  \n",
       "1  {'390c95a25e32656dda47e9db6e50b35d': {'ln_id':...        NaN   NaN  "
      ]
     },
     "execution_count": 33,
     "metadata": {},
     "output_type": "execute_result"
    }
   ],
   "source": [
    "c+d"
   ]
  },
  {
   "cell_type": "code",
   "execution_count": 34,
   "metadata": {},
   "outputs": [
    {
     "data": {
      "text/plain": [
       "[ln_id        8b8e0c3b9a9ed3e5bfb40682340c43f1\n",
       " created            2024-05-06T22:12:30.141741\n",
       " metadata                                   {}\n",
       " content                                  None\n",
       " relations                              [0, 0]\n",
       " dtype: object,\n",
       "                               ln_id                     created metadata  \\\n",
       " 0  390c95a25e32656dda47e9db6e50b35d  2024-05-06T22:12:30.141834       {}   \n",
       " \n",
       "   content                                          relations  \n",
       " 0    None  {'ln_id': 'afe1e203f81aa68abc5a7418913fd0ec', ...  ]"
      ]
     },
     "execution_count": 34,
     "metadata": {},
     "output_type": "execute_result"
    }
   ],
   "source": [
    "(c+d)[:2]"
   ]
  },
  {
   "cell_type": "code",
   "execution_count": 35,
   "metadata": {},
   "outputs": [
    {
     "data": {
      "text/plain": [
       "ln_id        8b8e0c3b9a9ed3e5bfb40682340c43f1\n",
       "created            2024-05-06T22:12:30.141741\n",
       "metadata                                   {}\n",
       "content                                  None\n",
       "relations                              [0, 0]\n",
       "dtype: object"
      ]
     },
     "execution_count": 35,
     "metadata": {},
     "output_type": "execute_result"
    }
   ],
   "source": [
    "c[0]"
   ]
  }
 ],
 "metadata": {
  "kernelspec": {
   "display_name": ".venv",
   "language": "python",
   "name": "python3"
  },
  "language_info": {
   "codemirror_mode": {
    "name": "ipython",
    "version": 3
   },
   "file_extension": ".py",
   "mimetype": "text/x-python",
   "name": "python",
   "nbconvert_exporter": "python",
   "pygments_lexer": "ipython3",
   "version": "3.11.6"
  }
 },
 "nbformat": 4,
 "nbformat_minor": 2
}

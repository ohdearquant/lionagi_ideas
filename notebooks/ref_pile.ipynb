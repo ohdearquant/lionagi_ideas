{
 "cells": [
  {
   "cell_type": "markdown",
   "metadata": {},
   "source": [
    "### LionAGI pile\n",
    "\n",
    "pile object is used throughout lionagi system"
   ]
  },
  {
   "cell_type": "code",
   "execution_count": 1,
   "metadata": {},
   "outputs": [],
   "source": [
    "import lionagi as li"
   ]
  },
  {
   "cell_type": "code",
   "execution_count": 2,
   "metadata": {},
   "outputs": [],
   "source": [
    "# let us create some nodes and put into pile\n",
    "\n",
    "nodes1 = [li.Node(content=i) for i in [\"A\", \"B\", \"C\"]]\n",
    "nodes2 = [li.Node(content=i) for i in [\"D\", \"E\", \"F\"]]\n",
    "\n",
    "p1 = li.pile(nodes1)\n",
    "p2 = li.pile(nodes2)"
   ]
  },
  {
   "cell_type": "code",
   "execution_count": 3,
   "metadata": {},
   "outputs": [
    {
     "data": {
      "text/html": [
       "<div>\n",
       "<style scoped>\n",
       "    .dataframe tbody tr th:only-of-type {\n",
       "        vertical-align: middle;\n",
       "    }\n",
       "\n",
       "    .dataframe tbody tr th {\n",
       "        vertical-align: top;\n",
       "    }\n",
       "\n",
       "    .dataframe thead th {\n",
       "        text-align: right;\n",
       "    }\n",
       "</style>\n",
       "<table border=\"1\" class=\"dataframe\">\n",
       "  <thead>\n",
       "    <tr style=\"text-align: right;\">\n",
       "      <th></th>\n",
       "      <th>ln_id</th>\n",
       "      <th>created</th>\n",
       "      <th>metadata</th>\n",
       "      <th>content</th>\n",
       "      <th>relations</th>\n",
       "    </tr>\n",
       "  </thead>\n",
       "  <tbody>\n",
       "    <tr>\n",
       "      <th>0</th>\n",
       "      <td>969a2a8266462a4a2a12068c6962d577</td>\n",
       "      <td>2024-05-08T15:48:13.115267</td>\n",
       "      <td>{}</td>\n",
       "      <td>A</td>\n",
       "      <td>{'in': {'ln_id': 'f5c8dcc84bdd25ab5a8fb840fbe5...</td>\n",
       "    </tr>\n",
       "    <tr>\n",
       "      <th>1</th>\n",
       "      <td>e6f997a1c82727edbc71084f25333ac5</td>\n",
       "      <td>2024-05-08T15:48:13.115306</td>\n",
       "      <td>{}</td>\n",
       "      <td>B</td>\n",
       "      <td>{'in': {'ln_id': '3ddab81c852743f8649863c51d7c...</td>\n",
       "    </tr>\n",
       "    <tr>\n",
       "      <th>2</th>\n",
       "      <td>ed4fc6ccdbe58cf1f79a00d48e7800bd</td>\n",
       "      <td>2024-05-08T15:48:13.115330</td>\n",
       "      <td>{}</td>\n",
       "      <td>C</td>\n",
       "      <td>{'in': {'ln_id': '87972a098dda8426a25c14776da1...</td>\n",
       "    </tr>\n",
       "  </tbody>\n",
       "</table>\n",
       "</div>"
      ],
      "text/plain": [
       "                              ln_id                     created metadata  \\\n",
       "0  969a2a8266462a4a2a12068c6962d577  2024-05-08T15:48:13.115267       {}   \n",
       "1  e6f997a1c82727edbc71084f25333ac5  2024-05-08T15:48:13.115306       {}   \n",
       "2  ed4fc6ccdbe58cf1f79a00d48e7800bd  2024-05-08T15:48:13.115330       {}   \n",
       "\n",
       "  content                                          relations  \n",
       "0       A  {'in': {'ln_id': 'f5c8dcc84bdd25ab5a8fb840fbe5...  \n",
       "1       B  {'in': {'ln_id': '3ddab81c852743f8649863c51d7c...  \n",
       "2       C  {'in': {'ln_id': '87972a098dda8426a25c14776da1...  "
      ]
     },
     "execution_count": 3,
     "metadata": {},
     "output_type": "execute_result"
    }
   ],
   "source": [
    "p1.to_df()"
   ]
  },
  {
   "cell_type": "code",
   "execution_count": 4,
   "metadata": {},
   "outputs": [
    {
     "data": {
      "text/html": [
       "<div>\n",
       "<style scoped>\n",
       "    .dataframe tbody tr th:only-of-type {\n",
       "        vertical-align: middle;\n",
       "    }\n",
       "\n",
       "    .dataframe tbody tr th {\n",
       "        vertical-align: top;\n",
       "    }\n",
       "\n",
       "    .dataframe thead th {\n",
       "        text-align: right;\n",
       "    }\n",
       "</style>\n",
       "<table border=\"1\" class=\"dataframe\">\n",
       "  <thead>\n",
       "    <tr style=\"text-align: right;\">\n",
       "      <th></th>\n",
       "      <th>ln_id</th>\n",
       "      <th>created</th>\n",
       "      <th>metadata</th>\n",
       "      <th>content</th>\n",
       "      <th>relations</th>\n",
       "    </tr>\n",
       "  </thead>\n",
       "  <tbody>\n",
       "    <tr>\n",
       "      <th>0</th>\n",
       "      <td>969a2a8266462a4a2a12068c6962d577</td>\n",
       "      <td>2024-05-08T15:48:13.115267</td>\n",
       "      <td>{}</td>\n",
       "      <td>A</td>\n",
       "      <td>{'in': {'ln_id': 'f5c8dcc84bdd25ab5a8fb840fbe5...</td>\n",
       "    </tr>\n",
       "    <tr>\n",
       "      <th>1</th>\n",
       "      <td>e6f997a1c82727edbc71084f25333ac5</td>\n",
       "      <td>2024-05-08T15:48:13.115306</td>\n",
       "      <td>{}</td>\n",
       "      <td>B</td>\n",
       "      <td>{'in': {'ln_id': '3ddab81c852743f8649863c51d7c...</td>\n",
       "    </tr>\n",
       "    <tr>\n",
       "      <th>2</th>\n",
       "      <td>ed4fc6ccdbe58cf1f79a00d48e7800bd</td>\n",
       "      <td>2024-05-08T15:48:13.115330</td>\n",
       "      <td>{}</td>\n",
       "      <td>C</td>\n",
       "      <td>{'in': {'ln_id': '87972a098dda8426a25c14776da1...</td>\n",
       "    </tr>\n",
       "    <tr>\n",
       "      <th>3</th>\n",
       "      <td>44089c37091c44e412de3825a3b46ed1</td>\n",
       "      <td>2024-05-08T15:48:13.115374</td>\n",
       "      <td>{}</td>\n",
       "      <td>D</td>\n",
       "      <td>{'in': {'ln_id': 'de33539161911ca28014069fe1a6...</td>\n",
       "    </tr>\n",
       "    <tr>\n",
       "      <th>4</th>\n",
       "      <td>23a10d094e7ee7617fa193a5a9fefdb1</td>\n",
       "      <td>2024-05-08T15:48:13.115397</td>\n",
       "      <td>{}</td>\n",
       "      <td>E</td>\n",
       "      <td>{'in': {'ln_id': '428b4c672cb40fc61e0b62438921...</td>\n",
       "    </tr>\n",
       "    <tr>\n",
       "      <th>5</th>\n",
       "      <td>4145b8ec5c76f8ce04164332c5b219b6</td>\n",
       "      <td>2024-05-08T15:48:13.115419</td>\n",
       "      <td>{}</td>\n",
       "      <td>F</td>\n",
       "      <td>{'in': {'ln_id': '69d15f8f09c771b18854801bcda5...</td>\n",
       "    </tr>\n",
       "  </tbody>\n",
       "</table>\n",
       "</div>"
      ],
      "text/plain": [
       "                              ln_id                     created metadata  \\\n",
       "0  969a2a8266462a4a2a12068c6962d577  2024-05-08T15:48:13.115267       {}   \n",
       "1  e6f997a1c82727edbc71084f25333ac5  2024-05-08T15:48:13.115306       {}   \n",
       "2  ed4fc6ccdbe58cf1f79a00d48e7800bd  2024-05-08T15:48:13.115330       {}   \n",
       "3  44089c37091c44e412de3825a3b46ed1  2024-05-08T15:48:13.115374       {}   \n",
       "4  23a10d094e7ee7617fa193a5a9fefdb1  2024-05-08T15:48:13.115397       {}   \n",
       "5  4145b8ec5c76f8ce04164332c5b219b6  2024-05-08T15:48:13.115419       {}   \n",
       "\n",
       "  content                                          relations  \n",
       "0       A  {'in': {'ln_id': 'f5c8dcc84bdd25ab5a8fb840fbe5...  \n",
       "1       B  {'in': {'ln_id': '3ddab81c852743f8649863c51d7c...  \n",
       "2       C  {'in': {'ln_id': '87972a098dda8426a25c14776da1...  \n",
       "3       D  {'in': {'ln_id': 'de33539161911ca28014069fe1a6...  \n",
       "4       E  {'in': {'ln_id': '428b4c672cb40fc61e0b62438921...  \n",
       "5       F  {'in': {'ln_id': '69d15f8f09c771b18854801bcda5...  "
      ]
     },
     "execution_count": 4,
     "metadata": {},
     "output_type": "execute_result"
    }
   ],
   "source": [
    "## addition\n",
    "\n",
    "(p1 + p2).to_df()"
   ]
  },
  {
   "cell_type": "code",
   "execution_count": 5,
   "metadata": {},
   "outputs": [
    {
     "data": {
      "text/html": [
       "<div>\n",
       "<style scoped>\n",
       "    .dataframe tbody tr th:only-of-type {\n",
       "        vertical-align: middle;\n",
       "    }\n",
       "\n",
       "    .dataframe tbody tr th {\n",
       "        vertical-align: top;\n",
       "    }\n",
       "\n",
       "    .dataframe thead th {\n",
       "        text-align: right;\n",
       "    }\n",
       "</style>\n",
       "<table border=\"1\" class=\"dataframe\">\n",
       "  <thead>\n",
       "    <tr style=\"text-align: right;\">\n",
       "      <th></th>\n",
       "      <th>ln_id</th>\n",
       "      <th>created</th>\n",
       "      <th>metadata</th>\n",
       "      <th>content</th>\n",
       "      <th>relations</th>\n",
       "    </tr>\n",
       "  </thead>\n",
       "  <tbody>\n",
       "    <tr>\n",
       "      <th>0</th>\n",
       "      <td>969a2a8266462a4a2a12068c6962d577</td>\n",
       "      <td>2024-05-08T15:48:13.115267</td>\n",
       "      <td>{}</td>\n",
       "      <td>A</td>\n",
       "      <td>{'in': {'ln_id': 'f5c8dcc84bdd25ab5a8fb840fbe5...</td>\n",
       "    </tr>\n",
       "    <tr>\n",
       "      <th>1</th>\n",
       "      <td>e6f997a1c82727edbc71084f25333ac5</td>\n",
       "      <td>2024-05-08T15:48:13.115306</td>\n",
       "      <td>{}</td>\n",
       "      <td>B</td>\n",
       "      <td>{'in': {'ln_id': '3ddab81c852743f8649863c51d7c...</td>\n",
       "    </tr>\n",
       "    <tr>\n",
       "      <th>2</th>\n",
       "      <td>ed4fc6ccdbe58cf1f79a00d48e7800bd</td>\n",
       "      <td>2024-05-08T15:48:13.115330</td>\n",
       "      <td>{}</td>\n",
       "      <td>C</td>\n",
       "      <td>{'in': {'ln_id': '87972a098dda8426a25c14776da1...</td>\n",
       "    </tr>\n",
       "  </tbody>\n",
       "</table>\n",
       "</div>"
      ],
      "text/plain": [
       "                              ln_id                     created metadata  \\\n",
       "0  969a2a8266462a4a2a12068c6962d577  2024-05-08T15:48:13.115267       {}   \n",
       "1  e6f997a1c82727edbc71084f25333ac5  2024-05-08T15:48:13.115306       {}   \n",
       "2  ed4fc6ccdbe58cf1f79a00d48e7800bd  2024-05-08T15:48:13.115330       {}   \n",
       "\n",
       "  content                                          relations  \n",
       "0       A  {'in': {'ln_id': 'f5c8dcc84bdd25ab5a8fb840fbe5...  \n",
       "1       B  {'in': {'ln_id': '3ddab81c852743f8649863c51d7c...  \n",
       "2       C  {'in': {'ln_id': '87972a098dda8426a25c14776da1...  "
      ]
     },
     "execution_count": 5,
     "metadata": {},
     "output_type": "execute_result"
    }
   ],
   "source": [
    "p1.to_df()"
   ]
  },
  {
   "cell_type": "code",
   "execution_count": 6,
   "metadata": {},
   "outputs": [
    {
     "name": "stdout",
     "output_type": "stream",
     "text": [
      "Item not found. Item: '                              ln_id                     created metadata  \\\n",
      "0  44089c37091c44e412de3825a3b46ed1  2024-05-08T15:48:13.115374       {}   \n",
      "1  23a10d094e7ee7617fa193a5a9fefdb1  2024-05-08T15:48:13.115397       {}   \n",
      "2  4145b8ec5c76f8ce04164332c5b219b6  2024-05-08T15:48:13.115419       {}   \n",
      "\n",
      "  content                                          relations  \n",
      "0       D  {'in': {'ln_id': 'de33539161911ca28014069fe1a6...  \n",
      "1       E  {'in': {'ln_id': '428b4c672cb40fc61e0b62438921...  \n",
      "2       F  {'in': {'ln_id': '69d15f8f09c771b18854801bcda5...  '.\n"
     ]
    }
   ],
   "source": [
    "## subtraction\n",
    "\n",
    "try:\n",
    "    (p1-p2).to_df()\n",
    "except Exception as e:\n",
    "    print(e)"
   ]
  },
  {
   "cell_type": "code",
   "execution_count": 7,
   "metadata": {},
   "outputs": [
    {
     "data": {
      "text/plain": [
       "False"
      ]
     },
     "execution_count": 7,
     "metadata": {},
     "output_type": "execute_result"
    }
   ],
   "source": [
    "## containment\n",
    "\n",
    "p1 in p2"
   ]
  },
  {
   "cell_type": "code",
   "execution_count": 8,
   "metadata": {},
   "outputs": [
    {
     "name": "stdout",
     "output_type": "stream",
     "text": [
      "True\n"
     ]
    },
    {
     "data": {
      "text/html": [
       "<div>\n",
       "<style scoped>\n",
       "    .dataframe tbody tr th:only-of-type {\n",
       "        vertical-align: middle;\n",
       "    }\n",
       "\n",
       "    .dataframe tbody tr th {\n",
       "        vertical-align: top;\n",
       "    }\n",
       "\n",
       "    .dataframe thead th {\n",
       "        text-align: right;\n",
       "    }\n",
       "</style>\n",
       "<table border=\"1\" class=\"dataframe\">\n",
       "  <thead>\n",
       "    <tr style=\"text-align: right;\">\n",
       "      <th></th>\n",
       "      <th>ln_id</th>\n",
       "      <th>created</th>\n",
       "      <th>metadata</th>\n",
       "      <th>content</th>\n",
       "      <th>relations</th>\n",
       "    </tr>\n",
       "  </thead>\n",
       "  <tbody>\n",
       "    <tr>\n",
       "      <th>0</th>\n",
       "      <td>969a2a8266462a4a2a12068c6962d577</td>\n",
       "      <td>2024-05-08T15:48:13.115267</td>\n",
       "      <td>{}</td>\n",
       "      <td>A</td>\n",
       "      <td>{'in': {'ln_id': 'f5c8dcc84bdd25ab5a8fb840fbe5...</td>\n",
       "    </tr>\n",
       "    <tr>\n",
       "      <th>1</th>\n",
       "      <td>e6f997a1c82727edbc71084f25333ac5</td>\n",
       "      <td>2024-05-08T15:48:13.115306</td>\n",
       "      <td>{}</td>\n",
       "      <td>B</td>\n",
       "      <td>{'in': {'ln_id': '3ddab81c852743f8649863c51d7c...</td>\n",
       "    </tr>\n",
       "    <tr>\n",
       "      <th>2</th>\n",
       "      <td>ed4fc6ccdbe58cf1f79a00d48e7800bd</td>\n",
       "      <td>2024-05-08T15:48:13.115330</td>\n",
       "      <td>{}</td>\n",
       "      <td>C</td>\n",
       "      <td>{'in': {'ln_id': '87972a098dda8426a25c14776da1...</td>\n",
       "    </tr>\n",
       "    <tr>\n",
       "      <th>3</th>\n",
       "      <td>44089c37091c44e412de3825a3b46ed1</td>\n",
       "      <td>2024-05-08T15:48:13.115374</td>\n",
       "      <td>{}</td>\n",
       "      <td>D</td>\n",
       "      <td>{'in': {'ln_id': 'de33539161911ca28014069fe1a6...</td>\n",
       "    </tr>\n",
       "    <tr>\n",
       "      <th>4</th>\n",
       "      <td>23a10d094e7ee7617fa193a5a9fefdb1</td>\n",
       "      <td>2024-05-08T15:48:13.115397</td>\n",
       "      <td>{}</td>\n",
       "      <td>E</td>\n",
       "      <td>{'in': {'ln_id': '428b4c672cb40fc61e0b62438921...</td>\n",
       "    </tr>\n",
       "    <tr>\n",
       "      <th>5</th>\n",
       "      <td>4145b8ec5c76f8ce04164332c5b219b6</td>\n",
       "      <td>2024-05-08T15:48:13.115419</td>\n",
       "      <td>{}</td>\n",
       "      <td>F</td>\n",
       "      <td>{'in': {'ln_id': '69d15f8f09c771b18854801bcda5...</td>\n",
       "    </tr>\n",
       "  </tbody>\n",
       "</table>\n",
       "</div>"
      ],
      "text/plain": [
       "                              ln_id                     created metadata  \\\n",
       "0  969a2a8266462a4a2a12068c6962d577  2024-05-08T15:48:13.115267       {}   \n",
       "1  e6f997a1c82727edbc71084f25333ac5  2024-05-08T15:48:13.115306       {}   \n",
       "2  ed4fc6ccdbe58cf1f79a00d48e7800bd  2024-05-08T15:48:13.115330       {}   \n",
       "3  44089c37091c44e412de3825a3b46ed1  2024-05-08T15:48:13.115374       {}   \n",
       "4  23a10d094e7ee7617fa193a5a9fefdb1  2024-05-08T15:48:13.115397       {}   \n",
       "5  4145b8ec5c76f8ce04164332c5b219b6  2024-05-08T15:48:13.115419       {}   \n",
       "\n",
       "  content                                          relations  \n",
       "0       A  {'in': {'ln_id': 'f5c8dcc84bdd25ab5a8fb840fbe5...  \n",
       "1       B  {'in': {'ln_id': '3ddab81c852743f8649863c51d7c...  \n",
       "2       C  {'in': {'ln_id': '87972a098dda8426a25c14776da1...  \n",
       "3       D  {'in': {'ln_id': 'de33539161911ca28014069fe1a6...  \n",
       "4       E  {'in': {'ln_id': '428b4c672cb40fc61e0b62438921...  \n",
       "5       F  {'in': {'ln_id': '69d15f8f09c771b18854801bcda5...  "
      ]
     },
     "execution_count": 8,
     "metadata": {},
     "output_type": "execute_result"
    }
   ],
   "source": [
    "## inclusion\n",
    "\n",
    "print(p1.include(p2))\n",
    "p1.to_df()"
   ]
  },
  {
   "cell_type": "code",
   "execution_count": 9,
   "metadata": {},
   "outputs": [
    {
     "name": "stdout",
     "output_type": "stream",
     "text": [
      "True\n"
     ]
    },
    {
     "data": {
      "text/html": [
       "<div>\n",
       "<style scoped>\n",
       "    .dataframe tbody tr th:only-of-type {\n",
       "        vertical-align: middle;\n",
       "    }\n",
       "\n",
       "    .dataframe tbody tr th {\n",
       "        vertical-align: top;\n",
       "    }\n",
       "\n",
       "    .dataframe thead th {\n",
       "        text-align: right;\n",
       "    }\n",
       "</style>\n",
       "<table border=\"1\" class=\"dataframe\">\n",
       "  <thead>\n",
       "    <tr style=\"text-align: right;\">\n",
       "      <th></th>\n",
       "      <th>ln_id</th>\n",
       "      <th>created</th>\n",
       "      <th>metadata</th>\n",
       "      <th>content</th>\n",
       "      <th>relations</th>\n",
       "    </tr>\n",
       "  </thead>\n",
       "  <tbody>\n",
       "    <tr>\n",
       "      <th>0</th>\n",
       "      <td>969a2a8266462a4a2a12068c6962d577</td>\n",
       "      <td>2024-05-08T15:48:13.115267</td>\n",
       "      <td>{}</td>\n",
       "      <td>A</td>\n",
       "      <td>{'in': {'ln_id': 'f5c8dcc84bdd25ab5a8fb840fbe5...</td>\n",
       "    </tr>\n",
       "    <tr>\n",
       "      <th>1</th>\n",
       "      <td>e6f997a1c82727edbc71084f25333ac5</td>\n",
       "      <td>2024-05-08T15:48:13.115306</td>\n",
       "      <td>{}</td>\n",
       "      <td>B</td>\n",
       "      <td>{'in': {'ln_id': '3ddab81c852743f8649863c51d7c...</td>\n",
       "    </tr>\n",
       "    <tr>\n",
       "      <th>2</th>\n",
       "      <td>ed4fc6ccdbe58cf1f79a00d48e7800bd</td>\n",
       "      <td>2024-05-08T15:48:13.115330</td>\n",
       "      <td>{}</td>\n",
       "      <td>C</td>\n",
       "      <td>{'in': {'ln_id': '87972a098dda8426a25c14776da1...</td>\n",
       "    </tr>\n",
       "    <tr>\n",
       "      <th>3</th>\n",
       "      <td>23a10d094e7ee7617fa193a5a9fefdb1</td>\n",
       "      <td>2024-05-08T15:48:13.115397</td>\n",
       "      <td>{}</td>\n",
       "      <td>E</td>\n",
       "      <td>{'in': {'ln_id': '428b4c672cb40fc61e0b62438921...</td>\n",
       "    </tr>\n",
       "    <tr>\n",
       "      <th>4</th>\n",
       "      <td>4145b8ec5c76f8ce04164332c5b219b6</td>\n",
       "      <td>2024-05-08T15:48:13.115419</td>\n",
       "      <td>{}</td>\n",
       "      <td>F</td>\n",
       "      <td>{'in': {'ln_id': '69d15f8f09c771b18854801bcda5...</td>\n",
       "    </tr>\n",
       "  </tbody>\n",
       "</table>\n",
       "</div>"
      ],
      "text/plain": [
       "                              ln_id                     created metadata  \\\n",
       "0  969a2a8266462a4a2a12068c6962d577  2024-05-08T15:48:13.115267       {}   \n",
       "1  e6f997a1c82727edbc71084f25333ac5  2024-05-08T15:48:13.115306       {}   \n",
       "2  ed4fc6ccdbe58cf1f79a00d48e7800bd  2024-05-08T15:48:13.115330       {}   \n",
       "3  23a10d094e7ee7617fa193a5a9fefdb1  2024-05-08T15:48:13.115397       {}   \n",
       "4  4145b8ec5c76f8ce04164332c5b219b6  2024-05-08T15:48:13.115419       {}   \n",
       "\n",
       "  content                                          relations  \n",
       "0       A  {'in': {'ln_id': 'f5c8dcc84bdd25ab5a8fb840fbe5...  \n",
       "1       B  {'in': {'ln_id': '3ddab81c852743f8649863c51d7c...  \n",
       "2       C  {'in': {'ln_id': '87972a098dda8426a25c14776da1...  \n",
       "3       E  {'in': {'ln_id': '428b4c672cb40fc61e0b62438921...  \n",
       "4       F  {'in': {'ln_id': '69d15f8f09c771b18854801bcda5...  "
      ]
     },
     "execution_count": 9,
     "metadata": {},
     "output_type": "execute_result"
    }
   ],
   "source": [
    "## exclusion\n",
    "\n",
    "print(p1.exclude(p2))\n",
    "p1.to_df()"
   ]
  },
  {
   "cell_type": "code",
   "execution_count": 10,
   "metadata": {},
   "outputs": [
    {
     "data": {
      "text/plain": [
       "ln_id        44089c37091c44e412de3825a3b46ed1\n",
       "created            2024-05-08T15:48:13.115374\n",
       "metadata                                   {}\n",
       "content                                     D\n",
       "relations                              [0, 0]\n",
       "dtype: object"
      ]
     },
     "execution_count": 10,
     "metadata": {},
     "output_type": "execute_result"
    }
   ],
   "source": [
    "## get item\n",
    "\n",
    "aa = p2[0]\n",
    "aa"
   ]
  },
  {
   "cell_type": "code",
   "execution_count": 11,
   "metadata": {},
   "outputs": [
    {
     "data": {
      "text/html": [
       "<div>\n",
       "<style scoped>\n",
       "    .dataframe tbody tr th:only-of-type {\n",
       "        vertical-align: middle;\n",
       "    }\n",
       "\n",
       "    .dataframe tbody tr th {\n",
       "        vertical-align: top;\n",
       "    }\n",
       "\n",
       "    .dataframe thead th {\n",
       "        text-align: right;\n",
       "    }\n",
       "</style>\n",
       "<table border=\"1\" class=\"dataframe\">\n",
       "  <thead>\n",
       "    <tr style=\"text-align: right;\">\n",
       "      <th></th>\n",
       "      <th>ln_id</th>\n",
       "      <th>created</th>\n",
       "      <th>metadata</th>\n",
       "      <th>content</th>\n",
       "      <th>relations</th>\n",
       "    </tr>\n",
       "  </thead>\n",
       "  <tbody>\n",
       "    <tr>\n",
       "      <th>0</th>\n",
       "      <td>c2bbd75960d26954d5b3f5c0f29fb50e</td>\n",
       "      <td>2024-05-08T15:48:13.201606</td>\n",
       "      <td>{}</td>\n",
       "      <td>have a good day</td>\n",
       "      <td>{'in': {'ln_id': '7c165c20314f8fce37eeb6d9ed78...</td>\n",
       "    </tr>\n",
       "    <tr>\n",
       "      <th>1</th>\n",
       "      <td>e6f997a1c82727edbc71084f25333ac5</td>\n",
       "      <td>2024-05-08T15:48:13.115306</td>\n",
       "      <td>{}</td>\n",
       "      <td>B</td>\n",
       "      <td>{'in': {'ln_id': '3ddab81c852743f8649863c51d7c...</td>\n",
       "    </tr>\n",
       "    <tr>\n",
       "      <th>2</th>\n",
       "      <td>ed4fc6ccdbe58cf1f79a00d48e7800bd</td>\n",
       "      <td>2024-05-08T15:48:13.115330</td>\n",
       "      <td>{}</td>\n",
       "      <td>C</td>\n",
       "      <td>{'in': {'ln_id': '87972a098dda8426a25c14776da1...</td>\n",
       "    </tr>\n",
       "    <tr>\n",
       "      <th>3</th>\n",
       "      <td>23a10d094e7ee7617fa193a5a9fefdb1</td>\n",
       "      <td>2024-05-08T15:48:13.115397</td>\n",
       "      <td>{}</td>\n",
       "      <td>E</td>\n",
       "      <td>{'in': {'ln_id': '428b4c672cb40fc61e0b62438921...</td>\n",
       "    </tr>\n",
       "    <tr>\n",
       "      <th>4</th>\n",
       "      <td>4145b8ec5c76f8ce04164332c5b219b6</td>\n",
       "      <td>2024-05-08T15:48:13.115419</td>\n",
       "      <td>{}</td>\n",
       "      <td>F</td>\n",
       "      <td>{'in': {'ln_id': '69d15f8f09c771b18854801bcda5...</td>\n",
       "    </tr>\n",
       "  </tbody>\n",
       "</table>\n",
       "</div>"
      ],
      "text/plain": [
       "                              ln_id                     created metadata  \\\n",
       "0  c2bbd75960d26954d5b3f5c0f29fb50e  2024-05-08T15:48:13.201606       {}   \n",
       "1  e6f997a1c82727edbc71084f25333ac5  2024-05-08T15:48:13.115306       {}   \n",
       "2  ed4fc6ccdbe58cf1f79a00d48e7800bd  2024-05-08T15:48:13.115330       {}   \n",
       "3  23a10d094e7ee7617fa193a5a9fefdb1  2024-05-08T15:48:13.115397       {}   \n",
       "4  4145b8ec5c76f8ce04164332c5b219b6  2024-05-08T15:48:13.115419       {}   \n",
       "\n",
       "           content                                          relations  \n",
       "0  have a good day  {'in': {'ln_id': '7c165c20314f8fce37eeb6d9ed78...  \n",
       "1                B  {'in': {'ln_id': '3ddab81c852743f8649863c51d7c...  \n",
       "2                C  {'in': {'ln_id': '87972a098dda8426a25c14776da1...  \n",
       "3                E  {'in': {'ln_id': '428b4c672cb40fc61e0b62438921...  \n",
       "4                F  {'in': {'ln_id': '69d15f8f09c771b18854801bcda5...  "
      ]
     },
     "execution_count": 11,
     "metadata": {},
     "output_type": "execute_result"
    }
   ],
   "source": [
    "## set item\n",
    "\n",
    "p1[0] = li.Node(content=\"have a good day\")\n",
    "p1.to_df()"
   ]
  },
  {
   "cell_type": "code",
   "execution_count": 12,
   "metadata": {},
   "outputs": [],
   "source": [
    "# p1[:4] = li.pile([li.Node(content=\"have a good day\") for i in range(4)])"
   ]
  },
  {
   "cell_type": "code",
   "execution_count": 13,
   "metadata": {},
   "outputs": [],
   "source": [
    "p1.insert(0, li.Node(content=\"have a good day\"))"
   ]
  },
  {
   "cell_type": "code",
   "execution_count": 14,
   "metadata": {},
   "outputs": [
    {
     "data": {
      "text/html": [
       "<div>\n",
       "<style scoped>\n",
       "    .dataframe tbody tr th:only-of-type {\n",
       "        vertical-align: middle;\n",
       "    }\n",
       "\n",
       "    .dataframe tbody tr th {\n",
       "        vertical-align: top;\n",
       "    }\n",
       "\n",
       "    .dataframe thead th {\n",
       "        text-align: right;\n",
       "    }\n",
       "</style>\n",
       "<table border=\"1\" class=\"dataframe\">\n",
       "  <thead>\n",
       "    <tr style=\"text-align: right;\">\n",
       "      <th></th>\n",
       "      <th>ln_id</th>\n",
       "      <th>created</th>\n",
       "      <th>metadata</th>\n",
       "      <th>content</th>\n",
       "      <th>relations</th>\n",
       "    </tr>\n",
       "  </thead>\n",
       "  <tbody>\n",
       "    <tr>\n",
       "      <th>0</th>\n",
       "      <td>45f5a0db21fa5df1123209f2d0c1ba23</td>\n",
       "      <td>2024-05-08T15:48:13.214495</td>\n",
       "      <td>{}</td>\n",
       "      <td>have a good day</td>\n",
       "      <td>{'in': {'ln_id': '323907231385698e6c2bac859c8c...</td>\n",
       "    </tr>\n",
       "    <tr>\n",
       "      <th>1</th>\n",
       "      <td>c2bbd75960d26954d5b3f5c0f29fb50e</td>\n",
       "      <td>2024-05-08T15:48:13.201606</td>\n",
       "      <td>{}</td>\n",
       "      <td>have a good day</td>\n",
       "      <td>{'in': {'ln_id': '7c165c20314f8fce37eeb6d9ed78...</td>\n",
       "    </tr>\n",
       "    <tr>\n",
       "      <th>2</th>\n",
       "      <td>e6f997a1c82727edbc71084f25333ac5</td>\n",
       "      <td>2024-05-08T15:48:13.115306</td>\n",
       "      <td>{}</td>\n",
       "      <td>B</td>\n",
       "      <td>{'in': {'ln_id': '3ddab81c852743f8649863c51d7c...</td>\n",
       "    </tr>\n",
       "    <tr>\n",
       "      <th>3</th>\n",
       "      <td>ed4fc6ccdbe58cf1f79a00d48e7800bd</td>\n",
       "      <td>2024-05-08T15:48:13.115330</td>\n",
       "      <td>{}</td>\n",
       "      <td>C</td>\n",
       "      <td>{'in': {'ln_id': '87972a098dda8426a25c14776da1...</td>\n",
       "    </tr>\n",
       "    <tr>\n",
       "      <th>4</th>\n",
       "      <td>23a10d094e7ee7617fa193a5a9fefdb1</td>\n",
       "      <td>2024-05-08T15:48:13.115397</td>\n",
       "      <td>{}</td>\n",
       "      <td>E</td>\n",
       "      <td>{'in': {'ln_id': '428b4c672cb40fc61e0b62438921...</td>\n",
       "    </tr>\n",
       "    <tr>\n",
       "      <th>5</th>\n",
       "      <td>4145b8ec5c76f8ce04164332c5b219b6</td>\n",
       "      <td>2024-05-08T15:48:13.115419</td>\n",
       "      <td>{}</td>\n",
       "      <td>F</td>\n",
       "      <td>{'in': {'ln_id': '69d15f8f09c771b18854801bcda5...</td>\n",
       "    </tr>\n",
       "  </tbody>\n",
       "</table>\n",
       "</div>"
      ],
      "text/plain": [
       "                              ln_id                     created metadata  \\\n",
       "0  45f5a0db21fa5df1123209f2d0c1ba23  2024-05-08T15:48:13.214495       {}   \n",
       "1  c2bbd75960d26954d5b3f5c0f29fb50e  2024-05-08T15:48:13.201606       {}   \n",
       "2  e6f997a1c82727edbc71084f25333ac5  2024-05-08T15:48:13.115306       {}   \n",
       "3  ed4fc6ccdbe58cf1f79a00d48e7800bd  2024-05-08T15:48:13.115330       {}   \n",
       "4  23a10d094e7ee7617fa193a5a9fefdb1  2024-05-08T15:48:13.115397       {}   \n",
       "5  4145b8ec5c76f8ce04164332c5b219b6  2024-05-08T15:48:13.115419       {}   \n",
       "\n",
       "           content                                          relations  \n",
       "0  have a good day  {'in': {'ln_id': '323907231385698e6c2bac859c8c...  \n",
       "1  have a good day  {'in': {'ln_id': '7c165c20314f8fce37eeb6d9ed78...  \n",
       "2                B  {'in': {'ln_id': '3ddab81c852743f8649863c51d7c...  \n",
       "3                C  {'in': {'ln_id': '87972a098dda8426a25c14776da1...  \n",
       "4                E  {'in': {'ln_id': '428b4c672cb40fc61e0b62438921...  \n",
       "5                F  {'in': {'ln_id': '69d15f8f09c771b18854801bcda5...  "
      ]
     },
     "execution_count": 14,
     "metadata": {},
     "output_type": "execute_result"
    }
   ],
   "source": [
    "p1.to_df()"
   ]
  },
  {
   "cell_type": "code",
   "execution_count": 15,
   "metadata": {},
   "outputs": [
    {
     "data": {
      "text/html": [
       "<div>\n",
       "<style scoped>\n",
       "    .dataframe tbody tr th:only-of-type {\n",
       "        vertical-align: middle;\n",
       "    }\n",
       "\n",
       "    .dataframe tbody tr th {\n",
       "        vertical-align: top;\n",
       "    }\n",
       "\n",
       "    .dataframe thead th {\n",
       "        text-align: right;\n",
       "    }\n",
       "</style>\n",
       "<table border=\"1\" class=\"dataframe\">\n",
       "  <thead>\n",
       "    <tr style=\"text-align: right;\">\n",
       "      <th></th>\n",
       "      <th>ln_id</th>\n",
       "      <th>created</th>\n",
       "      <th>metadata</th>\n",
       "      <th>content</th>\n",
       "      <th>relations</th>\n",
       "    </tr>\n",
       "  </thead>\n",
       "  <tbody>\n",
       "    <tr>\n",
       "      <th>0</th>\n",
       "      <td>45f5a0db21fa5df1123209f2d0c1ba23</td>\n",
       "      <td>2024-05-08T15:48:13.214495</td>\n",
       "      <td>{}</td>\n",
       "      <td>have a good day</td>\n",
       "      <td>{'in': {'ln_id': '323907231385698e6c2bac859c8c...</td>\n",
       "    </tr>\n",
       "    <tr>\n",
       "      <th>1</th>\n",
       "      <td>c2bbd75960d26954d5b3f5c0f29fb50e</td>\n",
       "      <td>2024-05-08T15:48:13.201606</td>\n",
       "      <td>{}</td>\n",
       "      <td>have a good day</td>\n",
       "      <td>{'in': {'ln_id': '7c165c20314f8fce37eeb6d9ed78...</td>\n",
       "    </tr>\n",
       "    <tr>\n",
       "      <th>2</th>\n",
       "      <td>e6f997a1c82727edbc71084f25333ac5</td>\n",
       "      <td>2024-05-08T15:48:13.115306</td>\n",
       "      <td>{}</td>\n",
       "      <td>B</td>\n",
       "      <td>{'in': {'ln_id': '3ddab81c852743f8649863c51d7c...</td>\n",
       "    </tr>\n",
       "    <tr>\n",
       "      <th>3</th>\n",
       "      <td>ed4fc6ccdbe58cf1f79a00d48e7800bd</td>\n",
       "      <td>2024-05-08T15:48:13.115330</td>\n",
       "      <td>{}</td>\n",
       "      <td>C</td>\n",
       "      <td>{'in': {'ln_id': '87972a098dda8426a25c14776da1...</td>\n",
       "    </tr>\n",
       "    <tr>\n",
       "      <th>4</th>\n",
       "      <td>23a10d094e7ee7617fa193a5a9fefdb1</td>\n",
       "      <td>2024-05-08T15:48:13.115397</td>\n",
       "      <td>{}</td>\n",
       "      <td>E</td>\n",
       "      <td>{'in': {'ln_id': '428b4c672cb40fc61e0b62438921...</td>\n",
       "    </tr>\n",
       "    <tr>\n",
       "      <th>5</th>\n",
       "      <td>4145b8ec5c76f8ce04164332c5b219b6</td>\n",
       "      <td>2024-05-08T15:48:13.115419</td>\n",
       "      <td>{}</td>\n",
       "      <td>F</td>\n",
       "      <td>{'in': {'ln_id': '69d15f8f09c771b18854801bcda5...</td>\n",
       "    </tr>\n",
       "    <tr>\n",
       "      <th>6</th>\n",
       "      <td>019a7cbb3c4c8a0d8167abd7a149237b</td>\n",
       "      <td>2024-05-08T15:48:13.227713</td>\n",
       "      <td>{}</td>\n",
       "      <td>hello world</td>\n",
       "      <td>{'in': {'ln_id': 'f5b7667dfe8f3c46fa918db9b039...</td>\n",
       "    </tr>\n",
       "  </tbody>\n",
       "</table>\n",
       "</div>"
      ],
      "text/plain": [
       "                              ln_id                     created metadata  \\\n",
       "0  45f5a0db21fa5df1123209f2d0c1ba23  2024-05-08T15:48:13.214495       {}   \n",
       "1  c2bbd75960d26954d5b3f5c0f29fb50e  2024-05-08T15:48:13.201606       {}   \n",
       "2  e6f997a1c82727edbc71084f25333ac5  2024-05-08T15:48:13.115306       {}   \n",
       "3  ed4fc6ccdbe58cf1f79a00d48e7800bd  2024-05-08T15:48:13.115330       {}   \n",
       "4  23a10d094e7ee7617fa193a5a9fefdb1  2024-05-08T15:48:13.115397       {}   \n",
       "5  4145b8ec5c76f8ce04164332c5b219b6  2024-05-08T15:48:13.115419       {}   \n",
       "6  019a7cbb3c4c8a0d8167abd7a149237b  2024-05-08T15:48:13.227713       {}   \n",
       "\n",
       "           content                                          relations  \n",
       "0  have a good day  {'in': {'ln_id': '323907231385698e6c2bac859c8c...  \n",
       "1  have a good day  {'in': {'ln_id': '7c165c20314f8fce37eeb6d9ed78...  \n",
       "2                B  {'in': {'ln_id': '3ddab81c852743f8649863c51d7c...  \n",
       "3                C  {'in': {'ln_id': '87972a098dda8426a25c14776da1...  \n",
       "4                E  {'in': {'ln_id': '428b4c672cb40fc61e0b62438921...  \n",
       "5                F  {'in': {'ln_id': '69d15f8f09c771b18854801bcda5...  \n",
       "6      hello world  {'in': {'ln_id': 'f5b7667dfe8f3c46fa918db9b039...  "
      ]
     },
     "execution_count": 15,
     "metadata": {},
     "output_type": "execute_result"
    }
   ],
   "source": [
    "## other\n",
    "node = li.Node(content=\"hello world\")\n",
    "p1 += node\n",
    "p1.to_df()"
   ]
  },
  {
   "cell_type": "code",
   "execution_count": 16,
   "metadata": {},
   "outputs": [
    {
     "data": {
      "text/html": [
       "<div>\n",
       "<style scoped>\n",
       "    .dataframe tbody tr th:only-of-type {\n",
       "        vertical-align: middle;\n",
       "    }\n",
       "\n",
       "    .dataframe tbody tr th {\n",
       "        vertical-align: top;\n",
       "    }\n",
       "\n",
       "    .dataframe thead th {\n",
       "        text-align: right;\n",
       "    }\n",
       "</style>\n",
       "<table border=\"1\" class=\"dataframe\">\n",
       "  <thead>\n",
       "    <tr style=\"text-align: right;\">\n",
       "      <th></th>\n",
       "      <th>ln_id</th>\n",
       "      <th>created</th>\n",
       "      <th>metadata</th>\n",
       "      <th>content</th>\n",
       "      <th>relations</th>\n",
       "    </tr>\n",
       "  </thead>\n",
       "  <tbody>\n",
       "    <tr>\n",
       "      <th>0</th>\n",
       "      <td>45f5a0db21fa5df1123209f2d0c1ba23</td>\n",
       "      <td>2024-05-08T15:48:13.214495</td>\n",
       "      <td>{}</td>\n",
       "      <td>have a good day</td>\n",
       "      <td>{'in': {'ln_id': '323907231385698e6c2bac859c8c...</td>\n",
       "    </tr>\n",
       "    <tr>\n",
       "      <th>1</th>\n",
       "      <td>c2bbd75960d26954d5b3f5c0f29fb50e</td>\n",
       "      <td>2024-05-08T15:48:13.201606</td>\n",
       "      <td>{}</td>\n",
       "      <td>have a good day</td>\n",
       "      <td>{'in': {'ln_id': '7c165c20314f8fce37eeb6d9ed78...</td>\n",
       "    </tr>\n",
       "    <tr>\n",
       "      <th>2</th>\n",
       "      <td>ed4fc6ccdbe58cf1f79a00d48e7800bd</td>\n",
       "      <td>2024-05-08T15:48:13.115330</td>\n",
       "      <td>{}</td>\n",
       "      <td>C</td>\n",
       "      <td>{'in': {'ln_id': '87972a098dda8426a25c14776da1...</td>\n",
       "    </tr>\n",
       "    <tr>\n",
       "      <th>3</th>\n",
       "      <td>23a10d094e7ee7617fa193a5a9fefdb1</td>\n",
       "      <td>2024-05-08T15:48:13.115397</td>\n",
       "      <td>{}</td>\n",
       "      <td>E</td>\n",
       "      <td>{'in': {'ln_id': '428b4c672cb40fc61e0b62438921...</td>\n",
       "    </tr>\n",
       "    <tr>\n",
       "      <th>4</th>\n",
       "      <td>4145b8ec5c76f8ce04164332c5b219b6</td>\n",
       "      <td>2024-05-08T15:48:13.115419</td>\n",
       "      <td>{}</td>\n",
       "      <td>F</td>\n",
       "      <td>{'in': {'ln_id': '69d15f8f09c771b18854801bcda5...</td>\n",
       "    </tr>\n",
       "    <tr>\n",
       "      <th>5</th>\n",
       "      <td>019a7cbb3c4c8a0d8167abd7a149237b</td>\n",
       "      <td>2024-05-08T15:48:13.227713</td>\n",
       "      <td>{}</td>\n",
       "      <td>hello world</td>\n",
       "      <td>{'in': {'ln_id': 'f5b7667dfe8f3c46fa918db9b039...</td>\n",
       "    </tr>\n",
       "  </tbody>\n",
       "</table>\n",
       "</div>"
      ],
      "text/plain": [
       "                              ln_id                     created metadata  \\\n",
       "0  45f5a0db21fa5df1123209f2d0c1ba23  2024-05-08T15:48:13.214495       {}   \n",
       "1  c2bbd75960d26954d5b3f5c0f29fb50e  2024-05-08T15:48:13.201606       {}   \n",
       "2  ed4fc6ccdbe58cf1f79a00d48e7800bd  2024-05-08T15:48:13.115330       {}   \n",
       "3  23a10d094e7ee7617fa193a5a9fefdb1  2024-05-08T15:48:13.115397       {}   \n",
       "4  4145b8ec5c76f8ce04164332c5b219b6  2024-05-08T15:48:13.115419       {}   \n",
       "5  019a7cbb3c4c8a0d8167abd7a149237b  2024-05-08T15:48:13.227713       {}   \n",
       "\n",
       "           content                                          relations  \n",
       "0  have a good day  {'in': {'ln_id': '323907231385698e6c2bac859c8c...  \n",
       "1  have a good day  {'in': {'ln_id': '7c165c20314f8fce37eeb6d9ed78...  \n",
       "2                C  {'in': {'ln_id': '87972a098dda8426a25c14776da1...  \n",
       "3                E  {'in': {'ln_id': '428b4c672cb40fc61e0b62438921...  \n",
       "4                F  {'in': {'ln_id': '69d15f8f09c771b18854801bcda5...  \n",
       "5      hello world  {'in': {'ln_id': 'f5b7667dfe8f3c46fa918db9b039...  "
      ]
     },
     "execution_count": 16,
     "metadata": {},
     "output_type": "execute_result"
    }
   ],
   "source": [
    "p1 -= nodes1[1]\n",
    "p1.to_df()"
   ]
  },
  {
   "cell_type": "code",
   "execution_count": 17,
   "metadata": {},
   "outputs": [
    {
     "data": {
      "text/plain": [
       "False"
      ]
     },
     "execution_count": 17,
     "metadata": {},
     "output_type": "execute_result"
    }
   ],
   "source": [
    "nodes1[1] in p1"
   ]
  },
  {
   "cell_type": "code",
   "execution_count": 18,
   "metadata": {},
   "outputs": [
    {
     "name": "stdout",
     "output_type": "stream",
     "text": [
      "Item not found. Item: 'ln_id        e6f997a1c82727edbc71084f25333ac5\n",
      "created            2024-05-08T15:48:13.115306\n",
      "metadata                                   {}\n",
      "content                                     B\n",
      "relations                              [0, 0]\n",
      "dtype: object'.\n"
     ]
    }
   ],
   "source": [
    "try:\n",
    "    p1 - nodes1[1]\n",
    "except Exception as e:\n",
    "    print(e)\n",
    "    "
   ]
  },
  {
   "cell_type": "code",
   "execution_count": 19,
   "metadata": {},
   "outputs": [
    {
     "data": {
      "text/plain": [
       "[]"
      ]
     },
     "execution_count": 19,
     "metadata": {},
     "output_type": "execute_result"
    }
   ],
   "source": [
    "a = li.pile()\n",
    "b = li.pile()\n",
    "\n",
    "list(a + b)"
   ]
  },
  {
   "cell_type": "code",
   "execution_count": 20,
   "metadata": {},
   "outputs": [
    {
     "data": {
      "text/plain": [
       "2"
      ]
     },
     "execution_count": 20,
     "metadata": {},
     "output_type": "execute_result"
    }
   ],
   "source": [
    "len([True, True])"
   ]
  },
  {
   "cell_type": "code",
   "execution_count": null,
   "metadata": {},
   "outputs": [],
   "source": []
  }
 ],
 "metadata": {
  "kernelspec": {
   "display_name": ".venv",
   "language": "python",
   "name": "python3"
  },
  "language_info": {
   "codemirror_mode": {
    "name": "ipython",
    "version": 3
   },
   "file_extension": ".py",
   "mimetype": "text/x-python",
   "name": "python",
   "nbconvert_exporter": "python",
   "pygments_lexer": "ipython3",
   "version": "3.11.6"
  }
 },
 "nbformat": 4,
 "nbformat_minor": 2
}

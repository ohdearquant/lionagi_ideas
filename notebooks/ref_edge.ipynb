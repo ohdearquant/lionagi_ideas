{
 "cells": [
  {
   "cell_type": "code",
   "execution_count": 1,
   "metadata": {},
   "outputs": [],
   "source": [
    "from lionagi.core.generic.abc import Component\n",
    "from lionagi.core.generic import Edge"
   ]
  },
  {
   "cell_type": "code",
   "execution_count": 2,
   "metadata": {},
   "outputs": [],
   "source": [
    "node1 = Component()\n",
    "node2 = Component()"
   ]
  },
  {
   "cell_type": "code",
   "execution_count": 3,
   "metadata": {},
   "outputs": [],
   "source": [
    "edge1 = Edge(head=node1, tail=node2)"
   ]
  },
  {
   "cell_type": "code",
   "execution_count": 4,
   "metadata": {},
   "outputs": [
    {
     "data": {
      "text/plain": [
       "{'ln_id': 'ed0e778cb5cf5b520968092c18b9047c',\n",
       " 'created': '2024-05-06T20:29:51.429537',\n",
       " 'metadata': {},\n",
       " 'content': None,\n",
       " 'head': '0361bfbc507eeaf2d2d82b9cd432f431',\n",
       " 'tail': '5906e07aa1ee01171a45664a4e1b0e7c',\n",
       " 'condition': None,\n",
       " 'label': None,\n",
       " 'bundle': False}"
      ]
     },
     "execution_count": 4,
     "metadata": {},
     "output_type": "execute_result"
    }
   ],
   "source": [
    "edge1.to_dict()"
   ]
  },
  {
   "cell_type": "code",
   "execution_count": 5,
   "metadata": {},
   "outputs": [
    {
     "data": {
      "text/plain": [
       "ln_id         ed0e778cb5cf5b520968092c18b9047c\n",
       "created             2024-05-06T20:29:51.429537\n",
       "metadata                                    {}\n",
       "content                                   None\n",
       "head          0361bfbc507eeaf2d2d82b9cd432f431\n",
       "tail          5906e07aa1ee01171a45664a4e1b0e7c\n",
       "condition                                 None\n",
       "label                                     None\n",
       "bundle                                   False\n",
       "class_name                                Edge\n",
       "dtype: object"
      ]
     },
     "execution_count": 5,
     "metadata": {},
     "output_type": "execute_result"
    }
   ],
   "source": [
    "edge1"
   ]
  },
  {
   "cell_type": "code",
   "execution_count": null,
   "metadata": {},
   "outputs": [],
   "source": []
  }
 ],
 "metadata": {
  "kernelspec": {
   "display_name": ".venv",
   "language": "python",
   "name": "python3"
  },
  "language_info": {
   "codemirror_mode": {
    "name": "ipython",
    "version": 3
   },
   "file_extension": ".py",
   "mimetype": "text/x-python",
   "name": "python",
   "nbconvert_exporter": "python",
   "pygments_lexer": "ipython3",
   "version": "3.11.6"
  }
 },
 "nbformat": 4,
 "nbformat_minor": 2
}

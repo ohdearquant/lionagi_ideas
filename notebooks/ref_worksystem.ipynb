{
 "cells": [
  {
   "cell_type": "code",
   "execution_count": 1,
   "metadata": {},
   "outputs": [],
   "source": [
    "import lionagi as li"
   ]
  },
  {
   "cell_type": "code",
   "execution_count": 2,
   "metadata": {},
   "outputs": [],
   "source": [
    "class Coder(li.Worker):\n",
    "    name = \"coder\"\n",
    "    assignments = {\n",
    "        \"chat\": \"instruction, context -> response\"\n",
    "    }\n",
    "    \n",
    "    @li.work(assignment=\"instruction, context -> response\", capacity=5)\n",
    "    async def chat(self, instruction=None, context=None):        \n",
    "        session = li.Session()\n",
    "        return await session.chat(instruction, context=context)\n"
   ]
  },
  {
   "cell_type": "code",
   "execution_count": 3,
   "metadata": {},
   "outputs": [],
   "source": [
    "a = Coder()"
   ]
  },
  {
   "cell_type": "code",
   "execution_count": 4,
   "metadata": {},
   "outputs": [],
   "source": [
    "# calling the function only adds it to the internal worklog\n",
    "\n",
    "for i in range(7):\n",
    "    await a.chat(instruction=\"Hello\", context=\"world\")"
   ]
  },
  {
   "cell_type": "code",
   "execution_count": 5,
   "metadata": {},
   "outputs": [
    {
     "data": {
      "text/plain": [
       "{'chat': <WorkFunction chat>}"
      ]
     },
     "execution_count": 5,
     "metadata": {},
     "output_type": "execute_result"
    }
   ],
   "source": [
    "a.work_functions"
   ]
  },
  {
   "cell_type": "code",
   "execution_count": 6,
   "metadata": {},
   "outputs": [],
   "source": [
    "chat_func = a.work_functions[\"chat\"]"
   ]
  },
  {
   "cell_type": "code",
   "execution_count": 7,
   "metadata": {},
   "outputs": [
    {
     "name": "stdout",
     "output_type": "stream",
     "text": [
      "7\n",
      "7\n",
      "5\n"
     ]
    }
   ],
   "source": [
    "print(len(chat_func.worklog.pile))\n",
    "print(len(chat_func.worklog.pending_sequence))\n",
    "print(chat_func.worklog.queue.available_capacity)"
   ]
  },
  {
   "cell_type": "code",
   "execution_count": 8,
   "metadata": {},
   "outputs": [
    {
     "data": {
      "text/plain": [
       "True"
      ]
     },
     "execution_count": 8,
     "metadata": {},
     "output_type": "execute_result"
    }
   ],
   "source": [
    "# as worklog forwards, it push the work to the queue according to the capacity\n",
    "\n",
    "await chat_func.worklog.forward()"
   ]
  },
  {
   "cell_type": "code",
   "execution_count": 9,
   "metadata": {},
   "outputs": [
    {
     "name": "stdout",
     "output_type": "stream",
     "text": [
      "7\n",
      "2\n",
      "0\n"
     ]
    }
   ],
   "source": [
    "# now pending_sequence is one less than before\n",
    "# and the queue available capacity reduced by 1\n",
    "\n",
    "print(len(chat_func.worklog.pile))\n",
    "print(len(chat_func.worklog.pending_sequence))\n",
    "print(chat_func.worklog.queue.available_capacity)"
   ]
  },
  {
   "cell_type": "code",
   "execution_count": 10,
   "metadata": {},
   "outputs": [],
   "source": [
    "await chat_func.worklog.queue.process()"
   ]
  },
  {
   "cell_type": "code",
   "execution_count": 11,
   "metadata": {},
   "outputs": [],
   "source": [
    "completed_work = chat_func.worklog.completed_work"
   ]
  },
  {
   "cell_type": "code",
   "execution_count": 12,
   "metadata": {},
   "outputs": [
    {
     "data": {
      "text/plain": [
       "5"
      ]
     },
     "execution_count": 12,
     "metadata": {},
     "output_type": "execute_result"
    }
   ],
   "source": [
    "len(completed_work)"
   ]
  },
  {
   "cell_type": "code",
   "execution_count": 13,
   "metadata": {},
   "outputs": [
    {
     "name": "stdout",
     "output_type": "stream",
     "text": [
      "Hello, world! How can I assist you today?\n",
      "Hello! How can I assist you today?\n",
      "Hello! How can I assist you today?\n",
      "Hello, world! How can I assist you today?\n",
      "Hello, world! How can I assist you today?\n"
     ]
    }
   ],
   "source": [
    "for _, v in completed_work.items():\n",
    "    print(v.result)"
   ]
  },
  {
   "cell_type": "code",
   "execution_count": 14,
   "metadata": {},
   "outputs": [
    {
     "name": "stdout",
     "output_type": "stream",
     "text": [
      "7\n",
      "2\n",
      "5\n"
     ]
    }
   ],
   "source": [
    "print(len(chat_func.worklog.pile))\n",
    "print(len(chat_func.worklog.pending_sequence))\n",
    "print(chat_func.worklog.queue.available_capacity)"
   ]
  },
  {
   "cell_type": "code",
   "execution_count": 15,
   "metadata": {},
   "outputs": [
    {
     "data": {
      "text/plain": [
       "True"
      ]
     },
     "execution_count": 15,
     "metadata": {},
     "output_type": "execute_result"
    }
   ],
   "source": [
    "await chat_func.worklog.forward()"
   ]
  },
  {
   "cell_type": "code",
   "execution_count": 16,
   "metadata": {},
   "outputs": [
    {
     "data": {
      "text/plain": [
       "7"
      ]
     },
     "execution_count": 16,
     "metadata": {},
     "output_type": "execute_result"
    }
   ],
   "source": [
    "await chat_func.worklog.queue.process()\n",
    "completed_work = chat_func.worklog.completed_work\n",
    "len(completed_work)"
   ]
  },
  {
   "cell_type": "code",
   "execution_count": 17,
   "metadata": {},
   "outputs": [
    {
     "name": "stdout",
     "output_type": "stream",
     "text": [
      "Hello, world! How can I assist you today?\n",
      "Hello! How can I assist you today?\n",
      "Hello! How can I assist you today?\n",
      "Hello, world! How can I assist you today?\n",
      "Hello, world! How can I assist you today?\n",
      "Hello, world! How can I assist you today?\n",
      "Hello, world! How can I assist you today?\n"
     ]
    }
   ],
   "source": [
    "for _, v in completed_work.items():\n",
    "    print(v.result)"
   ]
  },
  {
   "cell_type": "code",
   "execution_count": 18,
   "metadata": {},
   "outputs": [
    {
     "name": "stdout",
     "output_type": "stream",
     "text": [
      "7\n",
      "0\n",
      "5\n"
     ]
    }
   ],
   "source": [
    "print(len(chat_func.worklog.pile))\n",
    "print(len(chat_func.worklog.pending_sequence))\n",
    "print(chat_func.worklog.queue.available_capacity)"
   ]
  },
  {
   "cell_type": "code",
   "execution_count": 19,
   "metadata": {},
   "outputs": [
    {
     "data": {
      "text/plain": [
       "{'a6b14de970d2b211f5a8b003f82f52b2': Work(id_='a6b14de970d2b211f5a8b003f82f52b2', timestamp='2024-04-26T21:08:37.596352+00:00', extra_fields={}, form_id=None, status=<WorkStatus.COMPLETED: 'COMPLETED'>, result='Hello, world! How can I assist you today?', error=None, completion_timestamp='2024-04-26T21:08:39.023353+00:00', execution_duration='1.426814'),\n",
       " 'af67f01be9c518d1a8c628aea31dd275': Work(id_='af67f01be9c518d1a8c628aea31dd275', timestamp='2024-04-26T21:08:37.596375+00:00', extra_fields={}, form_id=None, status=<WorkStatus.COMPLETED: 'COMPLETED'>, result='Hello! How can I assist you today?', error=None, completion_timestamp='2024-04-26T21:08:39.023503+00:00', execution_duration='1.065546'),\n",
       " 'c7deafb6ec5714a9b31513075f5ea909': Work(id_='c7deafb6ec5714a9b31513075f5ea909', timestamp='2024-04-26T21:08:37.596390+00:00', extra_fields={}, form_id=None, status=<WorkStatus.COMPLETED: 'COMPLETED'>, result='Hello! How can I assist you today?', error=None, completion_timestamp='2024-04-26T21:08:39.023599+00:00', execution_duration='1.125460'),\n",
       " '3fb2b98144fd1a72b740bd15a941da1e': Work(id_='3fb2b98144fd1a72b740bd15a941da1e', timestamp='2024-04-26T21:08:37.596403+00:00', extra_fields={}, form_id=None, status=<WorkStatus.COMPLETED: 'COMPLETED'>, result='Hello, world! How can I assist you today?', error=None, completion_timestamp='2024-04-26T21:08:39.046975+00:00', execution_duration='1.450421'),\n",
       " '1900656451c238c542932da6e1f52cb6': Work(id_='1900656451c238c542932da6e1f52cb6', timestamp='2024-04-26T21:08:37.596415+00:00', extra_fields={}, form_id=None, status=<WorkStatus.COMPLETED: 'COMPLETED'>, result='Hello, world! How can I assist you today?', error=None, completion_timestamp='2024-04-26T21:08:39.047105+00:00', execution_duration='1.369823'),\n",
       " '7aa97a3a60d0f2f58b5ed0fb7ac7ed26': Work(id_='7aa97a3a60d0f2f58b5ed0fb7ac7ed26', timestamp='2024-04-26T21:08:37.596425+00:00', extra_fields={}, form_id=None, status=<WorkStatus.COMPLETED: 'COMPLETED'>, result='Hello, world! How can I assist you today?', error=None, completion_timestamp='2024-04-26T21:08:39.078293+00:00', execution_duration='1.367892'),\n",
       " 'e86a98a3481762f7adf4fa941e5106b3': Work(id_='e86a98a3481762f7adf4fa941e5106b3', timestamp='2024-04-26T21:08:37.596442+00:00', extra_fields={}, form_id=None, status=<WorkStatus.COMPLETED: 'COMPLETED'>, result='Hello, world! How can I assist you today?', error=None, completion_timestamp='2024-04-26T21:08:39.078605+00:00', execution_duration='1.140051')}"
      ]
     },
     "execution_count": 19,
     "metadata": {},
     "output_type": "execute_result"
    }
   ],
   "source": [
    "chat_func.worklog.pile"
   ]
  }
 ],
 "metadata": {
  "kernelspec": {
   "display_name": ".venv",
   "language": "python",
   "name": "python3"
  },
  "language_info": {
   "codemirror_mode": {
    "name": "ipython",
    "version": 3
   },
   "file_extension": ".py",
   "mimetype": "text/x-python",
   "name": "python",
   "nbconvert_exporter": "python",
   "pygments_lexer": "ipython3",
   "version": "3.11.6"
  }
 },
 "nbformat": 4,
 "nbformat_minor": 2
}

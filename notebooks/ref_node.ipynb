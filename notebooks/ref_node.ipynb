{
 "cells": [
  {
   "cell_type": "code",
   "execution_count": 1,
   "metadata": {},
   "outputs": [],
   "source": [
    "from lionagi.core.generic import Node"
   ]
  },
  {
   "cell_type": "code",
   "execution_count": 2,
   "metadata": {},
   "outputs": [],
   "source": [
    "# create 10 nodes\n",
    "a, b, c = Node(), Node(), Node()"
   ]
  },
  {
   "cell_type": "code",
   "execution_count": 3,
   "metadata": {},
   "outputs": [],
   "source": [
    "a.relate(b,\"out\")       # outgoing relation, a is head\n",
    "a.relate(c,\"in\")        # incoming relation, a is tail"
   ]
  },
  {
   "cell_type": "code",
   "execution_count": 4,
   "metadata": {},
   "outputs": [
    {
     "data": {
      "text/plain": [
       "['c5e142915999258a6721b8f722cc7e79']"
      ]
     },
     "execution_count": 4,
     "metadata": {},
     "output_type": "execute_result"
    }
   ],
   "source": [
    "a.precedessors"
   ]
  },
  {
   "cell_type": "code",
   "execution_count": 5,
   "metadata": {},
   "outputs": [
    {
     "data": {
      "text/plain": [
       "['6abc2bcf50d9c4d2df36425095fcbca0']"
      ]
     },
     "execution_count": 5,
     "metadata": {},
     "output_type": "execute_result"
    }
   ],
   "source": [
    "a.successors"
   ]
  },
  {
   "cell_type": "code",
   "execution_count": 6,
   "metadata": {},
   "outputs": [
    {
     "name": "stdout",
     "output_type": "stream",
     "text": [
      "ln_id         397d4decf2e3deeb9806f0d2c9188c9e\n",
      "created             2024-05-08T17:13:47.392870\n",
      "metadata                                    {}\n",
      "content                                   None\n",
      "head          c5e142915999258a6721b8f722cc7e79\n",
      "tail          951659a54e7f52aa766ba5860d64399f\n",
      "condition                                 None\n",
      "label                                     None\n",
      "bundle                                   False\n",
      "class_name                                Edge\n",
      "dtype: object\n",
      "ln_id         edf4c66eac7613dba930ce608f8e541d\n",
      "created             2024-05-08T17:13:47.392757\n",
      "metadata                                    {}\n",
      "content                                   None\n",
      "head          951659a54e7f52aa766ba5860d64399f\n",
      "tail          6abc2bcf50d9c4d2df36425095fcbca0\n",
      "condition                                 None\n",
      "label                                     None\n",
      "bundle                                   False\n",
      "class_name                                Edge\n",
      "dtype: object\n"
     ]
    }
   ],
   "source": [
    "for i in a.edges:\n",
    "    print(i)\n",
    "    "
   ]
  },
  {
   "cell_type": "code",
   "execution_count": 7,
   "metadata": {},
   "outputs": [
    {
     "data": {
      "text/plain": [
       "['6abc2bcf50d9c4d2df36425095fcbca0', 'c5e142915999258a6721b8f722cc7e79']"
      ]
     },
     "execution_count": 7,
     "metadata": {},
     "output_type": "execute_result"
    }
   ],
   "source": [
    "a.related_nodes"
   ]
  },
  {
   "cell_type": "code",
   "execution_count": 8,
   "metadata": {},
   "outputs": [
    {
     "data": {
      "text/plain": [
       "{'out': {'6abc2bcf50d9c4d2df36425095fcbca0': [ln_id         edf4c66eac7613dba930ce608f8e541d\n",
       "   created             2024-05-08T17:13:47.392757\n",
       "   metadata                                    {}\n",
       "   content                                   None\n",
       "   head          951659a54e7f52aa766ba5860d64399f\n",
       "   tail          6abc2bcf50d9c4d2df36425095fcbca0\n",
       "   condition                                 None\n",
       "   label                                     None\n",
       "   bundle                                   False\n",
       "   class_name                                Edge\n",
       "   dtype: object]},\n",
       " 'in': {'c5e142915999258a6721b8f722cc7e79': [ln_id         397d4decf2e3deeb9806f0d2c9188c9e\n",
       "   created             2024-05-08T17:13:47.392870\n",
       "   metadata                                    {}\n",
       "   content                                   None\n",
       "   head          c5e142915999258a6721b8f722cc7e79\n",
       "   tail          951659a54e7f52aa766ba5860d64399f\n",
       "   condition                                 None\n",
       "   label                                     None\n",
       "   bundle                                   False\n",
       "   class_name                                Edge\n",
       "   dtype: object]}}"
      ]
     },
     "execution_count": 8,
     "metadata": {},
     "output_type": "execute_result"
    }
   ],
   "source": [
    "a.node_relations"
   ]
  },
  {
   "cell_type": "code",
   "execution_count": 9,
   "metadata": {},
   "outputs": [
    {
     "data": {
      "text/plain": [
       "2"
      ]
     },
     "execution_count": 9,
     "metadata": {},
     "output_type": "execute_result"
    }
   ],
   "source": [
    "len(a.edges)"
   ]
  },
  {
   "cell_type": "code",
   "execution_count": 10,
   "metadata": {},
   "outputs": [
    {
     "data": {
      "text/html": [
       "<div>\n",
       "<style scoped>\n",
       "    .dataframe tbody tr th:only-of-type {\n",
       "        vertical-align: middle;\n",
       "    }\n",
       "\n",
       "    .dataframe tbody tr th {\n",
       "        vertical-align: top;\n",
       "    }\n",
       "\n",
       "    .dataframe thead th {\n",
       "        text-align: right;\n",
       "    }\n",
       "</style>\n",
       "<table border=\"1\" class=\"dataframe\">\n",
       "  <thead>\n",
       "    <tr style=\"text-align: right;\">\n",
       "      <th></th>\n",
       "      <th>ln_id</th>\n",
       "      <th>created</th>\n",
       "      <th>metadata</th>\n",
       "      <th>content</th>\n",
       "      <th>head</th>\n",
       "      <th>tail</th>\n",
       "      <th>condition</th>\n",
       "      <th>label</th>\n",
       "      <th>bundle</th>\n",
       "    </tr>\n",
       "  </thead>\n",
       "  <tbody>\n",
       "    <tr>\n",
       "      <th>0</th>\n",
       "      <td>397d4decf2e3deeb9806f0d2c9188c9e</td>\n",
       "      <td>2024-05-08T17:13:47.392870</td>\n",
       "      <td>{}</td>\n",
       "      <td>None</td>\n",
       "      <td>c5e142915999258a6721b8f722cc7e79</td>\n",
       "      <td>951659a54e7f52aa766ba5860d64399f</td>\n",
       "      <td>None</td>\n",
       "      <td>None</td>\n",
       "      <td>False</td>\n",
       "    </tr>\n",
       "    <tr>\n",
       "      <th>1</th>\n",
       "      <td>edf4c66eac7613dba930ce608f8e541d</td>\n",
       "      <td>2024-05-08T17:13:47.392757</td>\n",
       "      <td>{}</td>\n",
       "      <td>None</td>\n",
       "      <td>951659a54e7f52aa766ba5860d64399f</td>\n",
       "      <td>6abc2bcf50d9c4d2df36425095fcbca0</td>\n",
       "      <td>None</td>\n",
       "      <td>None</td>\n",
       "      <td>False</td>\n",
       "    </tr>\n",
       "  </tbody>\n",
       "</table>\n",
       "</div>"
      ],
      "text/plain": [
       "                              ln_id                     created metadata  \\\n",
       "0  397d4decf2e3deeb9806f0d2c9188c9e  2024-05-08T17:13:47.392870       {}   \n",
       "1  edf4c66eac7613dba930ce608f8e541d  2024-05-08T17:13:47.392757       {}   \n",
       "\n",
       "  content                              head                              tail  \\\n",
       "0    None  c5e142915999258a6721b8f722cc7e79  951659a54e7f52aa766ba5860d64399f   \n",
       "1    None  951659a54e7f52aa766ba5860d64399f  6abc2bcf50d9c4d2df36425095fcbca0   \n",
       "\n",
       "  condition label  bundle  \n",
       "0      None  None   False  \n",
       "1      None  None   False  "
      ]
     },
     "execution_count": 10,
     "metadata": {},
     "output_type": "execute_result"
    }
   ],
   "source": [
    "a.edges.to_df()"
   ]
  },
  {
   "cell_type": "code",
   "execution_count": 11,
   "metadata": {},
   "outputs": [
    {
     "data": {
      "text/plain": [
       "['6abc2bcf50d9c4d2df36425095fcbca0', 'c5e142915999258a6721b8f722cc7e79']"
      ]
     },
     "execution_count": 11,
     "metadata": {},
     "output_type": "execute_result"
    }
   ],
   "source": [
    "a.related_nodes"
   ]
  },
  {
   "cell_type": "code",
   "execution_count": 12,
   "metadata": {},
   "outputs": [
    {
     "data": {
      "text/html": [
       "<div>\n",
       "<style scoped>\n",
       "    .dataframe tbody tr th:only-of-type {\n",
       "        vertical-align: middle;\n",
       "    }\n",
       "\n",
       "    .dataframe tbody tr th {\n",
       "        vertical-align: top;\n",
       "    }\n",
       "\n",
       "    .dataframe thead th {\n",
       "        text-align: right;\n",
       "    }\n",
       "</style>\n",
       "<table border=\"1\" class=\"dataframe\">\n",
       "  <thead>\n",
       "    <tr style=\"text-align: right;\">\n",
       "      <th></th>\n",
       "      <th>ln_id</th>\n",
       "      <th>created</th>\n",
       "      <th>metadata</th>\n",
       "      <th>content</th>\n",
       "      <th>head</th>\n",
       "      <th>tail</th>\n",
       "      <th>condition</th>\n",
       "      <th>label</th>\n",
       "      <th>bundle</th>\n",
       "    </tr>\n",
       "  </thead>\n",
       "  <tbody>\n",
       "    <tr>\n",
       "      <th>0</th>\n",
       "      <td>397d4decf2e3deeb9806f0d2c9188c9e</td>\n",
       "      <td>2024-05-08T17:13:47.392870</td>\n",
       "      <td>{}</td>\n",
       "      <td>None</td>\n",
       "      <td>c5e142915999258a6721b8f722cc7e79</td>\n",
       "      <td>951659a54e7f52aa766ba5860d64399f</td>\n",
       "      <td>None</td>\n",
       "      <td>None</td>\n",
       "      <td>False</td>\n",
       "    </tr>\n",
       "    <tr>\n",
       "      <th>1</th>\n",
       "      <td>edf4c66eac7613dba930ce608f8e541d</td>\n",
       "      <td>2024-05-08T17:13:47.392757</td>\n",
       "      <td>{}</td>\n",
       "      <td>None</td>\n",
       "      <td>951659a54e7f52aa766ba5860d64399f</td>\n",
       "      <td>6abc2bcf50d9c4d2df36425095fcbca0</td>\n",
       "      <td>None</td>\n",
       "      <td>None</td>\n",
       "      <td>False</td>\n",
       "    </tr>\n",
       "  </tbody>\n",
       "</table>\n",
       "</div>"
      ],
      "text/plain": [
       "                              ln_id                     created metadata  \\\n",
       "0  397d4decf2e3deeb9806f0d2c9188c9e  2024-05-08T17:13:47.392870       {}   \n",
       "1  edf4c66eac7613dba930ce608f8e541d  2024-05-08T17:13:47.392757       {}   \n",
       "\n",
       "  content                              head                              tail  \\\n",
       "0    None  c5e142915999258a6721b8f722cc7e79  951659a54e7f52aa766ba5860d64399f   \n",
       "1    None  951659a54e7f52aa766ba5860d64399f  6abc2bcf50d9c4d2df36425095fcbca0   \n",
       "\n",
       "  condition label  bundle  \n",
       "0      None  None   False  \n",
       "1      None  None   False  "
      ]
     },
     "execution_count": 12,
     "metadata": {},
     "output_type": "execute_result"
    }
   ],
   "source": [
    "a.edges.to_df()"
   ]
  },
  {
   "cell_type": "code",
   "execution_count": 13,
   "metadata": {},
   "outputs": [
    {
     "data": {
      "text/html": [
       "<div>\n",
       "<style scoped>\n",
       "    .dataframe tbody tr th:only-of-type {\n",
       "        vertical-align: middle;\n",
       "    }\n",
       "\n",
       "    .dataframe tbody tr th {\n",
       "        vertical-align: top;\n",
       "    }\n",
       "\n",
       "    .dataframe thead th {\n",
       "        text-align: right;\n",
       "    }\n",
       "</style>\n",
       "<table border=\"1\" class=\"dataframe\">\n",
       "  <thead>\n",
       "    <tr style=\"text-align: right;\">\n",
       "      <th></th>\n",
       "      <th>ln_id</th>\n",
       "      <th>created</th>\n",
       "      <th>metadata</th>\n",
       "      <th>content</th>\n",
       "      <th>head</th>\n",
       "      <th>tail</th>\n",
       "      <th>condition</th>\n",
       "      <th>label</th>\n",
       "      <th>bundle</th>\n",
       "    </tr>\n",
       "  </thead>\n",
       "  <tbody>\n",
       "    <tr>\n",
       "      <th>0</th>\n",
       "      <td>397d4decf2e3deeb9806f0d2c9188c9e</td>\n",
       "      <td>2024-05-08T17:13:47.392870</td>\n",
       "      <td>{}</td>\n",
       "      <td>None</td>\n",
       "      <td>c5e142915999258a6721b8f722cc7e79</td>\n",
       "      <td>951659a54e7f52aa766ba5860d64399f</td>\n",
       "      <td>None</td>\n",
       "      <td>None</td>\n",
       "      <td>False</td>\n",
       "    </tr>\n",
       "  </tbody>\n",
       "</table>\n",
       "</div>"
      ],
      "text/plain": [
       "                              ln_id                     created metadata  \\\n",
       "0  397d4decf2e3deeb9806f0d2c9188c9e  2024-05-08T17:13:47.392870       {}   \n",
       "\n",
       "  content                              head                              tail  \\\n",
       "0    None  c5e142915999258a6721b8f722cc7e79  951659a54e7f52aa766ba5860d64399f   \n",
       "\n",
       "  condition label  bundle  \n",
       "0      None  None   False  "
      ]
     },
     "execution_count": 13,
     "metadata": {},
     "output_type": "execute_result"
    }
   ],
   "source": [
    "a.relations[\"in\"].to_df()"
   ]
  },
  {
   "cell_type": "code",
   "execution_count": 14,
   "metadata": {},
   "outputs": [
    {
     "data": {
      "text/plain": [
       "True"
      ]
     },
     "execution_count": 14,
     "metadata": {},
     "output_type": "execute_result"
    }
   ],
   "source": [
    "a.unrelate(b)"
   ]
  },
  {
   "cell_type": "code",
   "execution_count": 15,
   "metadata": {},
   "outputs": [
    {
     "data": {
      "text/plain": [
       "['c5e142915999258a6721b8f722cc7e79']"
      ]
     },
     "execution_count": 15,
     "metadata": {},
     "output_type": "execute_result"
    }
   ],
   "source": [
    "a.related_nodes"
   ]
  },
  {
   "cell_type": "code",
   "execution_count": 16,
   "metadata": {},
   "outputs": [
    {
     "data": {
      "text/html": [
       "<div>\n",
       "<style scoped>\n",
       "    .dataframe tbody tr th:only-of-type {\n",
       "        vertical-align: middle;\n",
       "    }\n",
       "\n",
       "    .dataframe tbody tr th {\n",
       "        vertical-align: top;\n",
       "    }\n",
       "\n",
       "    .dataframe thead th {\n",
       "        text-align: right;\n",
       "    }\n",
       "</style>\n",
       "<table border=\"1\" class=\"dataframe\">\n",
       "  <thead>\n",
       "    <tr style=\"text-align: right;\">\n",
       "      <th></th>\n",
       "      <th>ln_id</th>\n",
       "      <th>created</th>\n",
       "      <th>metadata</th>\n",
       "      <th>content</th>\n",
       "      <th>head</th>\n",
       "      <th>tail</th>\n",
       "      <th>condition</th>\n",
       "      <th>label</th>\n",
       "      <th>bundle</th>\n",
       "    </tr>\n",
       "  </thead>\n",
       "  <tbody>\n",
       "    <tr>\n",
       "      <th>0</th>\n",
       "      <td>397d4decf2e3deeb9806f0d2c9188c9e</td>\n",
       "      <td>2024-05-08T17:13:47.392870</td>\n",
       "      <td>{}</td>\n",
       "      <td>None</td>\n",
       "      <td>c5e142915999258a6721b8f722cc7e79</td>\n",
       "      <td>951659a54e7f52aa766ba5860d64399f</td>\n",
       "      <td>None</td>\n",
       "      <td>None</td>\n",
       "      <td>False</td>\n",
       "    </tr>\n",
       "  </tbody>\n",
       "</table>\n",
       "</div>"
      ],
      "text/plain": [
       "                              ln_id                     created metadata  \\\n",
       "0  397d4decf2e3deeb9806f0d2c9188c9e  2024-05-08T17:13:47.392870       {}   \n",
       "\n",
       "  content                              head                              tail  \\\n",
       "0    None  c5e142915999258a6721b8f722cc7e79  951659a54e7f52aa766ba5860d64399f   \n",
       "\n",
       "  condition label  bundle  \n",
       "0      None  None   False  "
      ]
     },
     "execution_count": 16,
     "metadata": {},
     "output_type": "execute_result"
    }
   ],
   "source": [
    "a.edges.to_df()"
   ]
  },
  {
   "cell_type": "code",
   "execution_count": 17,
   "metadata": {},
   "outputs": [
    {
     "data": {
      "text/plain": [
       "{'out': {},\n",
       " 'in': {'c5e142915999258a6721b8f722cc7e79': [ln_id         397d4decf2e3deeb9806f0d2c9188c9e\n",
       "   created             2024-05-08T17:13:47.392870\n",
       "   metadata                                    {}\n",
       "   content                                   None\n",
       "   head          c5e142915999258a6721b8f722cc7e79\n",
       "   tail          951659a54e7f52aa766ba5860d64399f\n",
       "   condition                                 None\n",
       "   label                                     None\n",
       "   bundle                                   False\n",
       "   class_name                                Edge\n",
       "   dtype: object]}}"
      ]
     },
     "execution_count": 17,
     "metadata": {},
     "output_type": "execute_result"
    }
   ],
   "source": [
    "a.node_relations"
   ]
  },
  {
   "cell_type": "code",
   "execution_count": 18,
   "metadata": {},
   "outputs": [
    {
     "data": {
      "text/plain": [
       "1"
      ]
     },
     "execution_count": 18,
     "metadata": {},
     "output_type": "execute_result"
    }
   ],
   "source": [
    "len(a.edges)"
   ]
  },
  {
   "cell_type": "code",
   "execution_count": 19,
   "metadata": {},
   "outputs": [
    {
     "data": {
      "text/plain": [
       "['c5e142915999258a6721b8f722cc7e79']"
      ]
     },
     "execution_count": 19,
     "metadata": {},
     "output_type": "execute_result"
    }
   ],
   "source": [
    "a.related_nodes"
   ]
  },
  {
   "cell_type": "code",
   "execution_count": 20,
   "metadata": {},
   "outputs": [
    {
     "name": "stdout",
     "output_type": "stream",
     "text": [
      "ln_id        951659a54e7f52aa766ba5860d64399f\n",
      "created            2024-05-08T17:13:47.389494\n",
      "metadata                                   {}\n",
      "content                                  None\n",
      "relations                              [1, 0]\n",
      "dtype: object\n"
     ]
    }
   ],
   "source": [
    "print(a)"
   ]
  }
 ],
 "metadata": {
  "kernelspec": {
   "display_name": ".venv",
   "language": "python",
   "name": "python3"
  },
  "language_info": {
   "codemirror_mode": {
    "name": "ipython",
    "version": 3
   },
   "file_extension": ".py",
   "mimetype": "text/x-python",
   "name": "python",
   "nbconvert_exporter": "python",
   "pygments_lexer": "ipython3",
   "version": "3.11.6"
  }
 },
 "nbformat": 4,
 "nbformat_minor": 2
}

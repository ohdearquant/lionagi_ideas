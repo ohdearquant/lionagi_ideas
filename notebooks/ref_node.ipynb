{
 "cells": [
  {
   "cell_type": "code",
   "execution_count": 1,
   "metadata": {},
   "outputs": [],
   "source": [
    "from generic import Node"
   ]
  },
  {
   "cell_type": "code",
   "execution_count": 2,
   "metadata": {},
   "outputs": [],
   "source": [
    "# create 10 nodes\n",
    "a, b, c = Node(), Node(), Node()"
   ]
  },
  {
   "cell_type": "code",
   "execution_count": 3,
   "metadata": {},
   "outputs": [],
   "source": [
    "a.relate(b,\"out\")       # outgoing relation, a is head\n",
    "a.relate(c,\"in\")        # incoming relation, a is tail"
   ]
  },
  {
   "cell_type": "code",
   "execution_count": 4,
   "metadata": {},
   "outputs": [
    {
     "data": {
      "text/plain": [
       "['e82d27b533d2b248a6cf4c024d041fa6']"
      ]
     },
     "execution_count": 4,
     "metadata": {},
     "output_type": "execute_result"
    }
   ],
   "source": [
    "a.precedessors"
   ]
  },
  {
   "cell_type": "code",
   "execution_count": 5,
   "metadata": {},
   "outputs": [
    {
     "data": {
      "text/plain": [
       "['40138150d8da0b6b3302961d5670f7d7']"
      ]
     },
     "execution_count": 5,
     "metadata": {},
     "output_type": "execute_result"
    }
   ],
   "source": [
    "a.successors"
   ]
  },
  {
   "cell_type": "code",
   "execution_count": 6,
   "metadata": {},
   "outputs": [
    {
     "name": "stdout",
     "output_type": "stream",
     "text": [
      "ln_id         d5614cda39a6a0aec952a3b24f68a764\n",
      "created             2024-05-06T20:34:17.501788\n",
      "metadata                                    {}\n",
      "content                                   None\n",
      "head          e82d27b533d2b248a6cf4c024d041fa6\n",
      "tail          f7a94bc6e36b93f78bff0f7013f6c713\n",
      "condition                                 None\n",
      "label                                     None\n",
      "bundle                                   False\n",
      "class_name                                Edge\n",
      "dtype: object\n",
      "ln_id         2bcf59f4ec11a7db4ba936da35836ba2\n",
      "created             2024-05-06T20:34:17.501664\n",
      "metadata                                    {}\n",
      "content                                   None\n",
      "head          f7a94bc6e36b93f78bff0f7013f6c713\n",
      "tail          40138150d8da0b6b3302961d5670f7d7\n",
      "condition                                 None\n",
      "label                                     None\n",
      "bundle                                   False\n",
      "class_name                                Edge\n",
      "dtype: object\n"
     ]
    }
   ],
   "source": [
    "for i in a.edges:\n",
    "    print(i)\n",
    "    "
   ]
  },
  {
   "cell_type": "code",
   "execution_count": 7,
   "metadata": {},
   "outputs": [
    {
     "data": {
      "text/plain": [
       "['40138150d8da0b6b3302961d5670f7d7', 'e82d27b533d2b248a6cf4c024d041fa6']"
      ]
     },
     "execution_count": 7,
     "metadata": {},
     "output_type": "execute_result"
    }
   ],
   "source": [
    "a.related_nodes"
   ]
  },
  {
   "cell_type": "code",
   "execution_count": 8,
   "metadata": {},
   "outputs": [
    {
     "data": {
      "text/plain": [
       "{'out': {'40138150d8da0b6b3302961d5670f7d7': [ln_id         2bcf59f4ec11a7db4ba936da35836ba2\n",
       "   created             2024-05-06T20:34:17.501664\n",
       "   metadata                                    {}\n",
       "   content                                   None\n",
       "   head          f7a94bc6e36b93f78bff0f7013f6c713\n",
       "   tail          40138150d8da0b6b3302961d5670f7d7\n",
       "   condition                                 None\n",
       "   label                                     None\n",
       "   bundle                                   False\n",
       "   class_name                                Edge\n",
       "   dtype: object]},\n",
       " 'in': {'e82d27b533d2b248a6cf4c024d041fa6': [ln_id         d5614cda39a6a0aec952a3b24f68a764\n",
       "   created             2024-05-06T20:34:17.501788\n",
       "   metadata                                    {}\n",
       "   content                                   None\n",
       "   head          e82d27b533d2b248a6cf4c024d041fa6\n",
       "   tail          f7a94bc6e36b93f78bff0f7013f6c713\n",
       "   condition                                 None\n",
       "   label                                     None\n",
       "   bundle                                   False\n",
       "   class_name                                Edge\n",
       "   dtype: object]}}"
      ]
     },
     "execution_count": 8,
     "metadata": {},
     "output_type": "execute_result"
    }
   ],
   "source": [
    "a.node_relations"
   ]
  },
  {
   "cell_type": "code",
   "execution_count": 9,
   "metadata": {},
   "outputs": [
    {
     "data": {
      "text/plain": [
       "2"
      ]
     },
     "execution_count": 9,
     "metadata": {},
     "output_type": "execute_result"
    }
   ],
   "source": [
    "len(a.edges)"
   ]
  },
  {
   "cell_type": "code",
   "execution_count": 10,
   "metadata": {},
   "outputs": [
    {
     "data": {
      "text/plain": [
       "True"
      ]
     },
     "execution_count": 10,
     "metadata": {},
     "output_type": "execute_result"
    }
   ],
   "source": [
    "a.unrelate(b)"
   ]
  },
  {
   "cell_type": "code",
   "execution_count": 11,
   "metadata": {},
   "outputs": [
    {
     "data": {
      "text/plain": [
       "['e82d27b533d2b248a6cf4c024d041fa6']"
      ]
     },
     "execution_count": 11,
     "metadata": {},
     "output_type": "execute_result"
    }
   ],
   "source": [
    "a.related_nodes"
   ]
  },
  {
   "cell_type": "code",
   "execution_count": 12,
   "metadata": {},
   "outputs": [
    {
     "data": {
      "text/plain": [
       "                              ln_id                     created metadata  \\\n",
       "0  d5614cda39a6a0aec952a3b24f68a764  2024-05-06T20:34:17.501788       {}   \n",
       "\n",
       "  content                              head                              tail  \\\n",
       "0    None  e82d27b533d2b248a6cf4c024d041fa6  f7a94bc6e36b93f78bff0f7013f6c713   \n",
       "\n",
       "  condition label  bundle  \n",
       "0      None  None   False  "
      ]
     },
     "execution_count": 12,
     "metadata": {},
     "output_type": "execute_result"
    }
   ],
   "source": [
    "a.edges"
   ]
  },
  {
   "cell_type": "code",
   "execution_count": 13,
   "metadata": {},
   "outputs": [
    {
     "data": {
      "text/plain": [
       "{'out': {},\n",
       " 'in': {'e82d27b533d2b248a6cf4c024d041fa6': [ln_id         d5614cda39a6a0aec952a3b24f68a764\n",
       "   created             2024-05-06T20:34:17.501788\n",
       "   metadata                                    {}\n",
       "   content                                   None\n",
       "   head          e82d27b533d2b248a6cf4c024d041fa6\n",
       "   tail          f7a94bc6e36b93f78bff0f7013f6c713\n",
       "   condition                                 None\n",
       "   label                                     None\n",
       "   bundle                                   False\n",
       "   class_name                                Edge\n",
       "   dtype: object]}}"
      ]
     },
     "execution_count": 13,
     "metadata": {},
     "output_type": "execute_result"
    }
   ],
   "source": [
    "a.node_relations"
   ]
  },
  {
   "cell_type": "code",
   "execution_count": 14,
   "metadata": {},
   "outputs": [
    {
     "data": {
      "text/plain": [
       "1"
      ]
     },
     "execution_count": 14,
     "metadata": {},
     "output_type": "execute_result"
    }
   ],
   "source": [
    "len(a.edges)"
   ]
  },
  {
   "cell_type": "code",
   "execution_count": 15,
   "metadata": {},
   "outputs": [
    {
     "data": {
      "text/plain": [
       "['e82d27b533d2b248a6cf4c024d041fa6']"
      ]
     },
     "execution_count": 15,
     "metadata": {},
     "output_type": "execute_result"
    }
   ],
   "source": [
    "a.related_nodes"
   ]
  },
  {
   "cell_type": "code",
   "execution_count": 16,
   "metadata": {},
   "outputs": [
    {
     "name": "stdout",
     "output_type": "stream",
     "text": [
      "ln_id        f7a94bc6e36b93f78bff0f7013f6c713\n",
      "created            2024-05-06T20:34:17.498071\n",
      "metadata                                   {}\n",
      "content                                  None\n",
      "relations                              [1, 0]\n",
      "dtype: object\n"
     ]
    }
   ],
   "source": [
    "print(a)"
   ]
  }
 ],
 "metadata": {
  "kernelspec": {
   "display_name": ".venv",
   "language": "python",
   "name": "python3"
  },
  "language_info": {
   "codemirror_mode": {
    "name": "ipython",
    "version": 3
   },
   "file_extension": ".py",
   "mimetype": "text/x-python",
   "name": "python",
   "nbconvert_exporter": "python",
   "pygments_lexer": "ipython3",
   "version": "3.11.6"
  }
 },
 "nbformat": 4,
 "nbformat_minor": 2
}

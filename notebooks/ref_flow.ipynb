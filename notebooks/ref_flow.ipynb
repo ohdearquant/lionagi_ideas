{
 "cells": [
  {
   "cell_type": "code",
   "execution_count": null,
   "metadata": {},
   "outputs": [],
   "source": []
  },
  {
   "cell_type": "code",
   "execution_count": 1,
   "metadata": {},
   "outputs": [],
   "source": [
    "from generic import progression, Node, flow, pile, Pile"
   ]
  },
  {
   "cell_type": "code",
   "execution_count": 2,
   "metadata": {},
   "outputs": [],
   "source": [
    "p = pile()\n",
    "\n",
    "for i in range(10):\n",
    "    a = Node(content=str(i*987281))\n",
    "    p += a  "
   ]
  },
  {
   "cell_type": "code",
   "execution_count": 3,
   "metadata": {},
   "outputs": [
    {
     "data": {
      "text/plain": [
       "ln_id        6d62f29090933cf3d103c6061cde5ec4\n",
       "created            2024-05-06T20:33:07.161848\n",
       "metadata                                   {}\n",
       "content                                987281\n",
       "relations                              [0, 0]\n",
       "dtype: object"
      ]
     },
     "execution_count": 3,
     "metadata": {},
     "output_type": "execute_result"
    }
   ],
   "source": [
    "p = list(p)\n",
    "p[1]"
   ]
  },
  {
   "cell_type": "code",
   "execution_count": null,
   "metadata": {},
   "outputs": [],
   "source": []
  },
  {
   "cell_type": "code",
   "execution_count": null,
   "metadata": {},
   "outputs": [],
   "source": []
  },
  {
   "cell_type": "code",
   "execution_count": null,
   "metadata": {},
   "outputs": [],
   "source": []
  },
  {
   "cell_type": "code",
   "execution_count": null,
   "metadata": {},
   "outputs": [],
   "source": [
    "\n",
    "\n",
    "\n",
    "for _ in range(10):\n",
    "\n",
    "\n",
    "\n",
    "\n",
    "\n",
    "\n",
    "\n",
    "\n",
    "\n",
    "\n",
    "\n",
    "b = Node()\n",
    "\n",
    "a = progression(b)\n",
    "\n",
    "\n",
    "\n",
    "for \n",
    "\n"
   ]
  },
  {
   "cell_type": "code",
   "execution_count": null,
   "metadata": {},
   "outputs": [
    {
     "data": {
      "text/plain": [
       "Progression(1)"
      ]
     },
     "execution_count": 9,
     "metadata": {},
     "output_type": "execute_result"
    }
   ],
   "source": [
    "a"
   ]
  },
  {
   "cell_type": "code",
   "execution_count": null,
   "metadata": {},
   "outputs": [],
   "source": []
  },
  {
   "cell_type": "code",
   "execution_count": null,
   "metadata": {},
   "outputs": [
    {
     "data": {
      "text/plain": [
       "10"
      ]
     },
     "execution_count": 2,
     "metadata": {},
     "output_type": "execute_result"
    }
   ],
   "source": [
    "# data: 10 Nodes\n",
    "a = [Node() for _ in range(10)]\n",
    "\n",
    "# create progression\n",
    "p = progression(a)\n",
    "\n",
    "len(p)"
   ]
  },
  {
   "cell_type": "code",
   "execution_count": null,
   "metadata": {},
   "outputs": [
    {
     "name": "stdout",
     "output_type": "stream",
     "text": [
      "Progression(10)\n",
      "Progression(10)\n",
      "Progression(10)\n",
      "Progression(10)\n",
      "Progression(10)\n",
      "Progression(10)\n",
      "Progression(10)\n",
      "Progression(10)\n",
      "Progression(10)\n",
      "Progression(10)\n"
     ]
    }
   ],
   "source": [
    "for i in p:\n",
    "    print(p)"
   ]
  },
  {
   "cell_type": "code",
   "execution_count": null,
   "metadata": {},
   "outputs": [],
   "source": [
    "# add a name to the progression\n",
    "\n",
    "p.name = \"main progression\""
   ]
  },
  {
   "cell_type": "code",
   "execution_count": null,
   "metadata": {},
   "outputs": [],
   "source": [
    "# create a flow\n",
    "\n",
    "f = flow(p)"
   ]
  },
  {
   "cell_type": "code",
   "execution_count": null,
   "metadata": {},
   "outputs": [
    {
     "name": "stdout",
     "output_type": "stream",
     "text": [
      "None\n"
     ]
    }
   ],
   "source": [
    "print(f[\"main progression\"])"
   ]
  },
  {
   "cell_type": "code",
   "execution_count": null,
   "metadata": {},
   "outputs": [
    {
     "data": {
      "text/plain": [
       "{'main': '90d63902363ba58fed70444f383cd211',\n",
       " '982ec30b9b49dbdcad2ea17671be4355': '982ec30b9b49dbdcad2ea17671be4355',\n",
       " '0ea92cce87ea6e5b4f37842cda0f3dfc': '0ea92cce87ea6e5b4f37842cda0f3dfc',\n",
       " '1e6e70e5f7506530b390a1ffd3566d49': '1e6e70e5f7506530b390a1ffd3566d49',\n",
       " '89433f0ee3c5124fb70fba8a6c6642e1': '89433f0ee3c5124fb70fba8a6c6642e1',\n",
       " 'cf7facc92c6f83f51a23678ab9378fae': 'cf7facc92c6f83f51a23678ab9378fae',\n",
       " '0a1c4e1c3434e26ff5bd7ea3cfd52bb4': '0a1c4e1c3434e26ff5bd7ea3cfd52bb4',\n",
       " 'c7328853b855c86268fb393e76d388a4': 'c7328853b855c86268fb393e76d388a4',\n",
       " '0f293c0cae50eb5672d09ca5ece292c2': '0f293c0cae50eb5672d09ca5ece292c2',\n",
       " '8a66e5774e871fb5eb21ade1cdba07f1': '8a66e5774e871fb5eb21ade1cdba07f1'}"
      ]
     },
     "execution_count": 7,
     "metadata": {},
     "output_type": "execute_result"
    }
   ],
   "source": [
    "f.registry"
   ]
  }
 ],
 "metadata": {
  "kernelspec": {
   "display_name": ".venv",
   "language": "python",
   "name": "python3"
  },
  "language_info": {
   "codemirror_mode": {
    "name": "ipython",
    "version": 3
   },
   "file_extension": ".py",
   "mimetype": "text/x-python",
   "name": "python",
   "nbconvert_exporter": "python",
   "pygments_lexer": "ipython3",
   "version": "3.11.6"
  }
 },
 "nbformat": 4,
 "nbformat_minor": 2
}

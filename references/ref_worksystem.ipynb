{
 "cells": [
  {
   "cell_type": "code",
   "execution_count": 1,
   "metadata": {},
   "outputs": [],
   "source": [
    "import lionagi as li"
   ]
  },
  {
   "cell_type": "code",
   "execution_count": 2,
   "metadata": {},
   "outputs": [],
   "source": [
    "class Coder(li.Worker):\n",
    "    name = \"coder\"\n",
    "    \n",
    "    @li.work(capacity=5, timeout=5, refresh_time=1)\n",
    "    async def chat(self, instruction=None, context=None, **kwargs):\n",
    "        branch = li.Branch()\n",
    "        return await branch.chat(instruction=instruction, context=context, **kwargs)"
   ]
  },
  {
   "cell_type": "code",
   "execution_count": 3,
   "metadata": {},
   "outputs": [],
   "source": [
    "coder = Coder()"
   ]
  },
  {
   "cell_type": "code",
   "execution_count": 4,
   "metadata": {},
   "outputs": [],
   "source": [
    "# calling the function only adds it to the internal worklog\n",
    "instruction = \"write a serious hello world according to the given language, answer in 5 emoji, no text, no special symbols\"\n",
    "languages = [\"python\", \"c++\", \"java\", \"javascript\", \"ruby\", \"php\", \"c#\", \"matlab\"]\n",
    "\n",
    "for i in languages:\n",
    "    await coder.chat(instruction=instruction, context=i, temperature=0.1)"
   ]
  },
  {
   "cell_type": "code",
   "execution_count": 5,
   "metadata": {},
   "outputs": [],
   "source": [
    "chat_func_log = coder.work_functions['chat'].worklog"
   ]
  },
  {
   "cell_type": "code",
   "execution_count": 6,
   "metadata": {},
   "outputs": [
    {
     "name": "stdout",
     "output_type": "stream",
     "text": [
      "Total number of work items in the worklog: \t\t 8\n",
      "Total number of pending items in the worklog: \t\t 8\n",
      "Available capacity remaining in the async queue: \t 5\n"
     ]
    }
   ],
   "source": [
    "print(\"Total number of work items in the worklog: \\t\\t\", len(chat_func_log.pile))\n",
    "print(\"Total number of pending items in the worklog: \\t\\t\", len(chat_func_log.pending))\n",
    "print(\"Available capacity remaining in the async queue: \\t\", chat_func_log.queue.available_capacity)"
   ]
  },
  {
   "cell_type": "code",
   "execution_count": 7,
   "metadata": {},
   "outputs": [],
   "source": [
    "await chat_func_log.forward()\n",
    "await chat_func_log.queue.process()"
   ]
  },
  {
   "cell_type": "code",
   "execution_count": 8,
   "metadata": {},
   "outputs": [
    {
     "name": "stdout",
     "output_type": "stream",
     "text": [
      "python: 🐍📜👋🌍🔄\n",
      "c++: 👨‍💻📄🔍🖥️✅\n",
      "java: 👋🌍🖥️☕💻\n",
      "javascript: 👋🌍📜💻🖥️\n",
      "ruby: 💎🌍👋📜🔧\n"
     ]
    }
   ],
   "source": [
    "for language, work in zip(languages, chat_func_log.completed_work.values()):\n",
    "    print(f\"{language}: {work.result}\")"
   ]
  },
  {
   "cell_type": "code",
   "execution_count": 9,
   "metadata": {},
   "outputs": [],
   "source": [
    "await chat_func_log.forward()\n",
    "await chat_func_log.queue.process()"
   ]
  },
  {
   "cell_type": "code",
   "execution_count": 10,
   "metadata": {},
   "outputs": [
    {
     "name": "stdout",
     "output_type": "stream",
     "text": [
      "python: 🐍📜👋🌍🔄\n",
      "c++: 👨‍💻📄🔍🖥️✅\n",
      "java: 👋🌍🖥️☕💻\n",
      "javascript: 👋🌍📜💻🖥️\n",
      "ruby: 💎🌍👋📜🔧\n",
      "php: 🐘📜👋🌍💻\n",
      "c#: 👋🌍💻📜🔧\n",
      "matlab: 📄🔢🔤👋🌍\n"
     ]
    }
   ],
   "source": [
    "for language, work in zip(languages, chat_func_log.completed_work.values()):\n",
    "    print(f\"{language}: {work.result}\")"
   ]
  },
  {
   "cell_type": "code",
   "execution_count": 11,
   "metadata": {},
   "outputs": [
    {
     "data": {
      "text/html": [
       "<div>\n",
       "<style scoped>\n",
       "    .dataframe tbody tr th:only-of-type {\n",
       "        vertical-align: middle;\n",
       "    }\n",
       "\n",
       "    .dataframe tbody tr th {\n",
       "        vertical-align: top;\n",
       "    }\n",
       "\n",
       "    .dataframe thead th {\n",
       "        text-align: right;\n",
       "    }\n",
       "</style>\n",
       "<table border=\"1\" class=\"dataframe\">\n",
       "  <thead>\n",
       "    <tr style=\"text-align: right;\">\n",
       "      <th></th>\n",
       "      <th>ln_id</th>\n",
       "      <th>created</th>\n",
       "      <th>metadata</th>\n",
       "      <th>content</th>\n",
       "      <th>status</th>\n",
       "      <th>result</th>\n",
       "      <th>error</th>\n",
       "      <th>completion_timestamp</th>\n",
       "      <th>duration</th>\n",
       "    </tr>\n",
       "  </thead>\n",
       "  <tbody>\n",
       "    <tr>\n",
       "      <th>0</th>\n",
       "      <td>71ad29e43ede00c734e3351a83b0a6d0</td>\n",
       "      <td>2024-05-14T18:16:22.464070</td>\n",
       "      <td>{'last_updated': {'status': '2024-05-14T18:16:...</td>\n",
       "      <td>None</td>\n",
       "      <td>WorkStatus.COMPLETED</td>\n",
       "      <td>🐍📜👋🌍🔄</td>\n",
       "      <td>None</td>\n",
       "      <td>2024-05-14T18:16:23.375445</td>\n",
       "      <td>0.911130</td>\n",
       "    </tr>\n",
       "    <tr>\n",
       "      <th>1</th>\n",
       "      <td>775b1437481e04484e72467a7a22f663</td>\n",
       "      <td>2024-05-14T18:16:22.464114</td>\n",
       "      <td>{'last_updated': {'status': '2024-05-14T18:16:...</td>\n",
       "      <td>None</td>\n",
       "      <td>WorkStatus.COMPLETED</td>\n",
       "      <td>👨‍💻📄🔍🖥️✅</td>\n",
       "      <td>None</td>\n",
       "      <td>2024-05-14T18:16:23.399316</td>\n",
       "      <td>0.935008</td>\n",
       "    </tr>\n",
       "    <tr>\n",
       "      <th>2</th>\n",
       "      <td>ea60aa044fc3d2af5b2467217226967e</td>\n",
       "      <td>2024-05-14T18:16:22.464129</td>\n",
       "      <td>{'last_updated': {'status': '2024-05-14T18:16:...</td>\n",
       "      <td>None</td>\n",
       "      <td>WorkStatus.COMPLETED</td>\n",
       "      <td>👋🌍🖥️☕💻</td>\n",
       "      <td>None</td>\n",
       "      <td>2024-05-14T18:16:23.399447</td>\n",
       "      <td>0.762465</td>\n",
       "    </tr>\n",
       "    <tr>\n",
       "      <th>3</th>\n",
       "      <td>e229252ae3d3d4d3bd11221d95a3582e</td>\n",
       "      <td>2024-05-14T18:16:22.464142</td>\n",
       "      <td>{'last_updated': {'status': '2024-05-14T18:16:...</td>\n",
       "      <td>None</td>\n",
       "      <td>WorkStatus.COMPLETED</td>\n",
       "      <td>👋🌍📜💻🖥️</td>\n",
       "      <td>None</td>\n",
       "      <td>2024-05-14T18:16:23.399556</td>\n",
       "      <td>0.851564</td>\n",
       "    </tr>\n",
       "    <tr>\n",
       "      <th>4</th>\n",
       "      <td>baa58e80e3d45e867c121e2df1f726ab</td>\n",
       "      <td>2024-05-14T18:16:22.464154</td>\n",
       "      <td>{'last_updated': {'status': '2024-05-14T18:16:...</td>\n",
       "      <td>None</td>\n",
       "      <td>WorkStatus.COMPLETED</td>\n",
       "      <td>💎🌍👋📜🔧</td>\n",
       "      <td>None</td>\n",
       "      <td>2024-05-14T18:16:23.399661</td>\n",
       "      <td>0.876260</td>\n",
       "    </tr>\n",
       "    <tr>\n",
       "      <th>5</th>\n",
       "      <td>6ed38d09df1b191623059827c015b79c</td>\n",
       "      <td>2024-05-14T18:16:22.464165</td>\n",
       "      <td>{'last_updated': {'status': '2024-05-14T18:16:...</td>\n",
       "      <td>None</td>\n",
       "      <td>WorkStatus.COMPLETED</td>\n",
       "      <td>🐘📜👋🌍💻</td>\n",
       "      <td>None</td>\n",
       "      <td>2024-05-14T18:16:23.409801</td>\n",
       "      <td>0.944409</td>\n",
       "    </tr>\n",
       "    <tr>\n",
       "      <th>6</th>\n",
       "      <td>7681f764eeab66a4573c653f187665c4</td>\n",
       "      <td>2024-05-14T18:16:22.464176</td>\n",
       "      <td>{'last_updated': {'status': '2024-05-14T18:16:...</td>\n",
       "      <td>None</td>\n",
       "      <td>WorkStatus.COMPLETED</td>\n",
       "      <td>👋🌍💻📜🔧</td>\n",
       "      <td>None</td>\n",
       "      <td>2024-05-14T18:16:23.410088</td>\n",
       "      <td>0.800985</td>\n",
       "    </tr>\n",
       "    <tr>\n",
       "      <th>7</th>\n",
       "      <td>8f121ec86a50e79198945a2ec11aca8a</td>\n",
       "      <td>2024-05-14T18:16:22.464190</td>\n",
       "      <td>{'last_updated': {'status': '2024-05-14T18:16:...</td>\n",
       "      <td>None</td>\n",
       "      <td>WorkStatus.COMPLETED</td>\n",
       "      <td>📄🔢🔤👋🌍</td>\n",
       "      <td>None</td>\n",
       "      <td>2024-05-14T18:16:23.410286</td>\n",
       "      <td>0.858294</td>\n",
       "    </tr>\n",
       "  </tbody>\n",
       "</table>\n",
       "</div>"
      ],
      "text/plain": [
       "                              ln_id                     created  \\\n",
       "0  71ad29e43ede00c734e3351a83b0a6d0  2024-05-14T18:16:22.464070   \n",
       "1  775b1437481e04484e72467a7a22f663  2024-05-14T18:16:22.464114   \n",
       "2  ea60aa044fc3d2af5b2467217226967e  2024-05-14T18:16:22.464129   \n",
       "3  e229252ae3d3d4d3bd11221d95a3582e  2024-05-14T18:16:22.464142   \n",
       "4  baa58e80e3d45e867c121e2df1f726ab  2024-05-14T18:16:22.464154   \n",
       "5  6ed38d09df1b191623059827c015b79c  2024-05-14T18:16:22.464165   \n",
       "6  7681f764eeab66a4573c653f187665c4  2024-05-14T18:16:22.464176   \n",
       "7  8f121ec86a50e79198945a2ec11aca8a  2024-05-14T18:16:22.464190   \n",
       "\n",
       "                                            metadata content  \\\n",
       "0  {'last_updated': {'status': '2024-05-14T18:16:...    None   \n",
       "1  {'last_updated': {'status': '2024-05-14T18:16:...    None   \n",
       "2  {'last_updated': {'status': '2024-05-14T18:16:...    None   \n",
       "3  {'last_updated': {'status': '2024-05-14T18:16:...    None   \n",
       "4  {'last_updated': {'status': '2024-05-14T18:16:...    None   \n",
       "5  {'last_updated': {'status': '2024-05-14T18:16:...    None   \n",
       "6  {'last_updated': {'status': '2024-05-14T18:16:...    None   \n",
       "7  {'last_updated': {'status': '2024-05-14T18:16:...    None   \n",
       "\n",
       "                 status    result error        completion_timestamp  duration  \n",
       "0  WorkStatus.COMPLETED     🐍📜👋🌍🔄  None  2024-05-14T18:16:23.375445  0.911130  \n",
       "1  WorkStatus.COMPLETED  👨‍💻📄🔍🖥️✅  None  2024-05-14T18:16:23.399316  0.935008  \n",
       "2  WorkStatus.COMPLETED    👋🌍🖥️☕💻  None  2024-05-14T18:16:23.399447  0.762465  \n",
       "3  WorkStatus.COMPLETED    👋🌍📜💻🖥️  None  2024-05-14T18:16:23.399556  0.851564  \n",
       "4  WorkStatus.COMPLETED     💎🌍👋📜🔧  None  2024-05-14T18:16:23.399661  0.876260  \n",
       "5  WorkStatus.COMPLETED     🐘📜👋🌍💻  None  2024-05-14T18:16:23.409801  0.944409  \n",
       "6  WorkStatus.COMPLETED     👋🌍💻📜🔧  None  2024-05-14T18:16:23.410088  0.800985  \n",
       "7  WorkStatus.COMPLETED     📄🔢🔤👋🌍  None  2024-05-14T18:16:23.410286  0.858294  "
      ]
     },
     "execution_count": 11,
     "metadata": {},
     "output_type": "execute_result"
    }
   ],
   "source": [
    "chat_func_log.pile.to_df()"
   ]
  },
  {
   "cell_type": "code",
   "execution_count": null,
   "metadata": {},
   "outputs": [],
   "source": []
  }
 ],
 "metadata": {
  "kernelspec": {
   "display_name": ".venv",
   "language": "python",
   "name": "python3"
  },
  "language_info": {
   "codemirror_mode": {
    "name": "ipython",
    "version": 3
   },
   "file_extension": ".py",
   "mimetype": "text/x-python",
   "name": "python",
   "nbconvert_exporter": "python",
   "pygments_lexer": "ipython3",
   "version": "3.11.6"
  }
 },
 "nbformat": 4,
 "nbformat_minor": 2
}

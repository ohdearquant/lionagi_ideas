{
 "cells": [
  {
   "cell_type": "code",
   "execution_count": 1,
   "metadata": {},
   "outputs": [],
   "source": [
    "from lionagi.experimental.work import work, Worker"
   ]
  },
  {
   "cell_type": "code",
   "execution_count": 2,
   "metadata": {},
   "outputs": [],
   "source": [
    "from lionagi import Session\n",
    "\n",
    "\n",
    "class Coder(Worker):\n",
    "    name = \"coder\"\n",
    "    assignments = {\"chat\": \"instruction, context -> response\"}\n",
    "\n",
    "    @work(assignment=\"instruction, context -> response\", capacity=5)\n",
    "    async def chat(instruction=None, context=None):\n",
    "        session = Session()\n",
    "        return await session.chat(instruction, context=context)"
   ]
  },
  {
   "cell_type": "code",
   "execution_count": 3,
   "metadata": {},
   "outputs": [],
   "source": [
    "a = Coder()"
   ]
  },
  {
   "cell_type": "code",
   "execution_count": 4,
   "metadata": {},
   "outputs": [],
   "source": [
    "# calling the function only adds it to the internal worklog\n",
    "\n",
    "for i in range(7):\n",
    "    await a.chat(\"Hello\", context=\"world\")"
   ]
  },
  {
   "cell_type": "code",
   "execution_count": 5,
   "metadata": {},
   "outputs": [],
   "source": [
    "chat_func = a.work_functions[\"chat\"]"
   ]
  },
  {
   "cell_type": "code",
   "execution_count": 6,
   "metadata": {},
   "outputs": [
    {
     "name": "stdout",
     "output_type": "stream",
     "text": [
      "7\n",
      "7\n",
      "5\n"
     ]
    }
   ],
   "source": [
    "print(len(chat_func.worklog.pile))\n",
    "print(len(chat_func.worklog.pending_sequence))\n",
    "print(chat_func.worklog.queue.available_capacity)"
   ]
  },
  {
   "cell_type": "code",
   "execution_count": 7,
   "metadata": {},
   "outputs": [],
   "source": [
    "# as worklog forwards, it push the work to the queue according to the capacity\n",
    "\n",
    "await chat_func.worklog.forward()"
   ]
  },
  {
   "cell_type": "code",
   "execution_count": 8,
   "metadata": {},
   "outputs": [
    {
     "name": "stdout",
     "output_type": "stream",
     "text": [
      "7\n",
      "2\n",
      "None\n"
     ]
    }
   ],
   "source": [
    "# now pending_sequence is one less than before\n",
    "# and the queue available capacity reduced by 1\n",
    "\n",
    "print(len(chat_func.worklog.pile))\n",
    "print(len(chat_func.worklog.pending_sequence))\n",
    "print(chat_func.worklog.queue.available_capacity)"
   ]
  },
  {
   "cell_type": "code",
   "execution_count": 9,
   "metadata": {},
   "outputs": [],
   "source": [
    "await chat_func.worklog.queue.process()"
   ]
  },
  {
   "cell_type": "code",
   "execution_count": 10,
   "metadata": {},
   "outputs": [],
   "source": [
    "completed_work = chat_func.worklog.completed_work"
   ]
  },
  {
   "cell_type": "code",
   "execution_count": 11,
   "metadata": {},
   "outputs": [
    {
     "data": {
      "text/plain": [
       "5"
      ]
     },
     "execution_count": 11,
     "metadata": {},
     "output_type": "execute_result"
    }
   ],
   "source": [
    "len(completed_work)"
   ]
  },
  {
   "cell_type": "code",
   "execution_count": 12,
   "metadata": {},
   "outputs": [
    {
     "name": "stdout",
     "output_type": "stream",
     "text": [
      "Hello, world! How can I assist you today?\n",
      "Hello, world! How can I assist you today?\n",
      "Hello, world! How can I assist you today?\n",
      "Hello! How can I assist you today?\n",
      "Hello! How can I assist you today?\n"
     ]
    }
   ],
   "source": [
    "for _, v in completed_work.items():\n",
    "    print(v.result)"
   ]
  },
  {
   "cell_type": "code",
   "execution_count": 13,
   "metadata": {},
   "outputs": [
    {
     "name": "stdout",
     "output_type": "stream",
     "text": [
      "7\n",
      "2\n",
      "5\n"
     ]
    }
   ],
   "source": [
    "print(len(chat_func.worklog.pile))\n",
    "print(len(chat_func.worklog.pending_sequence))\n",
    "print(chat_func.worklog.queue.available_capacity)"
   ]
  },
  {
   "cell_type": "code",
   "execution_count": 14,
   "metadata": {},
   "outputs": [],
   "source": [
    "await chat_func.worklog.forward()"
   ]
  },
  {
   "cell_type": "code",
   "execution_count": 15,
   "metadata": {},
   "outputs": [
    {
     "data": {
      "text/plain": [
       "7"
      ]
     },
     "execution_count": 15,
     "metadata": {},
     "output_type": "execute_result"
    }
   ],
   "source": [
    "await chat_func.worklog.queue.process()\n",
    "completed_work = chat_func.worklog.completed_work\n",
    "len(completed_work)"
   ]
  },
  {
   "cell_type": "code",
   "execution_count": 16,
   "metadata": {},
   "outputs": [
    {
     "name": "stdout",
     "output_type": "stream",
     "text": [
      "Hello, world! How can I assist you today?\n",
      "Hello, world! How can I assist you today?\n",
      "Hello, world! How can I assist you today?\n",
      "Hello! How can I assist you today?\n",
      "Hello! How can I assist you today?\n",
      "Hello! How can I assist you today?\n",
      "Hello! How can I assist you today within the context of \"world\"?\n"
     ]
    }
   ],
   "source": [
    "for _, v in completed_work.items():\n",
    "    print(v.result)"
   ]
  },
  {
   "cell_type": "code",
   "execution_count": 17,
   "metadata": {},
   "outputs": [
    {
     "name": "stdout",
     "output_type": "stream",
     "text": [
      "7\n",
      "0\n",
      "5\n"
     ]
    }
   ],
   "source": [
    "print(len(chat_func.worklog.pile))\n",
    "print(len(chat_func.worklog.pending_sequence))\n",
    "print(chat_func.worklog.queue.available_capacity)"
   ]
  },
  {
   "cell_type": "code",
   "execution_count": null,
   "metadata": {},
   "outputs": [],
   "source": []
  }
 ],
 "metadata": {
  "kernelspec": {
   "display_name": ".venv",
   "language": "python",
   "name": "python3"
  },
  "language_info": {
   "codemirror_mode": {
    "name": "ipython",
    "version": 3
   },
   "file_extension": ".py",
   "mimetype": "text/x-python",
   "name": "python",
   "nbconvert_exporter": "python",
   "pygments_lexer": "ipython3",
   "version": "3.11.6"
  }
 },
 "nbformat": 4,
 "nbformat_minor": 2
}

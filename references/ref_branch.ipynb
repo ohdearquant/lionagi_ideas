{
 "cells": [
  {
   "cell_type": "code",
   "execution_count": 1,
   "metadata": {},
   "outputs": [],
   "source": [
    "import lionagi as li"
   ]
  },
  {
   "cell_type": "code",
   "execution_count": 2,
   "metadata": {},
   "outputs": [],
   "source": [
    "a = li.Branch()"
   ]
  },
  {
   "cell_type": "code",
   "execution_count": 3,
   "metadata": {},
   "outputs": [
    {
     "data": {
      "text/plain": [
       "\"A cat's purr healed the lonely heart of an old man.\""
      ]
     },
     "execution_count": 3,
     "metadata": {},
     "output_type": "execute_result"
    }
   ],
   "source": [
    "a = li.Branch()\n",
    "\n",
    "await a.chat(\"tell me a 10 word story\")"
   ]
  },
  {
   "cell_type": "code",
   "execution_count": null,
   "metadata": {},
   "outputs": [],
   "source": []
  },
  {
   "cell_type": "code",
   "execution_count": 4,
   "metadata": {},
   "outputs": [],
   "source": [
    "b = [{'index': 0,\n",
    "   'message': {'role': 'assistant',\n",
    "    'content': 'Lost dog returned home, bringing another new friend along. Joy!'},\n",
    "   'logprobs': None,\n",
    "   'finish_reason': 'stop'}]"
   ]
  },
  {
   "cell_type": "code",
   "execution_count": 5,
   "metadata": {},
   "outputs": [
    {
     "data": {
      "text/plain": [
       "{'index': 0,\n",
       " 'message': {'role': 'assistant',\n",
       "  'content': 'Lost dog returned home, bringing another new friend along. Joy!'},\n",
       " 'logprobs': None,\n",
       " 'finish_reason': 'stop'}"
      ]
     },
     "execution_count": 5,
     "metadata": {},
     "output_type": "execute_result"
    }
   ],
   "source": [
    "b[0]"
   ]
  },
  {
   "cell_type": "code",
   "execution_count": 6,
   "metadata": {},
   "outputs": [
    {
     "data": {
      "text/html": [
       "<div>\n",
       "<style scoped>\n",
       "    .dataframe tbody tr th:only-of-type {\n",
       "        vertical-align: middle;\n",
       "    }\n",
       "\n",
       "    .dataframe tbody tr th {\n",
       "        vertical-align: top;\n",
       "    }\n",
       "\n",
       "    .dataframe thead th {\n",
       "        text-align: right;\n",
       "    }\n",
       "</style>\n",
       "<table border=\"1\" class=\"dataframe\">\n",
       "  <thead>\n",
       "    <tr style=\"text-align: right;\">\n",
       "      <th></th>\n",
       "      <th>sender</th>\n",
       "      <th>recipient</th>\n",
       "      <th>ln_id</th>\n",
       "      <th>created</th>\n",
       "      <th>metadata</th>\n",
       "      <th>content</th>\n",
       "      <th>relations</th>\n",
       "      <th>role</th>\n",
       "    </tr>\n",
       "  </thead>\n",
       "  <tbody>\n",
       "    <tr>\n",
       "      <th>0</th>\n",
       "      <td>system</td>\n",
       "      <td>4c564acb8e394174001d5b7c9cff895c</td>\n",
       "      <td>1d4cfdf85421d36e93820ab6ee1906c2</td>\n",
       "      <td>2024-05-14T18:06:44.842232</td>\n",
       "      <td>{'last_updated': {'recipient': '2024-05-14T18:...</td>\n",
       "      <td>{'system_info': 'You are a helpful assistant, ...</td>\n",
       "      <td>{'in': {'ln_id': '8532b135bb9e232b289af889e026...</td>\n",
       "      <td>system</td>\n",
       "    </tr>\n",
       "    <tr>\n",
       "      <th>1</th>\n",
       "      <td>user</td>\n",
       "      <td>4c564acb8e394174001d5b7c9cff895c</td>\n",
       "      <td>c8559a1e8369c91926a546fe11761453</td>\n",
       "      <td>2024-05-14T18:06:44.854785</td>\n",
       "      <td>{'last_updated': {'sender': '2024-05-14T18:06:...</td>\n",
       "      <td>{'instruction': 'tell me a 10 word story'}</td>\n",
       "      <td>{'in': {'ln_id': '30b0d8ca3c2ca2a7d076f1fb296f...</td>\n",
       "      <td>user</td>\n",
       "    </tr>\n",
       "    <tr>\n",
       "      <th>2</th>\n",
       "      <td>4c564acb8e394174001d5b7c9cff895c</td>\n",
       "      <td>user</td>\n",
       "      <td>38017a44fce5d5a3fd7b37f122139be0</td>\n",
       "      <td>2024-05-14T18:06:45.668575</td>\n",
       "      <td>{'last_updated': {'sender': '2024-05-14T18:06:...</td>\n",
       "      <td>{'assistant_response': 'A cat's purr healed th...</td>\n",
       "      <td>{'in': {'ln_id': 'd1baee7e9ea4b2e58898a2ef1acd...</td>\n",
       "      <td>assistant</td>\n",
       "    </tr>\n",
       "  </tbody>\n",
       "</table>\n",
       "</div>"
      ],
      "text/plain": [
       "                             sender                         recipient  \\\n",
       "0                            system  4c564acb8e394174001d5b7c9cff895c   \n",
       "1                              user  4c564acb8e394174001d5b7c9cff895c   \n",
       "2  4c564acb8e394174001d5b7c9cff895c                              user   \n",
       "\n",
       "                              ln_id                     created  \\\n",
       "0  1d4cfdf85421d36e93820ab6ee1906c2  2024-05-14T18:06:44.842232   \n",
       "1  c8559a1e8369c91926a546fe11761453  2024-05-14T18:06:44.854785   \n",
       "2  38017a44fce5d5a3fd7b37f122139be0  2024-05-14T18:06:45.668575   \n",
       "\n",
       "                                            metadata  \\\n",
       "0  {'last_updated': {'recipient': '2024-05-14T18:...   \n",
       "1  {'last_updated': {'sender': '2024-05-14T18:06:...   \n",
       "2  {'last_updated': {'sender': '2024-05-14T18:06:...   \n",
       "\n",
       "                                             content  \\\n",
       "0  {'system_info': 'You are a helpful assistant, ...   \n",
       "1         {'instruction': 'tell me a 10 word story'}   \n",
       "2  {'assistant_response': 'A cat's purr healed th...   \n",
       "\n",
       "                                           relations       role  \n",
       "0  {'in': {'ln_id': '8532b135bb9e232b289af889e026...     system  \n",
       "1  {'in': {'ln_id': '30b0d8ca3c2ca2a7d076f1fb296f...       user  \n",
       "2  {'in': {'ln_id': 'd1baee7e9ea4b2e58898a2ef1acd...  assistant  "
      ]
     },
     "execution_count": 6,
     "metadata": {},
     "output_type": "execute_result"
    }
   ],
   "source": [
    "a.messages.to_df()"
   ]
  },
  {
   "cell_type": "code",
   "execution_count": 7,
   "metadata": {},
   "outputs": [
    {
     "data": {
      "text/plain": [
       "{'last_updated': {'sender': '2024-05-14T18:06:44.854849',\n",
       "  'recipient': '2024-05-14T18:06:44.854858'},\n",
       " 'extra': {'model': 'gpt-4o',\n",
       "  'frequency_penalty': 0,\n",
       "  'n': 1,\n",
       "  'presence_penalty': 0,\n",
       "  'response_format': {'type': 'text'},\n",
       "  'temperature': 0.7,\n",
       "  'top_p': 1}}"
      ]
     },
     "execution_count": 7,
     "metadata": {},
     "output_type": "execute_result"
    }
   ],
   "source": [
    "a.messages[1].metadata"
   ]
  },
  {
   "cell_type": "code",
   "execution_count": 8,
   "metadata": {},
   "outputs": [
    {
     "data": {
      "text/html": [
       "<div>\n",
       "<style scoped>\n",
       "    .dataframe tbody tr th:only-of-type {\n",
       "        vertical-align: middle;\n",
       "    }\n",
       "\n",
       "    .dataframe tbody tr th {\n",
       "        vertical-align: top;\n",
       "    }\n",
       "\n",
       "    .dataframe thead th {\n",
       "        text-align: right;\n",
       "    }\n",
       "</style>\n",
       "<table border=\"1\" class=\"dataframe\">\n",
       "  <thead>\n",
       "    <tr style=\"text-align: right;\">\n",
       "      <th></th>\n",
       "      <th>sender</th>\n",
       "      <th>recipient</th>\n",
       "      <th>ln_id</th>\n",
       "      <th>created</th>\n",
       "      <th>metadata</th>\n",
       "      <th>content</th>\n",
       "      <th>relations</th>\n",
       "      <th>role</th>\n",
       "    </tr>\n",
       "  </thead>\n",
       "  <tbody>\n",
       "    <tr>\n",
       "      <th>0</th>\n",
       "      <td>system</td>\n",
       "      <td>4c564acb8e394174001d5b7c9cff895c</td>\n",
       "      <td>1d4cfdf85421d36e93820ab6ee1906c2</td>\n",
       "      <td>2024-05-14T18:06:44.842232</td>\n",
       "      <td>{'last_updated': {'recipient': '2024-05-14T18:...</td>\n",
       "      <td>{'system_info': 'You are a helpful assistant, ...</td>\n",
       "      <td>{'in': {'ln_id': '8532b135bb9e232b289af889e026...</td>\n",
       "      <td>system</td>\n",
       "    </tr>\n",
       "    <tr>\n",
       "      <th>1</th>\n",
       "      <td>user</td>\n",
       "      <td>4c564acb8e394174001d5b7c9cff895c</td>\n",
       "      <td>c8559a1e8369c91926a546fe11761453</td>\n",
       "      <td>2024-05-14T18:06:44.854785</td>\n",
       "      <td>{'last_updated': {'sender': '2024-05-14T18:06:...</td>\n",
       "      <td>{'instruction': 'tell me a 10 word story'}</td>\n",
       "      <td>{'in': {'ln_id': '30b0d8ca3c2ca2a7d076f1fb296f...</td>\n",
       "      <td>user</td>\n",
       "    </tr>\n",
       "    <tr>\n",
       "      <th>2</th>\n",
       "      <td>4c564acb8e394174001d5b7c9cff895c</td>\n",
       "      <td>user</td>\n",
       "      <td>38017a44fce5d5a3fd7b37f122139be0</td>\n",
       "      <td>2024-05-14T18:06:45.668575</td>\n",
       "      <td>{'last_updated': {'sender': '2024-05-14T18:06:...</td>\n",
       "      <td>{'assistant_response': 'A cat's purr healed th...</td>\n",
       "      <td>{'in': {'ln_id': 'd1baee7e9ea4b2e58898a2ef1acd...</td>\n",
       "      <td>assistant</td>\n",
       "    </tr>\n",
       "  </tbody>\n",
       "</table>\n",
       "</div>"
      ],
      "text/plain": [
       "                             sender                         recipient  \\\n",
       "0                            system  4c564acb8e394174001d5b7c9cff895c   \n",
       "1                              user  4c564acb8e394174001d5b7c9cff895c   \n",
       "2  4c564acb8e394174001d5b7c9cff895c                              user   \n",
       "\n",
       "                              ln_id                     created  \\\n",
       "0  1d4cfdf85421d36e93820ab6ee1906c2  2024-05-14T18:06:44.842232   \n",
       "1  c8559a1e8369c91926a546fe11761453  2024-05-14T18:06:44.854785   \n",
       "2  38017a44fce5d5a3fd7b37f122139be0  2024-05-14T18:06:45.668575   \n",
       "\n",
       "                                            metadata  \\\n",
       "0  {'last_updated': {'recipient': '2024-05-14T18:...   \n",
       "1  {'last_updated': {'sender': '2024-05-14T18:06:...   \n",
       "2  {'last_updated': {'sender': '2024-05-14T18:06:...   \n",
       "\n",
       "                                             content  \\\n",
       "0  {'system_info': 'You are a helpful assistant, ...   \n",
       "1         {'instruction': 'tell me a 10 word story'}   \n",
       "2  {'assistant_response': 'A cat's purr healed th...   \n",
       "\n",
       "                                           relations       role  \n",
       "0  {'in': {'ln_id': '8532b135bb9e232b289af889e026...     system  \n",
       "1  {'in': {'ln_id': '30b0d8ca3c2ca2a7d076f1fb296f...       user  \n",
       "2  {'in': {'ln_id': 'd1baee7e9ea4b2e58898a2ef1acd...  assistant  "
      ]
     },
     "execution_count": 8,
     "metadata": {},
     "output_type": "execute_result"
    }
   ],
   "source": [
    "a.messages.to_df()"
   ]
  },
  {
   "cell_type": "code",
   "execution_count": 9,
   "metadata": {},
   "outputs": [
    {
     "data": {
      "text/plain": [
       "{'last_updated': {'sender': '2024-05-14T18:06:45.668685',\n",
       "  'recipient': '2024-05-14T18:06:45.668697'},\n",
       " 'extra': {'id': 'chatcmpl-9OqpxUFDQmPWYUHIZldw7gbI9V6Li',\n",
       "  'object': 'chat.completion',\n",
       "  'created': 1715710005,\n",
       "  'model': 'gpt-4o-2024-05-13',\n",
       "  'usage': {'prompt_tokens': 40, 'completion_tokens': 14, 'total_tokens': 54},\n",
       "  'system_fingerprint': 'fp_729ea513f7',\n",
       "  'index': 0,\n",
       "  'logprobs': None,\n",
       "  'finish_reason': 'stop'}}"
      ]
     },
     "execution_count": 9,
     "metadata": {},
     "output_type": "execute_result"
    }
   ],
   "source": [
    "a.messages[2].metadata"
   ]
  },
  {
   "cell_type": "code",
   "execution_count": 10,
   "metadata": {},
   "outputs": [],
   "source": [
    "a._meta_insert([\"extra\"], 1)"
   ]
  },
  {
   "cell_type": "code",
   "execution_count": 11,
   "metadata": {},
   "outputs": [
    {
     "data": {
      "text/plain": [
       "{'last_updated': {'system': '2024-05-14T18:06:44.842089',\n",
       "  'user': '2024-05-14T18:06:44.842100',\n",
       "  'messages': '2024-05-14T18:06:44.842122',\n",
       "  'progre': '2024-05-14T18:06:44.842140',\n",
       "  'tool_manager': '2024-05-14T18:06:44.842146',\n",
       "  'mailbox': '2024-05-14T18:06:44.842185',\n",
       "  'imodel': '2024-05-14T18:06:44.842209'},\n",
       " 'extra': 1}"
      ]
     },
     "execution_count": 11,
     "metadata": {},
     "output_type": "execute_result"
    }
   ],
   "source": [
    "a.metadata"
   ]
  },
  {
   "cell_type": "code",
   "execution_count": 12,
   "metadata": {},
   "outputs": [],
   "source": [
    "import lionagi as li"
   ]
  },
  {
   "cell_type": "code",
   "execution_count": 13,
   "metadata": {},
   "outputs": [],
   "source": [
    "async def multiply(number1: float, number2: float, number3: float = 1):\n",
    "    \"\"\"\n",
    "    multiply three numbers.\n",
    "\n",
    "    Args:\n",
    "        number1: First number to multiply.\n",
    "        number2: Second number to multiply.\n",
    "        number3: third number to multiply\n",
    "\n",
    "    Returns:\n",
    "        The product of number1, number2, number3\n",
    "\n",
    "    \"\"\"\n",
    "    return number1 * number2 * number3\n",
    "\n",
    "instruction = \"\"\"\n",
    "solve the following problem\n",
    "\"\"\"\n",
    "\n",
    "context = \"\"\"\n",
    "    I have 730_000 trees, with average 123 apples per tree, each weigh 0.4 lbs. \n",
    "    20 percent are bad and sold for 0.1 dollar per lbs, 30 percent are sold to \n",
    "    brewery for 0.3 dollar per apple, what is my revenue?\n",
    "\"\"\""
   ]
  },
  {
   "cell_type": "code",
   "execution_count": 14,
   "metadata": {},
   "outputs": [],
   "source": [
    "branch = li.Branch(\"act like a calculator, invoke tool uses\", tools=[multiply])"
   ]
  },
  {
   "cell_type": "code",
   "execution_count": 15,
   "metadata": {},
   "outputs": [],
   "source": [
    "await branch.chat(instruction=instruction, context=context, tools=True);"
   ]
  },
  {
   "cell_type": "code",
   "execution_count": 16,
   "metadata": {},
   "outputs": [
    {
     "data": {
      "text/html": [
       "<div>\n",
       "<style scoped>\n",
       "    .dataframe tbody tr th:only-of-type {\n",
       "        vertical-align: middle;\n",
       "    }\n",
       "\n",
       "    .dataframe tbody tr th {\n",
       "        vertical-align: top;\n",
       "    }\n",
       "\n",
       "    .dataframe thead th {\n",
       "        text-align: right;\n",
       "    }\n",
       "</style>\n",
       "<table border=\"1\" class=\"dataframe\">\n",
       "  <thead>\n",
       "    <tr style=\"text-align: right;\">\n",
       "      <th></th>\n",
       "      <th>ln_id</th>\n",
       "      <th>message_type</th>\n",
       "      <th>timestamp</th>\n",
       "      <th>role</th>\n",
       "      <th>content</th>\n",
       "      <th>metadata</th>\n",
       "      <th>sender</th>\n",
       "      <th>recipient</th>\n",
       "    </tr>\n",
       "  </thead>\n",
       "  <tbody>\n",
       "    <tr>\n",
       "      <th>0</th>\n",
       "      <td>bfd87737c9a16b05877d28d59ae9e158</td>\n",
       "      <td>System</td>\n",
       "      <td>2024-05-14T18:06:45.720719</td>\n",
       "      <td>system</td>\n",
       "      <td>{'system_info': 'act like a calculator, invoke...</td>\n",
       "      <td>{'last_updated': {'recipient': '2024-05-14T18:...</td>\n",
       "      <td>system</td>\n",
       "      <td>d1e0524c6330c62cef822159efe5bbb6</td>\n",
       "    </tr>\n",
       "    <tr>\n",
       "      <th>1</th>\n",
       "      <td>35e7b47412a89edfc830bf8b468e604c</td>\n",
       "      <td>Instruction</td>\n",
       "      <td>2024-05-14T18:06:45.724236</td>\n",
       "      <td>user</td>\n",
       "      <td>{'instruction': '\n",
       "solve the following problem\n",
       "...</td>\n",
       "      <td>{'last_updated': {'sender': '2024-05-14T18:06:...</td>\n",
       "      <td>user</td>\n",
       "      <td>d1e0524c6330c62cef822159efe5bbb6</td>\n",
       "    </tr>\n",
       "    <tr>\n",
       "      <th>2</th>\n",
       "      <td>30a831caec41d7c258259c740473a687</td>\n",
       "      <td>AssistantResponse</td>\n",
       "      <td>2024-05-14T18:06:47.504982</td>\n",
       "      <td>assistant</td>\n",
       "      <td>{'assistant_response': None}</td>\n",
       "      <td>{'last_updated': {'sender': '2024-05-14T18:06:...</td>\n",
       "      <td>d1e0524c6330c62cef822159efe5bbb6</td>\n",
       "      <td>user</td>\n",
       "    </tr>\n",
       "    <tr>\n",
       "      <th>3</th>\n",
       "      <td>4f552b112e9de966771fc89675401cda</td>\n",
       "      <td>ActionRequest</td>\n",
       "      <td>2024-05-14T18:06:47.505127</td>\n",
       "      <td>assistant</td>\n",
       "      <td>{'action_request': {'function': 'multiply', 'a...</td>\n",
       "      <td>{'last_updated': {'function': '2024-05-14T18:0...</td>\n",
       "      <td>d1e0524c6330c62cef822159efe5bbb6</td>\n",
       "      <td>8776f104ee3071220401d8334c2f5203</td>\n",
       "    </tr>\n",
       "    <tr>\n",
       "      <th>4</th>\n",
       "      <td>eeaa2ab591afaca512e62013106bf9fb</td>\n",
       "      <td>ActionRequest</td>\n",
       "      <td>2024-05-14T18:06:47.505189</td>\n",
       "      <td>assistant</td>\n",
       "      <td>{'action_request': {'function': 'multiply', 'a...</td>\n",
       "      <td>{'last_updated': {'function': '2024-05-14T18:0...</td>\n",
       "      <td>d1e0524c6330c62cef822159efe5bbb6</td>\n",
       "      <td>8776f104ee3071220401d8334c2f5203</td>\n",
       "    </tr>\n",
       "    <tr>\n",
       "      <th>5</th>\n",
       "      <td>8c275e36283e007b6a2a2bfc952b2526</td>\n",
       "      <td>ActionRequest</td>\n",
       "      <td>2024-05-14T18:06:47.505232</td>\n",
       "      <td>assistant</td>\n",
       "      <td>{'action_request': {'function': 'multiply', 'a...</td>\n",
       "      <td>{'last_updated': {'function': '2024-05-14T18:0...</td>\n",
       "      <td>d1e0524c6330c62cef822159efe5bbb6</td>\n",
       "      <td>8776f104ee3071220401d8334c2f5203</td>\n",
       "    </tr>\n",
       "    <tr>\n",
       "      <th>6</th>\n",
       "      <td>5ea52ac140aa7d16731a6715feef1643</td>\n",
       "      <td>ActionResponse</td>\n",
       "      <td>2024-05-14T18:06:47.505493</td>\n",
       "      <td>assistant</td>\n",
       "      <td>{'action_response': {'function': 'multiply', '...</td>\n",
       "      <td>{'last_updated': {'function': '2024-05-14T18:0...</td>\n",
       "      <td>8776f104ee3071220401d8334c2f5203</td>\n",
       "      <td>d1e0524c6330c62cef822159efe5bbb6</td>\n",
       "    </tr>\n",
       "    <tr>\n",
       "      <th>7</th>\n",
       "      <td>cea4eaa8a272bc07c8708014bdb62317</td>\n",
       "      <td>ActionResponse</td>\n",
       "      <td>2024-05-14T18:06:47.505594</td>\n",
       "      <td>assistant</td>\n",
       "      <td>{'action_response': {'function': 'multiply', '...</td>\n",
       "      <td>{'last_updated': {'function': '2024-05-14T18:0...</td>\n",
       "      <td>8776f104ee3071220401d8334c2f5203</td>\n",
       "      <td>d1e0524c6330c62cef822159efe5bbb6</td>\n",
       "    </tr>\n",
       "    <tr>\n",
       "      <th>8</th>\n",
       "      <td>f047b0b917e1d92f4f68b38b46918b87</td>\n",
       "      <td>ActionResponse</td>\n",
       "      <td>2024-05-14T18:06:47.505676</td>\n",
       "      <td>assistant</td>\n",
       "      <td>{'action_response': {'function': 'multiply', '...</td>\n",
       "      <td>{'last_updated': {'function': '2024-05-14T18:0...</td>\n",
       "      <td>8776f104ee3071220401d8334c2f5203</td>\n",
       "      <td>d1e0524c6330c62cef822159efe5bbb6</td>\n",
       "    </tr>\n",
       "  </tbody>\n",
       "</table>\n",
       "</div>"
      ],
      "text/plain": [
       "                              ln_id       message_type  \\\n",
       "0  bfd87737c9a16b05877d28d59ae9e158             System   \n",
       "1  35e7b47412a89edfc830bf8b468e604c        Instruction   \n",
       "2  30a831caec41d7c258259c740473a687  AssistantResponse   \n",
       "3  4f552b112e9de966771fc89675401cda      ActionRequest   \n",
       "4  eeaa2ab591afaca512e62013106bf9fb      ActionRequest   \n",
       "5  8c275e36283e007b6a2a2bfc952b2526      ActionRequest   \n",
       "6  5ea52ac140aa7d16731a6715feef1643     ActionResponse   \n",
       "7  cea4eaa8a272bc07c8708014bdb62317     ActionResponse   \n",
       "8  f047b0b917e1d92f4f68b38b46918b87     ActionResponse   \n",
       "\n",
       "                    timestamp       role  \\\n",
       "0  2024-05-14T18:06:45.720719     system   \n",
       "1  2024-05-14T18:06:45.724236       user   \n",
       "2  2024-05-14T18:06:47.504982  assistant   \n",
       "3  2024-05-14T18:06:47.505127  assistant   \n",
       "4  2024-05-14T18:06:47.505189  assistant   \n",
       "5  2024-05-14T18:06:47.505232  assistant   \n",
       "6  2024-05-14T18:06:47.505493  assistant   \n",
       "7  2024-05-14T18:06:47.505594  assistant   \n",
       "8  2024-05-14T18:06:47.505676  assistant   \n",
       "\n",
       "                                             content  \\\n",
       "0  {'system_info': 'act like a calculator, invoke...   \n",
       "1  {'instruction': '\n",
       "solve the following problem\n",
       "...   \n",
       "2                       {'assistant_response': None}   \n",
       "3  {'action_request': {'function': 'multiply', 'a...   \n",
       "4  {'action_request': {'function': 'multiply', 'a...   \n",
       "5  {'action_request': {'function': 'multiply', 'a...   \n",
       "6  {'action_response': {'function': 'multiply', '...   \n",
       "7  {'action_response': {'function': 'multiply', '...   \n",
       "8  {'action_response': {'function': 'multiply', '...   \n",
       "\n",
       "                                            metadata  \\\n",
       "0  {'last_updated': {'recipient': '2024-05-14T18:...   \n",
       "1  {'last_updated': {'sender': '2024-05-14T18:06:...   \n",
       "2  {'last_updated': {'sender': '2024-05-14T18:06:...   \n",
       "3  {'last_updated': {'function': '2024-05-14T18:0...   \n",
       "4  {'last_updated': {'function': '2024-05-14T18:0...   \n",
       "5  {'last_updated': {'function': '2024-05-14T18:0...   \n",
       "6  {'last_updated': {'function': '2024-05-14T18:0...   \n",
       "7  {'last_updated': {'function': '2024-05-14T18:0...   \n",
       "8  {'last_updated': {'function': '2024-05-14T18:0...   \n",
       "\n",
       "                             sender                         recipient  \n",
       "0                            system  d1e0524c6330c62cef822159efe5bbb6  \n",
       "1                              user  d1e0524c6330c62cef822159efe5bbb6  \n",
       "2  d1e0524c6330c62cef822159efe5bbb6                              user  \n",
       "3  d1e0524c6330c62cef822159efe5bbb6  8776f104ee3071220401d8334c2f5203  \n",
       "4  d1e0524c6330c62cef822159efe5bbb6  8776f104ee3071220401d8334c2f5203  \n",
       "5  d1e0524c6330c62cef822159efe5bbb6  8776f104ee3071220401d8334c2f5203  \n",
       "6  8776f104ee3071220401d8334c2f5203  d1e0524c6330c62cef822159efe5bbb6  \n",
       "7  8776f104ee3071220401d8334c2f5203  d1e0524c6330c62cef822159efe5bbb6  \n",
       "8  8776f104ee3071220401d8334c2f5203  d1e0524c6330c62cef822159efe5bbb6  "
      ]
     },
     "execution_count": 16,
     "metadata": {},
     "output_type": "execute_result"
    }
   ],
   "source": [
    "branch.to_df()"
   ]
  },
  {
   "cell_type": "code",
   "execution_count": 17,
   "metadata": {},
   "outputs": [
    {
     "data": {
      "text/plain": [
       "{'last_updated': {'sender': '2024-05-14T18:06:47.505050',\n",
       "  'recipient': '2024-05-14T18:06:47.505058'},\n",
       " 'extra': {'id': 'chatcmpl-9Oqpx3gXK5cvx2r8GtKKg1bdtsHL1',\n",
       "  'object': 'chat.completion',\n",
       "  'created': 1715710005,\n",
       "  'model': 'gpt-4o-2024-05-13',\n",
       "  'usage': {'prompt_tokens': 167,\n",
       "   'completion_tokens': 97,\n",
       "   'total_tokens': 264},\n",
       "  'system_fingerprint': 'fp_729ea513f7',\n",
       "  'index': 0,\n",
       "  'logprobs': None,\n",
       "  'finish_reason': 'tool_calls'}}"
      ]
     },
     "execution_count": 17,
     "metadata": {},
     "output_type": "execute_result"
    }
   ],
   "source": [
    "branch.messages[2].metadata"
   ]
  }
 ],
 "metadata": {
  "kernelspec": {
   "display_name": ".venv",
   "language": "python",
   "name": "python3"
  },
  "language_info": {
   "codemirror_mode": {
    "name": "ipython",
    "version": 3
   },
   "file_extension": ".py",
   "mimetype": "text/x-python",
   "name": "python",
   "nbconvert_exporter": "python",
   "pygments_lexer": "ipython3",
   "version": "3.11.6"
  }
 },
 "nbformat": 4,
 "nbformat_minor": 2
}

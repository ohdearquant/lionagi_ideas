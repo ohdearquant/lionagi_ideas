{
 "cells": [
  {
   "cell_type": "code",
   "execution_count": 1,
   "metadata": {},
   "outputs": [],
   "source": [
    "import lionagi as li"
   ]
  },
  {
   "cell_type": "code",
   "execution_count": 2,
   "metadata": {},
   "outputs": [],
   "source": [
    "m1 = li.iModel(model=\"gpt-4o\")\n"
   ]
  },
  {
   "cell_type": "code",
   "execution_count": 3,
   "metadata": {},
   "outputs": [
    {
     "data": {
      "text/plain": [
       "True"
      ]
     },
     "execution_count": 3,
     "metadata": {},
     "output_type": "execute_result"
    }
   ],
   "source": [
    "hasattr(m1, \"ln_id\")"
   ]
  },
  {
   "cell_type": "code",
   "execution_count": 4,
   "metadata": {},
   "outputs": [],
   "source": [
    "messages = [\n",
    "    {\"role\": \"system\", \"content\": \"you are a helpful assistant\"},\n",
    "    {\"role\": \"user\", \"content\": \"write a 10 word story\"},\n",
    "]\n"
   ]
  },
  {
   "cell_type": "code",
   "execution_count": 5,
   "metadata": {},
   "outputs": [
    {
     "data": {
      "text/plain": [
       "({'messages': [{'role': 'system', 'content': 'you are a helpful assistant'},\n",
       "   {'role': 'user', 'content': 'write a 10 word story'}],\n",
       "  'model': 'gpt-4o',\n",
       "  'frequency_penalty': 0,\n",
       "  'n': 1,\n",
       "  'presence_penalty': 0,\n",
       "  'response_format': {'type': 'text'},\n",
       "  'temperature': 0.7,\n",
       "  'top_p': 1},\n",
       " {'id': 'chatcmpl-9Oqs7LkhJykuvp5IVaVxOxMjE5x4D',\n",
       "  'object': 'chat.completion',\n",
       "  'created': 1715710139,\n",
       "  'model': 'gpt-4o-2024-05-13',\n",
       "  'choices': [{'index': 0,\n",
       "    'message': {'role': 'assistant',\n",
       "     'content': 'Lost in the fog, she found herself in a new world.'},\n",
       "    'logprobs': None,\n",
       "    'finish_reason': 'stop'}],\n",
       "  'usage': {'prompt_tokens': 22, 'completion_tokens': 13, 'total_tokens': 35},\n",
       "  'system_fingerprint': 'fp_729ea513f7'})"
      ]
     },
     "execution_count": 5,
     "metadata": {},
     "output_type": "execute_result"
    }
   ],
   "source": [
    "await m1.call_chat_completion(messages)"
   ]
  },
  {
   "cell_type": "code",
   "execution_count": 6,
   "metadata": {},
   "outputs": [
    {
     "data": {
      "text/plain": [
       "True"
      ]
     },
     "execution_count": 6,
     "metadata": {},
     "output_type": "execute_result"
    }
   ],
   "source": [
    "hasattr(m1, \"ln_id\")"
   ]
  },
  {
   "cell_type": "code",
   "execution_count": 7,
   "metadata": {},
   "outputs": [
    {
     "data": {
      "text/plain": [
       "'d215d52cbafc6db1d3d0d59d3a6cd657'"
      ]
     },
     "execution_count": 7,
     "metadata": {},
     "output_type": "execute_result"
    }
   ],
   "source": [
    "m1.ln_id"
   ]
  },
  {
   "cell_type": "code",
   "execution_count": 8,
   "metadata": {},
   "outputs": [
    {
     "data": {
      "text/plain": [
       "{'ln_id': 'd215d52cbafc6db1d3d0d59d3a6cd657',\n",
       " 'timestamp': '2024-05-14T18:08:58.686313',\n",
       " 'provider': 'OpenAI',\n",
       " 'api_key': 'sk-r*******************************************SgD6',\n",
       " 'endpoint': 'chat/completions',\n",
       " 'token_encoding_name': 'cl100k_base',\n",
       " 'model': 'gpt-4o',\n",
       " 'frequency_penalty': 0,\n",
       " 'max_tokens': None,\n",
       " 'n': 1,\n",
       " 'presence_penalty': 0,\n",
       " 'response_format': {'type': 'text'},\n",
       " 'seed': None,\n",
       " 'stop': None,\n",
       " 'stream': False,\n",
       " 'temperature': 0.7,\n",
       " 'top_p': 1,\n",
       " 'tools': None,\n",
       " 'tool_choice': 'none',\n",
       " 'user': None}"
      ]
     },
     "execution_count": 8,
     "metadata": {},
     "output_type": "execute_result"
    }
   ],
   "source": [
    "m1.to_dict()"
   ]
  },
  {
   "cell_type": "code",
   "execution_count": 9,
   "metadata": {},
   "outputs": [
    {
     "data": {
      "text/plain": [
       "{'ln_id': 'd215d52cbafc6db1d3d0d59d3a6cd657',\n",
       " 'timestamp': '2024-05-14T18:08:58.686313',\n",
       " 'provider': 'OpenAI',\n",
       " 'api_key': 'sk-r*******************************************SgD6',\n",
       " 'endpoint': 'chat/completions',\n",
       " 'token_encoding_name': 'cl100k_base',\n",
       " 'model': 'gpt-4o',\n",
       " 'frequency_penalty': 0,\n",
       " 'max_tokens': 100,\n",
       " 'n': 1,\n",
       " 'presence_penalty': 0,\n",
       " 'response_format': {'type': 'text'},\n",
       " 'seed': None,\n",
       " 'stop': None,\n",
       " 'stream': False,\n",
       " 'temperature': 0.7,\n",
       " 'top_p': 1,\n",
       " 'tools': None,\n",
       " 'tool_choice': 'none',\n",
       " 'user': None}"
      ]
     },
     "execution_count": 9,
     "metadata": {},
     "output_type": "execute_result"
    }
   ],
   "source": [
    "m1.update_config(max_tokens=100)\n",
    "m1.to_dict()"
   ]
  }
 ],
 "metadata": {
  "kernelspec": {
   "display_name": ".venv",
   "language": "python",
   "name": "python3"
  },
  "language_info": {
   "codemirror_mode": {
    "name": "ipython",
    "version": 3
   },
   "file_extension": ".py",
   "mimetype": "text/x-python",
   "name": "python",
   "nbconvert_exporter": "python",
   "pygments_lexer": "ipython3",
   "version": "3.11.6"
  }
 },
 "nbformat": 4,
 "nbformat_minor": 2
}

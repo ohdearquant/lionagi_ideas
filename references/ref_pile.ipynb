{
 "cells": [
  {
   "cell_type": "markdown",
   "metadata": {},
   "source": [
    "### LionAGI pile\n",
    "\n",
    "pile object is used throughout lionagi system"
   ]
  },
  {
   "cell_type": "code",
   "execution_count": 1,
   "metadata": {},
   "outputs": [],
   "source": [
    "import lionagi as li"
   ]
  },
  {
   "cell_type": "code",
   "execution_count": 2,
   "metadata": {},
   "outputs": [],
   "source": [
    "# let us create some nodes and put into pile\n",
    "\n",
    "nodes1 = [li.Node(content=i) for i in [\"A\", \"B\", \"C\"]]\n",
    "nodes2 = [li.Node(content=i) for i in [\"D\", \"E\", \"F\"]]\n",
    "\n",
    "p1 = li.pile(nodes1)\n",
    "p2 = li.pile(nodes2)"
   ]
  },
  {
   "cell_type": "code",
   "execution_count": 3,
   "metadata": {},
   "outputs": [
    {
     "data": {
      "text/html": [
       "<div>\n",
       "<style scoped>\n",
       "    .dataframe tbody tr th:only-of-type {\n",
       "        vertical-align: middle;\n",
       "    }\n",
       "\n",
       "    .dataframe tbody tr th {\n",
       "        vertical-align: top;\n",
       "    }\n",
       "\n",
       "    .dataframe thead th {\n",
       "        text-align: right;\n",
       "    }\n",
       "</style>\n",
       "<table border=\"1\" class=\"dataframe\">\n",
       "  <thead>\n",
       "    <tr style=\"text-align: right;\">\n",
       "      <th></th>\n",
       "      <th>ln_id</th>\n",
       "      <th>created</th>\n",
       "      <th>metadata</th>\n",
       "      <th>content</th>\n",
       "      <th>relations</th>\n",
       "    </tr>\n",
       "  </thead>\n",
       "  <tbody>\n",
       "    <tr>\n",
       "      <th>0</th>\n",
       "      <td>102caf9ee580b710b25eeb5767592c14</td>\n",
       "      <td>2024-05-14T18:09:16.158913</td>\n",
       "      <td>{}</td>\n",
       "      <td>A</td>\n",
       "      <td>{'in': {'ln_id': '55ba557f3aa74074a049170acfd2...</td>\n",
       "    </tr>\n",
       "    <tr>\n",
       "      <th>1</th>\n",
       "      <td>c066609e00cf5a2e0bf3c21e0c644370</td>\n",
       "      <td>2024-05-14T18:09:16.158990</td>\n",
       "      <td>{}</td>\n",
       "      <td>B</td>\n",
       "      <td>{'in': {'ln_id': '7baf0795c3fdb0214e67f4bac17d...</td>\n",
       "    </tr>\n",
       "    <tr>\n",
       "      <th>2</th>\n",
       "      <td>b869457da840059c7581bef175390ce8</td>\n",
       "      <td>2024-05-14T18:09:16.159031</td>\n",
       "      <td>{}</td>\n",
       "      <td>C</td>\n",
       "      <td>{'in': {'ln_id': '69041a7a2ab1e0547aba9a841797...</td>\n",
       "    </tr>\n",
       "  </tbody>\n",
       "</table>\n",
       "</div>"
      ],
      "text/plain": [
       "                              ln_id                     created metadata  \\\n",
       "0  102caf9ee580b710b25eeb5767592c14  2024-05-14T18:09:16.158913       {}   \n",
       "1  c066609e00cf5a2e0bf3c21e0c644370  2024-05-14T18:09:16.158990       {}   \n",
       "2  b869457da840059c7581bef175390ce8  2024-05-14T18:09:16.159031       {}   \n",
       "\n",
       "  content                                          relations  \n",
       "0       A  {'in': {'ln_id': '55ba557f3aa74074a049170acfd2...  \n",
       "1       B  {'in': {'ln_id': '7baf0795c3fdb0214e67f4bac17d...  \n",
       "2       C  {'in': {'ln_id': '69041a7a2ab1e0547aba9a841797...  "
      ]
     },
     "execution_count": 3,
     "metadata": {},
     "output_type": "execute_result"
    }
   ],
   "source": [
    "p1.to_df()"
   ]
  },
  {
   "cell_type": "code",
   "execution_count": 4,
   "metadata": {},
   "outputs": [
    {
     "data": {
      "text/html": [
       "<div>\n",
       "<style scoped>\n",
       "    .dataframe tbody tr th:only-of-type {\n",
       "        vertical-align: middle;\n",
       "    }\n",
       "\n",
       "    .dataframe tbody tr th {\n",
       "        vertical-align: top;\n",
       "    }\n",
       "\n",
       "    .dataframe thead th {\n",
       "        text-align: right;\n",
       "    }\n",
       "</style>\n",
       "<table border=\"1\" class=\"dataframe\">\n",
       "  <thead>\n",
       "    <tr style=\"text-align: right;\">\n",
       "      <th></th>\n",
       "      <th>ln_id</th>\n",
       "      <th>created</th>\n",
       "      <th>metadata</th>\n",
       "      <th>content</th>\n",
       "      <th>relations</th>\n",
       "    </tr>\n",
       "  </thead>\n",
       "  <tbody>\n",
       "    <tr>\n",
       "      <th>0</th>\n",
       "      <td>102caf9ee580b710b25eeb5767592c14</td>\n",
       "      <td>2024-05-14T18:09:16.158913</td>\n",
       "      <td>{}</td>\n",
       "      <td>A</td>\n",
       "      <td>{'in': {'ln_id': '55ba557f3aa74074a049170acfd2...</td>\n",
       "    </tr>\n",
       "    <tr>\n",
       "      <th>1</th>\n",
       "      <td>c066609e00cf5a2e0bf3c21e0c644370</td>\n",
       "      <td>2024-05-14T18:09:16.158990</td>\n",
       "      <td>{}</td>\n",
       "      <td>B</td>\n",
       "      <td>{'in': {'ln_id': '7baf0795c3fdb0214e67f4bac17d...</td>\n",
       "    </tr>\n",
       "    <tr>\n",
       "      <th>2</th>\n",
       "      <td>b869457da840059c7581bef175390ce8</td>\n",
       "      <td>2024-05-14T18:09:16.159031</td>\n",
       "      <td>{}</td>\n",
       "      <td>C</td>\n",
       "      <td>{'in': {'ln_id': '69041a7a2ab1e0547aba9a841797...</td>\n",
       "    </tr>\n",
       "    <tr>\n",
       "      <th>3</th>\n",
       "      <td>c3d0de8be14afcd6da54cfa98670f61e</td>\n",
       "      <td>2024-05-14T18:09:16.159088</td>\n",
       "      <td>{}</td>\n",
       "      <td>D</td>\n",
       "      <td>{'in': {'ln_id': 'fcb86941538c801505fc1324c3fb...</td>\n",
       "    </tr>\n",
       "    <tr>\n",
       "      <th>4</th>\n",
       "      <td>950e880830e708bb8f7154c96e91fcc1</td>\n",
       "      <td>2024-05-14T18:09:16.159128</td>\n",
       "      <td>{}</td>\n",
       "      <td>E</td>\n",
       "      <td>{'in': {'ln_id': 'aa14f3a406f68869b4aab3bb3b91...</td>\n",
       "    </tr>\n",
       "    <tr>\n",
       "      <th>5</th>\n",
       "      <td>2b8583964002a911fd431f7975a0e1e5</td>\n",
       "      <td>2024-05-14T18:09:16.159165</td>\n",
       "      <td>{}</td>\n",
       "      <td>F</td>\n",
       "      <td>{'in': {'ln_id': '8285bda8a5c0399513c7bffa75d4...</td>\n",
       "    </tr>\n",
       "  </tbody>\n",
       "</table>\n",
       "</div>"
      ],
      "text/plain": [
       "                              ln_id                     created metadata  \\\n",
       "0  102caf9ee580b710b25eeb5767592c14  2024-05-14T18:09:16.158913       {}   \n",
       "1  c066609e00cf5a2e0bf3c21e0c644370  2024-05-14T18:09:16.158990       {}   \n",
       "2  b869457da840059c7581bef175390ce8  2024-05-14T18:09:16.159031       {}   \n",
       "3  c3d0de8be14afcd6da54cfa98670f61e  2024-05-14T18:09:16.159088       {}   \n",
       "4  950e880830e708bb8f7154c96e91fcc1  2024-05-14T18:09:16.159128       {}   \n",
       "5  2b8583964002a911fd431f7975a0e1e5  2024-05-14T18:09:16.159165       {}   \n",
       "\n",
       "  content                                          relations  \n",
       "0       A  {'in': {'ln_id': '55ba557f3aa74074a049170acfd2...  \n",
       "1       B  {'in': {'ln_id': '7baf0795c3fdb0214e67f4bac17d...  \n",
       "2       C  {'in': {'ln_id': '69041a7a2ab1e0547aba9a841797...  \n",
       "3       D  {'in': {'ln_id': 'fcb86941538c801505fc1324c3fb...  \n",
       "4       E  {'in': {'ln_id': 'aa14f3a406f68869b4aab3bb3b91...  \n",
       "5       F  {'in': {'ln_id': '8285bda8a5c0399513c7bffa75d4...  "
      ]
     },
     "execution_count": 4,
     "metadata": {},
     "output_type": "execute_result"
    }
   ],
   "source": [
    "## addition\n",
    "\n",
    "(p1 + p2).to_df()"
   ]
  },
  {
   "cell_type": "code",
   "execution_count": 5,
   "metadata": {},
   "outputs": [
    {
     "data": {
      "text/html": [
       "<div>\n",
       "<style scoped>\n",
       "    .dataframe tbody tr th:only-of-type {\n",
       "        vertical-align: middle;\n",
       "    }\n",
       "\n",
       "    .dataframe tbody tr th {\n",
       "        vertical-align: top;\n",
       "    }\n",
       "\n",
       "    .dataframe thead th {\n",
       "        text-align: right;\n",
       "    }\n",
       "</style>\n",
       "<table border=\"1\" class=\"dataframe\">\n",
       "  <thead>\n",
       "    <tr style=\"text-align: right;\">\n",
       "      <th></th>\n",
       "      <th>ln_id</th>\n",
       "      <th>created</th>\n",
       "      <th>metadata</th>\n",
       "      <th>content</th>\n",
       "      <th>relations</th>\n",
       "    </tr>\n",
       "  </thead>\n",
       "  <tbody>\n",
       "    <tr>\n",
       "      <th>0</th>\n",
       "      <td>102caf9ee580b710b25eeb5767592c14</td>\n",
       "      <td>2024-05-14T18:09:16.158913</td>\n",
       "      <td>{}</td>\n",
       "      <td>A</td>\n",
       "      <td>{'in': {'ln_id': '55ba557f3aa74074a049170acfd2...</td>\n",
       "    </tr>\n",
       "    <tr>\n",
       "      <th>1</th>\n",
       "      <td>c066609e00cf5a2e0bf3c21e0c644370</td>\n",
       "      <td>2024-05-14T18:09:16.158990</td>\n",
       "      <td>{}</td>\n",
       "      <td>B</td>\n",
       "      <td>{'in': {'ln_id': '7baf0795c3fdb0214e67f4bac17d...</td>\n",
       "    </tr>\n",
       "    <tr>\n",
       "      <th>2</th>\n",
       "      <td>b869457da840059c7581bef175390ce8</td>\n",
       "      <td>2024-05-14T18:09:16.159031</td>\n",
       "      <td>{}</td>\n",
       "      <td>C</td>\n",
       "      <td>{'in': {'ln_id': '69041a7a2ab1e0547aba9a841797...</td>\n",
       "    </tr>\n",
       "  </tbody>\n",
       "</table>\n",
       "</div>"
      ],
      "text/plain": [
       "                              ln_id                     created metadata  \\\n",
       "0  102caf9ee580b710b25eeb5767592c14  2024-05-14T18:09:16.158913       {}   \n",
       "1  c066609e00cf5a2e0bf3c21e0c644370  2024-05-14T18:09:16.158990       {}   \n",
       "2  b869457da840059c7581bef175390ce8  2024-05-14T18:09:16.159031       {}   \n",
       "\n",
       "  content                                          relations  \n",
       "0       A  {'in': {'ln_id': '55ba557f3aa74074a049170acfd2...  \n",
       "1       B  {'in': {'ln_id': '7baf0795c3fdb0214e67f4bac17d...  \n",
       "2       C  {'in': {'ln_id': '69041a7a2ab1e0547aba9a841797...  "
      ]
     },
     "execution_count": 5,
     "metadata": {},
     "output_type": "execute_result"
    }
   ],
   "source": [
    "p1.to_df()"
   ]
  },
  {
   "cell_type": "code",
   "execution_count": 6,
   "metadata": {},
   "outputs": [
    {
     "name": "stdout",
     "output_type": "stream",
     "text": [
      "Item not found. Item: '                              ln_id                     created metadata  \\\n",
      "0  c3d0de8be14afcd6da54cfa98670f61e  2024-05-14T18:09:16.159088       {}   \n",
      "1  950e880830e708bb8f7154c96e91fcc1  2024-05-14T18:09:16.159128       {}   \n",
      "2  2b8583964002a911fd431f7975a0e1e5  2024-05-14T18:09:16.159165       {}   \n",
      "\n",
      "  content                                          relations  \n",
      "0       D  {'in': {'ln_id': 'fcb86941538c801505fc1324c3fb...  \n",
      "1       E  {'in': {'ln_id': 'aa14f3a406f68869b4aab3bb3b91...  \n",
      "2       F  {'in': {'ln_id': '8285bda8a5c0399513c7bffa75d4...  '.\n"
     ]
    }
   ],
   "source": [
    "## subtraction\n",
    "\n",
    "try:\n",
    "    (p1-p2).to_df()\n",
    "except Exception as e:\n",
    "    print(e)"
   ]
  },
  {
   "cell_type": "code",
   "execution_count": 7,
   "metadata": {},
   "outputs": [
    {
     "data": {
      "text/plain": [
       "False"
      ]
     },
     "execution_count": 7,
     "metadata": {},
     "output_type": "execute_result"
    }
   ],
   "source": [
    "## containment\n",
    "\n",
    "p1 in p2"
   ]
  },
  {
   "cell_type": "code",
   "execution_count": 8,
   "metadata": {},
   "outputs": [
    {
     "name": "stdout",
     "output_type": "stream",
     "text": [
      "True\n"
     ]
    },
    {
     "data": {
      "text/html": [
       "<div>\n",
       "<style scoped>\n",
       "    .dataframe tbody tr th:only-of-type {\n",
       "        vertical-align: middle;\n",
       "    }\n",
       "\n",
       "    .dataframe tbody tr th {\n",
       "        vertical-align: top;\n",
       "    }\n",
       "\n",
       "    .dataframe thead th {\n",
       "        text-align: right;\n",
       "    }\n",
       "</style>\n",
       "<table border=\"1\" class=\"dataframe\">\n",
       "  <thead>\n",
       "    <tr style=\"text-align: right;\">\n",
       "      <th></th>\n",
       "      <th>ln_id</th>\n",
       "      <th>created</th>\n",
       "      <th>metadata</th>\n",
       "      <th>content</th>\n",
       "      <th>relations</th>\n",
       "    </tr>\n",
       "  </thead>\n",
       "  <tbody>\n",
       "    <tr>\n",
       "      <th>0</th>\n",
       "      <td>102caf9ee580b710b25eeb5767592c14</td>\n",
       "      <td>2024-05-14T18:09:16.158913</td>\n",
       "      <td>{}</td>\n",
       "      <td>A</td>\n",
       "      <td>{'in': {'ln_id': '55ba557f3aa74074a049170acfd2...</td>\n",
       "    </tr>\n",
       "    <tr>\n",
       "      <th>1</th>\n",
       "      <td>c066609e00cf5a2e0bf3c21e0c644370</td>\n",
       "      <td>2024-05-14T18:09:16.158990</td>\n",
       "      <td>{}</td>\n",
       "      <td>B</td>\n",
       "      <td>{'in': {'ln_id': '7baf0795c3fdb0214e67f4bac17d...</td>\n",
       "    </tr>\n",
       "    <tr>\n",
       "      <th>2</th>\n",
       "      <td>b869457da840059c7581bef175390ce8</td>\n",
       "      <td>2024-05-14T18:09:16.159031</td>\n",
       "      <td>{}</td>\n",
       "      <td>C</td>\n",
       "      <td>{'in': {'ln_id': '69041a7a2ab1e0547aba9a841797...</td>\n",
       "    </tr>\n",
       "    <tr>\n",
       "      <th>3</th>\n",
       "      <td>c3d0de8be14afcd6da54cfa98670f61e</td>\n",
       "      <td>2024-05-14T18:09:16.159088</td>\n",
       "      <td>{}</td>\n",
       "      <td>D</td>\n",
       "      <td>{'in': {'ln_id': 'fcb86941538c801505fc1324c3fb...</td>\n",
       "    </tr>\n",
       "    <tr>\n",
       "      <th>4</th>\n",
       "      <td>950e880830e708bb8f7154c96e91fcc1</td>\n",
       "      <td>2024-05-14T18:09:16.159128</td>\n",
       "      <td>{}</td>\n",
       "      <td>E</td>\n",
       "      <td>{'in': {'ln_id': 'aa14f3a406f68869b4aab3bb3b91...</td>\n",
       "    </tr>\n",
       "    <tr>\n",
       "      <th>5</th>\n",
       "      <td>2b8583964002a911fd431f7975a0e1e5</td>\n",
       "      <td>2024-05-14T18:09:16.159165</td>\n",
       "      <td>{}</td>\n",
       "      <td>F</td>\n",
       "      <td>{'in': {'ln_id': '8285bda8a5c0399513c7bffa75d4...</td>\n",
       "    </tr>\n",
       "  </tbody>\n",
       "</table>\n",
       "</div>"
      ],
      "text/plain": [
       "                              ln_id                     created metadata  \\\n",
       "0  102caf9ee580b710b25eeb5767592c14  2024-05-14T18:09:16.158913       {}   \n",
       "1  c066609e00cf5a2e0bf3c21e0c644370  2024-05-14T18:09:16.158990       {}   \n",
       "2  b869457da840059c7581bef175390ce8  2024-05-14T18:09:16.159031       {}   \n",
       "3  c3d0de8be14afcd6da54cfa98670f61e  2024-05-14T18:09:16.159088       {}   \n",
       "4  950e880830e708bb8f7154c96e91fcc1  2024-05-14T18:09:16.159128       {}   \n",
       "5  2b8583964002a911fd431f7975a0e1e5  2024-05-14T18:09:16.159165       {}   \n",
       "\n",
       "  content                                          relations  \n",
       "0       A  {'in': {'ln_id': '55ba557f3aa74074a049170acfd2...  \n",
       "1       B  {'in': {'ln_id': '7baf0795c3fdb0214e67f4bac17d...  \n",
       "2       C  {'in': {'ln_id': '69041a7a2ab1e0547aba9a841797...  \n",
       "3       D  {'in': {'ln_id': 'fcb86941538c801505fc1324c3fb...  \n",
       "4       E  {'in': {'ln_id': 'aa14f3a406f68869b4aab3bb3b91...  \n",
       "5       F  {'in': {'ln_id': '8285bda8a5c0399513c7bffa75d4...  "
      ]
     },
     "execution_count": 8,
     "metadata": {},
     "output_type": "execute_result"
    }
   ],
   "source": [
    "## inclusion\n",
    "\n",
    "print(p1.include(p2))\n",
    "p1.to_df()"
   ]
  },
  {
   "cell_type": "code",
   "execution_count": 9,
   "metadata": {},
   "outputs": [
    {
     "name": "stdout",
     "output_type": "stream",
     "text": [
      "True\n"
     ]
    },
    {
     "data": {
      "text/html": [
       "<div>\n",
       "<style scoped>\n",
       "    .dataframe tbody tr th:only-of-type {\n",
       "        vertical-align: middle;\n",
       "    }\n",
       "\n",
       "    .dataframe tbody tr th {\n",
       "        vertical-align: top;\n",
       "    }\n",
       "\n",
       "    .dataframe thead th {\n",
       "        text-align: right;\n",
       "    }\n",
       "</style>\n",
       "<table border=\"1\" class=\"dataframe\">\n",
       "  <thead>\n",
       "    <tr style=\"text-align: right;\">\n",
       "      <th></th>\n",
       "      <th>ln_id</th>\n",
       "      <th>created</th>\n",
       "      <th>metadata</th>\n",
       "      <th>content</th>\n",
       "      <th>relations</th>\n",
       "    </tr>\n",
       "  </thead>\n",
       "  <tbody>\n",
       "    <tr>\n",
       "      <th>0</th>\n",
       "      <td>102caf9ee580b710b25eeb5767592c14</td>\n",
       "      <td>2024-05-14T18:09:16.158913</td>\n",
       "      <td>{}</td>\n",
       "      <td>A</td>\n",
       "      <td>{'in': {'ln_id': '55ba557f3aa74074a049170acfd2...</td>\n",
       "    </tr>\n",
       "    <tr>\n",
       "      <th>1</th>\n",
       "      <td>c066609e00cf5a2e0bf3c21e0c644370</td>\n",
       "      <td>2024-05-14T18:09:16.158990</td>\n",
       "      <td>{}</td>\n",
       "      <td>B</td>\n",
       "      <td>{'in': {'ln_id': '7baf0795c3fdb0214e67f4bac17d...</td>\n",
       "    </tr>\n",
       "    <tr>\n",
       "      <th>2</th>\n",
       "      <td>b869457da840059c7581bef175390ce8</td>\n",
       "      <td>2024-05-14T18:09:16.159031</td>\n",
       "      <td>{}</td>\n",
       "      <td>C</td>\n",
       "      <td>{'in': {'ln_id': '69041a7a2ab1e0547aba9a841797...</td>\n",
       "    </tr>\n",
       "    <tr>\n",
       "      <th>3</th>\n",
       "      <td>950e880830e708bb8f7154c96e91fcc1</td>\n",
       "      <td>2024-05-14T18:09:16.159128</td>\n",
       "      <td>{}</td>\n",
       "      <td>E</td>\n",
       "      <td>{'in': {'ln_id': 'aa14f3a406f68869b4aab3bb3b91...</td>\n",
       "    </tr>\n",
       "    <tr>\n",
       "      <th>4</th>\n",
       "      <td>2b8583964002a911fd431f7975a0e1e5</td>\n",
       "      <td>2024-05-14T18:09:16.159165</td>\n",
       "      <td>{}</td>\n",
       "      <td>F</td>\n",
       "      <td>{'in': {'ln_id': '8285bda8a5c0399513c7bffa75d4...</td>\n",
       "    </tr>\n",
       "  </tbody>\n",
       "</table>\n",
       "</div>"
      ],
      "text/plain": [
       "                              ln_id                     created metadata  \\\n",
       "0  102caf9ee580b710b25eeb5767592c14  2024-05-14T18:09:16.158913       {}   \n",
       "1  c066609e00cf5a2e0bf3c21e0c644370  2024-05-14T18:09:16.158990       {}   \n",
       "2  b869457da840059c7581bef175390ce8  2024-05-14T18:09:16.159031       {}   \n",
       "3  950e880830e708bb8f7154c96e91fcc1  2024-05-14T18:09:16.159128       {}   \n",
       "4  2b8583964002a911fd431f7975a0e1e5  2024-05-14T18:09:16.159165       {}   \n",
       "\n",
       "  content                                          relations  \n",
       "0       A  {'in': {'ln_id': '55ba557f3aa74074a049170acfd2...  \n",
       "1       B  {'in': {'ln_id': '7baf0795c3fdb0214e67f4bac17d...  \n",
       "2       C  {'in': {'ln_id': '69041a7a2ab1e0547aba9a841797...  \n",
       "3       E  {'in': {'ln_id': 'aa14f3a406f68869b4aab3bb3b91...  \n",
       "4       F  {'in': {'ln_id': '8285bda8a5c0399513c7bffa75d4...  "
      ]
     },
     "execution_count": 9,
     "metadata": {},
     "output_type": "execute_result"
    }
   ],
   "source": [
    "## exclusion\n",
    "\n",
    "print(p1.exclude(p2))\n",
    "p1.to_df()"
   ]
  },
  {
   "cell_type": "code",
   "execution_count": 10,
   "metadata": {},
   "outputs": [
    {
     "data": {
      "text/plain": [
       "ln_id        c3d0de8be14afcd6da54cfa98670f61e\n",
       "created            2024-05-14T18:09:16.159088\n",
       "metadata                                   {}\n",
       "content                                     D\n",
       "relations                              [0, 0]\n",
       "dtype: object"
      ]
     },
     "execution_count": 10,
     "metadata": {},
     "output_type": "execute_result"
    }
   ],
   "source": [
    "## get item\n",
    "\n",
    "aa = p2[0]\n",
    "aa"
   ]
  },
  {
   "cell_type": "code",
   "execution_count": 11,
   "metadata": {},
   "outputs": [
    {
     "data": {
      "text/html": [
       "<div>\n",
       "<style scoped>\n",
       "    .dataframe tbody tr th:only-of-type {\n",
       "        vertical-align: middle;\n",
       "    }\n",
       "\n",
       "    .dataframe tbody tr th {\n",
       "        vertical-align: top;\n",
       "    }\n",
       "\n",
       "    .dataframe thead th {\n",
       "        text-align: right;\n",
       "    }\n",
       "</style>\n",
       "<table border=\"1\" class=\"dataframe\">\n",
       "  <thead>\n",
       "    <tr style=\"text-align: right;\">\n",
       "      <th></th>\n",
       "      <th>ln_id</th>\n",
       "      <th>created</th>\n",
       "      <th>metadata</th>\n",
       "      <th>content</th>\n",
       "      <th>relations</th>\n",
       "    </tr>\n",
       "  </thead>\n",
       "  <tbody>\n",
       "    <tr>\n",
       "      <th>0</th>\n",
       "      <td>6874c777af09952bc9db24e52745c098</td>\n",
       "      <td>2024-05-14T18:09:16.214631</td>\n",
       "      <td>{}</td>\n",
       "      <td>have a good day</td>\n",
       "      <td>{'in': {'ln_id': 'efa328ecf720d568716b44212cd2...</td>\n",
       "    </tr>\n",
       "    <tr>\n",
       "      <th>1</th>\n",
       "      <td>c066609e00cf5a2e0bf3c21e0c644370</td>\n",
       "      <td>2024-05-14T18:09:16.158990</td>\n",
       "      <td>{}</td>\n",
       "      <td>B</td>\n",
       "      <td>{'in': {'ln_id': '7baf0795c3fdb0214e67f4bac17d...</td>\n",
       "    </tr>\n",
       "    <tr>\n",
       "      <th>2</th>\n",
       "      <td>b869457da840059c7581bef175390ce8</td>\n",
       "      <td>2024-05-14T18:09:16.159031</td>\n",
       "      <td>{}</td>\n",
       "      <td>C</td>\n",
       "      <td>{'in': {'ln_id': '69041a7a2ab1e0547aba9a841797...</td>\n",
       "    </tr>\n",
       "    <tr>\n",
       "      <th>3</th>\n",
       "      <td>950e880830e708bb8f7154c96e91fcc1</td>\n",
       "      <td>2024-05-14T18:09:16.159128</td>\n",
       "      <td>{}</td>\n",
       "      <td>E</td>\n",
       "      <td>{'in': {'ln_id': 'aa14f3a406f68869b4aab3bb3b91...</td>\n",
       "    </tr>\n",
       "    <tr>\n",
       "      <th>4</th>\n",
       "      <td>2b8583964002a911fd431f7975a0e1e5</td>\n",
       "      <td>2024-05-14T18:09:16.159165</td>\n",
       "      <td>{}</td>\n",
       "      <td>F</td>\n",
       "      <td>{'in': {'ln_id': '8285bda8a5c0399513c7bffa75d4...</td>\n",
       "    </tr>\n",
       "  </tbody>\n",
       "</table>\n",
       "</div>"
      ],
      "text/plain": [
       "                              ln_id                     created metadata  \\\n",
       "0  6874c777af09952bc9db24e52745c098  2024-05-14T18:09:16.214631       {}   \n",
       "1  c066609e00cf5a2e0bf3c21e0c644370  2024-05-14T18:09:16.158990       {}   \n",
       "2  b869457da840059c7581bef175390ce8  2024-05-14T18:09:16.159031       {}   \n",
       "3  950e880830e708bb8f7154c96e91fcc1  2024-05-14T18:09:16.159128       {}   \n",
       "4  2b8583964002a911fd431f7975a0e1e5  2024-05-14T18:09:16.159165       {}   \n",
       "\n",
       "           content                                          relations  \n",
       "0  have a good day  {'in': {'ln_id': 'efa328ecf720d568716b44212cd2...  \n",
       "1                B  {'in': {'ln_id': '7baf0795c3fdb0214e67f4bac17d...  \n",
       "2                C  {'in': {'ln_id': '69041a7a2ab1e0547aba9a841797...  \n",
       "3                E  {'in': {'ln_id': 'aa14f3a406f68869b4aab3bb3b91...  \n",
       "4                F  {'in': {'ln_id': '8285bda8a5c0399513c7bffa75d4...  "
      ]
     },
     "execution_count": 11,
     "metadata": {},
     "output_type": "execute_result"
    }
   ],
   "source": [
    "## set item\n",
    "\n",
    "p1[0] = li.Node(content=\"have a good day\")\n",
    "p1.to_df()"
   ]
  },
  {
   "cell_type": "code",
   "execution_count": 12,
   "metadata": {},
   "outputs": [],
   "source": [
    "# p1[:4] = li.pile([li.Node(content=\"have a good day\") for i in range(4)])"
   ]
  },
  {
   "cell_type": "code",
   "execution_count": 13,
   "metadata": {},
   "outputs": [],
   "source": [
    "p1.insert(0, li.Node(content=\"have a good day\"))"
   ]
  },
  {
   "cell_type": "code",
   "execution_count": 14,
   "metadata": {},
   "outputs": [
    {
     "data": {
      "text/html": [
       "<div>\n",
       "<style scoped>\n",
       "    .dataframe tbody tr th:only-of-type {\n",
       "        vertical-align: middle;\n",
       "    }\n",
       "\n",
       "    .dataframe tbody tr th {\n",
       "        vertical-align: top;\n",
       "    }\n",
       "\n",
       "    .dataframe thead th {\n",
       "        text-align: right;\n",
       "    }\n",
       "</style>\n",
       "<table border=\"1\" class=\"dataframe\">\n",
       "  <thead>\n",
       "    <tr style=\"text-align: right;\">\n",
       "      <th></th>\n",
       "      <th>ln_id</th>\n",
       "      <th>created</th>\n",
       "      <th>metadata</th>\n",
       "      <th>content</th>\n",
       "      <th>relations</th>\n",
       "    </tr>\n",
       "  </thead>\n",
       "  <tbody>\n",
       "    <tr>\n",
       "      <th>0</th>\n",
       "      <td>82a650696fe8b92ec0ef236be1381935</td>\n",
       "      <td>2024-05-14T18:09:16.225187</td>\n",
       "      <td>{}</td>\n",
       "      <td>have a good day</td>\n",
       "      <td>{'in': {'ln_id': '3c8dcbb238fcca4eaa2f32fbd91d...</td>\n",
       "    </tr>\n",
       "    <tr>\n",
       "      <th>1</th>\n",
       "      <td>6874c777af09952bc9db24e52745c098</td>\n",
       "      <td>2024-05-14T18:09:16.214631</td>\n",
       "      <td>{}</td>\n",
       "      <td>have a good day</td>\n",
       "      <td>{'in': {'ln_id': 'efa328ecf720d568716b44212cd2...</td>\n",
       "    </tr>\n",
       "    <tr>\n",
       "      <th>2</th>\n",
       "      <td>c066609e00cf5a2e0bf3c21e0c644370</td>\n",
       "      <td>2024-05-14T18:09:16.158990</td>\n",
       "      <td>{}</td>\n",
       "      <td>B</td>\n",
       "      <td>{'in': {'ln_id': '7baf0795c3fdb0214e67f4bac17d...</td>\n",
       "    </tr>\n",
       "    <tr>\n",
       "      <th>3</th>\n",
       "      <td>b869457da840059c7581bef175390ce8</td>\n",
       "      <td>2024-05-14T18:09:16.159031</td>\n",
       "      <td>{}</td>\n",
       "      <td>C</td>\n",
       "      <td>{'in': {'ln_id': '69041a7a2ab1e0547aba9a841797...</td>\n",
       "    </tr>\n",
       "    <tr>\n",
       "      <th>4</th>\n",
       "      <td>950e880830e708bb8f7154c96e91fcc1</td>\n",
       "      <td>2024-05-14T18:09:16.159128</td>\n",
       "      <td>{}</td>\n",
       "      <td>E</td>\n",
       "      <td>{'in': {'ln_id': 'aa14f3a406f68869b4aab3bb3b91...</td>\n",
       "    </tr>\n",
       "    <tr>\n",
       "      <th>5</th>\n",
       "      <td>2b8583964002a911fd431f7975a0e1e5</td>\n",
       "      <td>2024-05-14T18:09:16.159165</td>\n",
       "      <td>{}</td>\n",
       "      <td>F</td>\n",
       "      <td>{'in': {'ln_id': '8285bda8a5c0399513c7bffa75d4...</td>\n",
       "    </tr>\n",
       "  </tbody>\n",
       "</table>\n",
       "</div>"
      ],
      "text/plain": [
       "                              ln_id                     created metadata  \\\n",
       "0  82a650696fe8b92ec0ef236be1381935  2024-05-14T18:09:16.225187       {}   \n",
       "1  6874c777af09952bc9db24e52745c098  2024-05-14T18:09:16.214631       {}   \n",
       "2  c066609e00cf5a2e0bf3c21e0c644370  2024-05-14T18:09:16.158990       {}   \n",
       "3  b869457da840059c7581bef175390ce8  2024-05-14T18:09:16.159031       {}   \n",
       "4  950e880830e708bb8f7154c96e91fcc1  2024-05-14T18:09:16.159128       {}   \n",
       "5  2b8583964002a911fd431f7975a0e1e5  2024-05-14T18:09:16.159165       {}   \n",
       "\n",
       "           content                                          relations  \n",
       "0  have a good day  {'in': {'ln_id': '3c8dcbb238fcca4eaa2f32fbd91d...  \n",
       "1  have a good day  {'in': {'ln_id': 'efa328ecf720d568716b44212cd2...  \n",
       "2                B  {'in': {'ln_id': '7baf0795c3fdb0214e67f4bac17d...  \n",
       "3                C  {'in': {'ln_id': '69041a7a2ab1e0547aba9a841797...  \n",
       "4                E  {'in': {'ln_id': 'aa14f3a406f68869b4aab3bb3b91...  \n",
       "5                F  {'in': {'ln_id': '8285bda8a5c0399513c7bffa75d4...  "
      ]
     },
     "execution_count": 14,
     "metadata": {},
     "output_type": "execute_result"
    }
   ],
   "source": [
    "p1.to_df()"
   ]
  },
  {
   "cell_type": "code",
   "execution_count": 15,
   "metadata": {},
   "outputs": [
    {
     "data": {
      "text/html": [
       "<div>\n",
       "<style scoped>\n",
       "    .dataframe tbody tr th:only-of-type {\n",
       "        vertical-align: middle;\n",
       "    }\n",
       "\n",
       "    .dataframe tbody tr th {\n",
       "        vertical-align: top;\n",
       "    }\n",
       "\n",
       "    .dataframe thead th {\n",
       "        text-align: right;\n",
       "    }\n",
       "</style>\n",
       "<table border=\"1\" class=\"dataframe\">\n",
       "  <thead>\n",
       "    <tr style=\"text-align: right;\">\n",
       "      <th></th>\n",
       "      <th>ln_id</th>\n",
       "      <th>created</th>\n",
       "      <th>metadata</th>\n",
       "      <th>content</th>\n",
       "      <th>relations</th>\n",
       "    </tr>\n",
       "  </thead>\n",
       "  <tbody>\n",
       "    <tr>\n",
       "      <th>0</th>\n",
       "      <td>82a650696fe8b92ec0ef236be1381935</td>\n",
       "      <td>2024-05-14T18:09:16.225187</td>\n",
       "      <td>{}</td>\n",
       "      <td>have a good day</td>\n",
       "      <td>{'in': {'ln_id': '3c8dcbb238fcca4eaa2f32fbd91d...</td>\n",
       "    </tr>\n",
       "    <tr>\n",
       "      <th>1</th>\n",
       "      <td>6874c777af09952bc9db24e52745c098</td>\n",
       "      <td>2024-05-14T18:09:16.214631</td>\n",
       "      <td>{}</td>\n",
       "      <td>have a good day</td>\n",
       "      <td>{'in': {'ln_id': 'efa328ecf720d568716b44212cd2...</td>\n",
       "    </tr>\n",
       "    <tr>\n",
       "      <th>2</th>\n",
       "      <td>c066609e00cf5a2e0bf3c21e0c644370</td>\n",
       "      <td>2024-05-14T18:09:16.158990</td>\n",
       "      <td>{}</td>\n",
       "      <td>B</td>\n",
       "      <td>{'in': {'ln_id': '7baf0795c3fdb0214e67f4bac17d...</td>\n",
       "    </tr>\n",
       "    <tr>\n",
       "      <th>3</th>\n",
       "      <td>b869457da840059c7581bef175390ce8</td>\n",
       "      <td>2024-05-14T18:09:16.159031</td>\n",
       "      <td>{}</td>\n",
       "      <td>C</td>\n",
       "      <td>{'in': {'ln_id': '69041a7a2ab1e0547aba9a841797...</td>\n",
       "    </tr>\n",
       "    <tr>\n",
       "      <th>4</th>\n",
       "      <td>950e880830e708bb8f7154c96e91fcc1</td>\n",
       "      <td>2024-05-14T18:09:16.159128</td>\n",
       "      <td>{}</td>\n",
       "      <td>E</td>\n",
       "      <td>{'in': {'ln_id': 'aa14f3a406f68869b4aab3bb3b91...</td>\n",
       "    </tr>\n",
       "    <tr>\n",
       "      <th>5</th>\n",
       "      <td>2b8583964002a911fd431f7975a0e1e5</td>\n",
       "      <td>2024-05-14T18:09:16.159165</td>\n",
       "      <td>{}</td>\n",
       "      <td>F</td>\n",
       "      <td>{'in': {'ln_id': '8285bda8a5c0399513c7bffa75d4...</td>\n",
       "    </tr>\n",
       "    <tr>\n",
       "      <th>6</th>\n",
       "      <td>0ddfb68e130ca4164d94d24c46d8fea5</td>\n",
       "      <td>2024-05-14T18:09:16.235632</td>\n",
       "      <td>{}</td>\n",
       "      <td>hello world</td>\n",
       "      <td>{'in': {'ln_id': '45ea8751010a8bcba073c759053e...</td>\n",
       "    </tr>\n",
       "  </tbody>\n",
       "</table>\n",
       "</div>"
      ],
      "text/plain": [
       "                              ln_id                     created metadata  \\\n",
       "0  82a650696fe8b92ec0ef236be1381935  2024-05-14T18:09:16.225187       {}   \n",
       "1  6874c777af09952bc9db24e52745c098  2024-05-14T18:09:16.214631       {}   \n",
       "2  c066609e00cf5a2e0bf3c21e0c644370  2024-05-14T18:09:16.158990       {}   \n",
       "3  b869457da840059c7581bef175390ce8  2024-05-14T18:09:16.159031       {}   \n",
       "4  950e880830e708bb8f7154c96e91fcc1  2024-05-14T18:09:16.159128       {}   \n",
       "5  2b8583964002a911fd431f7975a0e1e5  2024-05-14T18:09:16.159165       {}   \n",
       "6  0ddfb68e130ca4164d94d24c46d8fea5  2024-05-14T18:09:16.235632       {}   \n",
       "\n",
       "           content                                          relations  \n",
       "0  have a good day  {'in': {'ln_id': '3c8dcbb238fcca4eaa2f32fbd91d...  \n",
       "1  have a good day  {'in': {'ln_id': 'efa328ecf720d568716b44212cd2...  \n",
       "2                B  {'in': {'ln_id': '7baf0795c3fdb0214e67f4bac17d...  \n",
       "3                C  {'in': {'ln_id': '69041a7a2ab1e0547aba9a841797...  \n",
       "4                E  {'in': {'ln_id': 'aa14f3a406f68869b4aab3bb3b91...  \n",
       "5                F  {'in': {'ln_id': '8285bda8a5c0399513c7bffa75d4...  \n",
       "6      hello world  {'in': {'ln_id': '45ea8751010a8bcba073c759053e...  "
      ]
     },
     "execution_count": 15,
     "metadata": {},
     "output_type": "execute_result"
    }
   ],
   "source": [
    "## other\n",
    "node = li.Node(content=\"hello world\")\n",
    "p1 += node\n",
    "p1.to_df()"
   ]
  },
  {
   "cell_type": "code",
   "execution_count": 16,
   "metadata": {},
   "outputs": [
    {
     "data": {
      "text/html": [
       "<div>\n",
       "<style scoped>\n",
       "    .dataframe tbody tr th:only-of-type {\n",
       "        vertical-align: middle;\n",
       "    }\n",
       "\n",
       "    .dataframe tbody tr th {\n",
       "        vertical-align: top;\n",
       "    }\n",
       "\n",
       "    .dataframe thead th {\n",
       "        text-align: right;\n",
       "    }\n",
       "</style>\n",
       "<table border=\"1\" class=\"dataframe\">\n",
       "  <thead>\n",
       "    <tr style=\"text-align: right;\">\n",
       "      <th></th>\n",
       "      <th>ln_id</th>\n",
       "      <th>created</th>\n",
       "      <th>metadata</th>\n",
       "      <th>content</th>\n",
       "      <th>relations</th>\n",
       "    </tr>\n",
       "  </thead>\n",
       "  <tbody>\n",
       "    <tr>\n",
       "      <th>0</th>\n",
       "      <td>82a650696fe8b92ec0ef236be1381935</td>\n",
       "      <td>2024-05-14T18:09:16.225187</td>\n",
       "      <td>{}</td>\n",
       "      <td>have a good day</td>\n",
       "      <td>{'in': {'ln_id': '3c8dcbb238fcca4eaa2f32fbd91d...</td>\n",
       "    </tr>\n",
       "    <tr>\n",
       "      <th>1</th>\n",
       "      <td>6874c777af09952bc9db24e52745c098</td>\n",
       "      <td>2024-05-14T18:09:16.214631</td>\n",
       "      <td>{}</td>\n",
       "      <td>have a good day</td>\n",
       "      <td>{'in': {'ln_id': 'efa328ecf720d568716b44212cd2...</td>\n",
       "    </tr>\n",
       "    <tr>\n",
       "      <th>2</th>\n",
       "      <td>b869457da840059c7581bef175390ce8</td>\n",
       "      <td>2024-05-14T18:09:16.159031</td>\n",
       "      <td>{}</td>\n",
       "      <td>C</td>\n",
       "      <td>{'in': {'ln_id': '69041a7a2ab1e0547aba9a841797...</td>\n",
       "    </tr>\n",
       "    <tr>\n",
       "      <th>3</th>\n",
       "      <td>950e880830e708bb8f7154c96e91fcc1</td>\n",
       "      <td>2024-05-14T18:09:16.159128</td>\n",
       "      <td>{}</td>\n",
       "      <td>E</td>\n",
       "      <td>{'in': {'ln_id': 'aa14f3a406f68869b4aab3bb3b91...</td>\n",
       "    </tr>\n",
       "    <tr>\n",
       "      <th>4</th>\n",
       "      <td>2b8583964002a911fd431f7975a0e1e5</td>\n",
       "      <td>2024-05-14T18:09:16.159165</td>\n",
       "      <td>{}</td>\n",
       "      <td>F</td>\n",
       "      <td>{'in': {'ln_id': '8285bda8a5c0399513c7bffa75d4...</td>\n",
       "    </tr>\n",
       "    <tr>\n",
       "      <th>5</th>\n",
       "      <td>0ddfb68e130ca4164d94d24c46d8fea5</td>\n",
       "      <td>2024-05-14T18:09:16.235632</td>\n",
       "      <td>{}</td>\n",
       "      <td>hello world</td>\n",
       "      <td>{'in': {'ln_id': '45ea8751010a8bcba073c759053e...</td>\n",
       "    </tr>\n",
       "  </tbody>\n",
       "</table>\n",
       "</div>"
      ],
      "text/plain": [
       "                              ln_id                     created metadata  \\\n",
       "0  82a650696fe8b92ec0ef236be1381935  2024-05-14T18:09:16.225187       {}   \n",
       "1  6874c777af09952bc9db24e52745c098  2024-05-14T18:09:16.214631       {}   \n",
       "2  b869457da840059c7581bef175390ce8  2024-05-14T18:09:16.159031       {}   \n",
       "3  950e880830e708bb8f7154c96e91fcc1  2024-05-14T18:09:16.159128       {}   \n",
       "4  2b8583964002a911fd431f7975a0e1e5  2024-05-14T18:09:16.159165       {}   \n",
       "5  0ddfb68e130ca4164d94d24c46d8fea5  2024-05-14T18:09:16.235632       {}   \n",
       "\n",
       "           content                                          relations  \n",
       "0  have a good day  {'in': {'ln_id': '3c8dcbb238fcca4eaa2f32fbd91d...  \n",
       "1  have a good day  {'in': {'ln_id': 'efa328ecf720d568716b44212cd2...  \n",
       "2                C  {'in': {'ln_id': '69041a7a2ab1e0547aba9a841797...  \n",
       "3                E  {'in': {'ln_id': 'aa14f3a406f68869b4aab3bb3b91...  \n",
       "4                F  {'in': {'ln_id': '8285bda8a5c0399513c7bffa75d4...  \n",
       "5      hello world  {'in': {'ln_id': '45ea8751010a8bcba073c759053e...  "
      ]
     },
     "execution_count": 16,
     "metadata": {},
     "output_type": "execute_result"
    }
   ],
   "source": [
    "# you can remove an element from the pile by -= an object directly\n",
    "p1 -= nodes1[1] # the original sequence second element was B\n",
    "p1.to_df()"
   ]
  },
  {
   "cell_type": "code",
   "execution_count": 17,
   "metadata": {},
   "outputs": [],
   "source": [
    "# p1.to_graph()"
   ]
  },
  {
   "cell_type": "code",
   "execution_count": 18,
   "metadata": {},
   "outputs": [
    {
     "data": {
      "text/plain": [
       "False"
      ]
     },
     "execution_count": 18,
     "metadata": {},
     "output_type": "execute_result"
    }
   ],
   "source": [
    "nodes1[1] in p1"
   ]
  },
  {
   "cell_type": "code",
   "execution_count": 19,
   "metadata": {},
   "outputs": [
    {
     "name": "stdout",
     "output_type": "stream",
     "text": [
      "Item not found. Item: 'ln_id        c066609e00cf5a2e0bf3c21e0c644370\n",
      "created            2024-05-14T18:09:16.158990\n",
      "metadata                                   {}\n",
      "content                                     B\n",
      "relations                              [0, 0]\n",
      "dtype: object'.\n"
     ]
    }
   ],
   "source": [
    "try:\n",
    "    p1 - nodes1[1]\n",
    "except Exception as e:\n",
    "    print(e)\n",
    "    "
   ]
  },
  {
   "cell_type": "code",
   "execution_count": 20,
   "metadata": {},
   "outputs": [
    {
     "data": {
      "text/plain": [
       "[]"
      ]
     },
     "execution_count": 20,
     "metadata": {},
     "output_type": "execute_result"
    }
   ],
   "source": [
    "a = li.pile()\n",
    "b = li.pile()\n",
    "\n",
    "list(a + b)"
   ]
  },
  {
   "cell_type": "code",
   "execution_count": 21,
   "metadata": {},
   "outputs": [
    {
     "data": {
      "text/plain": [
       "2"
      ]
     },
     "execution_count": 21,
     "metadata": {},
     "output_type": "execute_result"
    }
   ],
   "source": [
    "len([True, True])"
   ]
  },
  {
   "cell_type": "code",
   "execution_count": null,
   "metadata": {},
   "outputs": [],
   "source": []
  }
 ],
 "metadata": {
  "kernelspec": {
   "display_name": ".venv",
   "language": "python",
   "name": "python3"
  },
  "language_info": {
   "codemirror_mode": {
    "name": "ipython",
    "version": 3
   },
   "file_extension": ".py",
   "mimetype": "text/x-python",
   "name": "python",
   "nbconvert_exporter": "python",
   "pygments_lexer": "ipython3",
   "version": "3.11.6"
  }
 },
 "nbformat": 4,
 "nbformat_minor": 2
}

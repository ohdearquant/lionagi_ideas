{
 "cells": [
  {
   "cell_type": "markdown",
   "metadata": {},
   "source": [
    "### LionAGI pile\n",
    "\n",
    "pile object is used throughout lionagi system"
   ]
  },
  {
   "cell_type": "code",
   "execution_count": 1,
   "metadata": {},
   "outputs": [],
   "source": [
    "import lionagi as li"
   ]
  },
  {
   "cell_type": "code",
   "execution_count": 2,
   "metadata": {},
   "outputs": [],
   "source": [
    "# let us create some nodes and put into pile\n",
    "\n",
    "nodes1 = [li.Node(content=i) for i in [\"A\", \"B\", \"C\"]]\n",
    "nodes2 = [li.Node(content=i) for i in [\"D\", \"E\", \"F\"]]\n",
    "\n",
    "p1 = li.pile(nodes1)\n",
    "p2 = li.pile(nodes2)"
   ]
  },
  {
   "cell_type": "code",
   "execution_count": 3,
   "metadata": {},
   "outputs": [
    {
     "data": {
      "text/html": [
       "<div>\n",
       "<style scoped>\n",
       "    .dataframe tbody tr th:only-of-type {\n",
       "        vertical-align: middle;\n",
       "    }\n",
       "\n",
       "    .dataframe tbody tr th {\n",
       "        vertical-align: top;\n",
       "    }\n",
       "\n",
       "    .dataframe thead th {\n",
       "        text-align: right;\n",
       "    }\n",
       "</style>\n",
       "<table border=\"1\" class=\"dataframe\">\n",
       "  <thead>\n",
       "    <tr style=\"text-align: right;\">\n",
       "      <th></th>\n",
       "      <th>ln_id</th>\n",
       "      <th>created</th>\n",
       "      <th>metadata</th>\n",
       "      <th>content</th>\n",
       "      <th>relations</th>\n",
       "    </tr>\n",
       "  </thead>\n",
       "  <tbody>\n",
       "    <tr>\n",
       "      <th>0</th>\n",
       "      <td>f942d2db889b6882492e91d553bcf740</td>\n",
       "      <td>2024-05-08T03:23:04.377916</td>\n",
       "      <td>{}</td>\n",
       "      <td>A</td>\n",
       "      <td>{'ln_id': '062b64ef812b6710299e36b37fc05f35', ...</td>\n",
       "    </tr>\n",
       "    <tr>\n",
       "      <th>1</th>\n",
       "      <td>939b0dbbd7541d1ef5cff50ca0ec176a</td>\n",
       "      <td>2024-05-08T03:23:04.377974</td>\n",
       "      <td>{}</td>\n",
       "      <td>B</td>\n",
       "      <td>{'ln_id': 'a9e93344744b27b8bc9c7890fdae5b71', ...</td>\n",
       "    </tr>\n",
       "    <tr>\n",
       "      <th>2</th>\n",
       "      <td>b7aeaaf4998e1625e0c6d4dff0878df2</td>\n",
       "      <td>2024-05-08T03:23:04.378117</td>\n",
       "      <td>{}</td>\n",
       "      <td>C</td>\n",
       "      <td>{'ln_id': 'b082c772cc2fa3c108b238a23fd61460', ...</td>\n",
       "    </tr>\n",
       "    <tr>\n",
       "      <th>3</th>\n",
       "      <td>1fe196f538cb2265f244a1277e0b6450</td>\n",
       "      <td>2024-05-08T03:23:04.378208</td>\n",
       "      <td>{}</td>\n",
       "      <td>D</td>\n",
       "      <td>{'ln_id': '4aead0a5bce0b8aadf64534c123249f7', ...</td>\n",
       "    </tr>\n",
       "    <tr>\n",
       "      <th>4</th>\n",
       "      <td>b2968d5f6513def13de74c0bbfb3de53</td>\n",
       "      <td>2024-05-08T03:23:04.378240</td>\n",
       "      <td>{}</td>\n",
       "      <td>E</td>\n",
       "      <td>{'ln_id': 'd089df638c1f549704c955f58aae565a', ...</td>\n",
       "    </tr>\n",
       "    <tr>\n",
       "      <th>5</th>\n",
       "      <td>86b0399405fb7c231bf2eadd102e6179</td>\n",
       "      <td>2024-05-08T03:23:04.378276</td>\n",
       "      <td>{}</td>\n",
       "      <td>F</td>\n",
       "      <td>{'ln_id': 'd5f686d4a6e8be5ded9b6634f42614c5', ...</td>\n",
       "    </tr>\n",
       "  </tbody>\n",
       "</table>\n",
       "</div>"
      ],
      "text/plain": [
       "                              ln_id                     created metadata  \\\n",
       "0  f942d2db889b6882492e91d553bcf740  2024-05-08T03:23:04.377916       {}   \n",
       "1  939b0dbbd7541d1ef5cff50ca0ec176a  2024-05-08T03:23:04.377974       {}   \n",
       "2  b7aeaaf4998e1625e0c6d4dff0878df2  2024-05-08T03:23:04.378117       {}   \n",
       "3  1fe196f538cb2265f244a1277e0b6450  2024-05-08T03:23:04.378208       {}   \n",
       "4  b2968d5f6513def13de74c0bbfb3de53  2024-05-08T03:23:04.378240       {}   \n",
       "5  86b0399405fb7c231bf2eadd102e6179  2024-05-08T03:23:04.378276       {}   \n",
       "\n",
       "  content                                          relations  \n",
       "0       A  {'ln_id': '062b64ef812b6710299e36b37fc05f35', ...  \n",
       "1       B  {'ln_id': 'a9e93344744b27b8bc9c7890fdae5b71', ...  \n",
       "2       C  {'ln_id': 'b082c772cc2fa3c108b238a23fd61460', ...  \n",
       "3       D  {'ln_id': '4aead0a5bce0b8aadf64534c123249f7', ...  \n",
       "4       E  {'ln_id': 'd089df638c1f549704c955f58aae565a', ...  \n",
       "5       F  {'ln_id': 'd5f686d4a6e8be5ded9b6634f42614c5', ...  "
      ]
     },
     "execution_count": 3,
     "metadata": {},
     "output_type": "execute_result"
    }
   ],
   "source": [
    "## addition\n",
    "\n",
    "(p1 + p2).to_df()"
   ]
  },
  {
   "cell_type": "code",
   "execution_count": 4,
   "metadata": {},
   "outputs": [
    {
     "name": "stdout",
     "output_type": "stream",
     "text": [
      "Item not found. Item: '                              ln_id                     created metadata  \\\n",
      "0  1fe196f538cb2265f244a1277e0b6450  2024-05-08T03:23:04.378208       {}   \n",
      "1  b2968d5f6513def13de74c0bbfb3de53  2024-05-08T03:23:04.378240       {}   \n",
      "2  86b0399405fb7c231bf2eadd102e6179  2024-05-08T03:23:04.378276       {}   \n",
      "\n",
      "  content                                          relations  \n",
      "0       D  {'ln_id': '4aead0a5bce0b8aadf64534c123249f7', ...  \n",
      "1       E  {'ln_id': 'd089df638c1f549704c955f58aae565a', ...  \n",
      "2       F  {'ln_id': 'd5f686d4a6e8be5ded9b6634f42614c5', ...  '.\n"
     ]
    }
   ],
   "source": [
    "## subtraction\n",
    "\n",
    "try:\n",
    "    (p1 - p2).to_df()\n",
    "except Exception as e:\n",
    "    print(e)"
   ]
  },
  {
   "cell_type": "code",
   "execution_count": 5,
   "metadata": {},
   "outputs": [
    {
     "data": {
      "text/plain": [
       "False"
      ]
     },
     "execution_count": 5,
     "metadata": {},
     "output_type": "execute_result"
    }
   ],
   "source": [
    "## containment\n",
    "\n",
    "p1 in p2"
   ]
  },
  {
   "cell_type": "code",
   "execution_count": 6,
   "metadata": {},
   "outputs": [
    {
     "name": "stdout",
     "output_type": "stream",
     "text": [
      "True\n"
     ]
    },
    {
     "data": {
      "text/html": [
       "<div>\n",
       "<style scoped>\n",
       "    .dataframe tbody tr th:only-of-type {\n",
       "        vertical-align: middle;\n",
       "    }\n",
       "\n",
       "    .dataframe tbody tr th {\n",
       "        vertical-align: top;\n",
       "    }\n",
       "\n",
       "    .dataframe thead th {\n",
       "        text-align: right;\n",
       "    }\n",
       "</style>\n",
       "<table border=\"1\" class=\"dataframe\">\n",
       "  <thead>\n",
       "    <tr style=\"text-align: right;\">\n",
       "      <th></th>\n",
       "      <th>ln_id</th>\n",
       "      <th>created</th>\n",
       "      <th>metadata</th>\n",
       "      <th>content</th>\n",
       "      <th>relations</th>\n",
       "    </tr>\n",
       "  </thead>\n",
       "  <tbody>\n",
       "    <tr>\n",
       "      <th>0</th>\n",
       "      <td>f942d2db889b6882492e91d553bcf740</td>\n",
       "      <td>2024-05-08T03:23:04.377916</td>\n",
       "      <td>{}</td>\n",
       "      <td>A</td>\n",
       "      <td>{'ln_id': '062b64ef812b6710299e36b37fc05f35', ...</td>\n",
       "    </tr>\n",
       "    <tr>\n",
       "      <th>1</th>\n",
       "      <td>939b0dbbd7541d1ef5cff50ca0ec176a</td>\n",
       "      <td>2024-05-08T03:23:04.377974</td>\n",
       "      <td>{}</td>\n",
       "      <td>B</td>\n",
       "      <td>{'ln_id': 'a9e93344744b27b8bc9c7890fdae5b71', ...</td>\n",
       "    </tr>\n",
       "    <tr>\n",
       "      <th>2</th>\n",
       "      <td>b7aeaaf4998e1625e0c6d4dff0878df2</td>\n",
       "      <td>2024-05-08T03:23:04.378117</td>\n",
       "      <td>{}</td>\n",
       "      <td>C</td>\n",
       "      <td>{'ln_id': 'b082c772cc2fa3c108b238a23fd61460', ...</td>\n",
       "    </tr>\n",
       "    <tr>\n",
       "      <th>3</th>\n",
       "      <td>1fe196f538cb2265f244a1277e0b6450</td>\n",
       "      <td>2024-05-08T03:23:04.378208</td>\n",
       "      <td>{}</td>\n",
       "      <td>D</td>\n",
       "      <td>{'ln_id': '4aead0a5bce0b8aadf64534c123249f7', ...</td>\n",
       "    </tr>\n",
       "    <tr>\n",
       "      <th>4</th>\n",
       "      <td>b2968d5f6513def13de74c0bbfb3de53</td>\n",
       "      <td>2024-05-08T03:23:04.378240</td>\n",
       "      <td>{}</td>\n",
       "      <td>E</td>\n",
       "      <td>{'ln_id': 'd089df638c1f549704c955f58aae565a', ...</td>\n",
       "    </tr>\n",
       "    <tr>\n",
       "      <th>5</th>\n",
       "      <td>86b0399405fb7c231bf2eadd102e6179</td>\n",
       "      <td>2024-05-08T03:23:04.378276</td>\n",
       "      <td>{}</td>\n",
       "      <td>F</td>\n",
       "      <td>{'ln_id': 'd5f686d4a6e8be5ded9b6634f42614c5', ...</td>\n",
       "    </tr>\n",
       "  </tbody>\n",
       "</table>\n",
       "</div>"
      ],
      "text/plain": [
       "                              ln_id                     created metadata  \\\n",
       "0  f942d2db889b6882492e91d553bcf740  2024-05-08T03:23:04.377916       {}   \n",
       "1  939b0dbbd7541d1ef5cff50ca0ec176a  2024-05-08T03:23:04.377974       {}   \n",
       "2  b7aeaaf4998e1625e0c6d4dff0878df2  2024-05-08T03:23:04.378117       {}   \n",
       "3  1fe196f538cb2265f244a1277e0b6450  2024-05-08T03:23:04.378208       {}   \n",
       "4  b2968d5f6513def13de74c0bbfb3de53  2024-05-08T03:23:04.378240       {}   \n",
       "5  86b0399405fb7c231bf2eadd102e6179  2024-05-08T03:23:04.378276       {}   \n",
       "\n",
       "  content                                          relations  \n",
       "0       A  {'ln_id': '062b64ef812b6710299e36b37fc05f35', ...  \n",
       "1       B  {'ln_id': 'a9e93344744b27b8bc9c7890fdae5b71', ...  \n",
       "2       C  {'ln_id': 'b082c772cc2fa3c108b238a23fd61460', ...  \n",
       "3       D  {'ln_id': '4aead0a5bce0b8aadf64534c123249f7', ...  \n",
       "4       E  {'ln_id': 'd089df638c1f549704c955f58aae565a', ...  \n",
       "5       F  {'ln_id': 'd5f686d4a6e8be5ded9b6634f42614c5', ...  "
      ]
     },
     "execution_count": 6,
     "metadata": {},
     "output_type": "execute_result"
    }
   ],
   "source": [
    "## inclusion\n",
    "\n",
    "print(p1.include(p2))\n",
    "p1.to_df()"
   ]
  },
  {
   "cell_type": "code",
   "execution_count": 7,
   "metadata": {},
   "outputs": [
    {
     "name": "stdout",
     "output_type": "stream",
     "text": [
      "True\n"
     ]
    },
    {
     "data": {
      "text/html": [
       "<div>\n",
       "<style scoped>\n",
       "    .dataframe tbody tr th:only-of-type {\n",
       "        vertical-align: middle;\n",
       "    }\n",
       "\n",
       "    .dataframe tbody tr th {\n",
       "        vertical-align: top;\n",
       "    }\n",
       "\n",
       "    .dataframe thead th {\n",
       "        text-align: right;\n",
       "    }\n",
       "</style>\n",
       "<table border=\"1\" class=\"dataframe\">\n",
       "  <thead>\n",
       "    <tr style=\"text-align: right;\">\n",
       "      <th></th>\n",
       "      <th>ln_id</th>\n",
       "      <th>created</th>\n",
       "      <th>metadata</th>\n",
       "      <th>content</th>\n",
       "      <th>relations</th>\n",
       "    </tr>\n",
       "  </thead>\n",
       "  <tbody>\n",
       "    <tr>\n",
       "      <th>0</th>\n",
       "      <td>f942d2db889b6882492e91d553bcf740</td>\n",
       "      <td>2024-05-08T03:23:04.377916</td>\n",
       "      <td>{}</td>\n",
       "      <td>A</td>\n",
       "      <td>{'ln_id': '062b64ef812b6710299e36b37fc05f35', ...</td>\n",
       "    </tr>\n",
       "    <tr>\n",
       "      <th>1</th>\n",
       "      <td>939b0dbbd7541d1ef5cff50ca0ec176a</td>\n",
       "      <td>2024-05-08T03:23:04.377974</td>\n",
       "      <td>{}</td>\n",
       "      <td>B</td>\n",
       "      <td>{'ln_id': 'a9e93344744b27b8bc9c7890fdae5b71', ...</td>\n",
       "    </tr>\n",
       "    <tr>\n",
       "      <th>2</th>\n",
       "      <td>b7aeaaf4998e1625e0c6d4dff0878df2</td>\n",
       "      <td>2024-05-08T03:23:04.378117</td>\n",
       "      <td>{}</td>\n",
       "      <td>C</td>\n",
       "      <td>{'ln_id': 'b082c772cc2fa3c108b238a23fd61460', ...</td>\n",
       "    </tr>\n",
       "  </tbody>\n",
       "</table>\n",
       "</div>"
      ],
      "text/plain": [
       "                              ln_id                     created metadata  \\\n",
       "0  f942d2db889b6882492e91d553bcf740  2024-05-08T03:23:04.377916       {}   \n",
       "1  939b0dbbd7541d1ef5cff50ca0ec176a  2024-05-08T03:23:04.377974       {}   \n",
       "2  b7aeaaf4998e1625e0c6d4dff0878df2  2024-05-08T03:23:04.378117       {}   \n",
       "\n",
       "  content                                          relations  \n",
       "0       A  {'ln_id': '062b64ef812b6710299e36b37fc05f35', ...  \n",
       "1       B  {'ln_id': 'a9e93344744b27b8bc9c7890fdae5b71', ...  \n",
       "2       C  {'ln_id': 'b082c772cc2fa3c108b238a23fd61460', ...  "
      ]
     },
     "execution_count": 7,
     "metadata": {},
     "output_type": "execute_result"
    }
   ],
   "source": [
    "## exclusion\n",
    "\n",
    "print(p1.exclude(p2))\n",
    "p1.to_df()"
   ]
  },
  {
   "cell_type": "code",
   "execution_count": 8,
   "metadata": {},
   "outputs": [
    {
     "data": {
      "text/plain": [
       "ln_id        939b0dbbd7541d1ef5cff50ca0ec176a\n",
       "created            2024-05-08T03:23:04.377974\n",
       "metadata                                   {}\n",
       "content                                     B\n",
       "relations                              [0, 0]\n",
       "dtype: object"
      ]
     },
     "execution_count": 8,
     "metadata": {},
     "output_type": "execute_result"
    }
   ],
   "source": [
    "## get item\n",
    "\n",
    "aa = p1[1]\n",
    "aa"
   ]
  },
  {
   "cell_type": "code",
   "execution_count": 9,
   "metadata": {},
   "outputs": [
    {
     "data": {
      "text/html": [
       "<div>\n",
       "<style scoped>\n",
       "    .dataframe tbody tr th:only-of-type {\n",
       "        vertical-align: middle;\n",
       "    }\n",
       "\n",
       "    .dataframe tbody tr th {\n",
       "        vertical-align: top;\n",
       "    }\n",
       "\n",
       "    .dataframe thead th {\n",
       "        text-align: right;\n",
       "    }\n",
       "</style>\n",
       "<table border=\"1\" class=\"dataframe\">\n",
       "  <thead>\n",
       "    <tr style=\"text-align: right;\">\n",
       "      <th></th>\n",
       "      <th>ln_id</th>\n",
       "      <th>created</th>\n",
       "      <th>metadata</th>\n",
       "      <th>content</th>\n",
       "      <th>relations</th>\n",
       "    </tr>\n",
       "  </thead>\n",
       "  <tbody>\n",
       "    <tr>\n",
       "      <th>0</th>\n",
       "      <td>d86504d1011592f34906c18dade97b1e</td>\n",
       "      <td>2024-05-08T03:23:04.431568</td>\n",
       "      <td>{}</td>\n",
       "      <td>have a good day</td>\n",
       "      <td>{'ln_id': '275ff865f7cab0a1ad7d4d794c84a38f', ...</td>\n",
       "    </tr>\n",
       "    <tr>\n",
       "      <th>1</th>\n",
       "      <td>939b0dbbd7541d1ef5cff50ca0ec176a</td>\n",
       "      <td>2024-05-08T03:23:04.377974</td>\n",
       "      <td>{}</td>\n",
       "      <td>B</td>\n",
       "      <td>{'ln_id': 'a9e93344744b27b8bc9c7890fdae5b71', ...</td>\n",
       "    </tr>\n",
       "    <tr>\n",
       "      <th>2</th>\n",
       "      <td>b7aeaaf4998e1625e0c6d4dff0878df2</td>\n",
       "      <td>2024-05-08T03:23:04.378117</td>\n",
       "      <td>{}</td>\n",
       "      <td>C</td>\n",
       "      <td>{'ln_id': 'b082c772cc2fa3c108b238a23fd61460', ...</td>\n",
       "    </tr>\n",
       "  </tbody>\n",
       "</table>\n",
       "</div>"
      ],
      "text/plain": [
       "                              ln_id                     created metadata  \\\n",
       "0  d86504d1011592f34906c18dade97b1e  2024-05-08T03:23:04.431568       {}   \n",
       "1  939b0dbbd7541d1ef5cff50ca0ec176a  2024-05-08T03:23:04.377974       {}   \n",
       "2  b7aeaaf4998e1625e0c6d4dff0878df2  2024-05-08T03:23:04.378117       {}   \n",
       "\n",
       "           content                                          relations  \n",
       "0  have a good day  {'ln_id': '275ff865f7cab0a1ad7d4d794c84a38f', ...  \n",
       "1                B  {'ln_id': 'a9e93344744b27b8bc9c7890fdae5b71', ...  \n",
       "2                C  {'ln_id': 'b082c772cc2fa3c108b238a23fd61460', ...  "
      ]
     },
     "execution_count": 9,
     "metadata": {},
     "output_type": "execute_result"
    }
   ],
   "source": [
    "## set item\n",
    "\n",
    "p1[0] = li.Node(content=\"have a good day\")\n",
    "p1.to_df()"
   ]
  },
  {
   "cell_type": "code",
   "execution_count": 10,
   "metadata": {},
   "outputs": [
    {
     "data": {
      "text/html": [
       "<div>\n",
       "<style scoped>\n",
       "    .dataframe tbody tr th:only-of-type {\n",
       "        vertical-align: middle;\n",
       "    }\n",
       "\n",
       "    .dataframe tbody tr th {\n",
       "        vertical-align: top;\n",
       "    }\n",
       "\n",
       "    .dataframe thead th {\n",
       "        text-align: right;\n",
       "    }\n",
       "</style>\n",
       "<table border=\"1\" class=\"dataframe\">\n",
       "  <thead>\n",
       "    <tr style=\"text-align: right;\">\n",
       "      <th></th>\n",
       "      <th>ln_id</th>\n",
       "      <th>created</th>\n",
       "      <th>metadata</th>\n",
       "      <th>content</th>\n",
       "      <th>relations</th>\n",
       "    </tr>\n",
       "  </thead>\n",
       "  <tbody>\n",
       "    <tr>\n",
       "      <th>0</th>\n",
       "      <td>d86504d1011592f34906c18dade97b1e</td>\n",
       "      <td>2024-05-08T03:23:04.431568</td>\n",
       "      <td>{}</td>\n",
       "      <td>have a good day</td>\n",
       "      <td>{'ln_id': '275ff865f7cab0a1ad7d4d794c84a38f', ...</td>\n",
       "    </tr>\n",
       "    <tr>\n",
       "      <th>1</th>\n",
       "      <td>939b0dbbd7541d1ef5cff50ca0ec176a</td>\n",
       "      <td>2024-05-08T03:23:04.377974</td>\n",
       "      <td>{}</td>\n",
       "      <td>B</td>\n",
       "      <td>{'ln_id': 'a9e93344744b27b8bc9c7890fdae5b71', ...</td>\n",
       "    </tr>\n",
       "    <tr>\n",
       "      <th>2</th>\n",
       "      <td>b7aeaaf4998e1625e0c6d4dff0878df2</td>\n",
       "      <td>2024-05-08T03:23:04.378117</td>\n",
       "      <td>{}</td>\n",
       "      <td>C</td>\n",
       "      <td>{'ln_id': 'b082c772cc2fa3c108b238a23fd61460', ...</td>\n",
       "    </tr>\n",
       "    <tr>\n",
       "      <th>3</th>\n",
       "      <td>050b80bb4c2b0f13c7245aa3d8e45723</td>\n",
       "      <td>2024-05-08T03:23:04.440280</td>\n",
       "      <td>{}</td>\n",
       "      <td>hello world</td>\n",
       "      <td>{'ln_id': '1fece1f241151cff8ec03df8c7e12f59', ...</td>\n",
       "    </tr>\n",
       "  </tbody>\n",
       "</table>\n",
       "</div>"
      ],
      "text/plain": [
       "                              ln_id                     created metadata  \\\n",
       "0  d86504d1011592f34906c18dade97b1e  2024-05-08T03:23:04.431568       {}   \n",
       "1  939b0dbbd7541d1ef5cff50ca0ec176a  2024-05-08T03:23:04.377974       {}   \n",
       "2  b7aeaaf4998e1625e0c6d4dff0878df2  2024-05-08T03:23:04.378117       {}   \n",
       "3  050b80bb4c2b0f13c7245aa3d8e45723  2024-05-08T03:23:04.440280       {}   \n",
       "\n",
       "           content                                          relations  \n",
       "0  have a good day  {'ln_id': '275ff865f7cab0a1ad7d4d794c84a38f', ...  \n",
       "1                B  {'ln_id': 'a9e93344744b27b8bc9c7890fdae5b71', ...  \n",
       "2                C  {'ln_id': 'b082c772cc2fa3c108b238a23fd61460', ...  \n",
       "3      hello world  {'ln_id': '1fece1f241151cff8ec03df8c7e12f59', ...  "
      ]
     },
     "execution_count": 10,
     "metadata": {},
     "output_type": "execute_result"
    }
   ],
   "source": [
    "## other\n",
    "node = li.Node(content=\"hello world\")\n",
    "p1 += node\n",
    "p1.to_df()"
   ]
  },
  {
   "cell_type": "code",
   "execution_count": 11,
   "metadata": {},
   "outputs": [
    {
     "data": {
      "text/html": [
       "<div>\n",
       "<style scoped>\n",
       "    .dataframe tbody tr th:only-of-type {\n",
       "        vertical-align: middle;\n",
       "    }\n",
       "\n",
       "    .dataframe tbody tr th {\n",
       "        vertical-align: top;\n",
       "    }\n",
       "\n",
       "    .dataframe thead th {\n",
       "        text-align: right;\n",
       "    }\n",
       "</style>\n",
       "<table border=\"1\" class=\"dataframe\">\n",
       "  <thead>\n",
       "    <tr style=\"text-align: right;\">\n",
       "      <th></th>\n",
       "      <th>ln_id</th>\n",
       "      <th>created</th>\n",
       "      <th>metadata</th>\n",
       "      <th>content</th>\n",
       "      <th>relations</th>\n",
       "    </tr>\n",
       "  </thead>\n",
       "  <tbody>\n",
       "    <tr>\n",
       "      <th>0</th>\n",
       "      <td>d86504d1011592f34906c18dade97b1e</td>\n",
       "      <td>2024-05-08T03:23:04.431568</td>\n",
       "      <td>{}</td>\n",
       "      <td>have a good day</td>\n",
       "      <td>{'ln_id': '275ff865f7cab0a1ad7d4d794c84a38f', ...</td>\n",
       "    </tr>\n",
       "    <tr>\n",
       "      <th>1</th>\n",
       "      <td>b7aeaaf4998e1625e0c6d4dff0878df2</td>\n",
       "      <td>2024-05-08T03:23:04.378117</td>\n",
       "      <td>{}</td>\n",
       "      <td>C</td>\n",
       "      <td>{'ln_id': 'b082c772cc2fa3c108b238a23fd61460', ...</td>\n",
       "    </tr>\n",
       "    <tr>\n",
       "      <th>2</th>\n",
       "      <td>050b80bb4c2b0f13c7245aa3d8e45723</td>\n",
       "      <td>2024-05-08T03:23:04.440280</td>\n",
       "      <td>{}</td>\n",
       "      <td>hello world</td>\n",
       "      <td>{'ln_id': '1fece1f241151cff8ec03df8c7e12f59', ...</td>\n",
       "    </tr>\n",
       "  </tbody>\n",
       "</table>\n",
       "</div>"
      ],
      "text/plain": [
       "                              ln_id                     created metadata  \\\n",
       "0  d86504d1011592f34906c18dade97b1e  2024-05-08T03:23:04.431568       {}   \n",
       "1  b7aeaaf4998e1625e0c6d4dff0878df2  2024-05-08T03:23:04.378117       {}   \n",
       "2  050b80bb4c2b0f13c7245aa3d8e45723  2024-05-08T03:23:04.440280       {}   \n",
       "\n",
       "           content                                          relations  \n",
       "0  have a good day  {'ln_id': '275ff865f7cab0a1ad7d4d794c84a38f', ...  \n",
       "1                C  {'ln_id': 'b082c772cc2fa3c108b238a23fd61460', ...  \n",
       "2      hello world  {'ln_id': '1fece1f241151cff8ec03df8c7e12f59', ...  "
      ]
     },
     "execution_count": 11,
     "metadata": {},
     "output_type": "execute_result"
    }
   ],
   "source": [
    "p1 -= nodes1[1]\n",
    "p1.to_df()"
   ]
  },
  {
   "cell_type": "code",
   "execution_count": null,
   "metadata": {},
   "outputs": [],
   "source": []
  },
  {
   "cell_type": "code",
   "execution_count": null,
   "metadata": {},
   "outputs": [],
   "source": []
  }
 ],
 "metadata": {
  "kernelspec": {
   "display_name": ".venv",
   "language": "python",
   "name": "python3"
  },
  "language_info": {
   "codemirror_mode": {
    "name": "ipython",
    "version": 3
   },
   "file_extension": ".py",
   "mimetype": "text/x-python",
   "name": "python",
   "nbconvert_exporter": "python",
   "pygments_lexer": "ipython3",
   "version": "3.11.6"
  }
 },
 "nbformat": 4,
 "nbformat_minor": 2
}

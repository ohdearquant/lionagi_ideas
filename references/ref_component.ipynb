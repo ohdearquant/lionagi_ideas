{
 "cells": [
  {
   "cell_type": "code",
   "execution_count": 1,
   "metadata": {},
   "outputs": [],
   "source": [
    "from lionagi.core.generic.abc._component import Component"
   ]
  },
  {
   "cell_type": "markdown",
   "metadata": {},
   "source": [
    "## Base Universal Attributes"
   ]
  },
  {
   "cell_type": "code",
   "execution_count": 2,
   "metadata": {},
   "outputs": [
    {
     "name": "stdout",
     "output_type": "stream",
     "text": [
      "Component(ln_id: fe55e20cc820e7a733e9baad9d2915ae, updated: 2024-05-05T10:20:41)\n"
     ]
    }
   ],
   "source": [
    "a = Component()\n",
    "print(a)"
   ]
  },
  {
   "cell_type": "code",
   "execution_count": 3,
   "metadata": {},
   "outputs": [],
   "source": [
    "a.content = 1"
   ]
  },
  {
   "cell_type": "code",
   "execution_count": 4,
   "metadata": {},
   "outputs": [
    {
     "data": {
      "text/plain": [
       "Component(ln_id: fe55e20cc820e7a733e9baad9d2915ae, updated: 2024-05-05T10:20:41)"
      ]
     },
     "execution_count": 4,
     "metadata": {},
     "output_type": "execute_result"
    }
   ],
   "source": [
    "a"
   ]
  },
  {
   "cell_type": "code",
   "execution_count": 5,
   "metadata": {},
   "outputs": [
    {
     "data": {
      "text/plain": [
       "'Component'"
      ]
     },
     "execution_count": 5,
     "metadata": {},
     "output_type": "execute_result"
    }
   ],
   "source": [
    "a.class_name()"
   ]
  },
  {
   "cell_type": "code",
   "execution_count": 6,
   "metadata": {},
   "outputs": [
    {
     "name": "stdout",
     "output_type": "stream",
     "text": [
      "ln_id: \t\t\t fe55e20cc820e7a733e9baad9d2915ae\n",
      "created at: \t\t 2024-05-05T10:20:41.597771\n",
      "metadata: \t\t {'last_updated': {'content': (1, '2024-05-05T10:20:41.602211')}}\n",
      "content: \t\t 1\n",
      "extra_fields: \t\t {}\n"
     ]
    }
   ],
   "source": [
    "print(\"ln_id: \\t\\t\\t\", a.ln_id)  # unique lion id\n",
    "print(\"created at: \\t\\t\", a.timestamp)\n",
    "print(\"metadata: \\t\\t\", a.metadata)\n",
    "print(\"content: \\t\\t\", a.content)\n",
    "print(\"extra_fields: \\t\\t\", a.extra_fields)"
   ]
  },
  {
   "cell_type": "code",
   "execution_count": 7,
   "metadata": {},
   "outputs": [
    {
     "data": {
      "text/plain": [
       "{'ln_id': ['str'],\n",
       " 'timestamp': ['str'],\n",
       " 'metadata': ['dict'],\n",
       " 'extra_fields': ['dict'],\n",
       " 'content': ['typing.any', 'none']}"
      ]
     },
     "execution_count": 7,
     "metadata": {},
     "output_type": "execute_result"
    }
   ],
   "source": [
    "a._field_annotations"
   ]
  },
  {
   "cell_type": "code",
   "execution_count": 8,
   "metadata": {},
   "outputs": [
    {
     "data": {
      "text/plain": [
       "{'ln_id': FieldInfo(annotation=str, required=False, default_factory=create_id, alias_priority=2, validation_alias=AliasChoices(choices=['node_id', 'ID', 'id']), title='ID', description='A 32-char unique hash identifier.', frozen=True),\n",
       " 'timestamp': FieldInfo(annotation=str, required=False, default_factory=<lambda>, alias='created', alias_priority=2, validation_alias=AliasChoices(choices=['created_on', 'creation_date']), title='Creation Timestamp', description='The UTC timestamp of creation, down to milliseconds.', frozen=True),\n",
       " 'metadata': FieldInfo(annotation=dict[str, Any], required=False, default_factory=dict, alias_priority=2, validation_alias=AliasChoices(choices=['meta', 'info']), description='Additional metadata for the component.'),\n",
       " 'extra_fields': FieldInfo(annotation=dict[str, Any], required=False, default_factory=dict, alias_priority=2, validation_alias=AliasChoices(choices=['extra', 'additional_fields', 'schema_extra', 'extra_schema']), description='Additional fields for the component.'),\n",
       " 'content': FieldInfo(annotation=Union[Any, NoneType], required=False, alias_priority=2, validation_alias=AliasChoices(choices=['text', 'page_content', 'chunk_content', 'data']), description='The optional content of the node.')}"
      ]
     },
     "execution_count": 8,
     "metadata": {},
     "output_type": "execute_result"
    }
   ],
   "source": [
    "a._all_fields"
   ]
  },
  {
   "cell_type": "markdown",
   "metadata": {},
   "source": [
    "## Inherit from Component Class"
   ]
  },
  {
   "cell_type": "code",
   "execution_count": 9,
   "metadata": {},
   "outputs": [],
   "source": [
    "from pydantic import Field\n",
    "\n",
    "\n",
    "class Form(Component):\n",
    "    form_name: str = Field(default=\"form\", title=\"Form Name\")\n",
    "    date: str = \"today\"\n",
    "\n",
    "\n",
    "a = Form()"
   ]
  },
  {
   "cell_type": "code",
   "execution_count": 10,
   "metadata": {},
   "outputs": [
    {
     "data": {
      "text/plain": [
       "True"
      ]
     },
     "execution_count": 10,
     "metadata": {},
     "output_type": "execute_result"
    }
   ],
   "source": [
    "# check the details of a specific field\n",
    "a._field_has_attr(\"form_name\", \"title\")"
   ]
  },
  {
   "cell_type": "code",
   "execution_count": 11,
   "metadata": {},
   "outputs": [
    {
     "data": {
      "text/plain": [
       "'Form Name'"
      ]
     },
     "execution_count": 11,
     "metadata": {},
     "output_type": "execute_result"
    }
   ],
   "source": [
    "a._get_field_attr(\"form_name\", \"title\")"
   ]
  },
  {
   "cell_type": "code",
   "execution_count": 12,
   "metadata": {},
   "outputs": [
    {
     "data": {
      "text/plain": [
       "{'ln_id': ['str'],\n",
       " 'timestamp': ['str'],\n",
       " 'metadata': ['dict'],\n",
       " 'extra_fields': ['dict'],\n",
       " 'content': ['typing.any', 'none'],\n",
       " 'form_name': ['str'],\n",
       " 'date': ['str']}"
      ]
     },
     "execution_count": 12,
     "metadata": {},
     "output_type": "execute_result"
    }
   ],
   "source": [
    "a._field_annotations"
   ]
  },
  {
   "cell_type": "code",
   "execution_count": 13,
   "metadata": {},
   "outputs": [
    {
     "data": {
      "text/plain": [
       "{'ln_id': ['str'],\n",
       " 'timestamp': ['str'],\n",
       " 'metadata': ['dict'],\n",
       " 'extra_fields': ['dict'],\n",
       " 'content': ['typing.any', 'none'],\n",
       " 'form_name': ['str'],\n",
       " 'date': ['str'],\n",
       " 'welcome': ['str']}"
      ]
     },
     "execution_count": 13,
     "metadata": {},
     "output_type": "execute_result"
    }
   ],
   "source": [
    "a._add_field(\n",
    "    field=\"welcome\", annotation=str, default=\"new value\", value=\"hello world again\"\n",
    ")\n",
    "\n",
    "a._field_annotations"
   ]
  },
  {
   "cell_type": "code",
   "execution_count": 14,
   "metadata": {},
   "outputs": [
    {
     "name": "stdout",
     "output_type": "stream",
     "text": [
      "default value: \t new value\n",
      "current value: \t hello world again\n"
     ]
    }
   ],
   "source": [
    "print(\"default value: \\t\", a._get_field_attr(\"welcome\", \"default\", None))\n",
    "print(\"current value: \\t\", getattr(a, \"welcome\", None))"
   ]
  },
  {
   "cell_type": "markdown",
   "metadata": {},
   "source": [
    "### to_obj methods"
   ]
  },
  {
   "cell_type": "code",
   "execution_count": 15,
   "metadata": {},
   "outputs": [
    {
     "name": "stdout",
     "output_type": "stream",
     "text": [
      "json_str: \n",
      "\n",
      " {\"ln_id\": \"31abc3554dfe7d74dd544156d210bc9b\", \"created\": \"2024-05-05T10:20:41.623318\", \"metadata\": {\"last_updated\": {\"welcome\": [1, \"2024-05-05T10:20:41.636459\"]}}, \"content\": null, \"form_name\": \"form\", \"date\": \"today\", \"welcome\": \"hello world again\"}\n"
     ]
    }
   ],
   "source": [
    "print(\"json_str: \\n\\n\", a.to_json_str())"
   ]
  },
  {
   "cell_type": "code",
   "execution_count": 16,
   "metadata": {},
   "outputs": [
    {
     "name": "stdout",
     "output_type": "stream",
     "text": [
      "dict: \n",
      "\n",
      " {'ln_id': '31abc3554dfe7d74dd544156d210bc9b', 'created': '2024-05-05T10:20:41.623318', 'metadata': {'last_updated': {'welcome': (1, '2024-05-05T10:20:41.636459')}}, 'content': None, 'form_name': 'form', 'date': 'today', 'welcome': 'hello world again'}\n"
     ]
    }
   ],
   "source": [
    "print(\"dict: \\n\\n\", a.to_dict())"
   ]
  },
  {
   "cell_type": "code",
   "execution_count": 17,
   "metadata": {},
   "outputs": [
    {
     "name": "stdout",
     "output_type": "stream",
     "text": [
      "xml: \n",
      "\n",
      " <Form><ln_id>31abc3554dfe7d74dd544156d210bc9b</ln_id><created>2024-05-05T10:20:41.623318</created><metadata><last_updated><welcome>(1, '2024-05-05T10:20:41.636459')</welcome></last_updated></metadata><content>None</content><form_name>form</form_name><date>today</date><welcome>hello world again</welcome></Form>\n"
     ]
    }
   ],
   "source": [
    "print(\"xml: \\n\\n\", a.to_xml())"
   ]
  },
  {
   "cell_type": "code",
   "execution_count": 18,
   "metadata": {},
   "outputs": [
    {
     "name": "stdout",
     "output_type": "stream",
     "text": [
      "pd.Series: \n",
      "\n",
      " ln_id                         31abc3554dfe7d74dd544156d210bc9b\n",
      "created                             2024-05-05T10:20:41.623318\n",
      "metadata     {'last_updated': {'welcome': (1, '2024-05-05T1...\n",
      "content                                                   None\n",
      "form_name                                                 form\n",
      "date                                                     today\n",
      "welcome                                      hello world again\n",
      "dtype: object\n"
     ]
    }
   ],
   "source": [
    "print(\"pd.Series: \\n\\n\", a.to_pd_series())"
   ]
  },
  {
   "cell_type": "code",
   "execution_count": 19,
   "metadata": {},
   "outputs": [
    {
     "data": {
      "text/plain": [
       "llama_index.core.schema.TextNode"
      ]
     },
     "execution_count": 19,
     "metadata": {},
     "output_type": "execute_result"
    }
   ],
   "source": [
    "llama_node = a.to_llama_index()\n",
    "type(llama_node)"
   ]
  },
  {
   "cell_type": "code",
   "execution_count": 20,
   "metadata": {},
   "outputs": [
    {
     "data": {
      "text/plain": [
       "{'id_': 'c26fb315-1f60-4b2f-9ca7-cc35fe9149bf',\n",
       " 'embedding': None,\n",
       " 'metadata': {'last_updated': {'welcome': (1, '2024-05-05T10:20:41.636459')}},\n",
       " 'excluded_embed_metadata_keys': [],\n",
       " 'excluded_llm_metadata_keys': [],\n",
       " 'relationships': {},\n",
       " 'text': 'None',\n",
       " 'start_char_idx': None,\n",
       " 'end_char_idx': None,\n",
       " 'text_template': '{metadata_str}\\n\\n{content}',\n",
       " 'metadata_template': '{key}: {value}',\n",
       " 'metadata_seperator': '\\n',\n",
       " 'class_name': 'TextNode'}"
      ]
     },
     "execution_count": 20,
     "metadata": {},
     "output_type": "execute_result"
    }
   ],
   "source": [
    "llama_node.to_dict()"
   ]
  },
  {
   "cell_type": "code",
   "execution_count": 21,
   "metadata": {},
   "outputs": [
    {
     "data": {
      "text/plain": [
       "langchain_core.documents.base.Document"
      ]
     },
     "execution_count": 21,
     "metadata": {},
     "output_type": "execute_result"
    }
   ],
   "source": [
    "langchain_doc = a.to_langchain()\n",
    "type(langchain_doc)"
   ]
  },
  {
   "cell_type": "code",
   "execution_count": 22,
   "metadata": {},
   "outputs": [
    {
     "data": {
      "text/plain": [
       "{'lc': 1,\n",
       " 'type': 'constructor',\n",
       " 'id': ['langchain', 'schema', 'document', 'Document'],\n",
       " 'kwargs': {'page_content': '',\n",
       "  'ln_id': '31abc3554dfe7d74dd544156d210bc9b',\n",
       "  'created': '2024-05-05T10:20:41.623318',\n",
       "  'metadata': {'last_updated': {'welcome': (1, '2024-05-05T10:20:41.636459')}},\n",
       "  'form_name': 'form',\n",
       "  'date': 'today',\n",
       "  'welcome': 'hello world again'}}"
      ]
     },
     "execution_count": 22,
     "metadata": {},
     "output_type": "execute_result"
    }
   ],
   "source": [
    "langchain_doc.to_json()"
   ]
  },
  {
   "cell_type": "markdown",
   "metadata": {},
   "source": [
    "### from_obj method"
   ]
  },
  {
   "cell_type": "markdown",
   "metadata": {},
   "source": [
    "#### dict, json with fuzzy parse"
   ]
  },
  {
   "cell_type": "code",
   "execution_count": 23,
   "metadata": {},
   "outputs": [
    {
     "data": {
      "text/plain": [
       "{'ln_id': '8163e1186cb6a2ad1151f1d9b63f1895',\n",
       " 'created': '2024-05-05T10:20:42.376157',\n",
       " 'metadata': {'a': 1, 'b': 2},\n",
       " 'content': None}"
      ]
     },
     "execution_count": 23,
     "metadata": {},
     "output_type": "execute_result"
    }
   ],
   "source": [
    "dict_obj = {\"a\": 1, \"b\": 2}\n",
    "\n",
    "b = Component.from_obj(dict_obj)\n",
    "b.to_dict()"
   ]
  },
  {
   "cell_type": "code",
   "execution_count": 24,
   "metadata": {},
   "outputs": [
    {
     "data": {
      "text/plain": [
       "{'ln_id': '6d61e2ec914f69e65b48e6a8fe6e7123',\n",
       " 'created': '2024-05-05T10:20:42.379929',\n",
       " 'metadata': {'a': 1, 'b': 2},\n",
       " 'content': None}"
      ]
     },
     "execution_count": 24,
     "metadata": {},
     "output_type": "execute_result"
    }
   ],
   "source": [
    "json_str_obj = '{\"a\": 1, \"b\": 2}'\n",
    "\n",
    "a = Component.from_obj(json_str_obj)\n",
    "a.to_dict()"
   ]
  },
  {
   "cell_type": "code",
   "execution_count": 25,
   "metadata": {},
   "outputs": [
    {
     "data": {
      "text/plain": [
       "{'ln_id': 'fef5f0067953d238c33b1ec4d481dbb3',\n",
       " 'created': '2024-05-05T10:20:42.383799',\n",
       " 'metadata': {'name': 'John', 'age': 30, 'city': ['New York', 'DC', 'LA']},\n",
       " 'content': None}"
      ]
     },
     "execution_count": 25,
     "metadata": {},
     "output_type": "execute_result"
    }
   ],
   "source": [
    "# the json str also supports fuzzy parse\n",
    "# here is an incorrectly formated json_str for example (missing \"}\")\n",
    "json_str_obj = '{\"name\": \"John\", \"age\": 30, \"city\": [\"New York\", \"DC\", \"LA\"]'\n",
    "\n",
    "a = Component.from_obj(json_str_obj, fuzzy_parse=True)\n",
    "a.to_dict()"
   ]
  },
  {
   "cell_type": "markdown",
   "metadata": {},
   "source": [
    "#### pandas series and dataframe"
   ]
  },
  {
   "cell_type": "code",
   "execution_count": 26,
   "metadata": {},
   "outputs": [
    {
     "data": {
      "text/plain": [
       "{'ln_id': 'c0797eb0d2a68b180ecbf6dee4d9c20f',\n",
       " 'created': '2024-05-05T10:20:42.387353',\n",
       " 'metadata': {'a': 1, 'b': 2},\n",
       " 'content': None}"
      ]
     },
     "execution_count": 26,
     "metadata": {},
     "output_type": "execute_result"
    }
   ],
   "source": [
    "# you can create a component object from pandas series / dataframe\n",
    "import pandas as pd\n",
    "\n",
    "series_obj = pd.Series({\"a\": 1, \"b\": 2})\n",
    "\n",
    "a = Component.from_obj(series_obj)\n",
    "a.to_dict()"
   ]
  },
  {
   "cell_type": "code",
   "execution_count": 27,
   "metadata": {},
   "outputs": [
    {
     "data": {
      "text/plain": [
       "Index(['a', 'b'], dtype='object')"
      ]
     },
     "execution_count": 27,
     "metadata": {},
     "output_type": "execute_result"
    }
   ],
   "source": [
    "series_obj.index"
   ]
  },
  {
   "cell_type": "code",
   "execution_count": 28,
   "metadata": {},
   "outputs": [
    {
     "data": {
      "text/html": [
       "<div>\n",
       "<style scoped>\n",
       "    .dataframe tbody tr th:only-of-type {\n",
       "        vertical-align: middle;\n",
       "    }\n",
       "\n",
       "    .dataframe tbody tr th {\n",
       "        vertical-align: top;\n",
       "    }\n",
       "\n",
       "    .dataframe thead th {\n",
       "        text-align: right;\n",
       "    }\n",
       "</style>\n",
       "<table border=\"1\" class=\"dataframe\">\n",
       "  <thead>\n",
       "    <tr style=\"text-align: right;\">\n",
       "      <th></th>\n",
       "      <th>a</th>\n",
       "      <th>b</th>\n",
       "    </tr>\n",
       "  </thead>\n",
       "  <tbody>\n",
       "    <tr>\n",
       "      <th>row1</th>\n",
       "      <td>1</td>\n",
       "      <td>3</td>\n",
       "    </tr>\n",
       "    <tr>\n",
       "      <th>row2</th>\n",
       "      <td>2</td>\n",
       "      <td>4</td>\n",
       "    </tr>\n",
       "  </tbody>\n",
       "</table>\n",
       "</div>"
      ],
      "text/plain": [
       "      a  b\n",
       "row1  1  3\n",
       "row2  2  4"
      ]
     },
     "execution_count": 28,
     "metadata": {},
     "output_type": "execute_result"
    }
   ],
   "source": [
    "df = pd.DataFrame({\"a\": [1, 2], \"b\": [3, 4]}, index=[\"row1\", \"row2\"])\n",
    "df"
   ]
  },
  {
   "cell_type": "code",
   "execution_count": 29,
   "metadata": {},
   "outputs": [
    {
     "data": {
      "text/plain": [
       "list"
      ]
     },
     "execution_count": 29,
     "metadata": {},
     "output_type": "execute_result"
    }
   ],
   "source": [
    "# when you create component object from dataframe, the output will be a list of component objects\n",
    "a = Component.from_obj(df)\n",
    "type(a)"
   ]
  },
  {
   "cell_type": "code",
   "execution_count": 30,
   "metadata": {},
   "outputs": [
    {
     "name": "stdout",
     "output_type": "stream",
     "text": [
      "{'ln_id': '3b1ecf993dcbcc613318c77cbf273598', 'created': '2024-05-05T10:20:42.399649', 'metadata': {'a': 1, 'b': 3, 'df_index': 'row1'}, 'content': None}\n",
      "{'ln_id': '3824d869431ba046d05424e88bbc4154', 'created': '2024-05-05T10:20:42.399713', 'metadata': {'a': 2, 'b': 4, 'df_index': 'row2'}, 'content': None}\n"
     ]
    }
   ],
   "source": [
    "# if from df, the index of the row will be saved into the metadata\n",
    "\n",
    "for i in a:\n",
    "    print(i.to_dict())"
   ]
  },
  {
   "cell_type": "markdown",
   "metadata": {},
   "source": [
    "#### LlamaIndex and LangChain"
   ]
  },
  {
   "cell_type": "code",
   "execution_count": 31,
   "metadata": {},
   "outputs": [
    {
     "data": {
      "text/plain": [
       "lionagi.core.generic.abc._component.Component"
      ]
     },
     "execution_count": 31,
     "metadata": {},
     "output_type": "execute_result"
    }
   ],
   "source": [
    "a = Component.from_obj(llama_node)\n",
    "type(a)"
   ]
  },
  {
   "cell_type": "code",
   "execution_count": 32,
   "metadata": {},
   "outputs": [
    {
     "data": {
      "text/plain": [
       "{'ln_id': '7ad4faf2e7c50f33da17cfeb247e161c',\n",
       " 'created': '2024-05-05T10:20:42.406404',\n",
       " 'metadata': {'last_updated': {'welcome': (1, '2024-05-05T10:20:41.636459')},\n",
       "  'embedding': None,\n",
       "  'excluded_embed_metadata_keys': [],\n",
       "  'excluded_llm_metadata_keys': [],\n",
       "  'start_char_idx': None,\n",
       "  'end_char_idx': None,\n",
       "  'text_template': '{metadata_str}\\n\\n{content}',\n",
       "  'metadata_template': '{key}: {value}',\n",
       "  'metadata_seperator': '\\n',\n",
       "  'llama_index_class': 'TextNode',\n",
       "  'llama_index_id': 'c26fb315-1f60-4b2f-9ca7-cc35fe9149bf',\n",
       "  'llama_index_relationships': {}},\n",
       " 'content': 'None'}"
      ]
     },
     "execution_count": 32,
     "metadata": {},
     "output_type": "execute_result"
    }
   ],
   "source": [
    "a.to_dict()"
   ]
  },
  {
   "cell_type": "code",
   "execution_count": 33,
   "metadata": {},
   "outputs": [
    {
     "data": {
      "text/plain": [
       "lionagi.core.generic.abc._component.Component"
      ]
     },
     "execution_count": 33,
     "metadata": {},
     "output_type": "execute_result"
    }
   ],
   "source": [
    "a = Component.from_obj(langchain_doc)\n",
    "type(a)"
   ]
  },
  {
   "cell_type": "code",
   "execution_count": 34,
   "metadata": {},
   "outputs": [
    {
     "data": {
      "text/plain": [
       "{'ln_id': '31abc3554dfe7d74dd544156d210bc9b',\n",
       " 'created': '2024-05-05T10:20:41.623318',\n",
       " 'metadata': {'langchain': 1,\n",
       "  'lc_type': 'constructor',\n",
       "  'lc_id': ['langchain', 'schema', 'document', 'Document']},\n",
       " 'content': '',\n",
       " 'form_name': 'form',\n",
       " 'date': 'today',\n",
       " 'welcome': 'hello world again'}"
      ]
     },
     "execution_count": 34,
     "metadata": {},
     "output_type": "execute_result"
    }
   ],
   "source": [
    "a.to_dict()"
   ]
  },
  {
   "cell_type": "code",
   "execution_count": 35,
   "metadata": {},
   "outputs": [],
   "source": [
    "a.welcome = \"hi\""
   ]
  },
  {
   "cell_type": "code",
   "execution_count": 36,
   "metadata": {},
   "outputs": [
    {
     "data": {
      "text/plain": [
       "{'ln_id': '31abc3554dfe7d74dd544156d210bc9b',\n",
       " 'created': '2024-05-05T10:20:41.623318',\n",
       " 'metadata': {'langchain': 1,\n",
       "  'lc_type': 'constructor',\n",
       "  'lc_id': ['langchain', 'schema', 'document', 'Document'],\n",
       "  'last_updated': {'welcome': (1, '2024-05-05T10:20:42.420728')}},\n",
       " 'content': '',\n",
       " 'form_name': 'form',\n",
       " 'date': 'today',\n",
       " 'welcome': 'hi'}"
      ]
     },
     "execution_count": 36,
     "metadata": {},
     "output_type": "execute_result"
    }
   ],
   "source": [
    "a.to_dict()"
   ]
  },
  {
   "cell_type": "markdown",
   "metadata": {},
   "source": [
    "### MetaData Manipulation"
   ]
  },
  {
   "cell_type": "code",
   "execution_count": 37,
   "metadata": {},
   "outputs": [
    {
     "data": {
      "text/plain": [
       "{'welcome': (2, '2024-05-05T10:20:42.426886')}"
      ]
     },
     "execution_count": 37,
     "metadata": {},
     "output_type": "execute_result"
    }
   ],
   "source": [
    "a.welcome = \"hi\"\n",
    "a.metadata[\"last_updated\"]"
   ]
  },
  {
   "cell_type": "code",
   "execution_count": 38,
   "metadata": {},
   "outputs": [
    {
     "data": {
      "text/plain": [
       "{'welcome': (3, '2024-05-05T10:20:42.430452')}"
      ]
     },
     "execution_count": 38,
     "metadata": {},
     "output_type": "execute_result"
    }
   ],
   "source": [
    "a.welcome = \"hi\"\n",
    "a.metadata[\"last_updated\"]"
   ]
  },
  {
   "cell_type": "code",
   "execution_count": 39,
   "metadata": {},
   "outputs": [
    {
     "data": {
      "text/plain": [
       "{'langchain': 1,\n",
       " 'lc_type': 'constructor',\n",
       " 'lc_id': ['langchain', 'schema', 'document', 'Document'],\n",
       " 'last_updated': {'welcome': (3, '2024-05-05T10:20:42.430452')}}"
      ]
     },
     "execution_count": 39,
     "metadata": {},
     "output_type": "execute_result"
    }
   ],
   "source": [
    "a.metadata"
   ]
  },
  {
   "cell_type": "code",
   "execution_count": 40,
   "metadata": {},
   "outputs": [
    {
     "data": {
      "text/plain": [
       "{'langchain': 1,\n",
       " 'lc_type': 'constructor',\n",
       " 'lc_id': ['langchain', 'schema', 'document', 'Document'],\n",
       " 'last_updated': {'welcome': (3, '2024-05-05T10:20:42.430452')}}"
      ]
     },
     "execution_count": 40,
     "metadata": {},
     "output_type": "execute_result"
    }
   ],
   "source": [
    "# you cannot directly modify the metadata by assigning a new value\n",
    "a.metadata = {}\n",
    "a.metadata"
   ]
  },
  {
   "cell_type": "markdown",
   "metadata": {},
   "source": [
    "use the following methods to modify the metadata"
   ]
  },
  {
   "cell_type": "code",
   "execution_count": 41,
   "metadata": {},
   "outputs": [],
   "source": [
    "# however, you can modify the metadata in the following ways\n",
    "\n",
    "\n",
    "a._meta_insert(\"new_key2\", \"new_value2\")\n",
    "a._meta_set(\"langchain\", 5)\n",
    "\n",
    "# a.metadata[\"new_key\"] = \"new_value\"\n",
    "# you can access and modify the value of metadata directly\n",
    "# but we do not recommend it, it might lose information or cause unexpected behavior"
   ]
  },
  {
   "cell_type": "code",
   "execution_count": 42,
   "metadata": {},
   "outputs": [
    {
     "data": {
      "text/plain": [
       "{'langchain': 5,\n",
       " 'lc_type': 'constructor',\n",
       " 'lc_id': ['langchain', 'schema', 'document', 'Document'],\n",
       " 'last_updated': {'welcome': (3, '2024-05-05T10:20:42.430452')},\n",
       " 'new_key2': 'new_value2'}"
      ]
     },
     "execution_count": 42,
     "metadata": {},
     "output_type": "execute_result"
    }
   ],
   "source": [
    "a.metadata"
   ]
  },
  {
   "cell_type": "code",
   "execution_count": 43,
   "metadata": {},
   "outputs": [],
   "source": [
    "# the meta insert also support nested data structure\n",
    "\n",
    "a._meta_insert([\"nested\", 0], {\"a\": 1, \"b\": 2})"
   ]
  },
  {
   "cell_type": "code",
   "execution_count": 44,
   "metadata": {},
   "outputs": [
    {
     "data": {
      "text/plain": [
       "{'langchain': 5,\n",
       " 'lc_type': 'constructor',\n",
       " 'lc_id': ['langchain', 'schema', 'document', 'Document'],\n",
       " 'last_updated': {'welcome': (3, '2024-05-05T10:20:42.430452')},\n",
       " 'new_key2': 'new_value2',\n",
       " 'nested': [{'a': 1, 'b': 2}]}"
      ]
     },
     "execution_count": 44,
     "metadata": {},
     "output_type": "execute_result"
    }
   ],
   "source": [
    "a.metadata"
   ]
  },
  {
   "cell_type": "code",
   "execution_count": 45,
   "metadata": {},
   "outputs": [
    {
     "data": {
      "text/plain": [
       "1"
      ]
     },
     "execution_count": 45,
     "metadata": {},
     "output_type": "execute_result"
    }
   ],
   "source": [
    "# similarly you can get a deeply nested value from meta data\n",
    "\n",
    "a._meta_get([\"nested\", 0, \"a\"])"
   ]
  },
  {
   "cell_type": "code",
   "execution_count": 46,
   "metadata": {},
   "outputs": [
    {
     "data": {
      "text/plain": [
       "{'langchain': 5,\n",
       " 'lc_type': 'constructor',\n",
       " 'lc_id': ['langchain', 'schema', 'document', 'Document'],\n",
       " 'last_updated': {'welcome': (3, '2024-05-05T10:20:42.430452')},\n",
       " 'new_key2': 'new_value2',\n",
       " 'nested': [{'a': 1, 'b': 2}]}"
      ]
     },
     "execution_count": 46,
     "metadata": {},
     "output_type": "execute_result"
    }
   ],
   "source": [
    "a.metadata"
   ]
  }
 ],
 "metadata": {
  "kernelspec": {
   "display_name": ".venv",
   "language": "python",
   "name": "python3"
  },
  "language_info": {
   "codemirror_mode": {
    "name": "ipython",
    "version": 3
   },
   "file_extension": ".py",
   "mimetype": "text/x-python",
   "name": "python",
   "nbconvert_exporter": "python",
   "pygments_lexer": "ipython3",
   "version": "3.11.6"
  }
 },
 "nbformat": 4,
 "nbformat_minor": 2
}

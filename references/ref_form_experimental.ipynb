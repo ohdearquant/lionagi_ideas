{
 "cells": [
  {
   "cell_type": "code",
   "execution_count": 1,
   "metadata": {},
   "outputs": [],
   "source": [
    "# from overrides import override\n",
    "# from pydantic import Field\n",
    "# from lionagi.core.generic import BaseComponent\n",
    "# from lionagi.experimental.form.util import get_input_output_fields, system_fields\n",
    "\n",
    "\n",
    "# class Form(BaseComponent):\n",
    "\n",
    "#     assignment: str = Field(\n",
    "#         ...,\n",
    "#         examples=[\"input1, input2 -> output\"]\n",
    "#     )\n",
    "\n",
    "#     input_fields: list[str] = Field(default_factory=list)\n",
    "#     requested_fields: list[str] = Field(default_factory=list)\n",
    "\n",
    "\n",
    "#     @override\n",
    "#     def __init__(self, **kwargs):\n",
    "#         \"\"\"\n",
    "#         at initialization, all relevant fields if not already provided, are set to None,\n",
    "#         not every field is required to be filled, nor required to be declared at initialization\n",
    "#         \"\"\"\n",
    "#         super().__init__(**kwargs)\n",
    "#         self.input_fields, self.requested_fields = get_input_output_fields(\n",
    "#             self.assignment\n",
    "#         )\n",
    "#         for i in self.input_fields + self.requested_fields:\n",
    "#             if i not in self.model_fields:\n",
    "#                 self._add_field(i, value=None)\n",
    "\n",
    "#     @property\n",
    "#     def workable(self):\n",
    "#         if self.filled:\n",
    "#             return False\n",
    "\n",
    "#         for i in self.input_fields:\n",
    "#             if not getattr(self, i, None):\n",
    "#                 return False\n",
    "\n",
    "#         return True\n",
    "\n",
    "\n",
    "#     @property\n",
    "#     def work_fields(self):\n",
    "#         dict_ = self.to_dict()\n",
    "#         return {\n",
    "#             k: v for k, v in dict_.items()\n",
    "#             if k not in system_fields and k in self.input_fields + self.requested_fields\n",
    "#         }\n",
    "\n",
    "#     @property\n",
    "#     def filled(self):\n",
    "#         return all([value is not None for _, value in self.work_fields.items()])\n",
    "\n",
    "#     def fill(self, form: \"Form\"=None, **kwargs):\n",
    "#         \"\"\"\n",
    "#         only work fields for this form can be filled\n",
    "#         a field can only be filled once\n",
    "#         \"\"\"\n",
    "#         if self.filled:\n",
    "#             return\n",
    "\n",
    "#         fields = form.work_fields if form else {}\n",
    "#         kwargs = {**fields, **kwargs}\n",
    "\n",
    "#         for k, v in kwargs.items():\n",
    "#             if k in self.work_fields and getattr(self, k, None) is None:\n",
    "#                 setattr(self, k, v)"
   ]
  },
  {
   "cell_type": "code",
   "execution_count": 2,
   "metadata": {},
   "outputs": [],
   "source": [
    "from lionagi.experimental.report.form import Form"
   ]
  },
  {
   "cell_type": "code",
   "execution_count": 3,
   "metadata": {},
   "outputs": [],
   "source": [
    "form = Form(assignment=\"input1, input2 -> output\")"
   ]
  },
  {
   "cell_type": "code",
   "execution_count": 4,
   "metadata": {},
   "outputs": [
    {
     "data": {
      "text/plain": [
       "['input1', 'input2']"
      ]
     },
     "execution_count": 4,
     "metadata": {},
     "output_type": "execute_result"
    }
   ],
   "source": [
    "form.input_fields"
   ]
  },
  {
   "cell_type": "code",
   "execution_count": 5,
   "metadata": {},
   "outputs": [
    {
     "data": {
      "text/plain": [
       "['output']"
      ]
     },
     "execution_count": 5,
     "metadata": {},
     "output_type": "execute_result"
    }
   ],
   "source": [
    "form.requested_fields"
   ]
  },
  {
   "cell_type": "code",
   "execution_count": 6,
   "metadata": {},
   "outputs": [
    {
     "data": {
      "text/plain": [
       "False"
      ]
     },
     "execution_count": 6,
     "metadata": {},
     "output_type": "execute_result"
    }
   ],
   "source": [
    "form.workable"
   ]
  },
  {
   "cell_type": "code",
   "execution_count": 7,
   "metadata": {},
   "outputs": [
    {
     "data": {
      "text/plain": [
       "False"
      ]
     },
     "execution_count": 7,
     "metadata": {},
     "output_type": "execute_result"
    }
   ],
   "source": [
    "form.filled"
   ]
  },
  {
   "cell_type": "code",
   "execution_count": 8,
   "metadata": {},
   "outputs": [
    {
     "data": {
      "text/plain": [
       "{'input1': None, 'input2': None, 'output': None}"
      ]
     },
     "execution_count": 8,
     "metadata": {},
     "output_type": "execute_result"
    }
   ],
   "source": [
    "form.work_fields"
   ]
  },
  {
   "cell_type": "code",
   "execution_count": 9,
   "metadata": {},
   "outputs": [],
   "source": [
    "form.fill(input1=1, input2=2)"
   ]
  },
  {
   "cell_type": "code",
   "execution_count": 10,
   "metadata": {},
   "outputs": [
    {
     "data": {
      "text/plain": [
       "True"
      ]
     },
     "execution_count": 10,
     "metadata": {},
     "output_type": "execute_result"
    }
   ],
   "source": [
    "form.workable"
   ]
  },
  {
   "cell_type": "code",
   "execution_count": 11,
   "metadata": {},
   "outputs": [
    {
     "data": {
      "text/plain": [
       "False"
      ]
     },
     "execution_count": 11,
     "metadata": {},
     "output_type": "execute_result"
    }
   ],
   "source": [
    "form.filled"
   ]
  },
  {
   "cell_type": "code",
   "execution_count": 12,
   "metadata": {},
   "outputs": [],
   "source": [
    "form.fill(output=3)"
   ]
  },
  {
   "cell_type": "code",
   "execution_count": 13,
   "metadata": {},
   "outputs": [
    {
     "data": {
      "text/plain": [
       "True"
      ]
     },
     "execution_count": 13,
     "metadata": {},
     "output_type": "execute_result"
    }
   ],
   "source": [
    "form.filled"
   ]
  },
  {
   "cell_type": "code",
   "execution_count": 14,
   "metadata": {},
   "outputs": [
    {
     "data": {
      "text/plain": [
       "False"
      ]
     },
     "execution_count": 14,
     "metadata": {},
     "output_type": "execute_result"
    }
   ],
   "source": [
    "form.workable"
   ]
  },
  {
   "cell_type": "code",
   "execution_count": 15,
   "metadata": {},
   "outputs": [
    {
     "data": {
      "text/plain": [
       "{'input1': 1, 'input2': 2, 'output': 3}"
      ]
     },
     "execution_count": 15,
     "metadata": {},
     "output_type": "execute_result"
    }
   ],
   "source": [
    "# the later added value are ignored,\n",
    "# a field on a form can only be filled once\n",
    "\n",
    "form.fill(input1=2, input2=3)\n",
    "form.work_fields"
   ]
  },
  {
   "cell_type": "code",
   "execution_count": 16,
   "metadata": {},
   "outputs": [
    {
     "data": {
      "text/plain": [
       "{'input1': 1, 'input2': 2, 'output': 3}"
      ]
     },
     "execution_count": 16,
     "metadata": {},
     "output_type": "execute_result"
    }
   ],
   "source": [
    "form.work_fields"
   ]
  },
  {
   "cell_type": "code",
   "execution_count": 17,
   "metadata": {},
   "outputs": [
    {
     "data": {
      "text/plain": [
       "Form(id_='adfddd8138cf57d615437519b35c4a2f', timestamp='2024-04-23T18:33:02.937844+00:00', assignment='input1, input2 -> output', input_fields=['input1', 'input2'], requested_fields=['output'], input1=1, input2=2, output=3)"
      ]
     },
     "execution_count": 17,
     "metadata": {},
     "output_type": "execute_result"
    }
   ],
   "source": [
    "form"
   ]
  },
  {
   "cell_type": "code",
   "execution_count": null,
   "metadata": {},
   "outputs": [],
   "source": []
  }
 ],
 "metadata": {
  "kernelspec": {
   "display_name": ".venv",
   "language": "python",
   "name": "python3"
  },
  "language_info": {
   "codemirror_mode": {
    "name": "ipython",
    "version": 3
   },
   "file_extension": ".py",
   "mimetype": "text/x-python",
   "name": "python",
   "nbconvert_exporter": "python",
   "pygments_lexer": "ipython3",
   "version": "3.11.6"
  }
 },
 "nbformat": 4,
 "nbformat_minor": 2
}

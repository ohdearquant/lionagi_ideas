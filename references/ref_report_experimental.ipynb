{
 "cells": [
  {
   "cell_type": "code",
   "execution_count": 1,
   "metadata": {},
   "outputs": [],
   "source": [
    "from lionagi.experimental.report.report import Report"
   ]
  },
  {
   "cell_type": "code",
   "execution_count": 2,
   "metadata": {},
   "outputs": [],
   "source": [
    "report = Report(assignment=\"a, b -> c\")"
   ]
  },
  {
   "cell_type": "code",
   "execution_count": 3,
   "metadata": {},
   "outputs": [
    {
     "data": {
      "text/plain": [
       "['a', 'b']"
      ]
     },
     "execution_count": 3,
     "metadata": {},
     "output_type": "execute_result"
    }
   ],
   "source": [
    "report.input_fields"
   ]
  },
  {
   "cell_type": "code",
   "execution_count": 4,
   "metadata": {},
   "outputs": [
    {
     "data": {
      "text/plain": [
       "['c']"
      ]
     },
     "execution_count": 4,
     "metadata": {},
     "output_type": "execute_result"
    }
   ],
   "source": [
    "report.requested_fields"
   ]
  },
  {
   "cell_type": "code",
   "execution_count": 5,
   "metadata": {},
   "outputs": [
    {
     "data": {
      "text/plain": [
       "{'a': None, 'b': None, 'c': None}"
      ]
     },
     "execution_count": 5,
     "metadata": {},
     "output_type": "execute_result"
    }
   ],
   "source": [
    "report.work_fields"
   ]
  },
  {
   "cell_type": "code",
   "execution_count": 6,
   "metadata": {},
   "outputs": [
    {
     "data": {
      "text/plain": [
       "False"
      ]
     },
     "execution_count": 6,
     "metadata": {},
     "output_type": "execute_result"
    }
   ],
   "source": [
    "report.filled"
   ]
  },
  {
   "cell_type": "code",
   "execution_count": 7,
   "metadata": {},
   "outputs": [
    {
     "name": "stderr",
     "output_type": "stream",
     "text": [
      "ERROR:root:Field 'a' is required to work on the report.\n"
     ]
    },
    {
     "data": {
      "text/plain": [
       "False"
      ]
     },
     "execution_count": 7,
     "metadata": {},
     "output_type": "execute_result"
    }
   ],
   "source": [
    "report.workable"
   ]
  },
  {
   "cell_type": "code",
   "execution_count": 8,
   "metadata": {},
   "outputs": [],
   "source": [
    "report.fill(a=3, b=4)"
   ]
  },
  {
   "cell_type": "code",
   "execution_count": 9,
   "metadata": {},
   "outputs": [
    {
     "data": {
      "text/plain": [
       "{'a': 3, 'b': 4, 'c': None}"
      ]
     },
     "execution_count": 9,
     "metadata": {},
     "output_type": "execute_result"
    }
   ],
   "source": [
    "report.work_fields"
   ]
  },
  {
   "cell_type": "code",
   "execution_count": 10,
   "metadata": {},
   "outputs": [
    {
     "data": {
      "text/plain": [
       "Report(id_='54ff02081ffa284aaf7856a8463c00c9', timestamp='2024-04-23T19:36:35.646567+00:00', assignment='a, b -> c', forms={'a, b -> c': Form(id_='aee55782e172d0a8ac18525e1dabc42d', timestamp='2024-04-23T19:36:35.646604+00:00', assignment='a, b -> c', input_fields=['a', 'b'], requested_fields=['c'], a=3, b=4, c=None)}, form_assignments=['a, b -> c'], form_template=<class 'lionagi.experimental.form.form.Form'>, input_fields=['a', 'b'], requested_fields=['c'], a=3, b=4, c=None)"
      ]
     },
     "execution_count": 10,
     "metadata": {},
     "output_type": "execute_result"
    }
   ],
   "source": [
    "report"
   ]
  },
  {
   "cell_type": "code",
   "execution_count": 11,
   "metadata": {},
   "outputs": [
    {
     "data": {
      "text/plain": [
       "True"
      ]
     },
     "execution_count": 11,
     "metadata": {},
     "output_type": "execute_result"
    }
   ],
   "source": [
    "report.workable"
   ]
  },
  {
   "cell_type": "code",
   "execution_count": 12,
   "metadata": {},
   "outputs": [
    {
     "data": {
      "text/plain": [
       "[Form(id_='aee55782e172d0a8ac18525e1dabc42d', timestamp='2024-04-23T19:36:35.646604+00:00', assignment='a, b -> c', input_fields=['a', 'b'], requested_fields=['c'], a=3, b=4, c=None)]"
      ]
     },
     "execution_count": 12,
     "metadata": {},
     "output_type": "execute_result"
    }
   ],
   "source": [
    "report.next_forms"
   ]
  },
  {
   "cell_type": "code",
   "execution_count": 13,
   "metadata": {},
   "outputs": [],
   "source": [
    "report.fill(c=4)"
   ]
  },
  {
   "cell_type": "code",
   "execution_count": 14,
   "metadata": {},
   "outputs": [
    {
     "data": {
      "text/plain": [
       "{'a': 3, 'b': 4, 'c': 4}"
      ]
     },
     "execution_count": 14,
     "metadata": {},
     "output_type": "execute_result"
    }
   ],
   "source": [
    "report.work_fields"
   ]
  },
  {
   "cell_type": "code",
   "execution_count": 15,
   "metadata": {},
   "outputs": [
    {
     "data": {
      "text/plain": [
       "False"
      ]
     },
     "execution_count": 15,
     "metadata": {},
     "output_type": "execute_result"
    }
   ],
   "source": [
    "report.workable"
   ]
  },
  {
   "cell_type": "code",
   "execution_count": 16,
   "metadata": {},
   "outputs": [
    {
     "data": {
      "text/plain": [
       "True"
      ]
     },
     "execution_count": 16,
     "metadata": {},
     "output_type": "execute_result"
    }
   ],
   "source": [
    "report.filled"
   ]
  },
  {
   "cell_type": "code",
   "execution_count": 17,
   "metadata": {},
   "outputs": [
    {
     "data": {
      "text/plain": [
       "True"
      ]
     },
     "execution_count": 17,
     "metadata": {},
     "output_type": "execute_result"
    }
   ],
   "source": [
    "report.next_forms is None"
   ]
  },
  {
   "cell_type": "code",
   "execution_count": 18,
   "metadata": {},
   "outputs": [],
   "source": [
    "report = Report(\n",
    "    assignment=\"a, b -> h\",\n",
    "    form_assignments=[\"a, b -> c\", \"a -> e\", \"b -> f\", \"c -> g\", \"e, f, g -> h\"],\n",
    "    a=3,\n",
    "    b=4,\n",
    ")"
   ]
  },
  {
   "cell_type": "code",
   "execution_count": 19,
   "metadata": {},
   "outputs": [
    {
     "data": {
      "text/plain": [
       "{'a': 3, 'b': 4, 'c': None, 'e': None, 'f': None, 'g': None, 'h': None}"
      ]
     },
     "execution_count": 19,
     "metadata": {},
     "output_type": "execute_result"
    }
   ],
   "source": [
    "report.work_fields"
   ]
  },
  {
   "cell_type": "code",
   "execution_count": 20,
   "metadata": {},
   "outputs": [
    {
     "name": "stdout",
     "output_type": "stream",
     "text": [
      "{'a': 3, 'b': 4, 'c': None}\n",
      "{'a': 3, 'e': None}\n",
      "{'b': 4, 'f': None}\n",
      "{'c': None, 'g': None}\n",
      "{'e': None, 'f': None, 'g': None, 'h': None}\n"
     ]
    }
   ],
   "source": [
    "for _, k in report.forms.items():\n",
    "    print(k.work_fields)"
   ]
  },
  {
   "cell_type": "code",
   "execution_count": 21,
   "metadata": {},
   "outputs": [
    {
     "data": {
      "text/plain": [
       "{'a, b -> c': Form(id_='3223a0363f8e7b876b37e2bec3c08665', timestamp='2024-04-23T19:36:35.719380+00:00', assignment='a, b -> c', input_fields=['a', 'b'], requested_fields=['c'], a=3, b=4),\n",
       " 'a -> e': Form(id_='25c925f8aee62b51903c84ff2d52427b', timestamp='2024-04-23T19:36:35.719397+00:00', assignment='a -> e', input_fields=['a'], requested_fields=['e'], e=None, a=3),\n",
       " 'b -> f': Form(id_='801d6dea050726d67003fa1299fab7f1', timestamp='2024-04-23T19:36:35.719433+00:00', assignment='b -> f', input_fields=['b'], requested_fields=['f'], f=None, b=4),\n",
       " 'c -> g': Form(id_='6d55c186e262abb593d94532f7bfe560', timestamp='2024-04-23T19:36:35.719460+00:00', assignment='c -> g', input_fields=['c'], requested_fields=['g'], g=None),\n",
       " 'e, f, g -> h': Form(id_='5c98239e51a6a5761a126918d5b104b3', timestamp='2024-04-23T19:36:35.719486+00:00', assignment='e, f, g -> h', input_fields=['e', 'f', 'g'], requested_fields=['h'], h=None)}"
      ]
     },
     "execution_count": 21,
     "metadata": {},
     "output_type": "execute_result"
    }
   ],
   "source": [
    "report.forms"
   ]
  },
  {
   "cell_type": "code",
   "execution_count": 22,
   "metadata": {},
   "outputs": [],
   "source": [
    "new_forms = {i: report.form_template(assignment=i) for i in report.form_assignments}"
   ]
  },
  {
   "cell_type": "code",
   "execution_count": 23,
   "metadata": {},
   "outputs": [
    {
     "data": {
      "text/plain": [
       "{'a, b -> c': Form(id_='b777018777f8db7c76216f90005e3483', timestamp='2024-04-23T19:36:35.733379+00:00', assignment='a, b -> c', input_fields=['a', 'b'], requested_fields=['c']),\n",
       " 'a -> e': Form(id_='e52a7652496d847ac93bbcf525f498d5', timestamp='2024-04-23T19:36:35.733408+00:00', assignment='a -> e', input_fields=['a'], requested_fields=['e']),\n",
       " 'b -> f': Form(id_='71a38246ff913ac79ed134a3d414ee9c', timestamp='2024-04-23T19:36:35.733422+00:00', assignment='b -> f', input_fields=['b'], requested_fields=['f']),\n",
       " 'c -> g': Form(id_='f2dc5c2a6ee65686662520d319838a2c', timestamp='2024-04-23T19:36:35.733436+00:00', assignment='c -> g', input_fields=['c'], requested_fields=['g']),\n",
       " 'e, f, g -> h': Form(id_='5e477628af162e0edab3c02a67355a41', timestamp='2024-04-23T19:36:35.733445+00:00', assignment='e, f, g -> h', input_fields=['e', 'f', 'g'], requested_fields=['h'])}"
      ]
     },
     "execution_count": 23,
     "metadata": {},
     "output_type": "execute_result"
    }
   ],
   "source": [
    "new_forms"
   ]
  },
  {
   "cell_type": "code",
   "execution_count": 24,
   "metadata": {},
   "outputs": [],
   "source": [
    "for k, v in new_forms.items():\n",
    "    if k not in report.forms:\n",
    "        report.forms[k] = v"
   ]
  },
  {
   "cell_type": "code",
   "execution_count": 25,
   "metadata": {},
   "outputs": [
    {
     "data": {
      "text/plain": [
       "{'a, b -> c': Form(id_='3223a0363f8e7b876b37e2bec3c08665', timestamp='2024-04-23T19:36:35.719380+00:00', assignment='a, b -> c', input_fields=['a', 'b'], requested_fields=['c'], a=3, b=4),\n",
       " 'a -> e': Form(id_='25c925f8aee62b51903c84ff2d52427b', timestamp='2024-04-23T19:36:35.719397+00:00', assignment='a -> e', input_fields=['a'], requested_fields=['e'], e=None, a=3),\n",
       " 'b -> f': Form(id_='801d6dea050726d67003fa1299fab7f1', timestamp='2024-04-23T19:36:35.719433+00:00', assignment='b -> f', input_fields=['b'], requested_fields=['f'], f=None, b=4),\n",
       " 'c -> g': Form(id_='6d55c186e262abb593d94532f7bfe560', timestamp='2024-04-23T19:36:35.719460+00:00', assignment='c -> g', input_fields=['c'], requested_fields=['g'], g=None),\n",
       " 'e, f, g -> h': Form(id_='5c98239e51a6a5761a126918d5b104b3', timestamp='2024-04-23T19:36:35.719486+00:00', assignment='e, f, g -> h', input_fields=['e', 'f', 'g'], requested_fields=['h'], h=None)}"
      ]
     },
     "execution_count": 25,
     "metadata": {},
     "output_type": "execute_result"
    }
   ],
   "source": [
    "report.forms"
   ]
  },
  {
   "cell_type": "code",
   "execution_count": 26,
   "metadata": {},
   "outputs": [
    {
     "data": {
      "text/plain": [
       "{'a': 3, 'b': 4, 'c': None, 'e': None, 'f': None, 'g': None, 'h': None}"
      ]
     },
     "execution_count": 26,
     "metadata": {},
     "output_type": "execute_result"
    }
   ],
   "source": [
    "report.work_fields"
   ]
  },
  {
   "cell_type": "code",
   "execution_count": 27,
   "metadata": {},
   "outputs": [
    {
     "data": {
      "text/plain": [
       "Report(id_='ffa062906fc291c09659acca89294c91', timestamp='2024-04-23T19:36:35.719348+00:00', assignment='a, b -> h', forms={'a, b -> c': Form(id_='3223a0363f8e7b876b37e2bec3c08665', timestamp='2024-04-23T19:36:35.719380+00:00', assignment='a, b -> c', input_fields=['a', 'b'], requested_fields=['c'], a=3, b=4), 'a -> e': Form(id_='25c925f8aee62b51903c84ff2d52427b', timestamp='2024-04-23T19:36:35.719397+00:00', assignment='a -> e', input_fields=['a'], requested_fields=['e'], e=None, a=3), 'b -> f': Form(id_='801d6dea050726d67003fa1299fab7f1', timestamp='2024-04-23T19:36:35.719433+00:00', assignment='b -> f', input_fields=['b'], requested_fields=['f'], f=None, b=4), 'c -> g': Form(id_='6d55c186e262abb593d94532f7bfe560', timestamp='2024-04-23T19:36:35.719460+00:00', assignment='c -> g', input_fields=['c'], requested_fields=['g'], g=None), 'e, f, g -> h': Form(id_='5c98239e51a6a5761a126918d5b104b3', timestamp='2024-04-23T19:36:35.719486+00:00', assignment='e, f, g -> h', input_fields=['e', 'f', 'g'], requested_fields=['h'], h=None)}, form_assignments=['a, b -> c', 'a -> e', 'b -> f', 'c -> g', 'e, f, g -> h'], form_template=<class 'lionagi.experimental.form.form.Form'>, input_fields=['a', 'b'], requested_fields=['h'], e=None, f=None, g=None, h=None, a=3, b=4)"
      ]
     },
     "execution_count": 27,
     "metadata": {},
     "output_type": "execute_result"
    }
   ],
   "source": [
    "report"
   ]
  },
  {
   "cell_type": "code",
   "execution_count": 28,
   "metadata": {},
   "outputs": [
    {
     "data": {
      "text/plain": [
       "{'id_': FieldInfo(annotation=str, required=False, default_factory=create_id, alias_priority=2, validation_alias=AliasChoices(choices=['node_id', 'ID', 'id']), title='ID', description='A 32-char unique hash identifier for the node.'),\n",
       " 'timestamp': FieldInfo(annotation=str, required=False, default_factory=<lambda>, description='The timestamp of when the node was created.'),\n",
       " 'assignment': FieldInfo(annotation=str, required=True, examples=['input1, input2 -> output']),\n",
       " 'forms': FieldInfo(annotation=dict[str, Form], required=False, default_factory=dict, description='A dictionary of forms related to the report, in {assignment: Form} format.'),\n",
       " 'form_assignments': FieldInfo(annotation=list, required=False, default=[], description='assignment for the report', examples=[['a, b -> c', 'a -> e', 'b -> f', 'c -> g', 'e, f, g -> h']]),\n",
       " 'form_template': FieldInfo(annotation=Type[Form], required=False, default=<class 'lionagi.experimental.form.form.Form'>, description='The template for the forms in the report.'),\n",
       " 'input_fields': FieldInfo(annotation=list[str], required=False, default_factory=list),\n",
       " 'requested_fields': FieldInfo(annotation=list[str], required=False, default_factory=list),\n",
       " 'a': FieldInfo(annotation=Any, required=False),\n",
       " 'b': FieldInfo(annotation=Any, required=False),\n",
       " 'c': FieldInfo(annotation=Any, required=False),\n",
       " 'e': FieldInfo(annotation=Any, required=False),\n",
       " 'f': FieldInfo(annotation=Any, required=False),\n",
       " 'g': FieldInfo(annotation=Any, required=False),\n",
       " 'h': FieldInfo(annotation=Any, required=False)}"
      ]
     },
     "execution_count": 28,
     "metadata": {},
     "output_type": "execute_result"
    }
   ],
   "source": [
    "report.model_fields"
   ]
  },
  {
   "cell_type": "code",
   "execution_count": 29,
   "metadata": {},
   "outputs": [
    {
     "data": {
      "text/plain": [
       "True"
      ]
     },
     "execution_count": 29,
     "metadata": {},
     "output_type": "execute_result"
    }
   ],
   "source": [
    "report.workable"
   ]
  },
  {
   "cell_type": "code",
   "execution_count": 30,
   "metadata": {},
   "outputs": [
    {
     "data": {
      "text/plain": [
       "False"
      ]
     },
     "execution_count": 30,
     "metadata": {},
     "output_type": "execute_result"
    }
   ],
   "source": [
    "report.filled"
   ]
  },
  {
   "cell_type": "code",
   "execution_count": 31,
   "metadata": {},
   "outputs": [],
   "source": [
    "report.fill(c=5, e=6, f=7, g=8, h=10)"
   ]
  },
  {
   "cell_type": "code",
   "execution_count": 32,
   "metadata": {},
   "outputs": [
    {
     "data": {
      "text/plain": [
       "True"
      ]
     },
     "execution_count": 32,
     "metadata": {},
     "output_type": "execute_result"
    }
   ],
   "source": [
    "report.filled"
   ]
  },
  {
   "cell_type": "code",
   "execution_count": 33,
   "metadata": {},
   "outputs": [
    {
     "data": {
      "text/plain": [
       "False"
      ]
     },
     "execution_count": 33,
     "metadata": {},
     "output_type": "execute_result"
    }
   ],
   "source": [
    "report.workable"
   ]
  },
  {
   "cell_type": "code",
   "execution_count": 34,
   "metadata": {},
   "outputs": [
    {
     "data": {
      "text/plain": [
       "{'a': 3, 'b': 4, 'c': 5, 'e': 6, 'f': 7, 'g': 8, 'h': 10}"
      ]
     },
     "execution_count": 34,
     "metadata": {},
     "output_type": "execute_result"
    }
   ],
   "source": [
    "report.work_fields"
   ]
  },
  {
   "cell_type": "code",
   "execution_count": 35,
   "metadata": {},
   "outputs": [],
   "source": [
    "report.fill(c=\"xx\", e=\"yy\")"
   ]
  },
  {
   "cell_type": "code",
   "execution_count": 36,
   "metadata": {},
   "outputs": [
    {
     "data": {
      "text/plain": [
       "{'a': 3, 'b': 4, 'c': 5, 'e': 6, 'f': 7, 'g': 8, 'h': 10}"
      ]
     },
     "execution_count": 36,
     "metadata": {},
     "output_type": "execute_result"
    }
   ],
   "source": [
    "report.work_fields"
   ]
  }
 ],
 "metadata": {
  "kernelspec": {
   "display_name": ".venv",
   "language": "python",
   "name": "python3"
  },
  "language_info": {
   "codemirror_mode": {
    "name": "ipython",
    "version": 3
   },
   "file_extension": ".py",
   "mimetype": "text/x-python",
   "name": "python",
   "nbconvert_exporter": "python",
   "pygments_lexer": "ipython3",
   "version": "3.11.6"
  }
 },
 "nbformat": 4,
 "nbformat_minor": 2
}

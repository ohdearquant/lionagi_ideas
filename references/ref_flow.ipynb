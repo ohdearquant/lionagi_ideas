{
 "cells": [
  {
   "cell_type": "code",
   "execution_count": 1,
   "metadata": {},
   "outputs": [],
   "source": [
    "import lionagi as li"
   ]
  },
  {
   "cell_type": "code",
   "execution_count": 2,
   "metadata": {},
   "outputs": [],
   "source": [
    "# lets create a simple flow\n",
    "# 1. create a pile of nodes\n",
    "\n",
    "nodes1 = [li.Node(content=i) for i in range(10)]\n",
    "p1 = li.pile(nodes1)"
   ]
  },
  {
   "cell_type": "code",
   "execution_count": 3,
   "metadata": {},
   "outputs": [
    {
     "data": {
      "text/html": [
       "<div>\n",
       "<style scoped>\n",
       "    .dataframe tbody tr th:only-of-type {\n",
       "        vertical-align: middle;\n",
       "    }\n",
       "\n",
       "    .dataframe tbody tr th {\n",
       "        vertical-align: top;\n",
       "    }\n",
       "\n",
       "    .dataframe thead th {\n",
       "        text-align: right;\n",
       "    }\n",
       "</style>\n",
       "<table border=\"1\" class=\"dataframe\">\n",
       "  <thead>\n",
       "    <tr style=\"text-align: right;\">\n",
       "      <th></th>\n",
       "      <th>ln_id</th>\n",
       "      <th>created</th>\n",
       "      <th>metadata</th>\n",
       "      <th>content</th>\n",
       "      <th>relations</th>\n",
       "    </tr>\n",
       "  </thead>\n",
       "  <tbody>\n",
       "    <tr>\n",
       "      <th>0</th>\n",
       "      <td>f92622fe94fe089dc63e87bc06de0665</td>\n",
       "      <td>2024-05-07T20:00:31.148929</td>\n",
       "      <td>{}</td>\n",
       "      <td>0</td>\n",
       "      <td>{'ln_id': '35694c43df669155253d8ba14aa8d6ff', ...</td>\n",
       "    </tr>\n",
       "    <tr>\n",
       "      <th>1</th>\n",
       "      <td>0b7cee4950cc90e26938e31b9848747f</td>\n",
       "      <td>2024-05-07T20:00:31.148996</td>\n",
       "      <td>{}</td>\n",
       "      <td>1</td>\n",
       "      <td>{'ln_id': 'f94f0cee1aa37d01c8fc6517844f828a', ...</td>\n",
       "    </tr>\n",
       "    <tr>\n",
       "      <th>2</th>\n",
       "      <td>277217264f30416420463850dfdcec0d</td>\n",
       "      <td>2024-05-07T20:00:31.149043</td>\n",
       "      <td>{}</td>\n",
       "      <td>2</td>\n",
       "      <td>{'ln_id': '8388c3153e455c22f52d31c6535607ac', ...</td>\n",
       "    </tr>\n",
       "    <tr>\n",
       "      <th>3</th>\n",
       "      <td>c56b75509ec5aa5cfd1b3de533941fff</td>\n",
       "      <td>2024-05-07T20:00:31.149082</td>\n",
       "      <td>{}</td>\n",
       "      <td>3</td>\n",
       "      <td>{'ln_id': '363f3afa2024c6a6b269e3fedf98463b', ...</td>\n",
       "    </tr>\n",
       "    <tr>\n",
       "      <th>4</th>\n",
       "      <td>fe5961e45bc35fa5919290e239d07a95</td>\n",
       "      <td>2024-05-07T20:00:31.149134</td>\n",
       "      <td>{}</td>\n",
       "      <td>4</td>\n",
       "      <td>{'ln_id': '805cd3a689bedae45d19ab8a7e1da36e', ...</td>\n",
       "    </tr>\n",
       "    <tr>\n",
       "      <th>5</th>\n",
       "      <td>f386229d1ee97ab41bbf716cabf3ee71</td>\n",
       "      <td>2024-05-07T20:00:31.149443</td>\n",
       "      <td>{}</td>\n",
       "      <td>5</td>\n",
       "      <td>{'ln_id': 'b3ef46d4526af7bae05c145b14867d26', ...</td>\n",
       "    </tr>\n",
       "    <tr>\n",
       "      <th>6</th>\n",
       "      <td>213c2189e94f14577093f02d727f6c0a</td>\n",
       "      <td>2024-05-07T20:00:31.149494</td>\n",
       "      <td>{}</td>\n",
       "      <td>6</td>\n",
       "      <td>{'ln_id': '543a329d89fcc2d2fe8a6b8d43680770', ...</td>\n",
       "    </tr>\n",
       "    <tr>\n",
       "      <th>7</th>\n",
       "      <td>dea64ccc3d36a968d7b0e8afa260ed10</td>\n",
       "      <td>2024-05-07T20:00:31.149539</td>\n",
       "      <td>{}</td>\n",
       "      <td>7</td>\n",
       "      <td>{'ln_id': '4d7754cba3e1d13675a7feccdaa0d8ce', ...</td>\n",
       "    </tr>\n",
       "    <tr>\n",
       "      <th>8</th>\n",
       "      <td>ecc5dbf9a80a2fb3c1cbeb89eb319346</td>\n",
       "      <td>2024-05-07T20:00:31.149616</td>\n",
       "      <td>{}</td>\n",
       "      <td>8</td>\n",
       "      <td>{'ln_id': '213b6014f13085c6e498cc0bb0878d93', ...</td>\n",
       "    </tr>\n",
       "    <tr>\n",
       "      <th>9</th>\n",
       "      <td>1b52650784e3c2287ad7ea5a19587580</td>\n",
       "      <td>2024-05-07T20:00:31.149647</td>\n",
       "      <td>{}</td>\n",
       "      <td>9</td>\n",
       "      <td>{'ln_id': '429884a8b305e156e47ea1eeb8be5b3c', ...</td>\n",
       "    </tr>\n",
       "  </tbody>\n",
       "</table>\n",
       "</div>"
      ],
      "text/plain": [
       "                              ln_id                     created metadata  \\\n",
       "0  f92622fe94fe089dc63e87bc06de0665  2024-05-07T20:00:31.148929       {}   \n",
       "1  0b7cee4950cc90e26938e31b9848747f  2024-05-07T20:00:31.148996       {}   \n",
       "2  277217264f30416420463850dfdcec0d  2024-05-07T20:00:31.149043       {}   \n",
       "3  c56b75509ec5aa5cfd1b3de533941fff  2024-05-07T20:00:31.149082       {}   \n",
       "4  fe5961e45bc35fa5919290e239d07a95  2024-05-07T20:00:31.149134       {}   \n",
       "5  f386229d1ee97ab41bbf716cabf3ee71  2024-05-07T20:00:31.149443       {}   \n",
       "6  213c2189e94f14577093f02d727f6c0a  2024-05-07T20:00:31.149494       {}   \n",
       "7  dea64ccc3d36a968d7b0e8afa260ed10  2024-05-07T20:00:31.149539       {}   \n",
       "8  ecc5dbf9a80a2fb3c1cbeb89eb319346  2024-05-07T20:00:31.149616       {}   \n",
       "9  1b52650784e3c2287ad7ea5a19587580  2024-05-07T20:00:31.149647       {}   \n",
       "\n",
       "   content                                          relations  \n",
       "0        0  {'ln_id': '35694c43df669155253d8ba14aa8d6ff', ...  \n",
       "1        1  {'ln_id': 'f94f0cee1aa37d01c8fc6517844f828a', ...  \n",
       "2        2  {'ln_id': '8388c3153e455c22f52d31c6535607ac', ...  \n",
       "3        3  {'ln_id': '363f3afa2024c6a6b269e3fedf98463b', ...  \n",
       "4        4  {'ln_id': '805cd3a689bedae45d19ab8a7e1da36e', ...  \n",
       "5        5  {'ln_id': 'b3ef46d4526af7bae05c145b14867d26', ...  \n",
       "6        6  {'ln_id': '543a329d89fcc2d2fe8a6b8d43680770', ...  \n",
       "7        7  {'ln_id': '4d7754cba3e1d13675a7feccdaa0d8ce', ...  \n",
       "8        8  {'ln_id': '213b6014f13085c6e498cc0bb0878d93', ...  \n",
       "9        9  {'ln_id': '429884a8b305e156e47ea1eeb8be5b3c', ...  "
      ]
     },
     "execution_count": 3,
     "metadata": {},
     "output_type": "execute_result"
    }
   ],
   "source": [
    "# let us check what's inside p1\n",
    "\n",
    "p1.to_df()"
   ]
  },
  {
   "cell_type": "code",
   "execution_count": 4,
   "metadata": {},
   "outputs": [],
   "source": [
    "# now let us create somke progression,\n",
    "\n",
    "prog1 = li.prog(p1[:5])\n",
    "prog2 = li.prog(p1[5:])"
   ]
  },
  {
   "cell_type": "code",
   "execution_count": 5,
   "metadata": {},
   "outputs": [
    {
     "data": {
      "text/plain": [
       "5"
      ]
     },
     "execution_count": 5,
     "metadata": {},
     "output_type": "execute_result"
    }
   ],
   "source": [
    "len(prog1)"
   ]
  },
  {
   "cell_type": "code",
   "execution_count": 6,
   "metadata": {},
   "outputs": [],
   "source": [
    "sequences = li.pile([prog1, prog2])"
   ]
  },
  {
   "cell_type": "code",
   "execution_count": 7,
   "metadata": {},
   "outputs": [],
   "source": [
    "f1 = li.flow(sequences)"
   ]
  },
  {
   "cell_type": "code",
   "execution_count": 8,
   "metadata": {},
   "outputs": [
    {
     "data": {
      "text/html": [
       "<div>\n",
       "<style scoped>\n",
       "    .dataframe tbody tr th:only-of-type {\n",
       "        vertical-align: middle;\n",
       "    }\n",
       "\n",
       "    .dataframe tbody tr th {\n",
       "        vertical-align: top;\n",
       "    }\n",
       "\n",
       "    .dataframe thead th {\n",
       "        text-align: right;\n",
       "    }\n",
       "</style>\n",
       "<table border=\"1\" class=\"dataframe\">\n",
       "  <thead>\n",
       "    <tr style=\"text-align: right;\">\n",
       "      <th></th>\n",
       "      <th>ln_id</th>\n",
       "      <th>created</th>\n",
       "      <th>metadata</th>\n",
       "      <th>content</th>\n",
       "      <th>name</th>\n",
       "      <th>order</th>\n",
       "    </tr>\n",
       "  </thead>\n",
       "  <tbody>\n",
       "    <tr>\n",
       "      <th>0</th>\n",
       "      <td>b21db461011905ffa356d9ef74536d61</td>\n",
       "      <td>2024-05-07T20:00:31.166996</td>\n",
       "      <td>{}</td>\n",
       "      <td>None</td>\n",
       "      <td>None</td>\n",
       "      <td>[f92622fe94fe089dc63e87bc06de0665, 0b7cee4950c...</td>\n",
       "    </tr>\n",
       "    <tr>\n",
       "      <th>1</th>\n",
       "      <td>a98940543660008f6d68f40ebf0b33a2</td>\n",
       "      <td>2024-05-07T20:00:31.167051</td>\n",
       "      <td>{}</td>\n",
       "      <td>None</td>\n",
       "      <td>None</td>\n",
       "      <td>[f386229d1ee97ab41bbf716cabf3ee71, 213c2189e94...</td>\n",
       "    </tr>\n",
       "  </tbody>\n",
       "</table>\n",
       "</div>"
      ],
      "text/plain": [
       "                              ln_id                     created metadata  \\\n",
       "0  b21db461011905ffa356d9ef74536d61  2024-05-07T20:00:31.166996       {}   \n",
       "1  a98940543660008f6d68f40ebf0b33a2  2024-05-07T20:00:31.167051       {}   \n",
       "\n",
       "  content  name                                              order  \n",
       "0    None  None  [f92622fe94fe089dc63e87bc06de0665, 0b7cee4950c...  \n",
       "1    None  None  [f386229d1ee97ab41bbf716cabf3ee71, 213c2189e94...  "
      ]
     },
     "execution_count": 8,
     "metadata": {},
     "output_type": "execute_result"
    }
   ],
   "source": [
    "f1.to_df()"
   ]
  },
  {
   "cell_type": "code",
   "execution_count": 9,
   "metadata": {},
   "outputs": [],
   "source": [
    "sequences = li.pile(p1[:5])"
   ]
  },
  {
   "cell_type": "code",
   "execution_count": 10,
   "metadata": {},
   "outputs": [],
   "source": [
    "f1 = li.flow(sequences)"
   ]
  },
  {
   "cell_type": "code",
   "execution_count": 11,
   "metadata": {},
   "outputs": [
    {
     "data": {
      "text/html": [
       "<div>\n",
       "<style scoped>\n",
       "    .dataframe tbody tr th:only-of-type {\n",
       "        vertical-align: middle;\n",
       "    }\n",
       "\n",
       "    .dataframe tbody tr th {\n",
       "        vertical-align: top;\n",
       "    }\n",
       "\n",
       "    .dataframe thead th {\n",
       "        text-align: right;\n",
       "    }\n",
       "</style>\n",
       "<table border=\"1\" class=\"dataframe\">\n",
       "  <thead>\n",
       "    <tr style=\"text-align: right;\">\n",
       "      <th></th>\n",
       "      <th>ln_id</th>\n",
       "      <th>created</th>\n",
       "      <th>metadata</th>\n",
       "      <th>content</th>\n",
       "      <th>name</th>\n",
       "      <th>order</th>\n",
       "    </tr>\n",
       "  </thead>\n",
       "  <tbody>\n",
       "    <tr>\n",
       "      <th>0</th>\n",
       "      <td>db78991e3865428bcbc914fc468fdccb</td>\n",
       "      <td>2024-05-07T20:00:31.193099</td>\n",
       "      <td>{}</td>\n",
       "      <td>None</td>\n",
       "      <td>f92622fe94fe089dc63e87bc06de0665</td>\n",
       "      <td>[f92622fe94fe089dc63e87bc06de0665]</td>\n",
       "    </tr>\n",
       "    <tr>\n",
       "      <th>1</th>\n",
       "      <td>86c0c5b0a380a48f907cb03992f16f93</td>\n",
       "      <td>2024-05-07T20:00:31.193125</td>\n",
       "      <td>{}</td>\n",
       "      <td>None</td>\n",
       "      <td>0b7cee4950cc90e26938e31b9848747f</td>\n",
       "      <td>[0b7cee4950cc90e26938e31b9848747f]</td>\n",
       "    </tr>\n",
       "    <tr>\n",
       "      <th>2</th>\n",
       "      <td>3760a492abedcb42647da9dbcedf7db6</td>\n",
       "      <td>2024-05-07T20:00:31.193140</td>\n",
       "      <td>{}</td>\n",
       "      <td>None</td>\n",
       "      <td>277217264f30416420463850dfdcec0d</td>\n",
       "      <td>[277217264f30416420463850dfdcec0d]</td>\n",
       "    </tr>\n",
       "    <tr>\n",
       "      <th>3</th>\n",
       "      <td>5e03a30f86eb153983154a1fbe153c8f</td>\n",
       "      <td>2024-05-07T20:00:31.193206</td>\n",
       "      <td>{}</td>\n",
       "      <td>None</td>\n",
       "      <td>c56b75509ec5aa5cfd1b3de533941fff</td>\n",
       "      <td>[c56b75509ec5aa5cfd1b3de533941fff]</td>\n",
       "    </tr>\n",
       "    <tr>\n",
       "      <th>4</th>\n",
       "      <td>b7e75692a144088e825f711ef6fee68f</td>\n",
       "      <td>2024-05-07T20:00:31.193223</td>\n",
       "      <td>{}</td>\n",
       "      <td>None</td>\n",
       "      <td>fe5961e45bc35fa5919290e239d07a95</td>\n",
       "      <td>[fe5961e45bc35fa5919290e239d07a95]</td>\n",
       "    </tr>\n",
       "  </tbody>\n",
       "</table>\n",
       "</div>"
      ],
      "text/plain": [
       "                              ln_id                     created metadata  \\\n",
       "0  db78991e3865428bcbc914fc468fdccb  2024-05-07T20:00:31.193099       {}   \n",
       "1  86c0c5b0a380a48f907cb03992f16f93  2024-05-07T20:00:31.193125       {}   \n",
       "2  3760a492abedcb42647da9dbcedf7db6  2024-05-07T20:00:31.193140       {}   \n",
       "3  5e03a30f86eb153983154a1fbe153c8f  2024-05-07T20:00:31.193206       {}   \n",
       "4  b7e75692a144088e825f711ef6fee68f  2024-05-07T20:00:31.193223       {}   \n",
       "\n",
       "  content                              name  \\\n",
       "0    None  f92622fe94fe089dc63e87bc06de0665   \n",
       "1    None  0b7cee4950cc90e26938e31b9848747f   \n",
       "2    None  277217264f30416420463850dfdcec0d   \n",
       "3    None  c56b75509ec5aa5cfd1b3de533941fff   \n",
       "4    None  fe5961e45bc35fa5919290e239d07a95   \n",
       "\n",
       "                                order  \n",
       "0  [f92622fe94fe089dc63e87bc06de0665]  \n",
       "1  [0b7cee4950cc90e26938e31b9848747f]  \n",
       "2  [277217264f30416420463850dfdcec0d]  \n",
       "3  [c56b75509ec5aa5cfd1b3de533941fff]  \n",
       "4  [fe5961e45bc35fa5919290e239d07a95]  "
      ]
     },
     "execution_count": 11,
     "metadata": {},
     "output_type": "execute_result"
    }
   ],
   "source": [
    "f1.to_df()"
   ]
  },
  {
   "cell_type": "code",
   "execution_count": 12,
   "metadata": {},
   "outputs": [
    {
     "name": "stdout",
     "output_type": "stream",
     "text": [
      "ln_id        50f4d765f68efb0586dec94be7fea860\n",
      "created            2024-05-07T20:00:31.202560\n",
      "metadata                                   {}\n",
      "content                                     A\n",
      "relations                              [0, 0]\n",
      "dtype: object\n"
     ]
    }
   ],
   "source": [
    "# let us begin with creating a few nodes\n",
    "\n",
    "nodes = [li.Node(content=i) for i in [\"A\", \"B\", \"C\", \"D\", \"E\", \"F\", \"G\", \"H\"]]\n",
    "print(nodes[0])"
   ]
  },
  {
   "cell_type": "code",
   "execution_count": null,
   "metadata": {},
   "outputs": [],
   "source": []
  },
  {
   "cell_type": "code",
   "execution_count": 13,
   "metadata": {},
   "outputs": [
    {
     "data": {
      "text/html": [
       "<div>\n",
       "<style scoped>\n",
       "    .dataframe tbody tr th:only-of-type {\n",
       "        vertical-align: middle;\n",
       "    }\n",
       "\n",
       "    .dataframe tbody tr th {\n",
       "        vertical-align: top;\n",
       "    }\n",
       "\n",
       "    .dataframe thead th {\n",
       "        text-align: right;\n",
       "    }\n",
       "</style>\n",
       "<table border=\"1\" class=\"dataframe\">\n",
       "  <thead>\n",
       "    <tr style=\"text-align: right;\">\n",
       "      <th></th>\n",
       "      <th>ln_id</th>\n",
       "      <th>created</th>\n",
       "      <th>metadata</th>\n",
       "      <th>content</th>\n",
       "      <th>relations</th>\n",
       "    </tr>\n",
       "  </thead>\n",
       "  <tbody>\n",
       "    <tr>\n",
       "      <th>0</th>\n",
       "      <td>50f4d765f68efb0586dec94be7fea860</td>\n",
       "      <td>2024-05-07T20:00:31.202560</td>\n",
       "      <td>{}</td>\n",
       "      <td>A</td>\n",
       "      <td>{'ln_id': '342ad054ecd8571cc1cb1df9830ce809', ...</td>\n",
       "    </tr>\n",
       "    <tr>\n",
       "      <th>1</th>\n",
       "      <td>ccf8195c9cd7b8edda4393592cd835a7</td>\n",
       "      <td>2024-05-07T20:00:31.202613</td>\n",
       "      <td>{}</td>\n",
       "      <td>B</td>\n",
       "      <td>{'ln_id': '341708bc58eee1b9b2044d20890e7b40', ...</td>\n",
       "    </tr>\n",
       "    <tr>\n",
       "      <th>2</th>\n",
       "      <td>0db425658edeaefa9afa47e749569fe9</td>\n",
       "      <td>2024-05-07T20:00:31.202645</td>\n",
       "      <td>{}</td>\n",
       "      <td>C</td>\n",
       "      <td>{'ln_id': '8a40907ddccd87fc4cea98c7ac87c7f8', ...</td>\n",
       "    </tr>\n",
       "    <tr>\n",
       "      <th>3</th>\n",
       "      <td>7c0a9e109589acbbb9eb23befdccb090</td>\n",
       "      <td>2024-05-07T20:00:31.202680</td>\n",
       "      <td>{}</td>\n",
       "      <td>D</td>\n",
       "      <td>{'ln_id': 'fe7fffc4cbf9dd2b28fb87ec36f9d323', ...</td>\n",
       "    </tr>\n",
       "    <tr>\n",
       "      <th>4</th>\n",
       "      <td>2845982685f069b4b7c0a066945b8cda</td>\n",
       "      <td>2024-05-07T20:00:31.202715</td>\n",
       "      <td>{}</td>\n",
       "      <td>E</td>\n",
       "      <td>{'ln_id': 'aae3a2376388187ed12ab3de44470f07', ...</td>\n",
       "    </tr>\n",
       "  </tbody>\n",
       "</table>\n",
       "</div>"
      ],
      "text/plain": [
       "                              ln_id                     created metadata  \\\n",
       "0  50f4d765f68efb0586dec94be7fea860  2024-05-07T20:00:31.202560       {}   \n",
       "1  ccf8195c9cd7b8edda4393592cd835a7  2024-05-07T20:00:31.202613       {}   \n",
       "2  0db425658edeaefa9afa47e749569fe9  2024-05-07T20:00:31.202645       {}   \n",
       "3  7c0a9e109589acbbb9eb23befdccb090  2024-05-07T20:00:31.202680       {}   \n",
       "4  2845982685f069b4b7c0a066945b8cda  2024-05-07T20:00:31.202715       {}   \n",
       "\n",
       "  content                                          relations  \n",
       "0       A  {'ln_id': '342ad054ecd8571cc1cb1df9830ce809', ...  \n",
       "1       B  {'ln_id': '341708bc58eee1b9b2044d20890e7b40', ...  \n",
       "2       C  {'ln_id': '8a40907ddccd87fc4cea98c7ac87c7f8', ...  \n",
       "3       D  {'ln_id': 'fe7fffc4cbf9dd2b28fb87ec36f9d323', ...  \n",
       "4       E  {'ln_id': 'aae3a2376388187ed12ab3de44470f07', ...  "
      ]
     },
     "execution_count": 13,
     "metadata": {},
     "output_type": "execute_result"
    }
   ],
   "source": [
    "# now let us put these into a pile, a lionagi data structure that can be used to store lionagi obejcts\n",
    "p1 = li.pile(nodes)\n",
    "\n",
    "# you can check the details of each node by converting the pile to a dataframe\n",
    "p1.to_df().head()"
   ]
  },
  {
   "cell_type": "code",
   "execution_count": 14,
   "metadata": {},
   "outputs": [
    {
     "data": {
      "text/plain": [
       "{'ln_id': '50f4d765f68efb0586dec94be7fea860',\n",
       " 'created': '2024-05-07T20:00:31.202560',\n",
       " 'metadata': {},\n",
       " 'content': 'A',\n",
       " 'relations': {'ln_id': '342ad054ecd8571cc1cb1df9830ce809',\n",
       "  'created': '2024-05-07T20:00:31.202599',\n",
       "  'metadata': {},\n",
       "  'extra_fields': {},\n",
       "  'content': None,\n",
       "  'categories': {'in': {'ln_id': '673dc526022d2f09fcb0e1757a1acb63',\n",
       "    'created': '2024-05-07T20:00:31.202577',\n",
       "    'metadata': {},\n",
       "    'extra_fields': {},\n",
       "    'content': None,\n",
       "    'items': {},\n",
       "    'item_type': None,\n",
       "    'name': None},\n",
       "   'out': {'ln_id': 'c0d396331770c6b3f4016d4e35a1aaaa',\n",
       "    'created': '2024-05-07T20:00:31.202588',\n",
       "    'metadata': {},\n",
       "    'extra_fields': {},\n",
       "    'content': None,\n",
       "    'items': {},\n",
       "    'item_type': None,\n",
       "    'name': None}}}}"
      ]
     },
     "execution_count": 14,
     "metadata": {},
     "output_type": "execute_result"
    }
   ],
   "source": [
    "# if you wish to see the all information of a particular node you can also\n",
    "\n",
    "p1[0].to_dict()"
   ]
  },
  {
   "cell_type": "code",
   "execution_count": 15,
   "metadata": {},
   "outputs": [
    {
     "data": {
      "text/plain": [
       "'50f4d765f68efb0586dec94be7fea860'"
      ]
     },
     "execution_count": 15,
     "metadata": {},
     "output_type": "execute_result"
    }
   ],
   "source": [
    "# using progression, you can use progression to keep track of orders of nodes\n",
    "\n",
    "prog1 = li.prog(nodes[:5])\n",
    "prog2 = li.prog(nodes[5:])\n",
    "\n",
    "\n",
    "# the item in a progression is a list of lionagi object id in order\n",
    "prog1.order[0]"
   ]
  },
  {
   "cell_type": "code",
   "execution_count": 16,
   "metadata": {},
   "outputs": [
    {
     "data": {
      "text/plain": [
       "'50f4d765f68efb0586dec94be7fea860'"
      ]
     },
     "execution_count": 16,
     "metadata": {},
     "output_type": "execute_result"
    }
   ],
   "source": [
    "prog1[0]"
   ]
  },
  {
   "cell_type": "code",
   "execution_count": 17,
   "metadata": {},
   "outputs": [],
   "source": [
    "# you can also name the progression\n",
    "prog1.name = \"left\"\n",
    "prog2.name = \"right\"\n",
    "\n",
    "# now let us put these into a flow\n",
    "p2 = li.pile([prog1, prog2])\n",
    "f1 = li.flow(p2)"
   ]
  },
  {
   "cell_type": "code",
   "execution_count": 18,
   "metadata": {},
   "outputs": [
    {
     "data": {
      "text/plain": [
       "'left'"
      ]
     },
     "execution_count": 18,
     "metadata": {},
     "output_type": "execute_result"
    }
   ],
   "source": [
    "prog1.name"
   ]
  },
  {
   "cell_type": "code",
   "execution_count": 19,
   "metadata": {},
   "outputs": [
    {
     "data": {
      "text/plain": [
       "ln_id                            bb77c4cc2738f4a3e54aed7fa85a5d91\n",
       "created                                2024-05-07T20:00:31.241594\n",
       "metadata                                                       {}\n",
       "content                                                      None\n",
       "sequences       {'ln_id': 'a2ef423d0de076182586e43c3ae392cd', ...\n",
       "registry        {'7e2d7dc842fbf2b419dcaea390d0739f': '7e2d7dc8...\n",
       "default_name                                                 main\n",
       "class_name                                                   Flow\n",
       "dtype: object"
      ]
     },
     "execution_count": 19,
     "metadata": {},
     "output_type": "execute_result"
    }
   ],
   "source": [
    "f1"
   ]
  },
  {
   "cell_type": "code",
   "execution_count": 20,
   "metadata": {},
   "outputs": [
    {
     "data": {
      "text/plain": [
       "Progression(['50f4d765f68efb0586dec94be7fea860', 'ccf8195c9cd7b8edda4393592cd835a7', '0db425658edeaefa9afa47e749569fe9', '7c0a9e109589acbbb9eb23befdccb090', '2845982685f069b4b7c0a066945b8cda'])"
      ]
     },
     "execution_count": 20,
     "metadata": {},
     "output_type": "execute_result"
    }
   ],
   "source": [
    "f1.get(\"left\")"
   ]
  },
  {
   "cell_type": "code",
   "execution_count": 21,
   "metadata": {},
   "outputs": [
    {
     "data": {
      "text/plain": [
       "Progression(['50f4d765f68efb0586dec94be7fea860', 'ccf8195c9cd7b8edda4393592cd835a7', '0db425658edeaefa9afa47e749569fe9', '7c0a9e109589acbbb9eb23befdccb090', '2845982685f069b4b7c0a066945b8cda'])"
      ]
     },
     "execution_count": 21,
     "metadata": {},
     "output_type": "execute_result"
    }
   ],
   "source": [
    "f1.sequences[\"left\"]"
   ]
  },
  {
   "cell_type": "code",
   "execution_count": 22,
   "metadata": {},
   "outputs": [
    {
     "name": "stdout",
     "output_type": "stream",
     "text": [
      "['50f4d765f68efb0586dec94be7fea860', 'ccf8195c9cd7b8edda4393592cd835a7', '0db425658edeaefa9afa47e749569fe9', '7c0a9e109589acbbb9eb23befdccb090', '2845982685f069b4b7c0a066945b8cda']\n",
      "['bf115436e42e3a313d28c6a1328e6377', '9867d26a691ba09e096f6807a2250ede', '07dad3aa2acae83ceeb5aaee24a62b1a']\n"
     ]
    }
   ],
   "source": [
    "# iterate over each progression value\n",
    "for i in f1.all_orders():\n",
    "    print(i)"
   ]
  },
  {
   "cell_type": "code",
   "execution_count": 23,
   "metadata": {},
   "outputs": [
    {
     "data": {
      "text/plain": [
       "Progression(['50f4d765f68efb0586dec94be7fea860', 'ccf8195c9cd7b8edda4393592cd835a7', '0db425658edeaefa9afa47e749569fe9', '7c0a9e109589acbbb9eb23befdccb090', '2845982685f069b4b7c0a066945b8cda'])"
      ]
     },
     "execution_count": 23,
     "metadata": {},
     "output_type": "execute_result"
    }
   ],
   "source": [
    "f1[0]"
   ]
  },
  {
   "cell_type": "code",
   "execution_count": 24,
   "metadata": {},
   "outputs": [
    {
     "data": {
      "text/plain": [
       "                              ln_id                     created  \\\n",
       "0  7e2d7dc842fbf2b419dcaea390d0739f  2024-05-07T20:00:31.221259   \n",
       "1  e299b56178e8105c71b21b7b8c74fe8d  2024-05-07T20:00:31.221326   \n",
       "\n",
       "                                            metadata content   name  \\\n",
       "0  {'last_updated': {'name': (1, '2024-05-07T20:0...    None   left   \n",
       "1  {'last_updated': {'name': (1, '2024-05-07T20:0...    None  right   \n",
       "\n",
       "                                               order  \n",
       "0  [50f4d765f68efb0586dec94be7fea860, ccf8195c9cd...  \n",
       "1  [bf115436e42e3a313d28c6a1328e6377, 9867d26a691...  "
      ]
     },
     "execution_count": 24,
     "metadata": {},
     "output_type": "execute_result"
    }
   ],
   "source": [
    "f1.sequences"
   ]
  },
  {
   "cell_type": "code",
   "execution_count": 25,
   "metadata": {},
   "outputs": [
    {
     "data": {
      "text/plain": [
       "Progression(['50f4d765f68efb0586dec94be7fea860', 'ccf8195c9cd7b8edda4393592cd835a7', '0db425658edeaefa9afa47e749569fe9', '7c0a9e109589acbbb9eb23befdccb090', '2845982685f069b4b7c0a066945b8cda'])"
      ]
     },
     "execution_count": 25,
     "metadata": {},
     "output_type": "execute_result"
    }
   ],
   "source": [
    "f1.get(\"left\")"
   ]
  },
  {
   "cell_type": "code",
   "execution_count": 26,
   "metadata": {},
   "outputs": [
    {
     "data": {
      "text/plain": [
       "['ccf8195c9cd7b8edda4393592cd835a7', '0db425658edeaefa9afa47e749569fe9']"
      ]
     },
     "execution_count": 26,
     "metadata": {},
     "output_type": "execute_result"
    }
   ],
   "source": [
    "f1[\"left\"][1:3]"
   ]
  },
  {
   "cell_type": "code",
   "execution_count": 27,
   "metadata": {},
   "outputs": [
    {
     "data": {
      "text/plain": [
       "['ccf8195c9cd7b8edda4393592cd835a7', '0db425658edeaefa9afa47e749569fe9']"
      ]
     },
     "execution_count": 27,
     "metadata": {},
     "output_type": "execute_result"
    }
   ],
   "source": [
    "f1[prog1][1:3]"
   ]
  },
  {
   "cell_type": "code",
   "execution_count": 28,
   "metadata": {},
   "outputs": [
    {
     "data": {
      "text/plain": [
       "['ccf8195c9cd7b8edda4393592cd835a7', '0db425658edeaefa9afa47e749569fe9']"
      ]
     },
     "execution_count": 28,
     "metadata": {},
     "output_type": "execute_result"
    }
   ],
   "source": [
    "prog1[1:3]"
   ]
  },
  {
   "cell_type": "code",
   "execution_count": 29,
   "metadata": {},
   "outputs": [
    {
     "data": {
      "text/html": [
       "<div>\n",
       "<style scoped>\n",
       "    .dataframe tbody tr th:only-of-type {\n",
       "        vertical-align: middle;\n",
       "    }\n",
       "\n",
       "    .dataframe tbody tr th {\n",
       "        vertical-align: top;\n",
       "    }\n",
       "\n",
       "    .dataframe thead th {\n",
       "        text-align: right;\n",
       "    }\n",
       "</style>\n",
       "<table border=\"1\" class=\"dataframe\">\n",
       "  <thead>\n",
       "    <tr style=\"text-align: right;\">\n",
       "      <th></th>\n",
       "      <th>ln_id</th>\n",
       "      <th>created</th>\n",
       "      <th>metadata</th>\n",
       "      <th>content</th>\n",
       "      <th>name</th>\n",
       "      <th>order</th>\n",
       "    </tr>\n",
       "  </thead>\n",
       "  <tbody>\n",
       "    <tr>\n",
       "      <th>0</th>\n",
       "      <td>7e2d7dc842fbf2b419dcaea390d0739f</td>\n",
       "      <td>2024-05-07T20:00:31.221259</td>\n",
       "      <td>{'last_updated': {'name': (1, '2024-05-07T20:0...</td>\n",
       "      <td>None</td>\n",
       "      <td>left</td>\n",
       "      <td>[50f4d765f68efb0586dec94be7fea860, ccf8195c9cd...</td>\n",
       "    </tr>\n",
       "    <tr>\n",
       "      <th>1</th>\n",
       "      <td>e299b56178e8105c71b21b7b8c74fe8d</td>\n",
       "      <td>2024-05-07T20:00:31.221326</td>\n",
       "      <td>{'last_updated': {'name': (1, '2024-05-07T20:0...</td>\n",
       "      <td>None</td>\n",
       "      <td>right</td>\n",
       "      <td>[bf115436e42e3a313d28c6a1328e6377, 9867d26a691...</td>\n",
       "    </tr>\n",
       "  </tbody>\n",
       "</table>\n",
       "</div>"
      ],
      "text/plain": [
       "                              ln_id                     created  \\\n",
       "0  7e2d7dc842fbf2b419dcaea390d0739f  2024-05-07T20:00:31.221259   \n",
       "1  e299b56178e8105c71b21b7b8c74fe8d  2024-05-07T20:00:31.221326   \n",
       "\n",
       "                                            metadata content   name  \\\n",
       "0  {'last_updated': {'name': (1, '2024-05-07T20:0...    None   left   \n",
       "1  {'last_updated': {'name': (1, '2024-05-07T20:0...    None  right   \n",
       "\n",
       "                                               order  \n",
       "0  [50f4d765f68efb0586dec94be7fea860, ccf8195c9cd...  \n",
       "1  [bf115436e42e3a313d28c6a1328e6377, 9867d26a691...  "
      ]
     },
     "execution_count": 29,
     "metadata": {},
     "output_type": "execute_result"
    }
   ],
   "source": [
    "# sequences in a flow is a pile of progression objects\n",
    "# unlike a pile, which can only contain unique lionagi objects, a progression can have more than one occurance of ln_id,\n",
    "\n",
    "f1.sequences.to_df()"
   ]
  },
  {
   "cell_type": "code",
   "execution_count": null,
   "metadata": {},
   "outputs": [],
   "source": []
  },
  {
   "cell_type": "code",
   "execution_count": null,
   "metadata": {},
   "outputs": [],
   "source": []
  }
 ],
 "metadata": {
  "kernelspec": {
   "display_name": ".venv",
   "language": "python",
   "name": "python3"
  },
  "language_info": {
   "codemirror_mode": {
    "name": "ipython",
    "version": 3
   },
   "file_extension": ".py",
   "mimetype": "text/x-python",
   "name": "python",
   "nbconvert_exporter": "python",
   "pygments_lexer": "ipython3",
   "version": "3.11.6"
  }
 },
 "nbformat": 4,
 "nbformat_minor": 2
}

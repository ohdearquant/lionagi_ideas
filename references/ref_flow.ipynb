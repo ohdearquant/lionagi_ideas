{
 "cells": [
  {
   "cell_type": "code",
   "execution_count": 1,
   "metadata": {},
   "outputs": [],
   "source": [
    "import lionagi as li"
   ]
  },
  {
   "cell_type": "code",
   "execution_count": 2,
   "metadata": {},
   "outputs": [],
   "source": [
    "# lets create a simple flow\n",
    "# 1. create a pile of nodes\n",
    "\n",
    "nodes1 = [li.Node(content=i) for i in range(10)]\n",
    "p1 = li.pile(nodes1)"
   ]
  },
  {
   "cell_type": "code",
   "execution_count": 3,
   "metadata": {},
   "outputs": [
    {
     "data": {
      "text/html": [
       "<div>\n",
       "<style scoped>\n",
       "    .dataframe tbody tr th:only-of-type {\n",
       "        vertical-align: middle;\n",
       "    }\n",
       "\n",
       "    .dataframe tbody tr th {\n",
       "        vertical-align: top;\n",
       "    }\n",
       "\n",
       "    .dataframe thead th {\n",
       "        text-align: right;\n",
       "    }\n",
       "</style>\n",
       "<table border=\"1\" class=\"dataframe\">\n",
       "  <thead>\n",
       "    <tr style=\"text-align: right;\">\n",
       "      <th></th>\n",
       "      <th>ln_id</th>\n",
       "      <th>created</th>\n",
       "      <th>metadata</th>\n",
       "      <th>content</th>\n",
       "      <th>relations</th>\n",
       "    </tr>\n",
       "  </thead>\n",
       "  <tbody>\n",
       "    <tr>\n",
       "      <th>0</th>\n",
       "      <td>9d920fc2356040954f2fd33d082ddeea</td>\n",
       "      <td>2024-05-14T18:08:42.898584</td>\n",
       "      <td>{}</td>\n",
       "      <td>0</td>\n",
       "      <td>{'in': {'ln_id': '951840f85bb11f5202dd3bbf88e9...</td>\n",
       "    </tr>\n",
       "    <tr>\n",
       "      <th>1</th>\n",
       "      <td>dc7c6c9c815f4727bceaeda6bf2899f9</td>\n",
       "      <td>2024-05-14T18:08:42.898706</td>\n",
       "      <td>{}</td>\n",
       "      <td>1</td>\n",
       "      <td>{'in': {'ln_id': '3c92117c093fa333ad78cf6267ee...</td>\n",
       "    </tr>\n",
       "    <tr>\n",
       "      <th>2</th>\n",
       "      <td>30f3d86a01b0e0d836b70d2cc9be3579</td>\n",
       "      <td>2024-05-14T18:08:42.898754</td>\n",
       "      <td>{}</td>\n",
       "      <td>2</td>\n",
       "      <td>{'in': {'ln_id': '6549c4c6ecaf1c30613434d225b4...</td>\n",
       "    </tr>\n",
       "    <tr>\n",
       "      <th>3</th>\n",
       "      <td>74a784eddef20d499f182e17ecf026ec</td>\n",
       "      <td>2024-05-14T18:08:42.898794</td>\n",
       "      <td>{}</td>\n",
       "      <td>3</td>\n",
       "      <td>{'in': {'ln_id': 'a28ab22288ffa2ad2246269dafa1...</td>\n",
       "    </tr>\n",
       "    <tr>\n",
       "      <th>4</th>\n",
       "      <td>b20bb5a4150f47378bc55e406dbf6a62</td>\n",
       "      <td>2024-05-14T18:08:42.898839</td>\n",
       "      <td>{}</td>\n",
       "      <td>4</td>\n",
       "      <td>{'in': {'ln_id': 'e34255eb4de776e9fa5ae8a8abf6...</td>\n",
       "    </tr>\n",
       "    <tr>\n",
       "      <th>5</th>\n",
       "      <td>959cfd1afd1c932c60529f7f05cdcaf2</td>\n",
       "      <td>2024-05-14T18:08:42.899037</td>\n",
       "      <td>{}</td>\n",
       "      <td>5</td>\n",
       "      <td>{'in': {'ln_id': 'ceee75a89af391bd7609b85b7fd5...</td>\n",
       "    </tr>\n",
       "    <tr>\n",
       "      <th>6</th>\n",
       "      <td>090afbfb5a65e43dc17725d773e7f9d9</td>\n",
       "      <td>2024-05-14T18:08:42.899070</td>\n",
       "      <td>{}</td>\n",
       "      <td>6</td>\n",
       "      <td>{'in': {'ln_id': '8532b632f1be95f5e24872ec07e6...</td>\n",
       "    </tr>\n",
       "    <tr>\n",
       "      <th>7</th>\n",
       "      <td>df6c8cbb71e4f04b373d6c67ff3208c8</td>\n",
       "      <td>2024-05-14T18:08:42.899095</td>\n",
       "      <td>{}</td>\n",
       "      <td>7</td>\n",
       "      <td>{'in': {'ln_id': 'ee682f41a83c0b170cf8f37650d2...</td>\n",
       "    </tr>\n",
       "    <tr>\n",
       "      <th>8</th>\n",
       "      <td>6335fed773a0705651cf263f61e9fe19</td>\n",
       "      <td>2024-05-14T18:08:42.899121</td>\n",
       "      <td>{}</td>\n",
       "      <td>8</td>\n",
       "      <td>{'in': {'ln_id': '54ae9f1d151b4ef351405a81b5fe...</td>\n",
       "    </tr>\n",
       "    <tr>\n",
       "      <th>9</th>\n",
       "      <td>24f1efae52555164217a5a93dde9cd0a</td>\n",
       "      <td>2024-05-14T18:08:42.899562</td>\n",
       "      <td>{}</td>\n",
       "      <td>9</td>\n",
       "      <td>{'in': {'ln_id': '89e0d41c2f45d0ee8503e2ba440a...</td>\n",
       "    </tr>\n",
       "  </tbody>\n",
       "</table>\n",
       "</div>"
      ],
      "text/plain": [
       "                              ln_id                     created metadata  \\\n",
       "0  9d920fc2356040954f2fd33d082ddeea  2024-05-14T18:08:42.898584       {}   \n",
       "1  dc7c6c9c815f4727bceaeda6bf2899f9  2024-05-14T18:08:42.898706       {}   \n",
       "2  30f3d86a01b0e0d836b70d2cc9be3579  2024-05-14T18:08:42.898754       {}   \n",
       "3  74a784eddef20d499f182e17ecf026ec  2024-05-14T18:08:42.898794       {}   \n",
       "4  b20bb5a4150f47378bc55e406dbf6a62  2024-05-14T18:08:42.898839       {}   \n",
       "5  959cfd1afd1c932c60529f7f05cdcaf2  2024-05-14T18:08:42.899037       {}   \n",
       "6  090afbfb5a65e43dc17725d773e7f9d9  2024-05-14T18:08:42.899070       {}   \n",
       "7  df6c8cbb71e4f04b373d6c67ff3208c8  2024-05-14T18:08:42.899095       {}   \n",
       "8  6335fed773a0705651cf263f61e9fe19  2024-05-14T18:08:42.899121       {}   \n",
       "9  24f1efae52555164217a5a93dde9cd0a  2024-05-14T18:08:42.899562       {}   \n",
       "\n",
       "   content                                          relations  \n",
       "0        0  {'in': {'ln_id': '951840f85bb11f5202dd3bbf88e9...  \n",
       "1        1  {'in': {'ln_id': '3c92117c093fa333ad78cf6267ee...  \n",
       "2        2  {'in': {'ln_id': '6549c4c6ecaf1c30613434d225b4...  \n",
       "3        3  {'in': {'ln_id': 'a28ab22288ffa2ad2246269dafa1...  \n",
       "4        4  {'in': {'ln_id': 'e34255eb4de776e9fa5ae8a8abf6...  \n",
       "5        5  {'in': {'ln_id': 'ceee75a89af391bd7609b85b7fd5...  \n",
       "6        6  {'in': {'ln_id': '8532b632f1be95f5e24872ec07e6...  \n",
       "7        7  {'in': {'ln_id': 'ee682f41a83c0b170cf8f37650d2...  \n",
       "8        8  {'in': {'ln_id': '54ae9f1d151b4ef351405a81b5fe...  \n",
       "9        9  {'in': {'ln_id': '89e0d41c2f45d0ee8503e2ba440a...  "
      ]
     },
     "execution_count": 3,
     "metadata": {},
     "output_type": "execute_result"
    }
   ],
   "source": [
    "# let us check what's inside p1\n",
    "\n",
    "p1.to_df()"
   ]
  },
  {
   "cell_type": "code",
   "execution_count": 4,
   "metadata": {},
   "outputs": [],
   "source": [
    "# now let us create somke progression,\n",
    "\n",
    "prog1 = li.progression(p1[:5])\n",
    "prog2 = li.progression(p1[5:])"
   ]
  },
  {
   "cell_type": "code",
   "execution_count": 5,
   "metadata": {},
   "outputs": [
    {
     "data": {
      "text/plain": [
       "1"
      ]
     },
     "execution_count": 5,
     "metadata": {},
     "output_type": "execute_result"
    }
   ],
   "source": [
    "len(prog1)"
   ]
  },
  {
   "cell_type": "code",
   "execution_count": 6,
   "metadata": {},
   "outputs": [
    {
     "data": {
      "text/plain": [
       "'9b737d8b20239a06dab3878d4f2fcc1e'"
      ]
     },
     "execution_count": 6,
     "metadata": {},
     "output_type": "execute_result"
    }
   ],
   "source": [
    "prog1.ln_id"
   ]
  },
  {
   "cell_type": "code",
   "execution_count": 7,
   "metadata": {},
   "outputs": [],
   "source": [
    "p = li.pile([prog1, prog2], use_obj=True)\n",
    "\n",
    "f1 = li.flow(p)"
   ]
  },
  {
   "cell_type": "code",
   "execution_count": 8,
   "metadata": {},
   "outputs": [
    {
     "data": {
      "text/html": [
       "<div>\n",
       "<style scoped>\n",
       "    .dataframe tbody tr th:only-of-type {\n",
       "        vertical-align: middle;\n",
       "    }\n",
       "\n",
       "    .dataframe tbody tr th {\n",
       "        vertical-align: top;\n",
       "    }\n",
       "\n",
       "    .dataframe thead th {\n",
       "        text-align: right;\n",
       "    }\n",
       "</style>\n",
       "<table border=\"1\" class=\"dataframe\">\n",
       "  <thead>\n",
       "    <tr style=\"text-align: right;\">\n",
       "      <th></th>\n",
       "      <th>order</th>\n",
       "      <th>name</th>\n",
       "    </tr>\n",
       "  </thead>\n",
       "  <tbody>\n",
       "    <tr>\n",
       "      <th>0</th>\n",
       "      <td>[9a5d167f743c3d5088894c0d9a0b6888]</td>\n",
       "      <td>None</td>\n",
       "    </tr>\n",
       "    <tr>\n",
       "      <th>1</th>\n",
       "      <td>[d46358728aecd49142144c02aa300513]</td>\n",
       "      <td>None</td>\n",
       "    </tr>\n",
       "  </tbody>\n",
       "</table>\n",
       "</div>"
      ],
      "text/plain": [
       "                                order  name\n",
       "0  [9a5d167f743c3d5088894c0d9a0b6888]  None\n",
       "1  [d46358728aecd49142144c02aa300513]  None"
      ]
     },
     "execution_count": 8,
     "metadata": {},
     "output_type": "execute_result"
    }
   ],
   "source": [
    "f1.to_df()"
   ]
  },
  {
   "cell_type": "code",
   "execution_count": 9,
   "metadata": {},
   "outputs": [],
   "source": [
    "sequences = li.pile(p1[:5])"
   ]
  },
  {
   "cell_type": "code",
   "execution_count": 10,
   "metadata": {},
   "outputs": [],
   "source": [
    "f1 = li.flow(sequences)"
   ]
  },
  {
   "cell_type": "code",
   "execution_count": 11,
   "metadata": {},
   "outputs": [
    {
     "data": {
      "text/html": [
       "<div>\n",
       "<style scoped>\n",
       "    .dataframe tbody tr th:only-of-type {\n",
       "        vertical-align: middle;\n",
       "    }\n",
       "\n",
       "    .dataframe tbody tr th {\n",
       "        vertical-align: top;\n",
       "    }\n",
       "\n",
       "    .dataframe thead th {\n",
       "        text-align: right;\n",
       "    }\n",
       "</style>\n",
       "<table border=\"1\" class=\"dataframe\">\n",
       "  <thead>\n",
       "    <tr style=\"text-align: right;\">\n",
       "      <th></th>\n",
       "      <th>order</th>\n",
       "      <th>name</th>\n",
       "    </tr>\n",
       "  </thead>\n",
       "  <tbody>\n",
       "    <tr>\n",
       "      <th>0</th>\n",
       "      <td>[9d920fc2356040954f2fd33d082ddeea]</td>\n",
       "      <td>9d920fc2356040954f2fd33d082ddeea</td>\n",
       "    </tr>\n",
       "    <tr>\n",
       "      <th>1</th>\n",
       "      <td>[dc7c6c9c815f4727bceaeda6bf2899f9]</td>\n",
       "      <td>dc7c6c9c815f4727bceaeda6bf2899f9</td>\n",
       "    </tr>\n",
       "    <tr>\n",
       "      <th>2</th>\n",
       "      <td>[30f3d86a01b0e0d836b70d2cc9be3579]</td>\n",
       "      <td>30f3d86a01b0e0d836b70d2cc9be3579</td>\n",
       "    </tr>\n",
       "    <tr>\n",
       "      <th>3</th>\n",
       "      <td>[74a784eddef20d499f182e17ecf026ec]</td>\n",
       "      <td>74a784eddef20d499f182e17ecf026ec</td>\n",
       "    </tr>\n",
       "    <tr>\n",
       "      <th>4</th>\n",
       "      <td>[b20bb5a4150f47378bc55e406dbf6a62]</td>\n",
       "      <td>b20bb5a4150f47378bc55e406dbf6a62</td>\n",
       "    </tr>\n",
       "  </tbody>\n",
       "</table>\n",
       "</div>"
      ],
      "text/plain": [
       "                                order                              name\n",
       "0  [9d920fc2356040954f2fd33d082ddeea]  9d920fc2356040954f2fd33d082ddeea\n",
       "1  [dc7c6c9c815f4727bceaeda6bf2899f9]  dc7c6c9c815f4727bceaeda6bf2899f9\n",
       "2  [30f3d86a01b0e0d836b70d2cc9be3579]  30f3d86a01b0e0d836b70d2cc9be3579\n",
       "3  [74a784eddef20d499f182e17ecf026ec]  74a784eddef20d499f182e17ecf026ec\n",
       "4  [b20bb5a4150f47378bc55e406dbf6a62]  b20bb5a4150f47378bc55e406dbf6a62"
      ]
     },
     "execution_count": 11,
     "metadata": {},
     "output_type": "execute_result"
    }
   ],
   "source": [
    "f1.to_df()"
   ]
  },
  {
   "cell_type": "code",
   "execution_count": 12,
   "metadata": {},
   "outputs": [
    {
     "name": "stdout",
     "output_type": "stream",
     "text": [
      "ln_id        b50d188cb2ecd77a8e59352ac24ced53\n",
      "created            2024-05-14T18:08:42.962786\n",
      "metadata                                   {}\n",
      "content                                     A\n",
      "relations                              [0, 0]\n",
      "dtype: object\n"
     ]
    }
   ],
   "source": [
    "# let us begin with creating a few nodes\n",
    "\n",
    "nodes = [li.Node(content=i) for i in [\"A\", \"B\", \"C\", \"D\", \"E\", \"F\", \"G\", \"H\"]]\n",
    "print(nodes[0])"
   ]
  },
  {
   "cell_type": "code",
   "execution_count": null,
   "metadata": {},
   "outputs": [],
   "source": []
  },
  {
   "cell_type": "code",
   "execution_count": 13,
   "metadata": {},
   "outputs": [
    {
     "data": {
      "text/html": [
       "<div>\n",
       "<style scoped>\n",
       "    .dataframe tbody tr th:only-of-type {\n",
       "        vertical-align: middle;\n",
       "    }\n",
       "\n",
       "    .dataframe tbody tr th {\n",
       "        vertical-align: top;\n",
       "    }\n",
       "\n",
       "    .dataframe thead th {\n",
       "        text-align: right;\n",
       "    }\n",
       "</style>\n",
       "<table border=\"1\" class=\"dataframe\">\n",
       "  <thead>\n",
       "    <tr style=\"text-align: right;\">\n",
       "      <th></th>\n",
       "      <th>ln_id</th>\n",
       "      <th>created</th>\n",
       "      <th>metadata</th>\n",
       "      <th>content</th>\n",
       "      <th>relations</th>\n",
       "    </tr>\n",
       "  </thead>\n",
       "  <tbody>\n",
       "    <tr>\n",
       "      <th>0</th>\n",
       "      <td>b50d188cb2ecd77a8e59352ac24ced53</td>\n",
       "      <td>2024-05-14T18:08:42.962786</td>\n",
       "      <td>{}</td>\n",
       "      <td>A</td>\n",
       "      <td>{'in': {'ln_id': '0dbb24e7d52353bd04e7b1f368f4...</td>\n",
       "    </tr>\n",
       "    <tr>\n",
       "      <th>1</th>\n",
       "      <td>e80b84f5eeecf72dd60da85fbef29ac6</td>\n",
       "      <td>2024-05-14T18:08:42.962844</td>\n",
       "      <td>{}</td>\n",
       "      <td>B</td>\n",
       "      <td>{'in': {'ln_id': '57a11142ecc35117faacc44ff5f2...</td>\n",
       "    </tr>\n",
       "    <tr>\n",
       "      <th>2</th>\n",
       "      <td>c1835b81be47923884d9e6fa09662a66</td>\n",
       "      <td>2024-05-14T18:08:42.962879</td>\n",
       "      <td>{}</td>\n",
       "      <td>C</td>\n",
       "      <td>{'in': {'ln_id': 'f46045c2ba61ba6ca5b99417b2ed...</td>\n",
       "    </tr>\n",
       "    <tr>\n",
       "      <th>3</th>\n",
       "      <td>0067820de5e2ba16dc08bd5266737207</td>\n",
       "      <td>2024-05-14T18:08:42.962910</td>\n",
       "      <td>{}</td>\n",
       "      <td>D</td>\n",
       "      <td>{'in': {'ln_id': '1049b18843cce12c0db4fc5e5dcc...</td>\n",
       "    </tr>\n",
       "    <tr>\n",
       "      <th>4</th>\n",
       "      <td>a49325c6fa7acd456bcbd846b95e695a</td>\n",
       "      <td>2024-05-14T18:08:42.962939</td>\n",
       "      <td>{}</td>\n",
       "      <td>E</td>\n",
       "      <td>{'in': {'ln_id': 'cd392bce1f0bd07fe632848c9905...</td>\n",
       "    </tr>\n",
       "  </tbody>\n",
       "</table>\n",
       "</div>"
      ],
      "text/plain": [
       "                              ln_id                     created metadata  \\\n",
       "0  b50d188cb2ecd77a8e59352ac24ced53  2024-05-14T18:08:42.962786       {}   \n",
       "1  e80b84f5eeecf72dd60da85fbef29ac6  2024-05-14T18:08:42.962844       {}   \n",
       "2  c1835b81be47923884d9e6fa09662a66  2024-05-14T18:08:42.962879       {}   \n",
       "3  0067820de5e2ba16dc08bd5266737207  2024-05-14T18:08:42.962910       {}   \n",
       "4  a49325c6fa7acd456bcbd846b95e695a  2024-05-14T18:08:42.962939       {}   \n",
       "\n",
       "  content                                          relations  \n",
       "0       A  {'in': {'ln_id': '0dbb24e7d52353bd04e7b1f368f4...  \n",
       "1       B  {'in': {'ln_id': '57a11142ecc35117faacc44ff5f2...  \n",
       "2       C  {'in': {'ln_id': 'f46045c2ba61ba6ca5b99417b2ed...  \n",
       "3       D  {'in': {'ln_id': '1049b18843cce12c0db4fc5e5dcc...  \n",
       "4       E  {'in': {'ln_id': 'cd392bce1f0bd07fe632848c9905...  "
      ]
     },
     "execution_count": 13,
     "metadata": {},
     "output_type": "execute_result"
    }
   ],
   "source": [
    "# now let us put these into a pile, a lionagi data structure that can be used to store lionagi obejcts\n",
    "p1 = li.pile(nodes)\n",
    "\n",
    "# you can check the details of each node by converting the pile to a dataframe\n",
    "p1.to_df().head()"
   ]
  },
  {
   "cell_type": "code",
   "execution_count": 14,
   "metadata": {},
   "outputs": [
    {
     "data": {
      "text/plain": [
       "{'ln_id': 'b50d188cb2ecd77a8e59352ac24ced53',\n",
       " 'created': '2024-05-14T18:08:42.962786',\n",
       " 'metadata': {},\n",
       " 'content': 'A',\n",
       " 'relations': {'in': {'ln_id': '0dbb24e7d52353bd04e7b1f368f4571b',\n",
       "   'created': '2024-05-14T18:08:42.962801',\n",
       "   'use_obj': False,\n",
       "   'pile': {},\n",
       "   'item_type': None,\n",
       "   'name': None,\n",
       "   'order': []},\n",
       "  'out': {'ln_id': 'a5c16e28fa3ee09ab43971b8f031d462',\n",
       "   'created': '2024-05-14T18:08:42.962826',\n",
       "   'use_obj': False,\n",
       "   'pile': {},\n",
       "   'item_type': None,\n",
       "   'name': None,\n",
       "   'order': []}}}"
      ]
     },
     "execution_count": 14,
     "metadata": {},
     "output_type": "execute_result"
    }
   ],
   "source": [
    "# if you wish to see the all information of a particular node you can also\n",
    "\n",
    "p1[0].to_dict()"
   ]
  },
  {
   "cell_type": "code",
   "execution_count": 15,
   "metadata": {},
   "outputs": [
    {
     "data": {
      "text/plain": [
       "'b50d188cb2ecd77a8e59352ac24ced53'"
      ]
     },
     "execution_count": 15,
     "metadata": {},
     "output_type": "execute_result"
    }
   ],
   "source": [
    "# using progression, you can use progression to keep track of orders of nodes\n",
    "\n",
    "prog1 = li.progression(nodes[:5])\n",
    "prog2 = li.progression(nodes[5:])\n",
    "\n",
    "\n",
    "# the item in a progression is a list of lionagi object id in order\n",
    "prog1.order[0]"
   ]
  },
  {
   "cell_type": "code",
   "execution_count": 16,
   "metadata": {},
   "outputs": [
    {
     "data": {
      "text/plain": [
       "'b50d188cb2ecd77a8e59352ac24ced53'"
      ]
     },
     "execution_count": 16,
     "metadata": {},
     "output_type": "execute_result"
    }
   ],
   "source": [
    "prog1[0]"
   ]
  },
  {
   "cell_type": "code",
   "execution_count": 17,
   "metadata": {},
   "outputs": [],
   "source": [
    "# you can also name the progression\n",
    "prog1.name = \"left\"\n",
    "prog2.name = \"right\"\n",
    "\n",
    "# now let us put these into a flow\n",
    "\n",
    "f1 = li.flow([prog1, prog2])"
   ]
  },
  {
   "cell_type": "code",
   "execution_count": 18,
   "metadata": {},
   "outputs": [
    {
     "data": {
      "text/plain": [
       "'left'"
      ]
     },
     "execution_count": 18,
     "metadata": {},
     "output_type": "execute_result"
    }
   ],
   "source": [
    "prog1.name"
   ]
  },
  {
   "cell_type": "code",
   "execution_count": 19,
   "metadata": {},
   "outputs": [
    {
     "data": {
      "text/plain": [
       "{'left': 'c085e5b03a89b06c8b79488943f6b2ef',\n",
       " 'right': 'fd668cc69c560815cbce1f24013ab412'}"
      ]
     },
     "execution_count": 19,
     "metadata": {},
     "output_type": "execute_result"
    }
   ],
   "source": [
    "f1.registry"
   ]
  },
  {
   "cell_type": "code",
   "execution_count": 20,
   "metadata": {},
   "outputs": [
    {
     "data": {
      "text/plain": [
       "{'left': 'c085e5b03a89b06c8b79488943f6b2ef',\n",
       " 'right': 'fd668cc69c560815cbce1f24013ab412'}"
      ]
     },
     "execution_count": 20,
     "metadata": {},
     "output_type": "execute_result"
    }
   ],
   "source": [
    "f1.registry"
   ]
  },
  {
   "cell_type": "code",
   "execution_count": null,
   "metadata": {},
   "outputs": [],
   "source": []
  },
  {
   "cell_type": "code",
   "execution_count": 21,
   "metadata": {},
   "outputs": [
    {
     "data": {
      "text/plain": [
       "Progression(['b50d188cb2ecd77a8e59352ac24ced53', 'e80b84f5eeecf72dd60da85fbef29ac6', 'c1835b81be47923884d9e6fa09662a66', '0067820de5e2ba16dc08bd5266737207', 'a49325c6fa7acd456bcbd846b95e695a'])"
      ]
     },
     "execution_count": 21,
     "metadata": {},
     "output_type": "execute_result"
    }
   ],
   "source": [
    "f1.get(\"left\")"
   ]
  },
  {
   "cell_type": "code",
   "execution_count": 22,
   "metadata": {},
   "outputs": [],
   "source": [
    "f1.sequences[\"left\"]"
   ]
  },
  {
   "cell_type": "code",
   "execution_count": 23,
   "metadata": {},
   "outputs": [
    {
     "name": "stdout",
     "output_type": "stream",
     "text": [
      "['b50d188cb2ecd77a8e59352ac24ced53', 'e80b84f5eeecf72dd60da85fbef29ac6', 'c1835b81be47923884d9e6fa09662a66', '0067820de5e2ba16dc08bd5266737207', 'a49325c6fa7acd456bcbd846b95e695a']\n",
      "['7f55793ad9bcd93e82f2448a5a7e589e', '852239e2362bb86b93a1d85883156428', 'f998854d5d3ac84c3eedbcdeb43089f2']\n"
     ]
    }
   ],
   "source": [
    "# iterate over each progression value\n",
    "for i in f1.all_orders():\n",
    "    print(i)"
   ]
  },
  {
   "cell_type": "code",
   "execution_count": 24,
   "metadata": {},
   "outputs": [
    {
     "data": {
      "text/plain": [
       "Progression(['b50d188cb2ecd77a8e59352ac24ced53', 'e80b84f5eeecf72dd60da85fbef29ac6', 'c1835b81be47923884d9e6fa09662a66', '0067820de5e2ba16dc08bd5266737207', 'a49325c6fa7acd456bcbd846b95e695a'])"
      ]
     },
     "execution_count": 24,
     "metadata": {},
     "output_type": "execute_result"
    }
   ],
   "source": [
    "f1[0]"
   ]
  },
  {
   "cell_type": "code",
   "execution_count": 25,
   "metadata": {},
   "outputs": [
    {
     "data": {
      "text/plain": [
       "                                               order   name\n",
       "0  [b50d188cb2ecd77a8e59352ac24ced53, e80b84f5eee...   left\n",
       "1  [7f55793ad9bcd93e82f2448a5a7e589e, 852239e2362...  right"
      ]
     },
     "execution_count": 25,
     "metadata": {},
     "output_type": "execute_result"
    }
   ],
   "source": [
    "f1.sequences"
   ]
  },
  {
   "cell_type": "code",
   "execution_count": 26,
   "metadata": {},
   "outputs": [
    {
     "data": {
      "text/plain": [
       "Progression(['b50d188cb2ecd77a8e59352ac24ced53', 'e80b84f5eeecf72dd60da85fbef29ac6', 'c1835b81be47923884d9e6fa09662a66', '0067820de5e2ba16dc08bd5266737207', 'a49325c6fa7acd456bcbd846b95e695a'])"
      ]
     },
     "execution_count": 26,
     "metadata": {},
     "output_type": "execute_result"
    }
   ],
   "source": [
    "f1.get(\"left\")"
   ]
  },
  {
   "cell_type": "code",
   "execution_count": 27,
   "metadata": {},
   "outputs": [
    {
     "data": {
      "text/plain": [
       "{'left': 'c085e5b03a89b06c8b79488943f6b2ef',\n",
       " 'right': 'fd668cc69c560815cbce1f24013ab412'}"
      ]
     },
     "execution_count": 27,
     "metadata": {},
     "output_type": "execute_result"
    }
   ],
   "source": [
    "f1.registry"
   ]
  },
  {
   "cell_type": "code",
   "execution_count": 28,
   "metadata": {},
   "outputs": [
    {
     "data": {
      "text/plain": [
       "'left'"
      ]
     },
     "execution_count": 28,
     "metadata": {},
     "output_type": "execute_result"
    }
   ],
   "source": [
    "f1.sequences[0].name"
   ]
  },
  {
   "cell_type": "code",
   "execution_count": 29,
   "metadata": {},
   "outputs": [
    {
     "data": {
      "text/plain": [
       "['e80b84f5eeecf72dd60da85fbef29ac6', 'c1835b81be47923884d9e6fa09662a66']"
      ]
     },
     "execution_count": 29,
     "metadata": {},
     "output_type": "execute_result"
    }
   ],
   "source": [
    "f1['left'][1:3]"
   ]
  },
  {
   "cell_type": "code",
   "execution_count": 30,
   "metadata": {},
   "outputs": [
    {
     "data": {
      "text/plain": [
       "['e80b84f5eeecf72dd60da85fbef29ac6', 'c1835b81be47923884d9e6fa09662a66']"
      ]
     },
     "execution_count": 30,
     "metadata": {},
     "output_type": "execute_result"
    }
   ],
   "source": [
    "f1[prog1][1:3]"
   ]
  },
  {
   "cell_type": "code",
   "execution_count": 31,
   "metadata": {},
   "outputs": [
    {
     "data": {
      "text/plain": [
       "['e80b84f5eeecf72dd60da85fbef29ac6', 'c1835b81be47923884d9e6fa09662a66']"
      ]
     },
     "execution_count": 31,
     "metadata": {},
     "output_type": "execute_result"
    }
   ],
   "source": [
    "prog1[1:3]"
   ]
  },
  {
   "cell_type": "code",
   "execution_count": 32,
   "metadata": {},
   "outputs": [
    {
     "data": {
      "text/html": [
       "<div>\n",
       "<style scoped>\n",
       "    .dataframe tbody tr th:only-of-type {\n",
       "        vertical-align: middle;\n",
       "    }\n",
       "\n",
       "    .dataframe tbody tr th {\n",
       "        vertical-align: top;\n",
       "    }\n",
       "\n",
       "    .dataframe thead th {\n",
       "        text-align: right;\n",
       "    }\n",
       "</style>\n",
       "<table border=\"1\" class=\"dataframe\">\n",
       "  <thead>\n",
       "    <tr style=\"text-align: right;\">\n",
       "      <th></th>\n",
       "      <th>order</th>\n",
       "      <th>name</th>\n",
       "    </tr>\n",
       "  </thead>\n",
       "  <tbody>\n",
       "    <tr>\n",
       "      <th>0</th>\n",
       "      <td>[b50d188cb2ecd77a8e59352ac24ced53, e80b84f5eee...</td>\n",
       "      <td>left</td>\n",
       "    </tr>\n",
       "    <tr>\n",
       "      <th>1</th>\n",
       "      <td>[7f55793ad9bcd93e82f2448a5a7e589e, 852239e2362...</td>\n",
       "      <td>right</td>\n",
       "    </tr>\n",
       "  </tbody>\n",
       "</table>\n",
       "</div>"
      ],
      "text/plain": [
       "                                               order   name\n",
       "0  [b50d188cb2ecd77a8e59352ac24ced53, e80b84f5eee...   left\n",
       "1  [7f55793ad9bcd93e82f2448a5a7e589e, 852239e2362...  right"
      ]
     },
     "execution_count": 32,
     "metadata": {},
     "output_type": "execute_result"
    }
   ],
   "source": [
    "# sequences in a flow is a pile of progression objects\n",
    "# unlike a pile, which can only contain unique lionagi objects, a progression can have more than one occurance of ln_id, \n",
    "\n",
    "f1.sequences.to_df()"
   ]
  },
  {
   "cell_type": "code",
   "execution_count": null,
   "metadata": {},
   "outputs": [],
   "source": []
  },
  {
   "cell_type": "code",
   "execution_count": null,
   "metadata": {},
   "outputs": [],
   "source": [
    "\n",
    "\n"
   ]
  }
 ],
 "metadata": {
  "kernelspec": {
   "display_name": ".venv",
   "language": "python",
   "name": "python3"
  },
  "language_info": {
   "codemirror_mode": {
    "name": "ipython",
    "version": 3
   },
   "file_extension": ".py",
   "mimetype": "text/x-python",
   "name": "python",
   "nbconvert_exporter": "python",
   "pygments_lexer": "ipython3",
   "version": "3.11.6"
  }
 },
 "nbformat": 4,
 "nbformat_minor": 2
}

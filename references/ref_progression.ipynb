{
 "cells": [
  {
   "cell_type": "code",
   "execution_count": 1,
   "metadata": {},
   "outputs": [],
   "source": [
    "import lionagi as li\n"
   ]
  },
  {
   "cell_type": "code",
   "execution_count": 2,
   "metadata": {},
   "outputs": [],
   "source": [
    "nodes = (li.Node() for _ in range(5))"
   ]
  },
  {
   "cell_type": "code",
   "execution_count": 3,
   "metadata": {},
   "outputs": [],
   "source": [
    "p = li.progression(nodes)"
   ]
  },
  {
   "cell_type": "code",
   "execution_count": 4,
   "metadata": {},
   "outputs": [
    {
     "data": {
      "text/plain": [
       "['024cf54b02f24dec788a55c96a0da43e',\n",
       " 'fc6b3839cb9516ddf0082e1ebab817ab',\n",
       " '6db5533c531b37c57b157cb4a75fc07b',\n",
       " 'db6055ed779a9c6ed6c77c122ba8d1a3',\n",
       " '3ba14e3d4dffb62cf21e2d1b47d0b0ce']"
      ]
     },
     "execution_count": 4,
     "metadata": {},
     "output_type": "execute_result"
    }
   ],
   "source": [
    "p.order"
   ]
  },
  {
   "cell_type": "code",
   "execution_count": 5,
   "metadata": {},
   "outputs": [],
   "source": [
    "cc = li.Node()\n",
    "\n",
    "p.extend(cc)"
   ]
  },
  {
   "cell_type": "code",
   "execution_count": 6,
   "metadata": {},
   "outputs": [],
   "source": [
    "cc, dd, ee = [li.Node() for _ in range(3)]\n",
    "\n",
    "p.extend([cc, dd, ee])"
   ]
  },
  {
   "cell_type": "code",
   "execution_count": 7,
   "metadata": {},
   "outputs": [
    {
     "data": {
      "text/plain": [
       "Progression(['024cf54b02f24dec788a55c96a0da43e', 'fc6b3839cb9516ddf0082e1ebab817ab', '6db5533c531b37c57b157cb4a75fc07b', 'db6055ed779a9c6ed6c77c122ba8d1a3', '3ba14e3d4dffb62cf21e2d1b47d0b0ce', 'fbcfad20370a7af4d4403581d1610b76', 'b394699d9434d421fd49cdd4625a6269', '7780ddce181b081af8c4d250ad9ee726', '632c58b63539e1f15ad70f98be2c7055'])"
      ]
     },
     "execution_count": 7,
     "metadata": {},
     "output_type": "execute_result"
    }
   ],
   "source": [
    "p"
   ]
  },
  {
   "cell_type": "code",
   "execution_count": 8,
   "metadata": {},
   "outputs": [
    {
     "data": {
      "text/plain": [
       "9"
      ]
     },
     "execution_count": 8,
     "metadata": {},
     "output_type": "execute_result"
    }
   ],
   "source": [
    "len(p)"
   ]
  },
  {
   "cell_type": "code",
   "execution_count": 9,
   "metadata": {},
   "outputs": [],
   "source": [
    "cc = li.Node()"
   ]
  },
  {
   "cell_type": "code",
   "execution_count": 10,
   "metadata": {},
   "outputs": [
    {
     "data": {
      "text/plain": [
       "ln_id        09fd66c5e448367cc9d2c916edb5d456\n",
       "created            2024-05-14T18:12:04.760111\n",
       "metadata                                   {}\n",
       "content                                  None\n",
       "relations                              [0, 0]\n",
       "dtype: object"
      ]
     },
     "execution_count": 10,
     "metadata": {},
     "output_type": "execute_result"
    }
   ],
   "source": [
    "cc"
   ]
  },
  {
   "cell_type": "code",
   "execution_count": 11,
   "metadata": {},
   "outputs": [],
   "source": [
    "p.extend(cc)"
   ]
  },
  {
   "cell_type": "code",
   "execution_count": 12,
   "metadata": {},
   "outputs": [
    {
     "data": {
      "text/plain": [
       "True"
      ]
     },
     "execution_count": 12,
     "metadata": {},
     "output_type": "execute_result"
    }
   ],
   "source": [
    "[cc, dd] in p"
   ]
  },
  {
   "cell_type": "code",
   "execution_count": 13,
   "metadata": {},
   "outputs": [
    {
     "data": {
      "text/plain": [
       "['fc6b3839cb9516ddf0082e1ebab817ab',\n",
       " '6db5533c531b37c57b157cb4a75fc07b',\n",
       " 'db6055ed779a9c6ed6c77c122ba8d1a3',\n",
       " '3ba14e3d4dffb62cf21e2d1b47d0b0ce']"
      ]
     },
     "execution_count": 13,
     "metadata": {},
     "output_type": "execute_result"
    }
   ],
   "source": [
    "p[1:5]"
   ]
  },
  {
   "cell_type": "code",
   "execution_count": 14,
   "metadata": {},
   "outputs": [],
   "source": [
    "gg = li.Node()"
   ]
  },
  {
   "cell_type": "code",
   "execution_count": 15,
   "metadata": {},
   "outputs": [],
   "source": [
    "p[0] = gg"
   ]
  },
  {
   "cell_type": "code",
   "execution_count": 16,
   "metadata": {},
   "outputs": [
    {
     "data": {
      "text/plain": [
       "['3608eeb35d2fe771e5ca55738a263213']"
      ]
     },
     "execution_count": 16,
     "metadata": {},
     "output_type": "execute_result"
    }
   ],
   "source": [
    "p[0]"
   ]
  },
  {
   "cell_type": "code",
   "execution_count": 17,
   "metadata": {},
   "outputs": [],
   "source": [
    "p += dd"
   ]
  },
  {
   "cell_type": "code",
   "execution_count": 18,
   "metadata": {},
   "outputs": [
    {
     "data": {
      "text/plain": [
       "10"
      ]
     },
     "execution_count": 18,
     "metadata": {},
     "output_type": "execute_result"
    }
   ],
   "source": [
    "len(p)"
   ]
  },
  {
   "cell_type": "code",
   "execution_count": 19,
   "metadata": {},
   "outputs": [],
   "source": [
    "p -= cc"
   ]
  },
  {
   "cell_type": "code",
   "execution_count": 20,
   "metadata": {},
   "outputs": [
    {
     "data": {
      "text/plain": [
       "9"
      ]
     },
     "execution_count": 20,
     "metadata": {},
     "output_type": "execute_result"
    }
   ],
   "source": [
    "len(p)"
   ]
  },
  {
   "cell_type": "code",
   "execution_count": 21,
   "metadata": {},
   "outputs": [
    {
     "data": {
      "text/plain": [
       "False"
      ]
     },
     "execution_count": 21,
     "metadata": {},
     "output_type": "execute_result"
    }
   ],
   "source": [
    "cc in p"
   ]
  },
  {
   "cell_type": "code",
   "execution_count": 22,
   "metadata": {},
   "outputs": [
    {
     "data": {
      "text/plain": [
       "True"
      ]
     },
     "execution_count": 22,
     "metadata": {},
     "output_type": "execute_result"
    }
   ],
   "source": [
    "dd in p"
   ]
  },
  {
   "cell_type": "code",
   "execution_count": 23,
   "metadata": {},
   "outputs": [
    {
     "data": {
      "text/plain": [
       "False"
      ]
     },
     "execution_count": 23,
     "metadata": {},
     "output_type": "execute_result"
    }
   ],
   "source": [
    "tt = li.Node()\n",
    "tt in p"
   ]
  },
  {
   "cell_type": "code",
   "execution_count": 24,
   "metadata": {},
   "outputs": [
    {
     "name": "stdout",
     "output_type": "stream",
     "text": [
      "Item not found. Item: 'ln_id        0b03d765c7aa35cec667345677abe438\n",
      "created            2024-05-14T18:12:04.800453\n",
      "metadata                                   {}\n",
      "content                                  None\n",
      "relations                              [0, 0]\n",
      "dtype: object'.\n"
     ]
    }
   ],
   "source": [
    "try:\n",
    "    p -= tt\n",
    "except Exception as e:\n",
    "    print(e)"
   ]
  },
  {
   "cell_type": "code",
   "execution_count": 25,
   "metadata": {},
   "outputs": [
    {
     "data": {
      "text/plain": [
       "False"
      ]
     },
     "execution_count": 25,
     "metadata": {},
     "output_type": "execute_result"
    }
   ],
   "source": [
    "tt in p"
   ]
  },
  {
   "cell_type": "code",
   "execution_count": 26,
   "metadata": {},
   "outputs": [],
   "source": [
    "p += cc"
   ]
  },
  {
   "cell_type": "code",
   "execution_count": 27,
   "metadata": {},
   "outputs": [
    {
     "data": {
      "text/plain": [
       "True"
      ]
     },
     "execution_count": 27,
     "metadata": {},
     "output_type": "execute_result"
    }
   ],
   "source": [
    "p.exclude(cc)"
   ]
  },
  {
   "cell_type": "code",
   "execution_count": 28,
   "metadata": {},
   "outputs": [
    {
     "data": {
      "text/plain": [
       "False"
      ]
     },
     "execution_count": 28,
     "metadata": {},
     "output_type": "execute_result"
    }
   ],
   "source": [
    "cc in p"
   ]
  },
  {
   "cell_type": "code",
   "execution_count": 29,
   "metadata": {},
   "outputs": [
    {
     "data": {
      "text/plain": [
       "9"
      ]
     },
     "execution_count": 29,
     "metadata": {},
     "output_type": "execute_result"
    }
   ],
   "source": [
    "len(p)"
   ]
  },
  {
   "cell_type": "code",
   "execution_count": 30,
   "metadata": {},
   "outputs": [
    {
     "name": "stdout",
     "output_type": "stream",
     "text": [
      "['3608eeb35d2fe771e5ca55738a263213']\n",
      "fc6b3839cb9516ddf0082e1ebab817ab\n",
      "6db5533c531b37c57b157cb4a75fc07b\n",
      "db6055ed779a9c6ed6c77c122ba8d1a3\n",
      "3ba14e3d4dffb62cf21e2d1b47d0b0ce\n",
      "fbcfad20370a7af4d4403581d1610b76\n",
      "b394699d9434d421fd49cdd4625a6269\n",
      "7780ddce181b081af8c4d250ad9ee726\n",
      "632c58b63539e1f15ad70f98be2c7055\n"
     ]
    }
   ],
   "source": [
    "for i in p:\n",
    "    print(i)"
   ]
  },
  {
   "cell_type": "code",
   "execution_count": 31,
   "metadata": {},
   "outputs": [
    {
     "data": {
      "text/plain": [
       "9"
      ]
     },
     "execution_count": 31,
     "metadata": {},
     "output_type": "execute_result"
    }
   ],
   "source": [
    "len(p)"
   ]
  },
  {
   "cell_type": "code",
   "execution_count": 32,
   "metadata": {},
   "outputs": [
    {
     "name": "stdout",
     "output_type": "stream",
     "text": [
      "['3608eeb35d2fe771e5ca55738a263213']\n",
      "fc6b3839cb9516ddf0082e1ebab817ab\n",
      "6db5533c531b37c57b157cb4a75fc07b\n",
      "db6055ed779a9c6ed6c77c122ba8d1a3\n",
      "3ba14e3d4dffb62cf21e2d1b47d0b0ce\n",
      "fbcfad20370a7af4d4403581d1610b76\n",
      "b394699d9434d421fd49cdd4625a6269\n",
      "7780ddce181b081af8c4d250ad9ee726\n",
      "632c58b63539e1f15ad70f98be2c7055\n",
      "Item not found. Item: 'index 9'.\n"
     ]
    }
   ],
   "source": [
    "try:\n",
    "    for i in range(12):\n",
    "        print(p[i])\n",
    "except Exception as e:\n",
    "    print(e)"
   ]
  },
  {
   "cell_type": "code",
   "execution_count": 33,
   "metadata": {},
   "outputs": [
    {
     "data": {
      "text/plain": [
       "Progression([['3608eeb35d2fe771e5ca55738a263213'], 'fc6b3839cb9516ddf0082e1ebab817ab', '6db5533c531b37c57b157cb4a75fc07b', 'db6055ed779a9c6ed6c77c122ba8d1a3', '3ba14e3d4dffb62cf21e2d1b47d0b0ce', 'fbcfad20370a7af4d4403581d1610b76', 'b394699d9434d421fd49cdd4625a6269', '7780ddce181b081af8c4d250ad9ee726', '632c58b63539e1f15ad70f98be2c7055'])"
      ]
     },
     "execution_count": 33,
     "metadata": {},
     "output_type": "execute_result"
    }
   ],
   "source": [
    "p"
   ]
  },
  {
   "cell_type": "code",
   "execution_count": 34,
   "metadata": {},
   "outputs": [
    {
     "data": {
      "text/plain": [
       "9"
      ]
     },
     "execution_count": 34,
     "metadata": {},
     "output_type": "execute_result"
    }
   ],
   "source": [
    "len(p)"
   ]
  },
  {
   "cell_type": "code",
   "execution_count": 35,
   "metadata": {},
   "outputs": [
    {
     "name": "stdout",
     "output_type": "stream",
     "text": [
      "['3608eeb35d2fe771e5ca55738a263213']\n",
      "fc6b3839cb9516ddf0082e1ebab817ab\n",
      "6db5533c531b37c57b157cb4a75fc07b\n",
      "db6055ed779a9c6ed6c77c122ba8d1a3\n",
      "3ba14e3d4dffb62cf21e2d1b47d0b0ce\n",
      "fbcfad20370a7af4d4403581d1610b76\n",
      "b394699d9434d421fd49cdd4625a6269\n",
      "7780ddce181b081af8c4d250ad9ee726\n",
      "632c58b63539e1f15ad70f98be2c7055\n",
      "Item not found. Item: 'None'.\n"
     ]
    }
   ],
   "source": [
    "try:\n",
    "    for i in range(12):\n",
    "        print(p.popleft())\n",
    "except Exception as e:\n",
    "    print(e)"
   ]
  },
  {
   "cell_type": "code",
   "execution_count": 36,
   "metadata": {},
   "outputs": [],
   "source": [
    "for i in range(5):\n",
    "    p += li.Node()"
   ]
  },
  {
   "cell_type": "code",
   "execution_count": 37,
   "metadata": {},
   "outputs": [
    {
     "data": {
      "text/plain": [
       "5"
      ]
     },
     "execution_count": 37,
     "metadata": {},
     "output_type": "execute_result"
    }
   ],
   "source": [
    "len(p)"
   ]
  },
  {
   "cell_type": "code",
   "execution_count": 38,
   "metadata": {},
   "outputs": [
    {
     "data": {
      "text/plain": [
       "0"
      ]
     },
     "execution_count": 38,
     "metadata": {},
     "output_type": "execute_result"
    }
   ],
   "source": [
    "for i in list(p.order):\n",
    "    p.remove(i)\n",
    "\n",
    "len(p)"
   ]
  },
  {
   "cell_type": "code",
   "execution_count": 39,
   "metadata": {},
   "outputs": [
    {
     "data": {
      "text/plain": [
       "10"
      ]
     },
     "execution_count": 39,
     "metadata": {},
     "output_type": "execute_result"
    }
   ],
   "source": [
    "p2 = li.progression()\n",
    "\n",
    "for i in range(5):\n",
    "    p += li.Node()\n",
    "    p2 += li.Node()\n",
    "\n",
    "len(p+p2)"
   ]
  },
  {
   "cell_type": "code",
   "execution_count": 40,
   "metadata": {},
   "outputs": [
    {
     "data": {
      "text/plain": [
       "False"
      ]
     },
     "execution_count": 40,
     "metadata": {},
     "output_type": "execute_result"
    }
   ],
   "source": [
    "p+p2 == p2+p"
   ]
  },
  {
   "cell_type": "code",
   "execution_count": 41,
   "metadata": {},
   "outputs": [
    {
     "data": {
      "text/plain": [
       "True"
      ]
     },
     "execution_count": 41,
     "metadata": {},
     "output_type": "execute_result"
    }
   ],
   "source": [
    "p+p == p+p"
   ]
  },
  {
   "cell_type": "markdown",
   "metadata": {},
   "source": [
    "[]\n",
    "\n",
    "\n",
    "\n",
    "\n",
    "\n"
   ]
  },
  {
   "cell_type": "code",
   "execution_count": 42,
   "metadata": {},
   "outputs": [
    {
     "data": {
      "text/plain": [
       "Progression(['5333b8e27a2bdcff1d6a3d53b6990b56', '5a8cff7f26e83f8c3e5c1055bcbcd7a8', '61a74b59352e126405eae12605d691e9', '0da47e170187c0c931be724a5c57f192', '414e808b01330c1439c2e54e7223168a', '359c86ebfb6597ec8b7439a387f485c2', 'f2e34d05b45a5dd455f3e128f0cde9d1', '5a20cd530652cb16615b595edbf3e475', '513e1c3c5b1600d2f50f029bb42e1f8c', 'dc1128655aa19615fd4c5d7e062d1d30', 'be2607180e1df2fb34073dd0be2aa7f4'])"
      ]
     },
     "execution_count": 42,
     "metadata": {},
     "output_type": "execute_result"
    }
   ],
   "source": [
    "# a non progression add a progression is a new progression\n",
    "node = li.Node()\n",
    "\n",
    "node + p"
   ]
  },
  {
   "cell_type": "code",
   "execution_count": 43,
   "metadata": {},
   "outputs": [
    {
     "data": {
      "text/plain": [
       "Progression(['5a8cff7f26e83f8c3e5c1055bcbcd7a8', '61a74b59352e126405eae12605d691e9', '0da47e170187c0c931be724a5c57f192', '414e808b01330c1439c2e54e7223168a', '359c86ebfb6597ec8b7439a387f485c2', 'f2e34d05b45a5dd455f3e128f0cde9d1', '5a20cd530652cb16615b595edbf3e475', '513e1c3c5b1600d2f50f029bb42e1f8c', 'dc1128655aa19615fd4c5d7e062d1d30', 'be2607180e1df2fb34073dd0be2aa7f4'])"
      ]
     },
     "execution_count": 43,
     "metadata": {},
     "output_type": "execute_result"
    }
   ],
   "source": [
    "p"
   ]
  },
  {
   "cell_type": "code",
   "execution_count": 44,
   "metadata": {},
   "outputs": [
    {
     "data": {
      "text/plain": [
       "Progression(['5a8cff7f26e83f8c3e5c1055bcbcd7a8', '61a74b59352e126405eae12605d691e9', '0da47e170187c0c931be724a5c57f192', '414e808b01330c1439c2e54e7223168a', '359c86ebfb6597ec8b7439a387f485c2', 'f2e34d05b45a5dd455f3e128f0cde9d1', '5a20cd530652cb16615b595edbf3e475', '513e1c3c5b1600d2f50f029bb42e1f8c', 'dc1128655aa19615fd4c5d7e062d1d30', 'be2607180e1df2fb34073dd0be2aa7f4'])"
      ]
     },
     "execution_count": 44,
     "metadata": {},
     "output_type": "execute_result"
    }
   ],
   "source": [
    "p"
   ]
  },
  {
   "cell_type": "code",
   "execution_count": 45,
   "metadata": {},
   "outputs": [
    {
     "data": {
      "text/plain": [
       "['5a8cff7f26e83f8c3e5c1055bcbcd7a8',\n",
       " '61a74b59352e126405eae12605d691e9',\n",
       " '0da47e170187c0c931be724a5c57f192',\n",
       " '414e808b01330c1439c2e54e7223168a',\n",
       " '359c86ebfb6597ec8b7439a387f485c2',\n",
       " 'f2e34d05b45a5dd455f3e128f0cde9d1',\n",
       " '5a20cd530652cb16615b595edbf3e475',\n",
       " '513e1c3c5b1600d2f50f029bb42e1f8c',\n",
       " 'dc1128655aa19615fd4c5d7e062d1d30',\n",
       " 'be2607180e1df2fb34073dd0be2aa7f4']"
      ]
     },
     "execution_count": 45,
     "metadata": {},
     "output_type": "execute_result"
    }
   ],
   "source": [
    "list(p)"
   ]
  },
  {
   "cell_type": "code",
   "execution_count": 46,
   "metadata": {},
   "outputs": [
    {
     "data": {
      "text/plain": [
       "{'0da47e170187c0c931be724a5c57f192',\n",
       " '359c86ebfb6597ec8b7439a387f485c2',\n",
       " '414e808b01330c1439c2e54e7223168a',\n",
       " '513e1c3c5b1600d2f50f029bb42e1f8c',\n",
       " '5a20cd530652cb16615b595edbf3e475',\n",
       " '5a8cff7f26e83f8c3e5c1055bcbcd7a8',\n",
       " '61a74b59352e126405eae12605d691e9',\n",
       " 'be2607180e1df2fb34073dd0be2aa7f4',\n",
       " 'dc1128655aa19615fd4c5d7e062d1d30',\n",
       " 'f2e34d05b45a5dd455f3e128f0cde9d1'}"
      ]
     },
     "execution_count": 46,
     "metadata": {},
     "output_type": "execute_result"
    }
   ],
   "source": [
    "set(p)"
   ]
  },
  {
   "cell_type": "code",
   "execution_count": 47,
   "metadata": {},
   "outputs": [
    {
     "data": {
      "text/plain": [
       "('5a8cff7f26e83f8c3e5c1055bcbcd7a8',\n",
       " '61a74b59352e126405eae12605d691e9',\n",
       " '0da47e170187c0c931be724a5c57f192',\n",
       " '414e808b01330c1439c2e54e7223168a',\n",
       " '359c86ebfb6597ec8b7439a387f485c2',\n",
       " 'f2e34d05b45a5dd455f3e128f0cde9d1',\n",
       " '5a20cd530652cb16615b595edbf3e475',\n",
       " '513e1c3c5b1600d2f50f029bb42e1f8c',\n",
       " 'dc1128655aa19615fd4c5d7e062d1d30',\n",
       " 'be2607180e1df2fb34073dd0be2aa7f4')"
      ]
     },
     "execution_count": 47,
     "metadata": {},
     "output_type": "execute_result"
    }
   ],
   "source": [
    "tuple(p)"
   ]
  }
 ],
 "metadata": {
  "kernelspec": {
   "display_name": ".venv",
   "language": "python",
   "name": "python3"
  },
  "language_info": {
   "codemirror_mode": {
    "name": "ipython",
    "version": 3
   },
   "file_extension": ".py",
   "mimetype": "text/x-python",
   "name": "python",
   "nbconvert_exporter": "python",
   "pygments_lexer": "ipython3",
   "version": "3.11.6"
  }
 },
 "nbformat": 4,
 "nbformat_minor": 2
}
